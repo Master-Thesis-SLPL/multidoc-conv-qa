{
 "cells": [
  {
   "cell_type": "code",
   "execution_count": 1,
   "metadata": {},
   "outputs": [
    {
     "name": "stdout",
     "output_type": "stream",
     "text": [
      "/data1/alistvt/tes/multidoc-conv-qa/src/retriever/notebooks\n"
     ]
    }
   ],
   "source": [
    "!pwd\n",
    "! source ../../../../st_env/bin/activate"
   ]
  },
  {
   "cell_type": "code",
   "execution_count": 2,
   "metadata": {},
   "outputs": [
    {
     "name": "stderr",
     "output_type": "stream",
     "text": [
      "/data1/alistvt/tes/env/lib/python3.9/site-packages/tqdm/auto.py:22: TqdmWarning: IProgress not found. Please update jupyter and ipywidgets. See https://ipywidgets.readthedocs.io/en/stable/user_install.html\n",
      "  from .autonotebook import tqdm as notebook_tqdm\n"
     ]
    },
    {
     "ename": "ModuleNotFoundError",
     "evalue": "No module named 'tensorboardX'",
     "output_type": "error",
     "traceback": [
      "\u001b[0;31m---------------------------------------------------------------------------\u001b[0m",
      "\u001b[0;31mModuleNotFoundError\u001b[0m                       Traceback (most recent call last)",
      "Cell \u001b[0;32mIn [2], line 4\u001b[0m\n\u001b[1;32m      1\u001b[0m \u001b[39mimport\u001b[39;00m \u001b[39mjson\u001b[39;00m\n\u001b[1;32m      2\u001b[0m \u001b[39mimport\u001b[39;00m \u001b[39mpandas\u001b[39;00m \u001b[39mas\u001b[39;00m \u001b[39mpd\u001b[39;00m\n\u001b[0;32m----> 4\u001b[0m \u001b[39mfrom\u001b[39;00m \u001b[39msimpletransformers\u001b[39;00m\u001b[39m.\u001b[39;00m\u001b[39mretrieval\u001b[39;00m \u001b[39mimport\u001b[39;00m RetrievalModel, RetrievalArgs\n",
      "File \u001b[0;32m/data1/alistvt/tes/env/lib/python3.9/site-packages/simpletransformers/retrieval/__init__.py:2\u001b[0m\n\u001b[1;32m      1\u001b[0m \u001b[39mfrom\u001b[39;00m \u001b[39msimpletransformers\u001b[39;00m\u001b[39m.\u001b[39;00m\u001b[39mconfig\u001b[39;00m\u001b[39m.\u001b[39;00m\u001b[39mmodel_args\u001b[39;00m \u001b[39mimport\u001b[39;00m RetrievalArgs\n\u001b[0;32m----> 2\u001b[0m \u001b[39mfrom\u001b[39;00m \u001b[39msimpletransformers\u001b[39;00m\u001b[39m.\u001b[39;00m\u001b[39mretrieval\u001b[39;00m\u001b[39m.\u001b[39;00m\u001b[39mretrieval_model\u001b[39;00m \u001b[39mimport\u001b[39;00m RetrievalModel\n",
      "File \u001b[0;32m/data1/alistvt/tes/env/lib/python3.9/site-packages/simpletransformers/retrieval/retrieval_model.py:16\u001b[0m\n\u001b[1;32m     14\u001b[0m \u001b[39mimport\u001b[39;00m \u001b[39mtorch\u001b[39;00m\n\u001b[1;32m     15\u001b[0m \u001b[39mimport\u001b[39;00m \u001b[39mtransformers\u001b[39;00m\n\u001b[0;32m---> 16\u001b[0m \u001b[39mfrom\u001b[39;00m \u001b[39mtensorboardX\u001b[39;00m \u001b[39mimport\u001b[39;00m SummaryWriter\n\u001b[1;32m     17\u001b[0m \u001b[39mfrom\u001b[39;00m \u001b[39mtorch\u001b[39;00m\u001b[39m.\u001b[39;00m\u001b[39mnn\u001b[39;00m\u001b[39m.\u001b[39;00m\u001b[39mutils\u001b[39;00m\u001b[39m.\u001b[39;00m\u001b[39mrnn\u001b[39;00m \u001b[39mimport\u001b[39;00m pad_sequence\n\u001b[1;32m     18\u001b[0m \u001b[39mfrom\u001b[39;00m \u001b[39mtorch\u001b[39;00m\u001b[39m.\u001b[39;00m\u001b[39mutils\u001b[39;00m\u001b[39m.\u001b[39;00m\u001b[39mdata\u001b[39;00m \u001b[39mimport\u001b[39;00m DataLoader, Dataset, RandomSampler, SequentialSampler\n",
      "\u001b[0;31mModuleNotFoundError\u001b[0m: No module named 'tensorboardX'"
     ]
    }
   ],
   "source": [
    "import json\n",
    "import pandas as pd\n",
    "\n",
    "from simpletransformers.retrieval import RetrievalModel, RetrievalArgs"
   ]
  },
  {
   "cell_type": "markdown",
   "metadata": {},
   "source": [
    "# Experiment 1: No history"
   ]
  },
  {
   "cell_type": "code",
   "execution_count": 9,
   "metadata": {},
   "outputs": [],
   "source": [
    "def construct_retriever_dataset(dial_path, docs_path):\n",
    "    \"retriever_dataset[query_text | title | gold_passage]\"\n",
    "    retriever_dataset = []\n",
    "\n",
    "    with open(dial_path, 'r') as f:\n",
    "        questions_dataset = json.load(f)['dial_data']\n",
    "    \n",
    "    with open(docs_path, 'r') as f:\n",
    "        docs_dataset = json.load(f)['doc_data']\n",
    "\n",
    "    for domain, domain_dials in questions_dataset.items():\n",
    "        for dial in domain_dials:\n",
    "            for i, turn in enumerate(dial['turns'][:-1]):\n",
    "                if turn['role'] == 'user':\n",
    "                    if dial['turns'][i+1]['role'] == 'agent':\n",
    "                        agent_turn = dial['turns'][i+1]\n",
    "                        question = dial['turns'][i]['utterance']\n",
    "\n",
    "                        if len(agent_turn['references']):\n",
    "                            reference = agent_turn['references'][0]\n",
    "                            doc_id = reference['doc_id']\n",
    "                            span_id = reference['id_sp']\n",
    "\n",
    "                            retriever_dataset.append({\n",
    "                                'query_text': question,\n",
    "                                'title': domain + ' <SEP> ' + docs_dataset[doc_id]['title'],\n",
    "                                'gold_passage': docs_dataset[doc_id]['doc_text']\n",
    "                            })\n",
    "                        else:\n",
    "                            # TODO: unknown\n",
    "                            pass\n",
    "                    else:\n",
    "                        continue\n",
    "    return retriever_dataset\n"
   ]
  },
  {
   "cell_type": "code",
   "execution_count": 10,
   "metadata": {},
   "outputs": [
    {
     "ename": "NameError",
     "evalue": "name 'json' is not defined",
     "output_type": "error",
     "traceback": [
      "\u001b[0;31m---------------------------------------------------------------------------\u001b[0m",
      "\u001b[0;31mNameError\u001b[0m                                 Traceback (most recent call last)",
      "Cell \u001b[0;32mIn [10], line 1\u001b[0m\n\u001b[0;32m----> 1\u001b[0m train_data \u001b[39m=\u001b[39m construct_retriever_dataset(\n\u001b[1;32m      2\u001b[0m     \u001b[39m'\u001b[39;49m\u001b[39m../../../dataset/multidoc2dial/v1.0/multidoc2dial_dial_train.json\u001b[39;49m\u001b[39m'\u001b[39;49m,\n\u001b[1;32m      3\u001b[0m     \u001b[39m'\u001b[39;49m\u001b[39m../../../dataset/multidoc2dial/v1.0/multidoc2dial_doc.json\u001b[39;49m\u001b[39m'\u001b[39;49m\n\u001b[1;32m      4\u001b[0m )\n\u001b[1;32m      6\u001b[0m eval_data \u001b[39m=\u001b[39m construct_retriever_dataset(\n\u001b[1;32m      7\u001b[0m     \u001b[39m'\u001b[39m\u001b[39m../../../dataset/multidoc2dial/v1.0/multidoc2dial_dial_validation.json\u001b[39m\u001b[39m'\u001b[39m,\n\u001b[1;32m      8\u001b[0m     \u001b[39m'\u001b[39m\u001b[39m../../../dataset/multidoc2dial/v1.0/multidoc2dial_doc.json\u001b[39m\u001b[39m'\u001b[39m\n\u001b[1;32m      9\u001b[0m )\n\u001b[1;32m     11\u001b[0m train_df \u001b[39m=\u001b[39m pd\u001b[39m.\u001b[39mDataFrame(train_data)\n",
      "Cell \u001b[0;32mIn [9], line 6\u001b[0m, in \u001b[0;36mconstruct_retriever_dataset\u001b[0;34m(dial_path, docs_path)\u001b[0m\n\u001b[1;32m      3\u001b[0m retriever_dataset \u001b[39m=\u001b[39m []\n\u001b[1;32m      5\u001b[0m \u001b[39mwith\u001b[39;00m \u001b[39mopen\u001b[39m(dial_path, \u001b[39m'\u001b[39m\u001b[39mr\u001b[39m\u001b[39m'\u001b[39m) \u001b[39mas\u001b[39;00m f:\n\u001b[0;32m----> 6\u001b[0m     questions_dataset \u001b[39m=\u001b[39m json\u001b[39m.\u001b[39mload(f)[\u001b[39m'\u001b[39m\u001b[39mdial_data\u001b[39m\u001b[39m'\u001b[39m]\n\u001b[1;32m      8\u001b[0m \u001b[39mwith\u001b[39;00m \u001b[39mopen\u001b[39m(docs_path, \u001b[39m'\u001b[39m\u001b[39mr\u001b[39m\u001b[39m'\u001b[39m) \u001b[39mas\u001b[39;00m f:\n\u001b[1;32m      9\u001b[0m     docs_dataset \u001b[39m=\u001b[39m json\u001b[39m.\u001b[39mload(f)[\u001b[39m'\u001b[39m\u001b[39mdoc_data\u001b[39m\u001b[39m'\u001b[39m]\n",
      "\u001b[0;31mNameError\u001b[0m: name 'json' is not defined"
     ]
    }
   ],
   "source": [
    "train_data = construct_retriever_dataset(\n",
    "    '../../../dataset/multidoc2dial/v1.0/multidoc2dial_dial_train.json',\n",
    "    '../../../dataset/multidoc2dial/v1.0/multidoc2dial_doc.json'\n",
    ")\n",
    "\n",
    "eval_data = construct_retriever_dataset(\n",
    "    '../../../dataset/multidoc2dial/v1.0/multidoc2dial_dial_validation.json',\n",
    "    '../../../dataset/multidoc2dial/v1.0/multidoc2dial_doc.json'\n",
    ")\n",
    "\n",
    "train_df = pd.DataFrame(train_data)\n",
    "eval_data = pd.DataFrame(eval_data)\n"
   ]
  },
  {
   "cell_type": "code",
   "execution_count": null,
   "metadata": {},
   "outputs": [],
   "source": []
  }
 ],
 "metadata": {
  "kernelspec": {
   "display_name": "env",
   "language": "python",
   "name": "python3"
  },
  "language_info": {
   "codemirror_mode": {
    "name": "ipython",
    "version": 3
   },
   "file_extension": ".py",
   "mimetype": "text/x-python",
   "name": "python",
   "nbconvert_exporter": "python",
   "pygments_lexer": "ipython3",
   "version": "3.9.13"
  },
  "orig_nbformat": 4,
  "vscode": {
   "interpreter": {
    "hash": "c7f076d124acb879d3a975c7a736330a60cb6ed9c588ac016c7aecb7712eb44f"
   }
  }
 },
 "nbformat": 4,
 "nbformat_minor": 2
}
