{
  "cells": [
    {
      "cell_type": "code",
      "source": [
        "from google.colab import drive\n",
        "drive.mount('/content/drive')"
      ],
      "metadata": {
        "colab": {
          "base_uri": "https://localhost:8080/"
        },
        "id": "akBumB45ABYa",
        "outputId": "8c167cf6-f6a7-4bf1-f5b9-a14439dcfbce"
      },
      "execution_count": 2,
      "outputs": [
        {
          "output_type": "stream",
          "name": "stdout",
          "text": [
            "Mounted at /content/drive\n"
          ]
        }
      ]
    },
    {
      "cell_type": "code",
      "source": [
        "!git config --global user.name \"alistvt\"\n",
        "!git config --global user.email \"alistvt@gmail.com\"\n",
        "\n",
        "%cd /content/drive/MyDrive/multidoc-conv-qa/src/retriever"
      ],
      "metadata": {
        "colab": {
          "base_uri": "https://localhost:8080/"
        },
        "id": "2dvS3v9W3m7t",
        "outputId": "621aad34-0f39-4b6a-ad16-d6a76a7944e2"
      },
      "execution_count": 3,
      "outputs": [
        {
          "output_type": "stream",
          "name": "stdout",
          "text": [
            "/content/drive/MyDrive/multidoc-conv-qa/src/retriever\n"
          ]
        }
      ]
    },
    {
      "cell_type": "code",
      "execution_count": 4,
      "metadata": {
        "colab": {
          "base_uri": "https://localhost:8080/"
        },
        "id": "HCHw5gxO0Jx-",
        "outputId": "44c17fe2-0243-4aa3-fa4d-a9568baa5e79"
      },
      "outputs": [
        {
          "output_type": "stream",
          "name": "stdout",
          "text": [
            "\u001b[K     |████████████████████████████████| 3.8 MB 8.8 MB/s \n",
            "\u001b[K     |████████████████████████████████| 76 kB 4.7 MB/s \n",
            "\u001b[K     |████████████████████████████████| 325 kB 53.8 MB/s \n",
            "\u001b[K     |████████████████████████████████| 10.6 MB 41.5 MB/s \n",
            "\u001b[K     |████████████████████████████████| 159 kB 52.2 MB/s \n",
            "\u001b[K     |████████████████████████████████| 680 kB 44.7 MB/s \n",
            "\u001b[K     |████████████████████████████████| 1.2 MB 42.2 MB/s \n",
            "\u001b[K     |████████████████████████████████| 248 kB 54.9 MB/s \n",
            "\u001b[?25h  Installing build dependencies ... \u001b[?25l\u001b[?25hdone\n",
            "  Getting requirements to build wheel ... \u001b[?25l\u001b[?25hdone\n",
            "  Installing backend dependencies ... \u001b[?25l\u001b[?25hdone\n",
            "    Preparing wheel metadata ... \u001b[?25l\u001b[?25hdone\n",
            "\u001b[K     |████████████████████████████████| 880 kB 44.2 MB/s \n",
            "\u001b[K     |████████████████████████████████| 120 kB 51.3 MB/s \n",
            "\u001b[K     |████████████████████████████████| 6.6 MB 41.8 MB/s \n",
            "\u001b[K     |████████████████████████████████| 115 kB 52.5 MB/s \n",
            "\u001b[K     |████████████████████████████████| 212 kB 52.8 MB/s \n",
            "\u001b[K     |████████████████████████████████| 184 kB 56.2 MB/s \n",
            "\u001b[K     |████████████████████████████████| 2.2 MB 38.9 MB/s \n",
            "\u001b[K     |████████████████████████████████| 3.7 MB 44.3 MB/s \n",
            "\u001b[K     |████████████████████████████████| 63 kB 1.7 MB/s \n",
            "\u001b[K     |████████████████████████████████| 829 kB 50.5 MB/s \n",
            "\u001b[K     |████████████████████████████████| 78 kB 7.9 MB/s \n",
            "\u001b[K     |████████████████████████████████| 127 kB 48.7 MB/s \n",
            "\u001b[K     |████████████████████████████████| 1.6 MB 45.1 MB/s \n",
            "\u001b[?25h  Building wheel for future (setup.py) ... \u001b[?25l\u001b[?25hdone\n",
            "  Building wheel for fairscale (PEP 517) ... \u001b[?25l\u001b[?25hdone\n",
            "  Building wheel for sacremoses (setup.py) ... \u001b[?25l\u001b[?25hdone\n",
            "  Building wheel for typing (setup.py) ... \u001b[?25l\u001b[?25hdone\n",
            "\u001b[31mERROR: pip's dependency resolver does not currently take into account all the packages that are installed. This behaviour is the source of the following dependency conflicts.\n",
            "en-core-web-sm 3.4.0 requires spacy<3.5.0,>=3.4.0, but you have spacy 2.2.4 which is incompatible.\u001b[0m\n",
            "\u001b[K     |████████████████████████████████| 143 kB 8.9 MB/s \n",
            "\u001b[?25h"
          ]
        }
      ],
      "source": [
        "!pip install -r ../../requirements.txt --quiet\n",
        "!pip install --quiet transformers datasets accelerate"
      ]
    },
    {
      "cell_type": "markdown",
      "metadata": {
        "id": "5akM0VXmzYku"
      },
      "source": [
        "# Document Retrival with Follow up Detector (DR.FUD) + DR. TEIT\n",
        "\n",
        "In this method we use a FCN to detect wheter a question is a follow up of the previous question, meaning that the document is the same of not. If the document is the same, we use the previous answer's document for this question also.\n",
        "\n",
        "We used LaBSE model for out embeddings. For computing title embedding similarities we used cosine similarity between query embeddings and each document's title embedding."
      ]
    },
    {
      "cell_type": "markdown",
      "metadata": {
        "id": "i9vpLyUkzWzO"
      },
      "source": [
        "# Dataset\n",
        "### Dataset Description\n",
        "\n",
        "- **mutldoc2dial_doc.json** contains the documents that are indexed by key `domain` and `doc_id` . Each document instance includes the following,\n",
        "\n",
        "  - `doc_id`: the ID of a document;\n",
        "  - `title`: the title of the document;\n",
        "  - `domain`: the domain of the document;\n",
        "  - `doc_text`: the text content of the document (without HTML markups);\n",
        "  - `doc_html_ts`: the document content with HTML markups and the annotated spans that are indicated by `text_id` attribute, which corresponds to `id_sp`.\n",
        "  - `doc_html_raw`: the document content with HTML markups and without span annotations.\n",
        "  - `spans`: key-value pairs of all spans in the document, with `id_sp` as key. Each span includes the following,\n",
        "    - `id_sp`: the id of a  span as noted by `text_id` in  `doc_html_ts`;\n",
        "    - `start_sp`/  `end_sp`: the start/end position of the text span in `doc_text`;\n",
        "    - `text_sp`: the text content of the span.\n",
        "    - `id_sec`: the id of the (sub)section (e.g. `<p>`) or title (`<h2>`) that contains the span.\n",
        "    - `start_sec` / `end_sec`: the start/end position of the (sub)section in `doc_text`.\n",
        "    - `text_sec`: the text of the (sub)section.\n",
        "    - `title`: the title of the (sub)section.\n",
        "    - `parent_titles`: the parent titles of the `title`.\n",
        "\n",
        "- **multidoc2dial_dial_train.json** and **multidoc2dial_dial_validation.json**  contain the training and dev split of dialogue data that are indexed by key `domain` . Please note: **For test split, we only include a dummy file in this version.**\n",
        "\n",
        "  Each dialogue instance includes the following,\n",
        "\n",
        "  - `dial_id`: the ID of a dialogue;\n",
        "  - `turns`: a list of dialogue turns. Each turn includes,\n",
        "    - `turn_id`: the time order of the turn;\n",
        "    - `role`: either \"agent\" or \"user\";READ\n",
        "    - `da`: dialogue act;\n",
        "    - `references`: a list of spans with `id_sp` ,  `label` and `doc_id`. `references` is empty if a turn is for indicating previous user query not answerable or irrelevant to the document. **Note** that labels \"*precondition*\"/\"*solution*\" are fuzzy annotations that indicate whether a span is for describing a conditional context or a solution.\n",
        "    - `utterance`: the human-generated utterance based on the dialogue scene.\n",
        "Downloading the training dataset:"
      ]
    },
    {
      "cell_type": "code",
      "execution_count": 5,
      "metadata": {
        "id": "aEuwmS7O03CH"
      },
      "outputs": [],
      "source": [
        "import json\n",
        "with open('../../dataset/multidoc2dial/v1.0/multidoc2dial_doc.json', 'r') as f:\n",
        "    multidoc2dial_doc = json.load(f)"
      ]
    },
    {
      "cell_type": "markdown",
      "metadata": {
        "id": "i2Wa65Cl1xUF"
      },
      "source": [
        "#### Extracting titles"
      ]
    },
    {
      "cell_type": "code",
      "execution_count": 6,
      "metadata": {
        "id": "J0D-IV5H0vE4"
      },
      "outputs": [],
      "source": [
        "titles = []\n",
        "for doc_idx1 in multidoc2dial_doc['doc_data']:\n",
        "    for doc_idx2 in multidoc2dial_doc['doc_data'][doc_idx1]:\n",
        "        titles.append(doc_idx2)"
      ]
    },
    {
      "cell_type": "markdown",
      "metadata": {
        "id": "ng4nYreI15Vn"
      },
      "source": [
        "#### Extracting document texts"
      ]
    },
    {
      "cell_type": "code",
      "execution_count": 7,
      "metadata": {
        "id": "96D34GnE1wQL"
      },
      "outputs": [],
      "source": [
        "doc_texts_train = []\n",
        "title_to_domain = {}\n",
        "for doc_idx1 in multidoc2dial_doc['doc_data']:\n",
        "    for doc_idx2 in multidoc2dial_doc['doc_data'][doc_idx1]:\n",
        "        doc_texts_train.append(multidoc2dial_doc['doc_data'][doc_idx1]\\\n",
        "                                          [doc_idx2]['doc_text'].strip())\n",
        "        title_to_domain[doc_idx2] = doc_idx1"
      ]
    },
    {
      "cell_type": "markdown",
      "metadata": {
        "id": "n4UoewSm0ICB"
      },
      "source": [
        "## Encoding the sentences\n",
        "We use the LaBSE which is a Language-agnostic BERT Sentence Encoder (LaBSE) is a BERT-based model trained for sentence embedding for 109 languages. The pre-training process combines masked language modeling with translation language modeling. The model is useful for getting multilingual sentence embeddings and for bi-text retrieval."
      ]
    },
    {
      "cell_type": "code",
      "execution_count": 8,
      "metadata": {
        "id": "D1HTJrcK0RpF",
        "colab": {
          "base_uri": "https://localhost:8080/",
          "height": 209,
          "referenced_widgets": [
            "b7278e64b54f4891aea42337379c57c6",
            "d93b8bf1b7174ead94d5e8b1ab27db70",
            "394db11c4ad648ca8e11084e9e8025ce",
            "351ba8c7bfed4026958d01cf5ed4c4ee",
            "2b1c1506ab8447d0bf67e547a7a1904b",
            "9ff4760e32fe4fbdab9f0d3e5ba97e9f",
            "ef55c807c0604169a3e37b44d15a81ac",
            "c906d2c07f0f4db2a7c214b42bd52300",
            "43a620f24816444597b447c27299cdcf",
            "a83943ffb0d7402ba8eb904958976c7a",
            "4d786c56de754f1cb0e1753c29c441fc",
            "e6c9151eab1348bb87e753434ccfc3ef",
            "f9c21b7265724fc68b7c9cd1c49a9b14",
            "17941ebf47bf4816b73e6af5768e49d6",
            "a05e080873454a91a62b674312d291cf",
            "28ebf812b32242d5addfe2dd3df4f863",
            "c7b928c0149b47f8908dfedcc73f88b0",
            "300da6bacf734d20b4a1b9c5a348c80f",
            "ac584dd27a944f379ea19ab904e3c7b8",
            "bb73886785fa475a94d5e9533b763578",
            "aa272aeb7d0b41dcb02cad9aa3029372",
            "c208ceeba10d401bbbf747f01bc2570b",
            "e411981256514ecc8046ba74816972a0",
            "f8b32e30ebad4b65985b4e499387b779",
            "25fd7df79ecf47d4a73db2e2e208fcff",
            "cb6d5c35ff7f452894488b6c6deb5f91",
            "e48a23f56ecf4d7c8d1e621797fe68fa",
            "407340d00e794809b461e7a3cb1309b6",
            "2c76aa59d87f42e5b99805b792d2653f",
            "161506b9b849409c97c8a654ac56e101",
            "d60b57b0b81e432a8bf08dd25ccb4d31",
            "75cbb0747f2a4dd1a60fada6983eb15e",
            "1ac2033259ec46da9f093568d7d18071",
            "7466916f3c2c4408a92e7bb84349e22c",
            "d8bcb03beb5a42fa9357cd53a5dec2a3",
            "315dc8882cff47a9ba467964bd0a589b",
            "739ee9b5c22e4e7fa6c37f8000f9a22c",
            "4ffcfb62427a497e94b619422a7130c4",
            "bcadadd2a8624e74b478cd890e34e4ab",
            "f3eacafaaf03407ebdc4cc411f023ced",
            "ae622926cae84db6b316675574471cba",
            "23640adcad2b45f6b2294bdd4c5009b7",
            "d0f3c702acdd4e3c882ef7290ae6b294",
            "0a3c267f99de4d8fbb932cb0d4959ca2",
            "aad2a6e7f5544cbfa298edd41ac6561c",
            "82115b11ff4443e0b62f8b2ded1ce49a",
            "abfe97329fef466fb8a3b7cad5e13249",
            "1dbda405e13d41f3af4b3be71552bc42",
            "695a6171ebc7458e846ab3c263eeb467",
            "792f29f59b70474e86c210db9d5875f0",
            "3e7b3bce132a44b8978261f367f1adcd",
            "351be40d9d2843c5b43ff1fe6e1dd105",
            "875b3393c22249f799e1bfc6401db432",
            "0bffa9916cfa4aa3b7bcd948e98d9ec9",
            "21605e86a6e444d68dd5534d3042367a",
            "a616739a912843d6a742ecbfd9bbb776",
            "f83a21018f6a46aab84e27818d7d01be",
            "8a5a3611c77345d38bdf102a342c865a",
            "6fb490eeb17e4ae2a3c4494d0e95fbda",
            "74b14d91ff804a88a0a63df1111cb267",
            "6fdf8b16d01146358d012ebeb6a73d7c",
            "8bb4e34859fd4d20a148869505f77886",
            "b03c602a05e94d6e8d909686cf485dc0",
            "2f22277d24bd432f8584303eb331bb6a",
            "5033ccb9ee28478b9b338ffb1173cdd1",
            "6b985ee6de2946f18367995cd4521535"
          ]
        },
        "outputId": "914119bd-04d0-4160-f2eb-67ff95ce6bdc"
      },
      "outputs": [
        {
          "output_type": "display_data",
          "data": {
            "text/plain": [
              "Downloading:   0%|          | 0.00/300 [00:00<?, ?B/s]"
            ],
            "application/vnd.jupyter.widget-view+json": {
              "version_major": 2,
              "version_minor": 0,
              "model_id": "b7278e64b54f4891aea42337379c57c6"
            }
          },
          "metadata": {}
        },
        {
          "output_type": "display_data",
          "data": {
            "text/plain": [
              "Downloading:   0%|          | 0.00/4.98M [00:00<?, ?B/s]"
            ],
            "application/vnd.jupyter.widget-view+json": {
              "version_major": 2,
              "version_minor": 0,
              "model_id": "e6c9151eab1348bb87e753434ccfc3ef"
            }
          },
          "metadata": {}
        },
        {
          "output_type": "display_data",
          "data": {
            "text/plain": [
              "Downloading:   0%|          | 0.00/9.18M [00:00<?, ?B/s]"
            ],
            "application/vnd.jupyter.widget-view+json": {
              "version_major": 2,
              "version_minor": 0,
              "model_id": "e411981256514ecc8046ba74816972a0"
            }
          },
          "metadata": {}
        },
        {
          "output_type": "display_data",
          "data": {
            "text/plain": [
              "Downloading:   0%|          | 0.00/112 [00:00<?, ?B/s]"
            ],
            "application/vnd.jupyter.widget-view+json": {
              "version_major": 2,
              "version_minor": 0,
              "model_id": "7466916f3c2c4408a92e7bb84349e22c"
            }
          },
          "metadata": {}
        },
        {
          "output_type": "display_data",
          "data": {
            "text/plain": [
              "Downloading:   0%|          | 0.00/576 [00:00<?, ?B/s]"
            ],
            "application/vnd.jupyter.widget-view+json": {
              "version_major": 2,
              "version_minor": 0,
              "model_id": "aad2a6e7f5544cbfa298edd41ac6561c"
            }
          },
          "metadata": {}
        },
        {
          "output_type": "display_data",
          "data": {
            "text/plain": [
              "Downloading:   0%|          | 0.00/1.75G [00:00<?, ?B/s]"
            ],
            "application/vnd.jupyter.widget-view+json": {
              "version_major": 2,
              "version_minor": 0,
              "model_id": "a616739a912843d6a742ecbfd9bbb776"
            }
          },
          "metadata": {}
        }
      ],
      "source": [
        "from transformers import AutoTokenizer, AutoModel, AutoConfig, AutoModelForSequenceClassification\n",
        "import numpy as np\n",
        "import torch\n",
        "from torch.nn.functional import normalize\n",
        "\n",
        "from tqdm import tqdm\n",
        "\n",
        "model_name = \"setu4993/LaBSE\"\n",
        "\n",
        "tokenizer = AutoTokenizer.from_pretrained(model_name)\n",
        "model = AutoModel.from_pretrained(model_name)"
      ]
    },
    {
      "cell_type": "markdown",
      "metadata": {
        "id": "ngG9eTIj0c01"
      },
      "source": [
        "### `get_embeddings`\n",
        "In this method we extract the **pooler output** (Last layer hidden-state of the first token of the sequence (classification token) after further processing through the layers used for the auxiliary pretraining task. E.g. for BERT-family of models, this returns the classification token after processing through a linear layer and a tanh activation function. The linear layer weights are trained from the next sentence prediction (classification) objective during pretraining)."
      ]
    },
    {
      "cell_type": "code",
      "execution_count": 9,
      "metadata": {
        "id": "QCTH88_t0ZD0"
      },
      "outputs": [],
      "source": [
        "def get_embeddings(sentece):\n",
        "    \"\"\"\n",
        "    Return embeddings based on encoder model\n",
        "\n",
        "    :param sentence: input sentence(s)\n",
        "    :type sentence: str or list of strs\n",
        "    :return: embeddings\n",
        "    \"\"\"\n",
        "    tokenized = tokenizer(sentece,\n",
        "                                return_tensors=\"pt\",\n",
        "                                padding=True)\n",
        "    with torch.no_grad():\n",
        "        embeddings = model(**tokenized)\n",
        "    \n",
        "    return np.squeeze(np.array(embeddings.pooler_output))"
      ]
    },
    {
      "cell_type": "markdown",
      "metadata": {
        "id": "q_VqBSNi4AaD"
      },
      "source": [
        "### Title embedding"
      ]
    },
    {
      "cell_type": "code",
      "execution_count": 10,
      "metadata": {
        "id": "hunKGBFq4C76"
      },
      "outputs": [],
      "source": [
        "import os\n",
        "title_embeddings_file = 'doc_title_LaBSE_Embedding.npy'\n",
        "\n",
        "if not os.path.exists(title_embeddings_file):\n",
        "    title_embeddings = []\n",
        "    for title in tqdm(titles):\n",
        "        title_embeddings.append(get_embeddings(title))\n",
        "\n",
        "    with open(title_embeddings_file, 'wb') as f:\n",
        "        np.save(f, np.array(title_embeddings))\n",
        "else:\n",
        "    title_embeddings = np.load(title_embeddings_file)\n",
        "    title_embeddings = list(title_embeddings)\n"
      ]
    },
    {
      "cell_type": "code",
      "execution_count": 11,
      "metadata": {
        "id": "CQmy3UiYiGG8"
      },
      "outputs": [],
      "source": [
        "import pickle\n",
        "title_to_embeddings_file = 'title_to_embeddings.pkl'\n",
        "\n",
        "if not os.path.exists(title_to_embeddings_file):\n",
        "    title_to_embeddings = {}\n",
        "    for title in tqdm(titles):\n",
        "        title_to_embeddings[title] = get_embeddings(title)\n",
        "    with open(title_to_embeddings_file, 'wb') as f:\n",
        "        pickle.dump(title_to_embeddings, f)\n",
        "else:\n",
        "    with open(title_to_embeddings_file, 'rb') as f:\n",
        "        title_to_embeddings = pickle.load(f)"
      ]
    },
    {
      "cell_type": "markdown",
      "metadata": {
        "id": "d42w3h1C2V1Q"
      },
      "source": [
        "## Calculating the IDF for each token"
      ]
    },
    {
      "cell_type": "code",
      "execution_count": 12,
      "metadata": {
        "id": "XjH-jRgs0fyv"
      },
      "outputs": [],
      "source": [
        "words_idf_file = 'IDFs.pkl'\n",
        "N_doc = len(doc_texts_train)\n",
        "\n",
        "if not os.path.exists(words_idf_file):\n",
        "    # First getting all distinct words in all documents\n",
        "    words = set()\n",
        "    doc_texts_train_tokenized = []\n",
        "    for doc in tqdm(doc_texts_train, desc=\"getting all words from documents\"):\n",
        "        tokenized_doc = [s.lower() for s in tokenizer.tokenize(doc)]\n",
        "        doc_texts_train_tokenized.append(tokenized_doc) \n",
        "        words = set(tokenized_doc).union(words)\n",
        "\n",
        "    # calculating each word IDF\n",
        "    words2IDF = {}\n",
        "    for word in tqdm(words, desc=\"calculating words IDF scores\"):\n",
        "        n_word = 0\n",
        "        for doc in doc_texts_train_tokenized:\n",
        "            if word in doc:\n",
        "                n_word += 1\n",
        "        words2IDF[word] = np.log(N_doc / (n_word + 1))\n",
        "\n",
        "    with open(words_idf_file, 'wb') as f:\n",
        "        pickle.dump(words2IDF, f)\n",
        "\n",
        "else:\n",
        "    with open(words_idf_file, 'rb') as f:\n",
        "        words2IDF = pickle.load(f)"
      ]
    },
    {
      "cell_type": "code",
      "execution_count": 13,
      "metadata": {
        "colab": {
          "base_uri": "https://localhost:8080/"
        },
        "id": "V6blMmmk2ugT",
        "outputId": "43ef2bb5-90d2-47ad-b4a9-e15c86f8e53d"
      },
      "outputs": [
        {
          "output_type": "execute_result",
          "data": {
            "text/plain": [
              "8446"
            ]
          },
          "metadata": {},
          "execution_count": 13
        }
      ],
      "source": [
        "len(words2IDF)"
      ]
    },
    {
      "cell_type": "code",
      "execution_count": 14,
      "metadata": {
        "id": "CfcYwbdJ2zSN"
      },
      "outputs": [],
      "source": [
        "def calc_idf_score(sentence):\n",
        "    \"\"\"\n",
        "    Calculate the mean idf score for given sentence.\n",
        "    (used to understand the contribution of the knowledge of each question\n",
        "    questions with high frequent words are meaningless and we can ignore them\n",
        "    roughly, which is done by this score.)\n",
        "\n",
        "    :param sentence: input sentence\n",
        "    :type sentence: str\n",
        "    :return: mean idf score of sentence token\n",
        "    \"\"\"\n",
        "    tokenzied_sentence = [s.lower() for s in tokenizer.tokenize(sentence)]\n",
        "    score = 0\n",
        "    for token in tokenzied_sentence:\n",
        "        if token in words2IDF:\n",
        "            score += words2IDF[token]\n",
        "        else:\n",
        "            score += np.log(N_doc)\n",
        "    return score / len(tokenzied_sentence) if len(tokenzied_sentence) else 0"
      ]
    },
    {
      "cell_type": "markdown",
      "metadata": {
        "id": "RVN8XSp13LjU"
      },
      "source": [
        "## Constructing the Follow-up Dataset\n",
        "\n",
        "``` history | question | is_follow_up```\n",
        "\n",
        "is_follow_up: shows that the history's document is the same as the current question's."
      ]
    },
    {
      "cell_type": "code",
      "execution_count": 15,
      "metadata": {
        "id": "0wp6Mw7Q3LjV"
      },
      "outputs": [],
      "source": [
        "def combine_sentences(s1, s2):\n",
        "    separation_token = \" <SEP> \"\n",
        "    return s1 + separation_token + s2\n",
        "\n",
        "\n",
        "def construct_followup_dataset(filepath):\n",
        "    import json\n",
        "    with open(filepath, 'r') as f:\n",
        "        multidoc2dial_dial_train = json.load(f)\n",
        "    \n",
        "    historys = []\n",
        "    questions = []\n",
        "    combined = []\n",
        "    labels = []\n",
        "    prev_docs = []\n",
        "    current_docs = []\n",
        "    prev_answers = []\n",
        "\n",
        "    for domain in multidoc2dial_dial_train['dial_data']:\n",
        "        for dial in multidoc2dial_dial_train['dial_data'][domain]:\n",
        "            prev_doc = ''\n",
        "            prev_question = ''\n",
        "            prev_answer = ''\n",
        "            for turn in dial['turns']:\n",
        "                if turn['role'] == \"user\":\n",
        "                    current_question = turn['utterance']\n",
        "                    historys.append(prev_question)\n",
        "                    questions.append(current_question)\n",
        "                    \n",
        "                    combined.append(combine_sentences(prev_question, current_question))\n",
        "\n",
        "                    current_doc = turn['references'][0]['doc_id']\n",
        "                    labels.append(int(current_doc==prev_doc))\n",
        "\n",
        "                    prev_docs.append(prev_doc)\n",
        "                    current_docs.append(current_doc)\n",
        "                    prev_answers.append(prev_answer)\n",
        "\n",
        "                    prev_doc, prev_question = current_doc, current_question\n",
        "                else:\n",
        "                    prev_answer = turn['utterance']\n",
        "                    \n",
        "    return historys, questions, combined, labels, prev_docs, current_docs, prev_answers"
      ]
    },
    {
      "cell_type": "code",
      "execution_count": 16,
      "metadata": {
        "id": "iqDhkHSS3LjX"
      },
      "outputs": [],
      "source": [
        "import pandas as pd\n",
        "\n",
        "train_history, train_questions, train_combined, train_labels, train_prev_docs, train_current_docs, train_prev_answers = construct_followup_dataset('../../dataset/multidoc2dial/v1.0/multidoc2dial_dial_train.json')\n",
        "test_history, test_questions, test_combined, test_labels, test_prev_docs, test_current_docs, test_prev_answers = construct_followup_dataset('../../dataset/multidoc2dial/v1.0/multidoc2dial_dial_validation.json')\n",
        "\n",
        "train_dict_dataset = {\"history\":train_history, \"question\": train_questions, \"combined\": train_combined, \"followup\": train_labels, \"prev_doc\": train_prev_docs, \"current_doc\": train_current_docs, \"prev_answer\": train_prev_answers}\n",
        "test_dict_dataset = {\"history\":test_history, \"question\": test_questions, \"combined\": test_combined, \"followup\": test_labels, \"prev_doc\": test_prev_docs, \"current_doc\": test_current_docs, \"prev_answer\": test_prev_answers}\n",
        "\n",
        "train_df = pd.DataFrame(train_dict_dataset)\n",
        "test_df = pd.DataFrame(test_dict_dataset)"
      ]
    },
    {
      "cell_type": "code",
      "execution_count": 17,
      "metadata": {
        "colab": {
          "base_uri": "https://localhost:8080/"
        },
        "id": "DNPG-waE3LjX",
        "outputId": "ed6a8c85-6a12-498b-9d49-ad1bfd6c14fa"
      },
      "outputs": [
        {
          "output_type": "execute_result",
          "data": {
            "text/plain": [
              "74"
            ]
          },
          "metadata": {},
          "execution_count": 17
        }
      ],
      "source": [
        "max([len(x[\"combined\"].split()) for _, x in test_df.iterrows()])"
      ]
    },
    {
      "cell_type": "code",
      "execution_count": 18,
      "metadata": {
        "colab": {
          "base_uri": "https://localhost:8080/",
          "height": 676
        },
        "id": "vYbgJuaS3LjZ",
        "outputId": "1037b216-2f64-4343-fe22-d538e14d416d"
      },
      "outputs": [
        {
          "output_type": "execute_result",
          "data": {
            "text/plain": [
              "                                                 history  \\\n",
              "0                                                          \n",
              "1      Hello, I forgot o update my address, can you h...   \n",
              "2                   Can I do my DMV transactions online?   \n",
              "3      You've got it. Another query about DMV. What h...   \n",
              "4                 Besides that, will I receive a notice?   \n",
              "...                                                  ...   \n",
              "23394  By the way, who can I contact to give me infor...   \n",
              "23395  What if I've fallen behind on one or more loan...   \n",
              "23396  I have another question regarding the Military...   \n",
              "23397  something else I want to ask about FAFSA. What...   \n",
              "23398                  How can I make a payment by post?   \n",
              "\n",
              "                                                question  \\\n",
              "0      Hello, I forgot o update my address, can you h...   \n",
              "1                   Can I do my DMV transactions online?   \n",
              "2      You've got it. Another query about DMV. What h...   \n",
              "3                 Besides that, will I receive a notice?   \n",
              "4                           If you submit the affidavit?   \n",
              "...                                                  ...   \n",
              "23394  What if I've fallen behind on one or more loan...   \n",
              "23395  I have another question regarding the Military...   \n",
              "23396  something else I want to ask about FAFSA. What...   \n",
              "23397                  How can I make a payment by post?   \n",
              "23398                  Can you forgive the student loan?   \n",
              "\n",
              "                                                combined  followup  \\\n",
              "0       <SEP> Hello, I forgot o update my address, ca...         0   \n",
              "1      Hello, I forgot o update my address, can you h...         1   \n",
              "2      Can I do my DMV transactions online? <SEP> You...         0   \n",
              "3      You've got it. Another query about DMV. What h...         1   \n",
              "4      Besides that, will I receive a notice? <SEP> I...         1   \n",
              "...                                                  ...       ...   \n",
              "23394  By the way, who can I contact to give me infor...         0   \n",
              "23395  What if I've fallen behind on one or more loan...         0   \n",
              "23396  I have another question regarding the Military...         0   \n",
              "23397  something else I want to ask about FAFSA. What...         1   \n",
              "23398  How can I make a payment by post? <SEP> Can yo...         1   \n",
              "\n",
              "                                                prev_doc  \\\n",
              "0                                                          \n",
              "1           Top 5 DMV Mistakes and How to Avoid Them#3_0   \n",
              "2           Top 5 DMV Mistakes and How to Avoid Them#3_0   \n",
              "3      Registration suspensions for failure to pay to...   \n",
              "4      Registration suspensions for failure to pay to...   \n",
              "...                                                  ...   \n",
              "23394           Loan Servicers | Federal Student Aid#1_0   \n",
              "23395   Student Loan Repayment | Federal Student Aid#1_0   \n",
              "23396   Student Loan Deferment | Federal Student Aid#1_0   \n",
              "23397   Student Loan Repayment | Federal Student Aid#1_0   \n",
              "23398   Student Loan Repayment | Federal Student Aid#1_0   \n",
              "\n",
              "                                             current_doc  \\\n",
              "0           Top 5 DMV Mistakes and How to Avoid Them#3_0   \n",
              "1           Top 5 DMV Mistakes and How to Avoid Them#3_0   \n",
              "2      Registration suspensions for failure to pay to...   \n",
              "3      Registration suspensions for failure to pay to...   \n",
              "4      Registration suspensions for failure to pay to...   \n",
              "...                                                  ...   \n",
              "23394   Student Loan Repayment | Federal Student Aid#1_0   \n",
              "23395   Student Loan Deferment | Federal Student Aid#1_0   \n",
              "23396   Student Loan Repayment | Federal Student Aid#1_0   \n",
              "23397   Student Loan Repayment | Federal Student Aid#1_0   \n",
              "23398   Student Loan Repayment | Federal Student Aid#1_0   \n",
              "\n",
              "                                             prev_answer  \n",
              "0                                                         \n",
              "1      hi, you have to report any change of address t...  \n",
              "2      Yes, you can sign up for MyDMV for all the onl...  \n",
              "3      the suspension is placed on hold pending the o...  \n",
              "4       the NYS Department of Motor Vehicles , \" DMV ...  \n",
              "...                                                  ...  \n",
              "23394  Your school's financial aid office must have t...  \n",
              "23395  One thing you definitely want to avoid is goin...  \n",
              "23396  You will have to complete the Military Service...  \n",
              "23397  contact your loan servicer to find out your op...  \n",
              "23398  you must contact your loan servicer for the ma...  \n",
              "\n",
              "[23399 rows x 7 columns]"
            ],
            "text/html": [
              "\n",
              "  <div id=\"df-54cfe5e7-3e03-4c94-89b5-bad318e6babf\">\n",
              "    <div class=\"colab-df-container\">\n",
              "      <div>\n",
              "<style scoped>\n",
              "    .dataframe tbody tr th:only-of-type {\n",
              "        vertical-align: middle;\n",
              "    }\n",
              "\n",
              "    .dataframe tbody tr th {\n",
              "        vertical-align: top;\n",
              "    }\n",
              "\n",
              "    .dataframe thead th {\n",
              "        text-align: right;\n",
              "    }\n",
              "</style>\n",
              "<table border=\"1\" class=\"dataframe\">\n",
              "  <thead>\n",
              "    <tr style=\"text-align: right;\">\n",
              "      <th></th>\n",
              "      <th>history</th>\n",
              "      <th>question</th>\n",
              "      <th>combined</th>\n",
              "      <th>followup</th>\n",
              "      <th>prev_doc</th>\n",
              "      <th>current_doc</th>\n",
              "      <th>prev_answer</th>\n",
              "    </tr>\n",
              "  </thead>\n",
              "  <tbody>\n",
              "    <tr>\n",
              "      <th>0</th>\n",
              "      <td></td>\n",
              "      <td>Hello, I forgot o update my address, can you h...</td>\n",
              "      <td>&lt;SEP&gt; Hello, I forgot o update my address, ca...</td>\n",
              "      <td>0</td>\n",
              "      <td></td>\n",
              "      <td>Top 5 DMV Mistakes and How to Avoid Them#3_0</td>\n",
              "      <td></td>\n",
              "    </tr>\n",
              "    <tr>\n",
              "      <th>1</th>\n",
              "      <td>Hello, I forgot o update my address, can you h...</td>\n",
              "      <td>Can I do my DMV transactions online?</td>\n",
              "      <td>Hello, I forgot o update my address, can you h...</td>\n",
              "      <td>1</td>\n",
              "      <td>Top 5 DMV Mistakes and How to Avoid Them#3_0</td>\n",
              "      <td>Top 5 DMV Mistakes and How to Avoid Them#3_0</td>\n",
              "      <td>hi, you have to report any change of address t...</td>\n",
              "    </tr>\n",
              "    <tr>\n",
              "      <th>2</th>\n",
              "      <td>Can I do my DMV transactions online?</td>\n",
              "      <td>You've got it. Another query about DMV. What h...</td>\n",
              "      <td>Can I do my DMV transactions online? &lt;SEP&gt; You...</td>\n",
              "      <td>0</td>\n",
              "      <td>Top 5 DMV Mistakes and How to Avoid Them#3_0</td>\n",
              "      <td>Registration suspensions for failure to pay to...</td>\n",
              "      <td>Yes, you can sign up for MyDMV for all the onl...</td>\n",
              "    </tr>\n",
              "    <tr>\n",
              "      <th>3</th>\n",
              "      <td>You've got it. Another query about DMV. What h...</td>\n",
              "      <td>Besides that, will I receive a notice?</td>\n",
              "      <td>You've got it. Another query about DMV. What h...</td>\n",
              "      <td>1</td>\n",
              "      <td>Registration suspensions for failure to pay to...</td>\n",
              "      <td>Registration suspensions for failure to pay to...</td>\n",
              "      <td>the suspension is placed on hold pending the o...</td>\n",
              "    </tr>\n",
              "    <tr>\n",
              "      <th>4</th>\n",
              "      <td>Besides that, will I receive a notice?</td>\n",
              "      <td>If you submit the affidavit?</td>\n",
              "      <td>Besides that, will I receive a notice? &lt;SEP&gt; I...</td>\n",
              "      <td>1</td>\n",
              "      <td>Registration suspensions for failure to pay to...</td>\n",
              "      <td>Registration suspensions for failure to pay to...</td>\n",
              "      <td>the NYS Department of Motor Vehicles , \" DMV ...</td>\n",
              "    </tr>\n",
              "    <tr>\n",
              "      <th>...</th>\n",
              "      <td>...</td>\n",
              "      <td>...</td>\n",
              "      <td>...</td>\n",
              "      <td>...</td>\n",
              "      <td>...</td>\n",
              "      <td>...</td>\n",
              "      <td>...</td>\n",
              "    </tr>\n",
              "    <tr>\n",
              "      <th>23394</th>\n",
              "      <td>By the way, who can I contact to give me infor...</td>\n",
              "      <td>What if I've fallen behind on one or more loan...</td>\n",
              "      <td>By the way, who can I contact to give me infor...</td>\n",
              "      <td>0</td>\n",
              "      <td>Loan Servicers | Federal Student Aid#1_0</td>\n",
              "      <td>Student Loan Repayment | Federal Student Aid#1_0</td>\n",
              "      <td>Your school's financial aid office must have t...</td>\n",
              "    </tr>\n",
              "    <tr>\n",
              "      <th>23395</th>\n",
              "      <td>What if I've fallen behind on one or more loan...</td>\n",
              "      <td>I have another question regarding the Military...</td>\n",
              "      <td>What if I've fallen behind on one or more loan...</td>\n",
              "      <td>0</td>\n",
              "      <td>Student Loan Repayment | Federal Student Aid#1_0</td>\n",
              "      <td>Student Loan Deferment | Federal Student Aid#1_0</td>\n",
              "      <td>One thing you definitely want to avoid is goin...</td>\n",
              "    </tr>\n",
              "    <tr>\n",
              "      <th>23396</th>\n",
              "      <td>I have another question regarding the Military...</td>\n",
              "      <td>something else I want to ask about FAFSA. What...</td>\n",
              "      <td>I have another question regarding the Military...</td>\n",
              "      <td>0</td>\n",
              "      <td>Student Loan Deferment | Federal Student Aid#1_0</td>\n",
              "      <td>Student Loan Repayment | Federal Student Aid#1_0</td>\n",
              "      <td>You will have to complete the Military Service...</td>\n",
              "    </tr>\n",
              "    <tr>\n",
              "      <th>23397</th>\n",
              "      <td>something else I want to ask about FAFSA. What...</td>\n",
              "      <td>How can I make a payment by post?</td>\n",
              "      <td>something else I want to ask about FAFSA. What...</td>\n",
              "      <td>1</td>\n",
              "      <td>Student Loan Repayment | Federal Student Aid#1_0</td>\n",
              "      <td>Student Loan Repayment | Federal Student Aid#1_0</td>\n",
              "      <td>contact your loan servicer to find out your op...</td>\n",
              "    </tr>\n",
              "    <tr>\n",
              "      <th>23398</th>\n",
              "      <td>How can I make a payment by post?</td>\n",
              "      <td>Can you forgive the student loan?</td>\n",
              "      <td>How can I make a payment by post? &lt;SEP&gt; Can yo...</td>\n",
              "      <td>1</td>\n",
              "      <td>Student Loan Repayment | Federal Student Aid#1_0</td>\n",
              "      <td>Student Loan Repayment | Federal Student Aid#1_0</td>\n",
              "      <td>you must contact your loan servicer for the ma...</td>\n",
              "    </tr>\n",
              "  </tbody>\n",
              "</table>\n",
              "<p>23399 rows × 7 columns</p>\n",
              "</div>\n",
              "      <button class=\"colab-df-convert\" onclick=\"convertToInteractive('df-54cfe5e7-3e03-4c94-89b5-bad318e6babf')\"\n",
              "              title=\"Convert this dataframe to an interactive table.\"\n",
              "              style=\"display:none;\">\n",
              "        \n",
              "  <svg xmlns=\"http://www.w3.org/2000/svg\" height=\"24px\"viewBox=\"0 0 24 24\"\n",
              "       width=\"24px\">\n",
              "    <path d=\"M0 0h24v24H0V0z\" fill=\"none\"/>\n",
              "    <path d=\"M18.56 5.44l.94 2.06.94-2.06 2.06-.94-2.06-.94-.94-2.06-.94 2.06-2.06.94zm-11 1L8.5 8.5l.94-2.06 2.06-.94-2.06-.94L8.5 2.5l-.94 2.06-2.06.94zm10 10l.94 2.06.94-2.06 2.06-.94-2.06-.94-.94-2.06-.94 2.06-2.06.94z\"/><path d=\"M17.41 7.96l-1.37-1.37c-.4-.4-.92-.59-1.43-.59-.52 0-1.04.2-1.43.59L10.3 9.45l-7.72 7.72c-.78.78-.78 2.05 0 2.83L4 21.41c.39.39.9.59 1.41.59.51 0 1.02-.2 1.41-.59l7.78-7.78 2.81-2.81c.8-.78.8-2.07 0-2.86zM5.41 20L4 18.59l7.72-7.72 1.47 1.35L5.41 20z\"/>\n",
              "  </svg>\n",
              "      </button>\n",
              "      \n",
              "  <style>\n",
              "    .colab-df-container {\n",
              "      display:flex;\n",
              "      flex-wrap:wrap;\n",
              "      gap: 12px;\n",
              "    }\n",
              "\n",
              "    .colab-df-convert {\n",
              "      background-color: #E8F0FE;\n",
              "      border: none;\n",
              "      border-radius: 50%;\n",
              "      cursor: pointer;\n",
              "      display: none;\n",
              "      fill: #1967D2;\n",
              "      height: 32px;\n",
              "      padding: 0 0 0 0;\n",
              "      width: 32px;\n",
              "    }\n",
              "\n",
              "    .colab-df-convert:hover {\n",
              "      background-color: #E2EBFA;\n",
              "      box-shadow: 0px 1px 2px rgba(60, 64, 67, 0.3), 0px 1px 3px 1px rgba(60, 64, 67, 0.15);\n",
              "      fill: #174EA6;\n",
              "    }\n",
              "\n",
              "    [theme=dark] .colab-df-convert {\n",
              "      background-color: #3B4455;\n",
              "      fill: #D2E3FC;\n",
              "    }\n",
              "\n",
              "    [theme=dark] .colab-df-convert:hover {\n",
              "      background-color: #434B5C;\n",
              "      box-shadow: 0px 1px 3px 1px rgba(0, 0, 0, 0.15);\n",
              "      filter: drop-shadow(0px 1px 2px rgba(0, 0, 0, 0.3));\n",
              "      fill: #FFFFFF;\n",
              "    }\n",
              "  </style>\n",
              "\n",
              "      <script>\n",
              "        const buttonEl =\n",
              "          document.querySelector('#df-54cfe5e7-3e03-4c94-89b5-bad318e6babf button.colab-df-convert');\n",
              "        buttonEl.style.display =\n",
              "          google.colab.kernel.accessAllowed ? 'block' : 'none';\n",
              "\n",
              "        async function convertToInteractive(key) {\n",
              "          const element = document.querySelector('#df-54cfe5e7-3e03-4c94-89b5-bad318e6babf');\n",
              "          const dataTable =\n",
              "            await google.colab.kernel.invokeFunction('convertToInteractive',\n",
              "                                                     [key], {});\n",
              "          if (!dataTable) return;\n",
              "\n",
              "          const docLinkHtml = 'Like what you see? Visit the ' +\n",
              "            '<a target=\"_blank\" href=https://colab.research.google.com/notebooks/data_table.ipynb>data table notebook</a>'\n",
              "            + ' to learn more about interactive tables.';\n",
              "          element.innerHTML = '';\n",
              "          dataTable['output_type'] = 'display_data';\n",
              "          await google.colab.output.renderOutput(dataTable, element);\n",
              "          const docLink = document.createElement('div');\n",
              "          docLink.innerHTML = docLinkHtml;\n",
              "          element.appendChild(docLink);\n",
              "        }\n",
              "      </script>\n",
              "    </div>\n",
              "  </div>\n",
              "  "
            ]
          },
          "metadata": {},
          "execution_count": 18
        }
      ],
      "source": [
        "train_df"
      ]
    },
    {
      "cell_type": "code",
      "execution_count": 19,
      "metadata": {
        "id": "gF0ziqxJ3Lja"
      },
      "outputs": [],
      "source": [
        "def tokenize_function(examples, prediction=False, cuda=False):\n",
        "    if prediction:\n",
        "        tokenized = tokenizer(examples['combined'], max_length=128, padding=\"max_length\", truncation=True, return_tensors='pt')\n",
        "    else:\n",
        "        tokenized = tokenizer(examples['combined'], max_length=128, padding=\"max_length\", truncation=True)\n",
        "    if cuda:\n",
        "        tokenized_cuda = {}\n",
        "        for key, value in tokenized.items():\n",
        "            tokenized_cuda[key] = value.cuda()\n",
        "        return tokenized_cuda\n",
        "    else:\n",
        "        return tokenized"
      ]
    },
    {
      "cell_type": "markdown",
      "metadata": {
        "id": "s3IbMkVd3Lja"
      },
      "source": [
        "### constructing dataloader"
      ]
    },
    {
      "cell_type": "code",
      "execution_count": 20,
      "metadata": {
        "colab": {
          "base_uri": "https://localhost:8080/",
          "height": 118,
          "referenced_widgets": [
            "4d6870f987f6424eb0810ef9f1cac3c2",
            "e91f634b4ac64907b6cbc0278df8dd69",
            "95d4713c357e4986abd6b5cbf51752c7",
            "c711a512e578435f9e1bb5dd83cb1b8d",
            "7346eab318024c9287da2c543c42cb0a",
            "1450ff44f4274dbc839fb1d23b7221bf",
            "0d18bacc7f484c41ac55a0c172646493",
            "1b6f506d27db4ae1adca5fed43ee2719",
            "d98e1f84a4224ac2b490c92f3d194fea",
            "f2d524d60fe649a7ba6a3ddb8169a970",
            "da6eb447a73648b6a8945aaa4b239cb5",
            "cc24443458a54495b33a0c7f7763bb5c",
            "d6b365157aa94949a53b600ab41d4f2b",
            "c100142a51c8492d8c82bc0ba277420d",
            "6482b54cfe274659b5bc6f896fd51675",
            "a1789b6c64d24221a8fd74e2d1425cd8",
            "1e2fe805e2ec40b59a73b15187c96c94",
            "17ff5a6cf7f24391bc3f1e275cc307c3",
            "41c622fa2d154766ab283dba7a6366d7",
            "afda3c88f3334d7895aa642167c45beb",
            "5d2ec52410a94156ae7d850a9e0f69a3",
            "8932c110b4ec412f957bd01516ba1b5a"
          ]
        },
        "id": "n89j9i8A3Ljb",
        "outputId": "90a19896-2436-4fd9-956f-7887d5800de0"
      },
      "outputs": [
        {
          "output_type": "stream",
          "name": "stderr",
          "text": [
            "WARNING:datasets.fingerprint:Parameter 'function'=<function tokenize_function at 0x7f2d8dbc0b90> of the transform datasets.arrow_dataset.Dataset._map_single couldn't be hashed properly, a random hash was used instead. Make sure your transforms and parameters are serializable with pickle or dill for the dataset fingerprinting and caching to work. If you reuse this transform, the caching mechanism will consider it to be different from the previous calls and recompute everything. This warning is only showed once. Subsequent hashing failures won't be showed.\n"
          ]
        },
        {
          "output_type": "display_data",
          "data": {
            "text/plain": [
              "  0%|          | 0/24 [00:00<?, ?ba/s]"
            ],
            "application/vnd.jupyter.widget-view+json": {
              "version_major": 2,
              "version_minor": 0,
              "model_id": "4d6870f987f6424eb0810ef9f1cac3c2"
            }
          },
          "metadata": {}
        },
        {
          "output_type": "display_data",
          "data": {
            "text/plain": [
              "  0%|          | 0/5 [00:00<?, ?ba/s]"
            ],
            "application/vnd.jupyter.widget-view+json": {
              "version_major": 2,
              "version_minor": 0,
              "model_id": "cc24443458a54495b33a0c7f7763bb5c"
            }
          },
          "metadata": {}
        }
      ],
      "source": [
        "from datasets import Dataset, DatasetDict\n",
        "\n",
        "train_dataset = Dataset.from_pandas(train_df)\n",
        "test_dataset = Dataset.from_pandas(test_df)\n",
        "\n",
        "tokenized_trainset = train_dataset.map(tokenize_function, batched=True)\n",
        "tokenized_testset = test_dataset.map(tokenize_function, batched=True)\n",
        "\n",
        "tokenized_trainset = tokenized_trainset.rename_column(\"followup\", \"label\")\n",
        "tokenized_testset = tokenized_testset.rename_column(\"followup\", \"label\")\n",
        "\n",
        "fud_dataset = DatasetDict()\n",
        "\n",
        "fud_dataset['train'] = tokenized_trainset\n",
        "fud_dataset['validation'] = tokenized_testset\n"
      ]
    },
    {
      "cell_type": "markdown",
      "metadata": {
        "id": "KtOJcbeo5rBQ"
      },
      "source": [
        "# Methods"
      ]
    },
    {
      "cell_type": "markdown",
      "metadata": {
        "id": "Wr3Qbox83Ljc"
      },
      "source": [
        "## FCN based on [cls]"
      ]
    },
    {
      "cell_type": "markdown",
      "metadata": {
        "id": "_zRT_9kl3Ljd"
      },
      "source": [
        "### AutoModelForSequenceClassification"
      ]
    },
    {
      "cell_type": "markdown",
      "source": [
        "We use a classification method on the questions to decide the relationship between the previous question and current question.\n",
        "In the dataset provided to us, previous turn documents are predefined, meaning that we are aware of the previous documents, therefore, if the prediction predicts that current question's document is the same as the previous, we don't need to retrieve a document and we give the previous doc_id."
      ],
      "metadata": {
        "id": "0oFuQ6Tq8eoC"
      }
    },
    {
      "cell_type": "markdown",
      "metadata": {
        "id": "hsHE7D873Ljd"
      },
      "source": [
        "#### model"
      ]
    },
    {
      "cell_type": "code",
      "execution_count": 21,
      "metadata": {
        "colab": {
          "base_uri": "https://localhost:8080/"
        },
        "id": "hRkLfGS43Lje",
        "outputId": "9ff50866-fb06-4e35-b0d9-14e72c0a8d08"
      },
      "outputs": [
        {
          "output_type": "stream",
          "name": "stderr",
          "text": [
            "Some weights of BertForSequenceClassification were not initialized from the model checkpoint at setu4993/LaBSE and are newly initialized: ['classifier.bias', 'classifier.weight']\n",
            "You should probably TRAIN this model on a down-stream task to be able to use it for predictions and inference.\n"
          ]
        },
        {
          "output_type": "execute_result",
          "data": {
            "text/plain": [
              "BertForSequenceClassification(\n",
              "  (bert): BertModel(\n",
              "    (embeddings): BertEmbeddings(\n",
              "      (word_embeddings): Embedding(501153, 768, padding_idx=0)\n",
              "      (position_embeddings): Embedding(512, 768)\n",
              "      (token_type_embeddings): Embedding(2, 768)\n",
              "      (LayerNorm): LayerNorm((768,), eps=1e-12, elementwise_affine=True)\n",
              "      (dropout): Dropout(p=0.1, inplace=False)\n",
              "    )\n",
              "    (encoder): BertEncoder(\n",
              "      (layer): ModuleList(\n",
              "        (0): BertLayer(\n",
              "          (attention): BertAttention(\n",
              "            (self): BertSelfAttention(\n",
              "              (query): Linear(in_features=768, out_features=768, bias=True)\n",
              "              (key): Linear(in_features=768, out_features=768, bias=True)\n",
              "              (value): Linear(in_features=768, out_features=768, bias=True)\n",
              "              (dropout): Dropout(p=0.1, inplace=False)\n",
              "            )\n",
              "            (output): BertSelfOutput(\n",
              "              (dense): Linear(in_features=768, out_features=768, bias=True)\n",
              "              (LayerNorm): LayerNorm((768,), eps=1e-12, elementwise_affine=True)\n",
              "              (dropout): Dropout(p=0.1, inplace=False)\n",
              "            )\n",
              "          )\n",
              "          (intermediate): BertIntermediate(\n",
              "            (dense): Linear(in_features=768, out_features=3072, bias=True)\n",
              "            (intermediate_act_fn): GELUActivation()\n",
              "          )\n",
              "          (output): BertOutput(\n",
              "            (dense): Linear(in_features=3072, out_features=768, bias=True)\n",
              "            (LayerNorm): LayerNorm((768,), eps=1e-12, elementwise_affine=True)\n",
              "            (dropout): Dropout(p=0.1, inplace=False)\n",
              "          )\n",
              "        )\n",
              "        (1): BertLayer(\n",
              "          (attention): BertAttention(\n",
              "            (self): BertSelfAttention(\n",
              "              (query): Linear(in_features=768, out_features=768, bias=True)\n",
              "              (key): Linear(in_features=768, out_features=768, bias=True)\n",
              "              (value): Linear(in_features=768, out_features=768, bias=True)\n",
              "              (dropout): Dropout(p=0.1, inplace=False)\n",
              "            )\n",
              "            (output): BertSelfOutput(\n",
              "              (dense): Linear(in_features=768, out_features=768, bias=True)\n",
              "              (LayerNorm): LayerNorm((768,), eps=1e-12, elementwise_affine=True)\n",
              "              (dropout): Dropout(p=0.1, inplace=False)\n",
              "            )\n",
              "          )\n",
              "          (intermediate): BertIntermediate(\n",
              "            (dense): Linear(in_features=768, out_features=3072, bias=True)\n",
              "            (intermediate_act_fn): GELUActivation()\n",
              "          )\n",
              "          (output): BertOutput(\n",
              "            (dense): Linear(in_features=3072, out_features=768, bias=True)\n",
              "            (LayerNorm): LayerNorm((768,), eps=1e-12, elementwise_affine=True)\n",
              "            (dropout): Dropout(p=0.1, inplace=False)\n",
              "          )\n",
              "        )\n",
              "        (2): BertLayer(\n",
              "          (attention): BertAttention(\n",
              "            (self): BertSelfAttention(\n",
              "              (query): Linear(in_features=768, out_features=768, bias=True)\n",
              "              (key): Linear(in_features=768, out_features=768, bias=True)\n",
              "              (value): Linear(in_features=768, out_features=768, bias=True)\n",
              "              (dropout): Dropout(p=0.1, inplace=False)\n",
              "            )\n",
              "            (output): BertSelfOutput(\n",
              "              (dense): Linear(in_features=768, out_features=768, bias=True)\n",
              "              (LayerNorm): LayerNorm((768,), eps=1e-12, elementwise_affine=True)\n",
              "              (dropout): Dropout(p=0.1, inplace=False)\n",
              "            )\n",
              "          )\n",
              "          (intermediate): BertIntermediate(\n",
              "            (dense): Linear(in_features=768, out_features=3072, bias=True)\n",
              "            (intermediate_act_fn): GELUActivation()\n",
              "          )\n",
              "          (output): BertOutput(\n",
              "            (dense): Linear(in_features=3072, out_features=768, bias=True)\n",
              "            (LayerNorm): LayerNorm((768,), eps=1e-12, elementwise_affine=True)\n",
              "            (dropout): Dropout(p=0.1, inplace=False)\n",
              "          )\n",
              "        )\n",
              "        (3): BertLayer(\n",
              "          (attention): BertAttention(\n",
              "            (self): BertSelfAttention(\n",
              "              (query): Linear(in_features=768, out_features=768, bias=True)\n",
              "              (key): Linear(in_features=768, out_features=768, bias=True)\n",
              "              (value): Linear(in_features=768, out_features=768, bias=True)\n",
              "              (dropout): Dropout(p=0.1, inplace=False)\n",
              "            )\n",
              "            (output): BertSelfOutput(\n",
              "              (dense): Linear(in_features=768, out_features=768, bias=True)\n",
              "              (LayerNorm): LayerNorm((768,), eps=1e-12, elementwise_affine=True)\n",
              "              (dropout): Dropout(p=0.1, inplace=False)\n",
              "            )\n",
              "          )\n",
              "          (intermediate): BertIntermediate(\n",
              "            (dense): Linear(in_features=768, out_features=3072, bias=True)\n",
              "            (intermediate_act_fn): GELUActivation()\n",
              "          )\n",
              "          (output): BertOutput(\n",
              "            (dense): Linear(in_features=3072, out_features=768, bias=True)\n",
              "            (LayerNorm): LayerNorm((768,), eps=1e-12, elementwise_affine=True)\n",
              "            (dropout): Dropout(p=0.1, inplace=False)\n",
              "          )\n",
              "        )\n",
              "        (4): BertLayer(\n",
              "          (attention): BertAttention(\n",
              "            (self): BertSelfAttention(\n",
              "              (query): Linear(in_features=768, out_features=768, bias=True)\n",
              "              (key): Linear(in_features=768, out_features=768, bias=True)\n",
              "              (value): Linear(in_features=768, out_features=768, bias=True)\n",
              "              (dropout): Dropout(p=0.1, inplace=False)\n",
              "            )\n",
              "            (output): BertSelfOutput(\n",
              "              (dense): Linear(in_features=768, out_features=768, bias=True)\n",
              "              (LayerNorm): LayerNorm((768,), eps=1e-12, elementwise_affine=True)\n",
              "              (dropout): Dropout(p=0.1, inplace=False)\n",
              "            )\n",
              "          )\n",
              "          (intermediate): BertIntermediate(\n",
              "            (dense): Linear(in_features=768, out_features=3072, bias=True)\n",
              "            (intermediate_act_fn): GELUActivation()\n",
              "          )\n",
              "          (output): BertOutput(\n",
              "            (dense): Linear(in_features=3072, out_features=768, bias=True)\n",
              "            (LayerNorm): LayerNorm((768,), eps=1e-12, elementwise_affine=True)\n",
              "            (dropout): Dropout(p=0.1, inplace=False)\n",
              "          )\n",
              "        )\n",
              "        (5): BertLayer(\n",
              "          (attention): BertAttention(\n",
              "            (self): BertSelfAttention(\n",
              "              (query): Linear(in_features=768, out_features=768, bias=True)\n",
              "              (key): Linear(in_features=768, out_features=768, bias=True)\n",
              "              (value): Linear(in_features=768, out_features=768, bias=True)\n",
              "              (dropout): Dropout(p=0.1, inplace=False)\n",
              "            )\n",
              "            (output): BertSelfOutput(\n",
              "              (dense): Linear(in_features=768, out_features=768, bias=True)\n",
              "              (LayerNorm): LayerNorm((768,), eps=1e-12, elementwise_affine=True)\n",
              "              (dropout): Dropout(p=0.1, inplace=False)\n",
              "            )\n",
              "          )\n",
              "          (intermediate): BertIntermediate(\n",
              "            (dense): Linear(in_features=768, out_features=3072, bias=True)\n",
              "            (intermediate_act_fn): GELUActivation()\n",
              "          )\n",
              "          (output): BertOutput(\n",
              "            (dense): Linear(in_features=3072, out_features=768, bias=True)\n",
              "            (LayerNorm): LayerNorm((768,), eps=1e-12, elementwise_affine=True)\n",
              "            (dropout): Dropout(p=0.1, inplace=False)\n",
              "          )\n",
              "        )\n",
              "        (6): BertLayer(\n",
              "          (attention): BertAttention(\n",
              "            (self): BertSelfAttention(\n",
              "              (query): Linear(in_features=768, out_features=768, bias=True)\n",
              "              (key): Linear(in_features=768, out_features=768, bias=True)\n",
              "              (value): Linear(in_features=768, out_features=768, bias=True)\n",
              "              (dropout): Dropout(p=0.1, inplace=False)\n",
              "            )\n",
              "            (output): BertSelfOutput(\n",
              "              (dense): Linear(in_features=768, out_features=768, bias=True)\n",
              "              (LayerNorm): LayerNorm((768,), eps=1e-12, elementwise_affine=True)\n",
              "              (dropout): Dropout(p=0.1, inplace=False)\n",
              "            )\n",
              "          )\n",
              "          (intermediate): BertIntermediate(\n",
              "            (dense): Linear(in_features=768, out_features=3072, bias=True)\n",
              "            (intermediate_act_fn): GELUActivation()\n",
              "          )\n",
              "          (output): BertOutput(\n",
              "            (dense): Linear(in_features=3072, out_features=768, bias=True)\n",
              "            (LayerNorm): LayerNorm((768,), eps=1e-12, elementwise_affine=True)\n",
              "            (dropout): Dropout(p=0.1, inplace=False)\n",
              "          )\n",
              "        )\n",
              "        (7): BertLayer(\n",
              "          (attention): BertAttention(\n",
              "            (self): BertSelfAttention(\n",
              "              (query): Linear(in_features=768, out_features=768, bias=True)\n",
              "              (key): Linear(in_features=768, out_features=768, bias=True)\n",
              "              (value): Linear(in_features=768, out_features=768, bias=True)\n",
              "              (dropout): Dropout(p=0.1, inplace=False)\n",
              "            )\n",
              "            (output): BertSelfOutput(\n",
              "              (dense): Linear(in_features=768, out_features=768, bias=True)\n",
              "              (LayerNorm): LayerNorm((768,), eps=1e-12, elementwise_affine=True)\n",
              "              (dropout): Dropout(p=0.1, inplace=False)\n",
              "            )\n",
              "          )\n",
              "          (intermediate): BertIntermediate(\n",
              "            (dense): Linear(in_features=768, out_features=3072, bias=True)\n",
              "            (intermediate_act_fn): GELUActivation()\n",
              "          )\n",
              "          (output): BertOutput(\n",
              "            (dense): Linear(in_features=3072, out_features=768, bias=True)\n",
              "            (LayerNorm): LayerNorm((768,), eps=1e-12, elementwise_affine=True)\n",
              "            (dropout): Dropout(p=0.1, inplace=False)\n",
              "          )\n",
              "        )\n",
              "        (8): BertLayer(\n",
              "          (attention): BertAttention(\n",
              "            (self): BertSelfAttention(\n",
              "              (query): Linear(in_features=768, out_features=768, bias=True)\n",
              "              (key): Linear(in_features=768, out_features=768, bias=True)\n",
              "              (value): Linear(in_features=768, out_features=768, bias=True)\n",
              "              (dropout): Dropout(p=0.1, inplace=False)\n",
              "            )\n",
              "            (output): BertSelfOutput(\n",
              "              (dense): Linear(in_features=768, out_features=768, bias=True)\n",
              "              (LayerNorm): LayerNorm((768,), eps=1e-12, elementwise_affine=True)\n",
              "              (dropout): Dropout(p=0.1, inplace=False)\n",
              "            )\n",
              "          )\n",
              "          (intermediate): BertIntermediate(\n",
              "            (dense): Linear(in_features=768, out_features=3072, bias=True)\n",
              "            (intermediate_act_fn): GELUActivation()\n",
              "          )\n",
              "          (output): BertOutput(\n",
              "            (dense): Linear(in_features=3072, out_features=768, bias=True)\n",
              "            (LayerNorm): LayerNorm((768,), eps=1e-12, elementwise_affine=True)\n",
              "            (dropout): Dropout(p=0.1, inplace=False)\n",
              "          )\n",
              "        )\n",
              "        (9): BertLayer(\n",
              "          (attention): BertAttention(\n",
              "            (self): BertSelfAttention(\n",
              "              (query): Linear(in_features=768, out_features=768, bias=True)\n",
              "              (key): Linear(in_features=768, out_features=768, bias=True)\n",
              "              (value): Linear(in_features=768, out_features=768, bias=True)\n",
              "              (dropout): Dropout(p=0.1, inplace=False)\n",
              "            )\n",
              "            (output): BertSelfOutput(\n",
              "              (dense): Linear(in_features=768, out_features=768, bias=True)\n",
              "              (LayerNorm): LayerNorm((768,), eps=1e-12, elementwise_affine=True)\n",
              "              (dropout): Dropout(p=0.1, inplace=False)\n",
              "            )\n",
              "          )\n",
              "          (intermediate): BertIntermediate(\n",
              "            (dense): Linear(in_features=768, out_features=3072, bias=True)\n",
              "            (intermediate_act_fn): GELUActivation()\n",
              "          )\n",
              "          (output): BertOutput(\n",
              "            (dense): Linear(in_features=3072, out_features=768, bias=True)\n",
              "            (LayerNorm): LayerNorm((768,), eps=1e-12, elementwise_affine=True)\n",
              "            (dropout): Dropout(p=0.1, inplace=False)\n",
              "          )\n",
              "        )\n",
              "        (10): BertLayer(\n",
              "          (attention): BertAttention(\n",
              "            (self): BertSelfAttention(\n",
              "              (query): Linear(in_features=768, out_features=768, bias=True)\n",
              "              (key): Linear(in_features=768, out_features=768, bias=True)\n",
              "              (value): Linear(in_features=768, out_features=768, bias=True)\n",
              "              (dropout): Dropout(p=0.1, inplace=False)\n",
              "            )\n",
              "            (output): BertSelfOutput(\n",
              "              (dense): Linear(in_features=768, out_features=768, bias=True)\n",
              "              (LayerNorm): LayerNorm((768,), eps=1e-12, elementwise_affine=True)\n",
              "              (dropout): Dropout(p=0.1, inplace=False)\n",
              "            )\n",
              "          )\n",
              "          (intermediate): BertIntermediate(\n",
              "            (dense): Linear(in_features=768, out_features=3072, bias=True)\n",
              "            (intermediate_act_fn): GELUActivation()\n",
              "          )\n",
              "          (output): BertOutput(\n",
              "            (dense): Linear(in_features=3072, out_features=768, bias=True)\n",
              "            (LayerNorm): LayerNorm((768,), eps=1e-12, elementwise_affine=True)\n",
              "            (dropout): Dropout(p=0.1, inplace=False)\n",
              "          )\n",
              "        )\n",
              "        (11): BertLayer(\n",
              "          (attention): BertAttention(\n",
              "            (self): BertSelfAttention(\n",
              "              (query): Linear(in_features=768, out_features=768, bias=True)\n",
              "              (key): Linear(in_features=768, out_features=768, bias=True)\n",
              "              (value): Linear(in_features=768, out_features=768, bias=True)\n",
              "              (dropout): Dropout(p=0.1, inplace=False)\n",
              "            )\n",
              "            (output): BertSelfOutput(\n",
              "              (dense): Linear(in_features=768, out_features=768, bias=True)\n",
              "              (LayerNorm): LayerNorm((768,), eps=1e-12, elementwise_affine=True)\n",
              "              (dropout): Dropout(p=0.1, inplace=False)\n",
              "            )\n",
              "          )\n",
              "          (intermediate): BertIntermediate(\n",
              "            (dense): Linear(in_features=768, out_features=3072, bias=True)\n",
              "            (intermediate_act_fn): GELUActivation()\n",
              "          )\n",
              "          (output): BertOutput(\n",
              "            (dense): Linear(in_features=3072, out_features=768, bias=True)\n",
              "            (LayerNorm): LayerNorm((768,), eps=1e-12, elementwise_affine=True)\n",
              "            (dropout): Dropout(p=0.1, inplace=False)\n",
              "          )\n",
              "        )\n",
              "      )\n",
              "    )\n",
              "    (pooler): BertPooler(\n",
              "      (dense): Linear(in_features=768, out_features=768, bias=True)\n",
              "      (activation): Tanh()\n",
              "    )\n",
              "  )\n",
              "  (dropout): Dropout(p=0.1, inplace=False)\n",
              "  (classifier): Linear(in_features=768, out_features=2, bias=True)\n",
              ")"
            ]
          },
          "metadata": {},
          "execution_count": 21
        }
      ],
      "source": [
        "model_name = \"setu4993/LaBSE\"\n",
        "\n",
        "tokenizer = AutoTokenizer.from_pretrained(model_name)\n",
        "fudnet_model = AutoModelForSequenceClassification.from_pretrained(model_name, num_labels=2)\n",
        "\n",
        "device = torch.device(\"cuda:0\")\n",
        "fudnet_model.to(device)"
      ]
    },
    {
      "cell_type": "markdown",
      "metadata": {
        "id": "pcI4P0Lt3Lje"
      },
      "source": [
        "#### metrics"
      ]
    },
    {
      "cell_type": "code",
      "execution_count": 22,
      "metadata": {
        "colab": {
          "base_uri": "https://localhost:8080/",
          "height": 49,
          "referenced_widgets": [
            "dd414fda5c82419fbce6a2dcbda36b61",
            "4ab222aa31f343d5ab0c26ce889324be",
            "b379d3bc5aa649ceb357671010d2b7be",
            "fbd3ef6ec6404c61bcd1230c35f3bdd2",
            "eaa59c2e8ef944aaaf7b16d24323f387",
            "8505f29222ab4fe8a5f1bff7d52c53fd",
            "27ef017a863d4ff68c691a551d846b2c",
            "2876c9d455d34c15ad549fbcf5090ffc",
            "e5d77c394ef04ea5b6d12864e7383d4f",
            "605010482aab48feb553b6f1d6e5a222",
            "881e9bc5b4ef4f5cbb376e787eac233c"
          ]
        },
        "id": "HgLwYYuQ3Ljf",
        "outputId": "7924b1aa-a91a-4253-e125-151faec4436d"
      },
      "outputs": [
        {
          "output_type": "display_data",
          "data": {
            "text/plain": [
              "Downloading builder script:   0%|          | 0.00/1.41k [00:00<?, ?B/s]"
            ],
            "application/vnd.jupyter.widget-view+json": {
              "version_major": 2,
              "version_minor": 0,
              "model_id": "dd414fda5c82419fbce6a2dcbda36b61"
            }
          },
          "metadata": {}
        }
      ],
      "source": [
        "import numpy as np\n",
        "from datasets import load_metric\n",
        "\n",
        "metric = load_metric(\"accuracy\")\n",
        "\n",
        "def compute_metrics(eval_pred):\n",
        "    logits, labels = eval_pred\n",
        "    predictions = np.argmax(logits, axis=-1)\n",
        "    return metric.compute(predictions=predictions, references=labels)"
      ]
    },
    {
      "cell_type": "markdown",
      "metadata": {
        "id": "kDy2n4oi3Ljg"
      },
      "source": [
        "#### train"
      ]
    },
    {
      "cell_type": "code",
      "execution_count": 23,
      "metadata": {
        "id": "G-eckBPu3Ljg"
      },
      "outputs": [],
      "source": [
        "from transformers import Trainer, TrainingArguments\n",
        "\n",
        "training_args = TrainingArguments(\n",
        "    output_dir='/home/',\n",
        "    num_train_epochs=2,\n",
        "    per_device_train_batch_size=32,\n",
        "    per_device_eval_batch_size=32,\n",
        "    warmup_steps=50,\n",
        "    weight_decay=0.01,\n",
        "    logging_steps=10,\n",
        "    evaluation_strategy='epoch',\n",
        "    save_strategy ='epoch',\n",
        "    load_best_model_at_end=True,\n",
        "    # auto_find_batch_size=True,\n",
        ")\n",
        "\n",
        "trainer = Trainer(\n",
        "    model=fudnet_model,\n",
        "    args=training_args,\n",
        "    train_dataset=fud_dataset['train'],\n",
        "    eval_dataset=fud_dataset['validation'],\n",
        "    compute_metrics=compute_metrics\n",
        ")"
      ]
    },
    {
      "cell_type": "code",
      "source": [
        "trainer.train()"
      ],
      "metadata": {
        "colab": {
          "base_uri": "https://localhost:8080/",
          "height": 714
        },
        "id": "aev9XuyUA0DA",
        "outputId": "63a28b0d-73c1-4827-ad9d-93230cabe373"
      },
      "execution_count": 24,
      "outputs": [
        {
          "output_type": "stream",
          "name": "stderr",
          "text": [
            "The following columns in the training set  don't have a corresponding argument in `BertForSequenceClassification.forward` and have been ignored: combined, current_doc, prev_answer, history, question, prev_doc. If combined, current_doc, prev_answer, history, question, prev_doc are not expected by `BertForSequenceClassification.forward`,  you can safely ignore this message.\n",
            "/usr/local/lib/python3.7/dist-packages/transformers/optimization.py:309: FutureWarning: This implementation of AdamW is deprecated and will be removed in a future version. Use the PyTorch implementation torch.optim.AdamW instead, or set `no_deprecation_warning=True` to disable this warning\n",
            "  FutureWarning,\n",
            "***** Running training *****\n",
            "  Num examples = 23399\n",
            "  Num Epochs = 2\n",
            "  Instantaneous batch size per device = 32\n",
            "  Total train batch size (w. parallel, distributed & accumulation) = 32\n",
            "  Gradient Accumulation steps = 1\n",
            "  Total optimization steps = 1464\n"
          ]
        },
        {
          "output_type": "display_data",
          "data": {
            "text/plain": [
              "<IPython.core.display.HTML object>"
            ],
            "text/html": [
              "\n",
              "    <div>\n",
              "      \n",
              "      <progress value='1464' max='1464' style='width:300px; height:20px; vertical-align: middle;'></progress>\n",
              "      [1464/1464 12:54, Epoch 2/2]\n",
              "    </div>\n",
              "    <table border=\"1\" class=\"dataframe\">\n",
              "  <thead>\n",
              " <tr style=\"text-align: left;\">\n",
              "      <th>Epoch</th>\n",
              "      <th>Training Loss</th>\n",
              "      <th>Validation Loss</th>\n",
              "      <th>Accuracy</th>\n",
              "    </tr>\n",
              "  </thead>\n",
              "  <tbody>\n",
              "    <tr>\n",
              "      <td>1</td>\n",
              "      <td>0.172100</td>\n",
              "      <td>0.144127</td>\n",
              "      <td>0.949066</td>\n",
              "    </tr>\n",
              "    <tr>\n",
              "      <td>2</td>\n",
              "      <td>0.094800</td>\n",
              "      <td>0.137107</td>\n",
              "      <td>0.954404</td>\n",
              "    </tr>\n",
              "  </tbody>\n",
              "</table><p>"
            ]
          },
          "metadata": {}
        },
        {
          "output_type": "stream",
          "name": "stderr",
          "text": [
            "The following columns in the evaluation set  don't have a corresponding argument in `BertForSequenceClassification.forward` and have been ignored: combined, current_doc, prev_answer, history, question, prev_doc. If combined, current_doc, prev_answer, history, question, prev_doc are not expected by `BertForSequenceClassification.forward`,  you can safely ignore this message.\n",
            "***** Running Evaluation *****\n",
            "  Num examples = 4496\n",
            "  Batch size = 32\n",
            "Saving model checkpoint to /home/checkpoint-732\n",
            "Configuration saved in /home/checkpoint-732/config.json\n",
            "Model weights saved in /home/checkpoint-732/pytorch_model.bin\n",
            "The following columns in the evaluation set  don't have a corresponding argument in `BertForSequenceClassification.forward` and have been ignored: combined, current_doc, prev_answer, history, question, prev_doc. If combined, current_doc, prev_answer, history, question, prev_doc are not expected by `BertForSequenceClassification.forward`,  you can safely ignore this message.\n",
            "***** Running Evaluation *****\n",
            "  Num examples = 4496\n",
            "  Batch size = 32\n",
            "Saving model checkpoint to /home/checkpoint-1464\n",
            "Configuration saved in /home/checkpoint-1464/config.json\n",
            "Model weights saved in /home/checkpoint-1464/pytorch_model.bin\n",
            "\n",
            "\n",
            "Training completed. Do not forget to share your model on huggingface.co/models =)\n",
            "\n",
            "\n",
            "Loading best model from /home/checkpoint-1464 (score: 0.13710716366767883).\n"
          ]
        },
        {
          "output_type": "execute_result",
          "data": {
            "text/plain": [
              "TrainOutput(global_step=1464, training_loss=0.1559999535481135, metrics={'train_runtime': 779.0272, 'train_samples_per_second': 60.072, 'train_steps_per_second': 1.879, 'total_flos': 3078267792184320.0, 'train_loss': 0.1559999535481135, 'epoch': 2.0})"
            ]
          },
          "metadata": {},
          "execution_count": 24
        }
      ]
    },
    {
      "cell_type": "markdown",
      "metadata": {
        "id": "kuhM4K4J1E3Y"
      },
      "source": [
        "### DR. TEIT*\n",
        "\n",
        "In this method we used two scoring measure and aggregate them by a convex combination as below:\n",
        "$$\n",
        "λ*Similiarity_{Title Embedding} + (1-λ)*Similiarity_{TextIDF}\n",
        "$$\n",
        "\n",
        "We used LaBSE model for our embeddings. For computing title embedding similarities we used cosine similarity between query embeddings and each document's title embedding.\n",
        "\n",
        "For the second part we used character-level (2gram to 8gram). We also trained our TF-IDF transformation matrix on the Multidoc2dial2022 documnets.\n",
        "\n",
        "**NOTE: In `predict_DR_TEIT` you may see a diffrent notation (`alpha`) but they are the same.**"
      ]
    },
    {
      "cell_type": "markdown",
      "metadata": {
        "id": "q251xG1B1f2I"
      },
      "source": [
        "#### TF-IDF Transformation Matrix Fitting"
      ]
    },
    {
      "cell_type": "code",
      "execution_count": 25,
      "metadata": {
        "id": "BoNS99AY1LZl"
      },
      "outputs": [],
      "source": [
        "doc_texts_train = []\n",
        "for doc_idx1 in multidoc2dial_doc['doc_data']:\n",
        "    for doc_idx2 in multidoc2dial_doc['doc_data'][doc_idx1]:\n",
        "        doc_texts_train.append(multidoc2dial_doc['doc_data'][doc_idx1]\\\n",
        "                                          [doc_idx2]['doc_text'].strip())"
      ]
    },
    {
      "cell_type": "code",
      "execution_count": 26,
      "metadata": {
        "id": "wZs4IB7x1S68"
      },
      "outputs": [],
      "source": [
        "from sklearn.feature_extraction.text import TfidfVectorizer\n",
        "tfidfVectorizer = TfidfVectorizer(strip_accents=None,\n",
        "                                 analyzer='char',\n",
        "                                 ngram_range=(2, 8),\n",
        "                                 norm='l2',\n",
        "                                 use_idf=True,\n",
        "                                 smooth_idf=True)\n",
        "tfidf_wm = tfidfVectorizer.fit_transform(doc_texts_train)"
      ]
    },
    {
      "cell_type": "code",
      "execution_count": 27,
      "metadata": {
        "id": "B3p34wgW1emS"
      },
      "outputs": [],
      "source": [
        "import pickle\n",
        "with open('tfidfVectorizer.pkl', 'wb') as f:\n",
        "    pickle.dump(tfidfVectorizer, f)\n",
        "\n",
        "with open('tfidf_wm.pkl', 'wb') as f:\n",
        "    pickle.dump(tfidf_wm, f)"
      ]
    },
    {
      "cell_type": "code",
      "execution_count": 28,
      "metadata": {
        "colab": {
          "base_uri": "https://localhost:8080/"
        },
        "id": "VU-xRf0V3Ljl",
        "outputId": "25cc24e4-9a5f-4932-ffa3-a250b346fc12"
      },
      "outputs": [
        {
          "output_type": "execute_result",
          "data": {
            "text/plain": [
              "1047632"
            ]
          },
          "metadata": {},
          "execution_count": 28
        }
      ],
      "source": [
        "len(tfidfVectorizer.get_feature_names_out())"
      ]
    },
    {
      "cell_type": "markdown",
      "metadata": {
        "id": "30VbDrMH15l6"
      },
      "source": [
        "#### DR. TEIT\n",
        "\n",
        "the input is consisted of a list of queries, which is the current question and its history turns.\n",
        "for each of the questions, we compute two similarity score for each of our documents, one of them is based on the pretrained LM and the other on is based on character level matching. Both of these scores will be weighted by a coefficient which is the `idf_score` of the query, defining how much meaning does the query contain. Then these scores will be summed up in a convex manner and the final matching score with all documents is computed. We return the result by sorting these scores."
      ]
    },
    {
      "cell_type": "code",
      "execution_count": 29,
      "metadata": {
        "id": "7ELrMT4g17vc"
      },
      "outputs": [],
      "source": [
        "def predict_DR_TEIT(queries, k=1, alpha=10):\n",
        "    \"\"\"\n",
        "    Predict which document is matched to the given query.\n",
        "\n",
        "    :param queries: input queries in time reversed order (latest first)\n",
        "    :type queries: str (or list of strs)\n",
        "    :param k: number of returning docs\n",
        "    :type k: int \n",
        "    :return: return the document names and accuracies\n",
        "    \"\"\"\n",
        "\n",
        "    idf_score = np.array(list(map(lambda x: 0.0, title_embeddings)))\n",
        "    tfidf_score = np.array(list(map(lambda x: 0.0, title_embeddings)))\n",
        "    coef_sum = 0\n",
        "    for i, query in enumerate(queries):\n",
        "        query_embd = get_embeddings(query)\n",
        "        query_sim = list(map(lambda x: np.dot(x, query_embd) /\n",
        "                            (np.linalg.norm(query_embd) * np.linalg.norm(x)),\n",
        "                            title_embeddings))\n",
        "        query_sim = np.array(query_sim)\n",
        "        # coef = 2**(-i) * calc_idf_score(query)\n",
        "        coef = calc_idf_score(query)\n",
        "        coef_sum += coef\n",
        "\n",
        "        idf_score += coef * query_sim\n",
        "        tfidf_score += coef * np.squeeze(np.asarray(tfidf_wm @ tfidfVectorizer.transform([query]).todense().T))\n",
        "\n",
        "    scores = (idf_score + alpha * tfidf_score) / coef_sum\n",
        "    best_k_idx = scores.argsort()[::-1][:k]\n",
        "    scores = scores[best_k_idx]\n",
        "    predictions = list(map(lambda x: titles[x], best_k_idx))\n",
        "    return (scores, predictions)"
      ]
    },
    {
      "cell_type": "markdown",
      "source": [
        "### FUDNet + DR. TEIT"
      ],
      "metadata": {
        "id": "oPC_VWvd407M"
      }
    },
    {
      "cell_type": "code",
      "source": [
        "def predict_FUDNet_DR_TEIT(data, k=1):\n",
        "    inputs = tokenize_function(data, prediction=True, cuda=True)\n",
        "    outputs = fudnet_model(**inputs)\n",
        "    is_followup = bool(torch.argmax(outputs.logits))\n",
        "    \n",
        "    if is_followup:\n",
        "        dr_scores, dr_predictions = predict_DR_TEIT([data['prev_answer'], data['question'], data['history']], k=k)\n",
        "        return dr_predictions\n",
        "    else:\n",
        "        dr_scores, dr_predictions = predict_DR_TEIT([data['question']], k=k)\n",
        "        return dr_predictions"
      ],
      "metadata": {
        "id": "FOIe5Tn643ZO"
      },
      "execution_count": 30,
      "outputs": []
    },
    {
      "cell_type": "code",
      "source": [
        "test_df.loc[2]"
      ],
      "metadata": {
        "colab": {
          "base_uri": "https://localhost:8080/"
        },
        "id": "8YCZ4JOhRoyQ",
        "outputId": "8b3eb94d-f39b-4961-9808-d4c82ba01908"
      },
      "execution_count": 31,
      "outputs": [
        {
          "output_type": "execute_result",
          "data": {
            "text/plain": [
              "history                         Don't do that I'll get insurance\n",
              "question       I have, that is why I am here to clear that up...\n",
              "combined       Don't do that I'll get insurance <SEP> I have,...\n",
              "followup                                                       1\n",
              "prev_doc            Top 5 DMV Mistakes and How to Avoid Them#3_0\n",
              "current_doc         Top 5 DMV Mistakes and How to Avoid Them#3_0\n",
              "prev_answer    Okay, have you received a letter from the DMV ...\n",
              "Name: 2, dtype: object"
            ]
          },
          "metadata": {},
          "execution_count": 31
        }
      ]
    },
    {
      "cell_type": "code",
      "source": [
        "predict_FUDNet_DR_TEIT(test_df.loc[2], k=5)"
      ],
      "metadata": {
        "colab": {
          "base_uri": "https://localhost:8080/"
        },
        "id": "nlqEPT-y_Jtb",
        "outputId": "e54d3192-67a9-435e-a5a1-9d133df12bc1"
      },
      "execution_count": 32,
      "outputs": [
        {
          "output_type": "execute_result",
          "data": {
            "text/plain": [
              "['Top 5 DMV Mistakes and How to Avoid Them#3_0',\n",
              " 'Respond to DMV insurance letters and orders#3_0',\n",
              " 'How to change your address#1_0',\n",
              " 'Insurance lapses#3_0',\n",
              " 'Information about transaction entries#3_0']"
            ]
          },
          "metadata": {},
          "execution_count": 32
        }
      ]
    },
    {
      "cell_type": "markdown",
      "source": [
        "### KNN + FUDNet + DR. TEIT"
      ],
      "metadata": {
        "id": "R6Ju0mlj09Mm"
      }
    },
    {
      "cell_type": "markdown",
      "source": [
        "#### Getting span embeddings"
      ],
      "metadata": {
        "id": "3ce2XzKF1Gp-"
      }
    },
    {
      "cell_type": "code",
      "source": [
        "from tqdm import tqdm\n",
        "\n",
        "def construct_span_doc_id():\n",
        "    spans = []\n",
        "    doc_ids = []\n",
        "    domains = []\n",
        "    for domain in tqdm(multidoc2dial_doc['doc_data'], desc=\"iterating over domains\"):\n",
        "        for doc_id in tqdm(multidoc2dial_doc['doc_data'][domain], desc=\"iterating over doc_ids\"):\n",
        "            doc = multidoc2dial_doc['doc_data'][domain][doc_id]\n",
        "\n",
        "            spans.append(doc[\"title\"])\n",
        "            doc_ids.append(doc_id)\n",
        "            domains.append(domain)\n",
        "            for span_id, span in doc[\"spans\"].items():\n",
        "                spans.append(span[\"text_sp\"])\n",
        "                doc_ids.append(doc_id)\n",
        "                domains.append(domain)\n",
        "    assert len(spans) == len(doc_ids) == len(domains), \"inconsistency\"\n",
        "    return spans, doc_ids, domains\n",
        "\n",
        "spans, doc_ids, domains = construct_span_doc_id()"
      ],
      "metadata": {
        "id": "hS8bgd0f3Np7",
        "colab": {
          "base_uri": "https://localhost:8080/"
        },
        "outputId": "aea48c71-6656-4919-9282-78b6d7940293"
      },
      "execution_count": 33,
      "outputs": [
        {
          "output_type": "stream",
          "name": "stderr",
          "text": [
            "iterating over domains:   0%|          | 0/4 [00:00<?, ?it/s]\n",
            "iterating over doc_ids: 100%|██████████| 109/109 [00:00<00:00, 15740.37it/s]\n",
            "\n",
            "iterating over doc_ids: 100%|██████████| 138/138 [00:00<00:00, 27354.16it/s]\n",
            "\n",
            "iterating over doc_ids: 100%|██████████| 149/149 [00:00<00:00, 16351.42it/s]\n",
            "\n",
            "iterating over doc_ids: 100%|██████████| 92/92 [00:00<00:00, 19427.85it/s]\n",
            "iterating over domains: 100%|██████████| 4/4 [00:00<00:00, 37.04it/s]\n"
          ]
        }
      ]
    },
    {
      "cell_type": "code",
      "source": [
        "import os\n",
        "span_embeddings_file = 'span_embeddings_labse.npy'\n",
        "\n",
        "if not os.path.exists(span_embeddings_file):\n",
        "    span_embeddings = []\n",
        "    for span in tqdm(spans):\n",
        "        span_embeddings.append(get_embeddings(span))\n",
        "\n",
        "    with open(span_embeddings_file, 'wb') as f:\n",
        "        np.save(f, np.array(span_embeddings))\n",
        "else:\n",
        "    span_embeddings = np.load(span_embeddings_file)\n",
        "    span_embeddings = list(span_embeddings)"
      ],
      "metadata": {
        "id": "nsAPhHam1D7y"
      },
      "execution_count": 34,
      "outputs": []
    },
    {
      "cell_type": "markdown",
      "source": [
        "#### Predictor"
      ],
      "metadata": {
        "id": "nkPVjtFr1YFH"
      }
    },
    {
      "cell_type": "code",
      "source": [
        "def get_nearests_doc_ids(text, k=None):\n",
        "    x_embed = get_embeddings(text).reshape(1, -1)\n",
        "    neighs = doc_predictor.kneighbors(x_embed)\n",
        "    return [doc_ids[x] for x in neighs[1][0,:]]"
      ],
      "metadata": {
        "id": "1OWpfm4n1X0m"
      },
      "execution_count": 46,
      "outputs": []
    },
    {
      "cell_type": "code",
      "source": [
        "def predict_KNN_FUDNet_DR_TEIT(queries, k=1, alpha=10):\n",
        "    \"\"\"\n",
        "    Predict which document is matched to the given query.\n",
        "\n",
        "    :param queries: input queries in time reversed order (latest first)\n",
        "    :type queries: str (or list of strs)\n",
        "    :param k: number of returning docs\n",
        "    :type k: int \n",
        "    :return: return the document names and accuracies\n",
        "    \"\"\"\n",
        "\n",
        "    idf_score = np.array(list(map(lambda x: 0.0, title_embeddings)))\n",
        "    tfidf_score = np.array(list(map(lambda x: 0.0, title_embeddings)))\n",
        "    coef_sum = 0\n",
        "    for i, query in enumerate(queries):\n",
        "        query_embd = get_embeddings(query)\n",
        "        query_sim = list(map(lambda x: np.dot(x, query_embd) /\n",
        "                            (np.linalg.norm(query_embd) * np.linalg.norm(x)),\n",
        "                            title_embeddings))\n",
        "        query_sim = np.array(query_sim)\n",
        "        # coef = 2**(-i) * calc_idf_score(query)\n",
        "        coef = calc_idf_score(query)\n",
        "        coef_sum += coef\n",
        "\n",
        "        idf_score += coef * query_sim\n",
        "        tfidf_score += coef * np.squeeze(np.asarray(tfidf_wm @ tfidfVectorizer.transform([query]).todense().T))\n",
        "\n",
        "    scores = (idf_score + alpha * tfidf_score) / coef_sum\n",
        "    best_k_idx = scores.argsort()[::-1][:k]\n",
        "    scores = scores[best_k_idx]\n",
        "    predictions = list(map(lambda x: titles[x], best_k_idx))\n",
        "    return (scores, predictions)\n",
        "\n",
        "def predict_KNN_FUDNet_DR_TEIT(data, k=1):\n",
        "    inputs = tokenize_function(data, prediction=True, cuda=True)\n",
        "    outputs = fudnet_model(**inputs)\n",
        "    is_followup = bool(torch.argmax(outputs.logits))\n",
        "    \n",
        "    if is_followup:\n",
        "        dr_scores, dr_predictions = predict_DR_TEIT([data['prev_answer'], data['question'], data['history']], k=k)\n",
        "        return dr_predictions\n",
        "    else:\n",
        "        dr_scores, dr_predictions = predict_DR_TEIT([data['question']], k=k)\n",
        "        return dr_predictions"
      ],
      "metadata": {
        "id": "kQfJ4rjG135d"
      },
      "execution_count": null,
      "outputs": []
    },
    {
      "cell_type": "markdown",
      "source": [
        "#### Fit knn"
      ],
      "metadata": {
        "id": "nyjeHgyD1xRJ"
      }
    },
    {
      "cell_type": "code",
      "source": [
        "from sklearn.neighbors import KNeighborsClassifier\n",
        "\n",
        "doc_predictor = KNeighborsClassifier(n_neighbors=100)\n",
        "doc_predictor.fit(span_embeddings, doc_ids)"
      ],
      "metadata": {
        "id": "esl3eIf010na",
        "colab": {
          "base_uri": "https://localhost:8080/"
        },
        "outputId": "1771b428-7015-4570-deca-4bf8160937fb"
      },
      "execution_count": 36,
      "outputs": [
        {
          "output_type": "execute_result",
          "data": {
            "text/plain": [
              "KNeighborsClassifier(n_neighbors=100)"
            ]
          },
          "metadata": {},
          "execution_count": 36
        }
      ]
    },
    {
      "cell_type": "code",
      "source": [
        "get_nearests_doc_ids(\"5 DMV Mistakes\")[:5]"
      ],
      "metadata": {
        "id": "Td3uXbaV35lk",
        "colab": {
          "base_uri": "https://localhost:8080/"
        },
        "outputId": "8f3590f8-a737-4b92-b791-5dd231be6e9d"
      },
      "execution_count": 50,
      "outputs": [
        {
          "output_type": "execute_result",
          "data": {
            "text/plain": [
              "['Top 5 DMV Mistakes and How to Avoid Them#3_0',\n",
              " 'Get a vehicle registration or title record (abstract)#1_0',\n",
              " 'In-transit vehicle permits (temporary registrations)#3_0',\n",
              " 'Exchange your out-of-state driver license#1_0',\n",
              " 'Appeal a TVB ticket conviction#1_0']"
            ]
          },
          "metadata": {},
          "execution_count": 50
        }
      ]
    },
    {
      "cell_type": "markdown",
      "metadata": {
        "id": "H32jwXIw5KIw"
      },
      "source": [
        "# Test\n",
        "In the test dataset we just picked ones with **user** turn."
      ]
    },
    {
      "cell_type": "code",
      "source": [
        "def test_loop(df, predictor):\n",
        "    prec_at_50 = 0\n",
        "    prec_at_10 = 0\n",
        "    prec_at_5 = 0\n",
        "    prec_at_1 = 0\n",
        "    ranks = []\n",
        "    for index, data in tqdm(df.iterrows()):\n",
        "        predictions = predictor(data, k=500)\n",
        "        actual_doc = data['current_doc']\n",
        "        ranks.append(1 / (predictions.index(actual_doc) + 1))\n",
        "        if actual_doc == predictions[0]:\n",
        "            prec_at_1 += 1\n",
        "        if actual_doc in predictions[:5]:\n",
        "            prec_at_5 += 1\n",
        "        if actual_doc in predictions[:10]:\n",
        "            prec_at_10 += 1\n",
        "        if actual_doc in predictions[:50]:\n",
        "            prec_at_50 += 1\n",
        "\n",
        "        if index % 100 == 99:\n",
        "            print(f\"\"\"\n",
        "                MRR: mean={np.array(ranks).mean()}, var={np.array(ranks).var()}\n",
        "                Prec@(1) = {prec_at_1 / index}\n",
        "                Prec@(5) = {prec_at_5 / index}\n",
        "                Prec@(10) = {prec_at_10 / index}\n",
        "                Prec@(50) = {prec_at_50 / index}\n",
        "                NUMBER_OF_SAMPLES = {index}\n",
        "            \"\"\")\n",
        "\n",
        "    return f\"\"\"\n",
        "        MRR: mean={np.array(ranks).mean()}, var={np.array(ranks).var()}\n",
        "        Prec@(1) = {prec_at_1 / index}\n",
        "        Prec@(5) = {prec_at_5 / index}\n",
        "        Prec@(10) = {prec_at_10 / index}\n",
        "        Prec@(50) = {prec_at_50 / index}\n",
        "        NUMBER_OF_SAMPLES = {index}\n",
        "    \"\"\""
      ],
      "metadata": {
        "id": "STHinF2c558c"
      },
      "execution_count": null,
      "outputs": []
    },
    {
      "cell_type": "code",
      "execution_count": null,
      "metadata": {
        "colab": {
          "base_uri": "https://localhost:8080/",
          "height": 1000
        },
        "id": "kbiRFDJg2QP6",
        "outputId": "37d1a117-a0d9-456e-aa25-6bc27018cd8d"
      },
      "outputs": [
        {
          "output_type": "stream",
          "name": "stderr",
          "text": [
            "100it [00:33,  3.43it/s]"
          ]
        },
        {
          "output_type": "stream",
          "name": "stdout",
          "text": [
            "\n",
            "                MRR: mean=0.7039079215980597, var=0.14377394068348706\n",
            "                Prec@(1) = 0.6060606060606061\n",
            "                Prec@(5) = 0.8181818181818182\n",
            "                Prec@(10) = 0.9292929292929293\n",
            "                Prec@(50) = 1.0\n",
            "                NUMBER_OF_SAMPLES = 99\n",
            "            \n"
          ]
        },
        {
          "output_type": "stream",
          "name": "stderr",
          "text": [
            "200it [01:07,  3.37it/s]"
          ]
        },
        {
          "output_type": "stream",
          "name": "stdout",
          "text": [
            "\n",
            "                MRR: mean=0.7902209363599058, var=0.11812314929333972\n",
            "                Prec@(1) = 0.7135678391959799\n",
            "                Prec@(5) = 0.8793969849246231\n",
            "                Prec@(10) = 0.9346733668341709\n",
            "                Prec@(50) = 0.9899497487437185\n",
            "                NUMBER_OF_SAMPLES = 199\n",
            "            \n"
          ]
        },
        {
          "output_type": "stream",
          "name": "stderr",
          "text": [
            "300it [01:43,  2.79it/s]"
          ]
        },
        {
          "output_type": "stream",
          "name": "stdout",
          "text": [
            "\n",
            "                MRR: mean=0.7853334234094211, var=0.11404097012093398\n",
            "                Prec@(1) = 0.6923076923076923\n",
            "                Prec@(5) = 0.8929765886287625\n",
            "                Prec@(10) = 0.9364548494983278\n",
            "                Prec@(50) = 0.9866220735785953\n",
            "                NUMBER_OF_SAMPLES = 299\n",
            "            \n"
          ]
        },
        {
          "output_type": "stream",
          "name": "stderr",
          "text": [
            "400it [02:15,  3.29it/s]"
          ]
        },
        {
          "output_type": "stream",
          "name": "stdout",
          "text": [
            "\n",
            "                MRR: mean=0.7850967764162591, var=0.11437552187926402\n",
            "                Prec@(1) = 0.6917293233082706\n",
            "                Prec@(5) = 0.899749373433584\n",
            "                Prec@(10) = 0.9348370927318296\n",
            "                Prec@(50) = 0.9799498746867168\n",
            "                NUMBER_OF_SAMPLES = 399\n",
            "            \n"
          ]
        },
        {
          "output_type": "stream",
          "name": "stderr",
          "text": [
            "501it [02:58,  3.81it/s]"
          ]
        },
        {
          "output_type": "stream",
          "name": "stdout",
          "text": [
            "\n",
            "                MRR: mean=0.7882768463264257, var=0.11015128150599376\n",
            "                Prec@(1) = 0.6893787575150301\n",
            "                Prec@(5) = 0.9078156312625251\n",
            "                Prec@(10) = 0.9398797595190381\n",
            "                Prec@(50) = 0.9819639278557114\n",
            "                NUMBER_OF_SAMPLES = 499\n",
            "            \n"
          ]
        },
        {
          "output_type": "stream",
          "name": "stderr",
          "text": [
            "600it [03:36,  3.20it/s]"
          ]
        },
        {
          "output_type": "stream",
          "name": "stdout",
          "text": [
            "\n",
            "                MRR: mean=0.7880566865477531, var=0.10964060689882264\n",
            "                Prec@(1) = 0.6878130217028381\n",
            "                Prec@(5) = 0.9081803005008348\n",
            "                Prec@(10) = 0.9382303839732888\n",
            "                Prec@(50) = 0.9833055091819699\n",
            "                NUMBER_OF_SAMPLES = 599\n",
            "            \n"
          ]
        },
        {
          "output_type": "stream",
          "name": "stderr",
          "text": [
            "700it [04:29,  1.86it/s]"
          ]
        },
        {
          "output_type": "stream",
          "name": "stdout",
          "text": [
            "\n",
            "                MRR: mean=0.7711605122925687, var=0.11688227500693\n",
            "                Prec@(1) = 0.6680972818311874\n",
            "                Prec@(5) = 0.8969957081545065\n",
            "                Prec@(10) = 0.9284692417739628\n",
            "                Prec@(50) = 0.9785407725321889\n",
            "                NUMBER_OF_SAMPLES = 699\n",
            "            \n"
          ]
        },
        {
          "output_type": "stream",
          "name": "stderr",
          "text": [
            "801it [05:08,  3.10it/s]"
          ]
        },
        {
          "output_type": "stream",
          "name": "stdout",
          "text": [
            "\n",
            "                MRR: mean=0.7625910081509559, var=0.12298149426928057\n",
            "                Prec@(1) = 0.6633291614518148\n",
            "                Prec@(5) = 0.8811013767209012\n",
            "                Prec@(10) = 0.9224030037546934\n",
            "                Prec@(50) = 0.9737171464330413\n",
            "                NUMBER_OF_SAMPLES = 799\n",
            "            \n"
          ]
        },
        {
          "output_type": "stream",
          "name": "stderr",
          "text": [
            "900it [05:43,  1.83it/s]"
          ]
        },
        {
          "output_type": "stream",
          "name": "stdout",
          "text": [
            "\n",
            "                MRR: mean=0.7604726031570741, var=0.12537084161644643\n",
            "                Prec@(1) = 0.664071190211346\n",
            "                Prec@(5) = 0.8765294771968855\n",
            "                Prec@(10) = 0.917686318131257\n",
            "                Prec@(50) = 0.9699666295884316\n",
            "                NUMBER_OF_SAMPLES = 899\n",
            "            \n"
          ]
        },
        {
          "output_type": "stream",
          "name": "stderr",
          "text": [
            "1001it [06:32,  3.41it/s]"
          ]
        },
        {
          "output_type": "stream",
          "name": "stdout",
          "text": [
            "\n",
            "                MRR: mean=0.7580197257129236, var=0.1270136792078571\n",
            "                Prec@(1) = 0.6626626626626627\n",
            "                Prec@(5) = 0.8728728728728729\n",
            "                Prec@(10) = 0.914914914914915\n",
            "                Prec@(50) = 0.96996996996997\n",
            "                NUMBER_OF_SAMPLES = 999\n",
            "            \n"
          ]
        },
        {
          "output_type": "stream",
          "name": "stderr",
          "text": [
            "1100it [07:07,  3.25it/s]"
          ]
        },
        {
          "output_type": "stream",
          "name": "stdout",
          "text": [
            "\n",
            "                MRR: mean=0.7605851824924286, var=0.12850709866222307\n",
            "                Prec@(1) = 0.6706096451319381\n",
            "                Prec@(5) = 0.8698817106460418\n",
            "                Prec@(10) = 0.910828025477707\n",
            "                Prec@(50) = 0.9681528662420382\n",
            "                NUMBER_OF_SAMPLES = 1099\n",
            "            \n"
          ]
        },
        {
          "output_type": "stream",
          "name": "stderr",
          "text": [
            "1200it [07:47,  2.82it/s]"
          ]
        },
        {
          "output_type": "stream",
          "name": "stdout",
          "text": [
            "\n",
            "                MRR: mean=0.7530367746197558, var=0.12989672150513235\n",
            "                Prec@(1) = 0.658882402001668\n",
            "                Prec@(5) = 0.8707256046705588\n",
            "                Prec@(10) = 0.9107589658048374\n",
            "                Prec@(50) = 0.9658048373644704\n",
            "                NUMBER_OF_SAMPLES = 1199\n",
            "            \n"
          ]
        },
        {
          "output_type": "stream",
          "name": "stderr",
          "text": [
            "1301it [08:28,  3.22it/s]"
          ]
        },
        {
          "output_type": "stream",
          "name": "stdout",
          "text": [
            "\n",
            "                MRR: mean=0.7535198360823495, var=0.13173748424909867\n",
            "                Prec@(1) = 0.6628175519630485\n",
            "                Prec@(5) = 0.8668206312548113\n",
            "                Prec@(10) = 0.9045419553502695\n",
            "                Prec@(50) = 0.9599692070823711\n",
            "                NUMBER_OF_SAMPLES = 1299\n",
            "            \n"
          ]
        },
        {
          "output_type": "stream",
          "name": "stderr",
          "text": [
            "1400it [09:13,  2.49it/s]"
          ]
        },
        {
          "output_type": "stream",
          "name": "stdout",
          "text": [
            "\n",
            "                MRR: mean=0.7391630560855046, var=0.13610311972580597\n",
            "                Prec@(1) = 0.6440314510364546\n",
            "                Prec@(5) = 0.860614724803431\n",
            "                Prec@(10) = 0.8970693352394568\n",
            "                Prec@(50) = 0.9571122230164403\n",
            "                NUMBER_OF_SAMPLES = 1399\n",
            "            \n"
          ]
        },
        {
          "output_type": "stream",
          "name": "stderr",
          "text": [
            "1500it [09:47,  2.95it/s]"
          ]
        },
        {
          "output_type": "stream",
          "name": "stdout",
          "text": [
            "\n",
            "                MRR: mean=0.7269237547580063, var=0.13903621766414445\n",
            "                Prec@(1) = 0.627751834556371\n",
            "                Prec@(5) = 0.8545697131420947\n",
            "                Prec@(10) = 0.895930620413609\n",
            "                Prec@(50) = 0.9566377585056705\n",
            "                NUMBER_OF_SAMPLES = 1499\n",
            "            \n"
          ]
        },
        {
          "output_type": "stream",
          "name": "stderr",
          "text": [
            "1601it [10:21,  3.86it/s]"
          ]
        },
        {
          "output_type": "stream",
          "name": "stdout",
          "text": [
            "\n",
            "                MRR: mean=0.7310236351716247, var=0.1373266616357569\n",
            "                Prec@(1) = 0.6316447779862414\n",
            "                Prec@(5) = 0.858036272670419\n",
            "                Prec@(10) = 0.8986866791744841\n",
            "                Prec@(50) = 0.9568480300187617\n",
            "                NUMBER_OF_SAMPLES = 1599\n",
            "            \n"
          ]
        },
        {
          "output_type": "stream",
          "name": "stderr",
          "text": [
            "1701it [10:52,  4.58it/s]"
          ]
        },
        {
          "output_type": "stream",
          "name": "stdout",
          "text": [
            "\n",
            "                MRR: mean=0.7329194565754593, var=0.13822727921431974\n",
            "                Prec@(1) = 0.6368452030606239\n",
            "                Prec@(5) = 0.8557975279576221\n",
            "                Prec@(10) = 0.8964096527369041\n",
            "                Prec@(50) = 0.9540906415538553\n",
            "                NUMBER_OF_SAMPLES = 1699\n",
            "            \n"
          ]
        },
        {
          "output_type": "stream",
          "name": "stderr",
          "text": [
            "1800it [11:28,  2.91it/s]"
          ]
        },
        {
          "output_type": "stream",
          "name": "stdout",
          "text": [
            "\n",
            "                MRR: mean=0.7336799141229156, var=0.1378391221799688\n",
            "                Prec@(1) = 0.6375764313507504\n",
            "                Prec@(5) = 0.8565869927737632\n",
            "                Prec@(10) = 0.896609227348527\n",
            "                Prec@(50) = 0.9560867148415787\n",
            "                NUMBER_OF_SAMPLES = 1799\n",
            "            \n"
          ]
        },
        {
          "output_type": "stream",
          "name": "stderr",
          "text": [
            "1900it [11:59,  3.16it/s]"
          ]
        },
        {
          "output_type": "stream",
          "name": "stdout",
          "text": [
            "\n",
            "                MRR: mean=0.7322733903396611, var=0.13851126855596751\n",
            "                Prec@(1) = 0.6361242759347024\n",
            "                Prec@(5) = 0.8530805687203792\n",
            "                Prec@(10) = 0.8957345971563981\n",
            "                Prec@(50) = 0.956292785676672\n",
            "                NUMBER_OF_SAMPLES = 1899\n",
            "            \n"
          ]
        },
        {
          "output_type": "stream",
          "name": "stderr",
          "text": [
            "2000it [12:49,  2.20it/s]"
          ]
        },
        {
          "output_type": "stream",
          "name": "stdout",
          "text": [
            "\n",
            "                MRR: mean=0.7313164663563175, var=0.1383302847041666\n",
            "                Prec@(1) = 0.6338169084542271\n",
            "                Prec@(5) = 0.8529264632316158\n",
            "                Prec@(10) = 0.8954477238619309\n",
            "                Prec@(50) = 0.9569784892446224\n",
            "                NUMBER_OF_SAMPLES = 1999\n",
            "            \n"
          ]
        },
        {
          "output_type": "stream",
          "name": "stderr",
          "text": [
            "2101it [13:33,  3.33it/s]"
          ]
        },
        {
          "output_type": "stream",
          "name": "stdout",
          "text": [
            "\n",
            "                MRR: mean=0.7271388522695879, var=0.13944357948275662\n",
            "                Prec@(1) = 0.6283944735588376\n",
            "                Prec@(5) = 0.8508813720819438\n",
            "                Prec@(10) = 0.894235350166746\n",
            "                Prec@(50) = 0.957122439256789\n",
            "                NUMBER_OF_SAMPLES = 2099\n",
            "            \n"
          ]
        },
        {
          "output_type": "stream",
          "name": "stderr",
          "text": [
            "2200it [14:05,  2.98it/s]"
          ]
        },
        {
          "output_type": "stream",
          "name": "stdout",
          "text": [
            "\n",
            "                MRR: mean=0.723542382947126, var=0.1406470447279826\n",
            "                Prec@(1) = 0.6243747157799\n",
            "                Prec@(5) = 0.8476580263756253\n",
            "                Prec@(10) = 0.891768985902683\n",
            "                Prec@(50) = 0.9558890404729422\n",
            "                NUMBER_OF_SAMPLES = 2199\n",
            "            \n"
          ]
        },
        {
          "output_type": "stream",
          "name": "stderr",
          "text": [
            "2300it [14:40,  2.91it/s]"
          ]
        },
        {
          "output_type": "stream",
          "name": "stdout",
          "text": [
            "\n",
            "                MRR: mean=0.719230739821631, var=0.14126418155816367\n",
            "                Prec@(1) = 0.6180948238364506\n",
            "                Prec@(5) = 0.8473249238799478\n",
            "                Prec@(10) = 0.8916920400173989\n",
            "                Prec@(50) = 0.955632883862549\n",
            "                NUMBER_OF_SAMPLES = 2299\n",
            "            \n"
          ]
        },
        {
          "output_type": "stream",
          "name": "stderr",
          "text": [
            "2401it [15:23,  3.34it/s]"
          ]
        },
        {
          "output_type": "stream",
          "name": "stdout",
          "text": [
            "\n",
            "                MRR: mean=0.7166043225585198, var=0.14138614416474332\n",
            "                Prec@(1) = 0.6131721550646102\n",
            "                Prec@(5) = 0.846602751146311\n",
            "                Prec@(10) = 0.8903709879116298\n",
            "                Prec@(50) = 0.9533138807836599\n",
            "                NUMBER_OF_SAMPLES = 2399\n",
            "            \n"
          ]
        },
        {
          "output_type": "stream",
          "name": "stderr",
          "text": [
            "2500it [16:00,  2.21it/s]"
          ]
        },
        {
          "output_type": "stream",
          "name": "stdout",
          "text": [
            "\n",
            "                MRR: mean=0.721063199419645, var=0.1405457320910995\n",
            "                Prec@(1) = 0.6194477791116446\n",
            "                Prec@(5) = 0.849139655862345\n",
            "                Prec@(10) = 0.8915566226490597\n",
            "                Prec@(50) = 0.9531812725090036\n",
            "                NUMBER_OF_SAMPLES = 2499\n",
            "            \n"
          ]
        },
        {
          "output_type": "stream",
          "name": "stderr",
          "text": [
            "2600it [16:43,  3.75it/s]"
          ]
        },
        {
          "output_type": "stream",
          "name": "stdout",
          "text": [
            "\n",
            "                MRR: mean=0.722510265749097, var=0.1403124225201101\n",
            "                Prec@(1) = 0.6213928434013082\n",
            "                Prec@(5) = 0.849942285494421\n",
            "                Prec@(10) = 0.8911119661408234\n",
            "                Prec@(50) = 0.9519045786841093\n",
            "                NUMBER_OF_SAMPLES = 2599\n",
            "            \n"
          ]
        },
        {
          "output_type": "stream",
          "name": "stderr",
          "text": [
            "2701it [17:17,  3.12it/s]"
          ]
        },
        {
          "output_type": "stream",
          "name": "stdout",
          "text": [
            "\n",
            "                MRR: mean=0.7217094196183785, var=0.14003790054827087\n",
            "                Prec@(1) = 0.6194886995183402\n",
            "                Prec@(5) = 0.8506854390515005\n",
            "                Prec@(10) = 0.8929233049277511\n",
            "                Prec@(50) = 0.952204520192664\n",
            "                NUMBER_OF_SAMPLES = 2699\n",
            "            \n"
          ]
        },
        {
          "output_type": "stream",
          "name": "stderr",
          "text": [
            "2801it [17:54,  3.44it/s]"
          ]
        },
        {
          "output_type": "stream",
          "name": "stdout",
          "text": [
            "\n",
            "                MRR: mean=0.7223807243507471, var=0.13969835180704113\n",
            "                Prec@(1) = 0.6202215076813148\n",
            "                Prec@(5) = 0.8520900321543409\n",
            "                Prec@(10) = 0.8942479456948911\n",
            "                Prec@(50) = 0.9524830296534477\n",
            "                NUMBER_OF_SAMPLES = 2799\n",
            "            \n"
          ]
        },
        {
          "output_type": "stream",
          "name": "stderr",
          "text": [
            "2900it [18:27,  3.48it/s]"
          ]
        },
        {
          "output_type": "stream",
          "name": "stdout",
          "text": [
            "\n",
            "                MRR: mean=0.7268969361953773, var=0.13817245005125406\n",
            "                Prec@(1) = 0.6253880648499482\n",
            "                Prec@(5) = 0.8554674025526043\n",
            "                Prec@(10) = 0.8968609865470852\n",
            "                Prec@(50) = 0.953432218006209\n",
            "                NUMBER_OF_SAMPLES = 2899\n",
            "            \n"
          ]
        },
        {
          "output_type": "stream",
          "name": "stderr",
          "text": [
            "3000it [19:01,  3.28it/s]"
          ]
        },
        {
          "output_type": "stream",
          "name": "stdout",
          "text": [
            "\n",
            "                MRR: mean=0.7259220563803565, var=0.13812352498361205\n",
            "                Prec@(1) = 0.6235411803934645\n",
            "                Prec@(5) = 0.855618539513171\n",
            "                Prec@(10) = 0.8972990996999\n",
            "                Prec@(50) = 0.9533177725908636\n",
            "                NUMBER_OF_SAMPLES = 2999\n",
            "            \n"
          ]
        },
        {
          "output_type": "stream",
          "name": "stderr",
          "text": [
            "3101it [19:35,  2.80it/s]"
          ]
        },
        {
          "output_type": "stream",
          "name": "stdout",
          "text": [
            "\n",
            "                MRR: mean=0.721743178286175, var=0.13915418542513366\n",
            "                Prec@(1) = 0.6179412713778638\n",
            "                Prec@(5) = 0.8535011293965795\n",
            "                Prec@(10) = 0.8960955146821555\n",
            "                Prec@(50) = 0.9515972894482091\n",
            "                NUMBER_OF_SAMPLES = 3099\n",
            "            \n"
          ]
        },
        {
          "output_type": "stream",
          "name": "stderr",
          "text": [
            "3201it [20:18,  3.03it/s]"
          ]
        },
        {
          "output_type": "stream",
          "name": "stdout",
          "text": [
            "\n",
            "                MRR: mean=0.7166168681972046, var=0.13989449025728767\n",
            "                Prec@(1) = 0.6105032822757112\n",
            "                Prec@(5) = 0.8533916849015317\n",
            "                Prec@(10) = 0.8962175679899969\n",
            "                Prec@(50) = 0.9518599562363238\n",
            "                NUMBER_OF_SAMPLES = 3199\n",
            "            \n"
          ]
        },
        {
          "output_type": "stream",
          "name": "stderr",
          "text": [
            "3300it [21:06,  2.46it/s]"
          ]
        },
        {
          "output_type": "stream",
          "name": "stdout",
          "text": [
            "\n",
            "                MRR: mean=0.7180104455873062, var=0.13963758594989065\n",
            "                Prec@(1) = 0.6123067596241285\n",
            "                Prec@(5) = 0.8538951197332525\n",
            "                Prec@(10) = 0.89602909972719\n",
            "                Prec@(50) = 0.9511973325250076\n",
            "                NUMBER_OF_SAMPLES = 3299\n",
            "            \n"
          ]
        },
        {
          "output_type": "stream",
          "name": "stderr",
          "text": [
            "3400it [21:45,  2.89it/s]"
          ]
        },
        {
          "output_type": "stream",
          "name": "stdout",
          "text": [
            "\n",
            "                MRR: mean=0.7177283341566983, var=0.13979892037900063\n",
            "                Prec@(1) = 0.6119446896145925\n",
            "                Prec@(5) = 0.852603706972639\n",
            "                Prec@(10) = 0.8952633127390409\n",
            "                Prec@(50) = 0.950867902324213\n",
            "                NUMBER_OF_SAMPLES = 3399\n",
            "            \n"
          ]
        },
        {
          "output_type": "stream",
          "name": "stderr",
          "text": [
            "3501it [22:16,  3.59it/s]"
          ]
        },
        {
          "output_type": "stream",
          "name": "stdout",
          "text": [
            "\n",
            "                MRR: mean=0.7138783496257615, var=0.14071535614341785\n",
            "                Prec@(1) = 0.606744784224064\n",
            "                Prec@(5) = 0.84938553872535\n",
            "                Prec@(10) = 0.8931123178050872\n",
            "                Prec@(50) = 0.9499857102029151\n",
            "                NUMBER_OF_SAMPLES = 3499\n",
            "            \n"
          ]
        },
        {
          "output_type": "stream",
          "name": "stderr",
          "text": [
            "3600it [22:46,  3.76it/s]"
          ]
        },
        {
          "output_type": "stream",
          "name": "stdout",
          "text": [
            "\n",
            "                MRR: mean=0.7114744397200978, var=0.14055294094629675\n",
            "                Prec@(1) = 0.6021116976938038\n",
            "                Prec@(5) = 0.8499583217560434\n",
            "                Prec@(10) = 0.8935815504306752\n",
            "                Prec@(50) = 0.9499861072520145\n",
            "                NUMBER_OF_SAMPLES = 3599\n",
            "            \n"
          ]
        },
        {
          "output_type": "stream",
          "name": "stderr",
          "text": [
            "3700it [23:19,  2.75it/s]"
          ]
        },
        {
          "output_type": "stream",
          "name": "stdout",
          "text": [
            "\n",
            "                MRR: mean=0.7094340380451104, var=0.14127969312336003\n",
            "                Prec@(1) = 0.6001622060016221\n",
            "                Prec@(5) = 0.8480670451473371\n",
            "                Prec@(10) = 0.8932143822654771\n",
            "                Prec@(50) = 0.9505271695052717\n",
            "                NUMBER_OF_SAMPLES = 3699\n",
            "            \n"
          ]
        },
        {
          "output_type": "stream",
          "name": "stderr",
          "text": [
            "3801it [23:52,  3.54it/s]"
          ]
        },
        {
          "output_type": "stream",
          "name": "stdout",
          "text": [
            "\n",
            "                MRR: mean=0.710894325342702, var=0.14116219797553214\n",
            "                Prec@(1) = 0.6025269807844169\n",
            "                Prec@(5) = 0.8481179257699395\n",
            "                Prec@(10) = 0.8933929981574098\n",
            "                Prec@(50) = 0.9507765201368781\n",
            "                NUMBER_OF_SAMPLES = 3799\n",
            "            \n"
          ]
        },
        {
          "output_type": "stream",
          "name": "stderr",
          "text": [
            "3900it [24:21,  4.08it/s]"
          ]
        },
        {
          "output_type": "stream",
          "name": "stdout",
          "text": [
            "\n",
            "                MRR: mean=0.7058745122229784, var=0.1429643224396008\n",
            "                Prec@(1) = 0.5973326493972814\n",
            "                Prec@(5) = 0.8430366760707874\n",
            "                Prec@(10) = 0.8897153116183637\n",
            "                Prec@(50) = 0.9505001282380098\n",
            "                NUMBER_OF_SAMPLES = 3899\n",
            "            \n"
          ]
        },
        {
          "output_type": "stream",
          "name": "stderr",
          "text": [
            "4000it [24:52,  2.64it/s]"
          ]
        },
        {
          "output_type": "stream",
          "name": "stdout",
          "text": [
            "\n",
            "                MRR: mean=0.7077374154308121, var=0.14241631380864428\n",
            "                Prec@(1) = 0.5993998499624906\n",
            "                Prec@(5) = 0.8447111777944486\n",
            "                Prec@(10) = 0.8904726181545386\n",
            "                Prec@(50) = 0.9504876219054764\n",
            "                NUMBER_OF_SAMPLES = 3999\n",
            "            \n"
          ]
        },
        {
          "output_type": "stream",
          "name": "stderr",
          "text": [
            "4002it [24:53,  2.68it/s]\n"
          ]
        },
        {
          "output_type": "error",
          "ename": "KeyboardInterrupt",
          "evalue": "ignored",
          "traceback": [
            "\u001b[0;31m---------------------------------------------------------------------------\u001b[0m",
            "\u001b[0;31mKeyboardInterrupt\u001b[0m                         Traceback (most recent call last)",
            "\u001b[0;32m<ipython-input-92-f62abf028221>\u001b[0m in \u001b[0;36m<module>\u001b[0;34m\u001b[0m\n\u001b[0;32m----> 1\u001b[0;31m \u001b[0mprint\u001b[0m\u001b[0;34m(\u001b[0m\u001b[0mtest_loop\u001b[0m\u001b[0;34m(\u001b[0m\u001b[0mtrain_df\u001b[0m\u001b[0;34m)\u001b[0m\u001b[0;34m)\u001b[0m\u001b[0;34m\u001b[0m\u001b[0;34m\u001b[0m\u001b[0m\n\u001b[0m",
            "\u001b[0;32m<ipython-input-89-77413af3fe88>\u001b[0m in \u001b[0;36mtest_loop\u001b[0;34m(df)\u001b[0m\n\u001b[1;32m      6\u001b[0m     \u001b[0mranks\u001b[0m \u001b[0;34m=\u001b[0m \u001b[0;34m[\u001b[0m\u001b[0;34m]\u001b[0m\u001b[0;34m\u001b[0m\u001b[0;34m\u001b[0m\u001b[0m\n\u001b[1;32m      7\u001b[0m     \u001b[0;32mfor\u001b[0m \u001b[0mindex\u001b[0m\u001b[0;34m,\u001b[0m \u001b[0mdata\u001b[0m \u001b[0;32min\u001b[0m \u001b[0mtqdm\u001b[0m\u001b[0;34m(\u001b[0m\u001b[0mdf\u001b[0m\u001b[0;34m.\u001b[0m\u001b[0miterrows\u001b[0m\u001b[0;34m(\u001b[0m\u001b[0;34m)\u001b[0m\u001b[0;34m)\u001b[0m\u001b[0;34m:\u001b[0m\u001b[0;34m\u001b[0m\u001b[0;34m\u001b[0m\u001b[0m\n\u001b[0;32m----> 8\u001b[0;31m         \u001b[0mpredictions\u001b[0m \u001b[0;34m=\u001b[0m \u001b[0mpredict_FUDNet_DR_TEIT\u001b[0m\u001b[0;34m(\u001b[0m\u001b[0mdata\u001b[0m\u001b[0;34m,\u001b[0m \u001b[0mk\u001b[0m\u001b[0;34m=\u001b[0m\u001b[0;36m500\u001b[0m\u001b[0;34m)\u001b[0m\u001b[0;34m\u001b[0m\u001b[0;34m\u001b[0m\u001b[0m\n\u001b[0m\u001b[1;32m      9\u001b[0m         \u001b[0mactual_doc\u001b[0m \u001b[0;34m=\u001b[0m \u001b[0mdata\u001b[0m\u001b[0;34m[\u001b[0m\u001b[0;34m'current_doc'\u001b[0m\u001b[0;34m]\u001b[0m\u001b[0;34m\u001b[0m\u001b[0;34m\u001b[0m\u001b[0m\n\u001b[1;32m     10\u001b[0m         \u001b[0mranks\u001b[0m\u001b[0;34m.\u001b[0m\u001b[0mappend\u001b[0m\u001b[0;34m(\u001b[0m\u001b[0;36m1\u001b[0m \u001b[0;34m/\u001b[0m \u001b[0;34m(\u001b[0m\u001b[0mpredictions\u001b[0m\u001b[0;34m.\u001b[0m\u001b[0mindex\u001b[0m\u001b[0;34m(\u001b[0m\u001b[0mactual_doc\u001b[0m\u001b[0;34m)\u001b[0m \u001b[0;34m+\u001b[0m \u001b[0;36m1\u001b[0m\u001b[0;34m)\u001b[0m\u001b[0;34m)\u001b[0m\u001b[0;34m\u001b[0m\u001b[0;34m\u001b[0m\u001b[0m\n",
            "\u001b[0;32m<ipython-input-88-249f72cb4912>\u001b[0m in \u001b[0;36mpredict_FUDNet_DR_TEIT\u001b[0;34m(data, k)\u001b[0m\n\u001b[1;32m      5\u001b[0m \u001b[0;34m\u001b[0m\u001b[0m\n\u001b[1;32m      6\u001b[0m     \u001b[0;32mif\u001b[0m \u001b[0mis_followup\u001b[0m\u001b[0;34m:\u001b[0m\u001b[0;34m\u001b[0m\u001b[0;34m\u001b[0m\u001b[0m\n\u001b[0;32m----> 7\u001b[0;31m         \u001b[0mdr_scores\u001b[0m\u001b[0;34m,\u001b[0m \u001b[0mdr_predictions\u001b[0m \u001b[0;34m=\u001b[0m \u001b[0mpredict_DR_TEIT\u001b[0m\u001b[0;34m(\u001b[0m\u001b[0;34m[\u001b[0m\u001b[0mdata\u001b[0m\u001b[0;34m[\u001b[0m\u001b[0;34m'prev_answer'\u001b[0m\u001b[0;34m]\u001b[0m\u001b[0;34m,\u001b[0m \u001b[0mdata\u001b[0m\u001b[0;34m[\u001b[0m\u001b[0;34m'question'\u001b[0m\u001b[0;34m]\u001b[0m\u001b[0;34m,\u001b[0m \u001b[0mdata\u001b[0m\u001b[0;34m[\u001b[0m\u001b[0;34m'history'\u001b[0m\u001b[0;34m]\u001b[0m\u001b[0;34m]\u001b[0m\u001b[0;34m,\u001b[0m \u001b[0mk\u001b[0m\u001b[0;34m=\u001b[0m\u001b[0mk\u001b[0m\u001b[0;34m)\u001b[0m\u001b[0;34m\u001b[0m\u001b[0;34m\u001b[0m\u001b[0m\n\u001b[0m\u001b[1;32m      8\u001b[0m         \u001b[0;32mreturn\u001b[0m \u001b[0mdr_predictions\u001b[0m\u001b[0;34m\u001b[0m\u001b[0;34m\u001b[0m\u001b[0m\n\u001b[1;32m      9\u001b[0m     \u001b[0;32melse\u001b[0m\u001b[0;34m:\u001b[0m\u001b[0;34m\u001b[0m\u001b[0;34m\u001b[0m\u001b[0m\n",
            "\u001b[0;32m<ipython-input-91-4e20684b4bfc>\u001b[0m in \u001b[0;36mpredict_DR_TEIT\u001b[0;34m(queries, k, alpha)\u001b[0m\n\u001b[1;32m     14\u001b[0m     \u001b[0mcoef_sum\u001b[0m \u001b[0;34m=\u001b[0m \u001b[0;36m0\u001b[0m\u001b[0;34m\u001b[0m\u001b[0;34m\u001b[0m\u001b[0m\n\u001b[1;32m     15\u001b[0m     \u001b[0;32mfor\u001b[0m \u001b[0mi\u001b[0m\u001b[0;34m,\u001b[0m \u001b[0mquery\u001b[0m \u001b[0;32min\u001b[0m \u001b[0menumerate\u001b[0m\u001b[0;34m(\u001b[0m\u001b[0mqueries\u001b[0m\u001b[0;34m)\u001b[0m\u001b[0;34m:\u001b[0m\u001b[0;34m\u001b[0m\u001b[0;34m\u001b[0m\u001b[0m\n\u001b[0;32m---> 16\u001b[0;31m         \u001b[0mquery_embd\u001b[0m \u001b[0;34m=\u001b[0m \u001b[0mget_embeddings\u001b[0m\u001b[0;34m(\u001b[0m\u001b[0mquery\u001b[0m\u001b[0;34m)\u001b[0m\u001b[0;34m\u001b[0m\u001b[0;34m\u001b[0m\u001b[0m\n\u001b[0m\u001b[1;32m     17\u001b[0m         query_sim = list(map(lambda x: np.dot(x, query_embd) /\n\u001b[1;32m     18\u001b[0m                             \u001b[0;34m(\u001b[0m\u001b[0mnp\u001b[0m\u001b[0;34m.\u001b[0m\u001b[0mlinalg\u001b[0m\u001b[0;34m.\u001b[0m\u001b[0mnorm\u001b[0m\u001b[0;34m(\u001b[0m\u001b[0mquery_embd\u001b[0m\u001b[0;34m)\u001b[0m \u001b[0;34m*\u001b[0m \u001b[0mnp\u001b[0m\u001b[0;34m.\u001b[0m\u001b[0mlinalg\u001b[0m\u001b[0;34m.\u001b[0m\u001b[0mnorm\u001b[0m\u001b[0;34m(\u001b[0m\u001b[0mx\u001b[0m\u001b[0;34m)\u001b[0m\u001b[0;34m)\u001b[0m\u001b[0;34m,\u001b[0m\u001b[0;34m\u001b[0m\u001b[0;34m\u001b[0m\u001b[0m\n",
            "\u001b[0;32m<ipython-input-8-3eece1f5e79c>\u001b[0m in \u001b[0;36mget_embeddings\u001b[0;34m(sentece)\u001b[0m\n\u001b[1;32m     11\u001b[0m                                 padding=True)\n\u001b[1;32m     12\u001b[0m     \u001b[0;32mwith\u001b[0m \u001b[0mtorch\u001b[0m\u001b[0;34m.\u001b[0m\u001b[0mno_grad\u001b[0m\u001b[0;34m(\u001b[0m\u001b[0;34m)\u001b[0m\u001b[0;34m:\u001b[0m\u001b[0;34m\u001b[0m\u001b[0;34m\u001b[0m\u001b[0m\n\u001b[0;32m---> 13\u001b[0;31m         \u001b[0membeddings\u001b[0m \u001b[0;34m=\u001b[0m \u001b[0mmodel\u001b[0m\u001b[0;34m(\u001b[0m\u001b[0;34m**\u001b[0m\u001b[0mtokenized\u001b[0m\u001b[0;34m)\u001b[0m\u001b[0;34m\u001b[0m\u001b[0;34m\u001b[0m\u001b[0m\n\u001b[0m\u001b[1;32m     14\u001b[0m \u001b[0;34m\u001b[0m\u001b[0m\n\u001b[1;32m     15\u001b[0m     \u001b[0;32mreturn\u001b[0m \u001b[0mnp\u001b[0m\u001b[0;34m.\u001b[0m\u001b[0msqueeze\u001b[0m\u001b[0;34m(\u001b[0m\u001b[0mnp\u001b[0m\u001b[0;34m.\u001b[0m\u001b[0marray\u001b[0m\u001b[0;34m(\u001b[0m\u001b[0membeddings\u001b[0m\u001b[0;34m.\u001b[0m\u001b[0mpooler_output\u001b[0m\u001b[0;34m)\u001b[0m\u001b[0;34m)\u001b[0m\u001b[0;34m\u001b[0m\u001b[0;34m\u001b[0m\u001b[0m\n",
            "\u001b[0;32m/usr/local/lib/python3.7/dist-packages/torch/nn/modules/module.py\u001b[0m in \u001b[0;36m_call_impl\u001b[0;34m(self, *input, **kwargs)\u001b[0m\n\u001b[1;32m   1128\u001b[0m         if not (self._backward_hooks or self._forward_hooks or self._forward_pre_hooks or _global_backward_hooks\n\u001b[1;32m   1129\u001b[0m                 or _global_forward_hooks or _global_forward_pre_hooks):\n\u001b[0;32m-> 1130\u001b[0;31m             \u001b[0;32mreturn\u001b[0m \u001b[0mforward_call\u001b[0m\u001b[0;34m(\u001b[0m\u001b[0;34m*\u001b[0m\u001b[0minput\u001b[0m\u001b[0;34m,\u001b[0m \u001b[0;34m**\u001b[0m\u001b[0mkwargs\u001b[0m\u001b[0;34m)\u001b[0m\u001b[0;34m\u001b[0m\u001b[0;34m\u001b[0m\u001b[0m\n\u001b[0m\u001b[1;32m   1131\u001b[0m         \u001b[0;31m# Do not call functions when jit is used\u001b[0m\u001b[0;34m\u001b[0m\u001b[0;34m\u001b[0m\u001b[0;34m\u001b[0m\u001b[0m\n\u001b[1;32m   1132\u001b[0m         \u001b[0mfull_backward_hooks\u001b[0m\u001b[0;34m,\u001b[0m \u001b[0mnon_full_backward_hooks\u001b[0m \u001b[0;34m=\u001b[0m \u001b[0;34m[\u001b[0m\u001b[0;34m]\u001b[0m\u001b[0;34m,\u001b[0m \u001b[0;34m[\u001b[0m\u001b[0;34m]\u001b[0m\u001b[0;34m\u001b[0m\u001b[0;34m\u001b[0m\u001b[0m\n",
            "\u001b[0;32m/usr/local/lib/python3.7/dist-packages/transformers/models/bert/modeling_bert.py\u001b[0m in \u001b[0;36mforward\u001b[0;34m(self, input_ids, attention_mask, token_type_ids, position_ids, head_mask, inputs_embeds, encoder_hidden_states, encoder_attention_mask, past_key_values, use_cache, output_attentions, output_hidden_states, return_dict)\u001b[0m\n\u001b[1;32m   1004\u001b[0m             \u001b[0moutput_attentions\u001b[0m\u001b[0;34m=\u001b[0m\u001b[0moutput_attentions\u001b[0m\u001b[0;34m,\u001b[0m\u001b[0;34m\u001b[0m\u001b[0;34m\u001b[0m\u001b[0m\n\u001b[1;32m   1005\u001b[0m             \u001b[0moutput_hidden_states\u001b[0m\u001b[0;34m=\u001b[0m\u001b[0moutput_hidden_states\u001b[0m\u001b[0;34m,\u001b[0m\u001b[0;34m\u001b[0m\u001b[0;34m\u001b[0m\u001b[0m\n\u001b[0;32m-> 1006\u001b[0;31m             \u001b[0mreturn_dict\u001b[0m\u001b[0;34m=\u001b[0m\u001b[0mreturn_dict\u001b[0m\u001b[0;34m,\u001b[0m\u001b[0;34m\u001b[0m\u001b[0;34m\u001b[0m\u001b[0m\n\u001b[0m\u001b[1;32m   1007\u001b[0m         )\n\u001b[1;32m   1008\u001b[0m         \u001b[0msequence_output\u001b[0m \u001b[0;34m=\u001b[0m \u001b[0mencoder_outputs\u001b[0m\u001b[0;34m[\u001b[0m\u001b[0;36m0\u001b[0m\u001b[0;34m]\u001b[0m\u001b[0;34m\u001b[0m\u001b[0;34m\u001b[0m\u001b[0m\n",
            "\u001b[0;32m/usr/local/lib/python3.7/dist-packages/torch/nn/modules/module.py\u001b[0m in \u001b[0;36m_call_impl\u001b[0;34m(self, *input, **kwargs)\u001b[0m\n\u001b[1;32m   1128\u001b[0m         if not (self._backward_hooks or self._forward_hooks or self._forward_pre_hooks or _global_backward_hooks\n\u001b[1;32m   1129\u001b[0m                 or _global_forward_hooks or _global_forward_pre_hooks):\n\u001b[0;32m-> 1130\u001b[0;31m             \u001b[0;32mreturn\u001b[0m \u001b[0mforward_call\u001b[0m\u001b[0;34m(\u001b[0m\u001b[0;34m*\u001b[0m\u001b[0minput\u001b[0m\u001b[0;34m,\u001b[0m \u001b[0;34m**\u001b[0m\u001b[0mkwargs\u001b[0m\u001b[0;34m)\u001b[0m\u001b[0;34m\u001b[0m\u001b[0;34m\u001b[0m\u001b[0m\n\u001b[0m\u001b[1;32m   1131\u001b[0m         \u001b[0;31m# Do not call functions when jit is used\u001b[0m\u001b[0;34m\u001b[0m\u001b[0;34m\u001b[0m\u001b[0;34m\u001b[0m\u001b[0m\n\u001b[1;32m   1132\u001b[0m         \u001b[0mfull_backward_hooks\u001b[0m\u001b[0;34m,\u001b[0m \u001b[0mnon_full_backward_hooks\u001b[0m \u001b[0;34m=\u001b[0m \u001b[0;34m[\u001b[0m\u001b[0;34m]\u001b[0m\u001b[0;34m,\u001b[0m \u001b[0;34m[\u001b[0m\u001b[0;34m]\u001b[0m\u001b[0;34m\u001b[0m\u001b[0;34m\u001b[0m\u001b[0m\n",
            "\u001b[0;32m/usr/local/lib/python3.7/dist-packages/transformers/models/bert/modeling_bert.py\u001b[0m in \u001b[0;36mforward\u001b[0;34m(self, hidden_states, attention_mask, head_mask, encoder_hidden_states, encoder_attention_mask, past_key_values, use_cache, output_attentions, output_hidden_states, return_dict)\u001b[0m\n\u001b[1;32m    590\u001b[0m                     \u001b[0mencoder_attention_mask\u001b[0m\u001b[0;34m,\u001b[0m\u001b[0;34m\u001b[0m\u001b[0;34m\u001b[0m\u001b[0m\n\u001b[1;32m    591\u001b[0m                     \u001b[0mpast_key_value\u001b[0m\u001b[0;34m,\u001b[0m\u001b[0;34m\u001b[0m\u001b[0;34m\u001b[0m\u001b[0m\n\u001b[0;32m--> 592\u001b[0;31m                     \u001b[0moutput_attentions\u001b[0m\u001b[0;34m,\u001b[0m\u001b[0;34m\u001b[0m\u001b[0;34m\u001b[0m\u001b[0m\n\u001b[0m\u001b[1;32m    593\u001b[0m                 )\n\u001b[1;32m    594\u001b[0m \u001b[0;34m\u001b[0m\u001b[0m\n",
            "\u001b[0;32m/usr/local/lib/python3.7/dist-packages/torch/nn/modules/module.py\u001b[0m in \u001b[0;36m_call_impl\u001b[0;34m(self, *input, **kwargs)\u001b[0m\n\u001b[1;32m   1128\u001b[0m         if not (self._backward_hooks or self._forward_hooks or self._forward_pre_hooks or _global_backward_hooks\n\u001b[1;32m   1129\u001b[0m                 or _global_forward_hooks or _global_forward_pre_hooks):\n\u001b[0;32m-> 1130\u001b[0;31m             \u001b[0;32mreturn\u001b[0m \u001b[0mforward_call\u001b[0m\u001b[0;34m(\u001b[0m\u001b[0;34m*\u001b[0m\u001b[0minput\u001b[0m\u001b[0;34m,\u001b[0m \u001b[0;34m**\u001b[0m\u001b[0mkwargs\u001b[0m\u001b[0;34m)\u001b[0m\u001b[0;34m\u001b[0m\u001b[0;34m\u001b[0m\u001b[0m\n\u001b[0m\u001b[1;32m   1131\u001b[0m         \u001b[0;31m# Do not call functions when jit is used\u001b[0m\u001b[0;34m\u001b[0m\u001b[0;34m\u001b[0m\u001b[0;34m\u001b[0m\u001b[0m\n\u001b[1;32m   1132\u001b[0m         \u001b[0mfull_backward_hooks\u001b[0m\u001b[0;34m,\u001b[0m \u001b[0mnon_full_backward_hooks\u001b[0m \u001b[0;34m=\u001b[0m \u001b[0;34m[\u001b[0m\u001b[0;34m]\u001b[0m\u001b[0;34m,\u001b[0m \u001b[0;34m[\u001b[0m\u001b[0;34m]\u001b[0m\u001b[0;34m\u001b[0m\u001b[0;34m\u001b[0m\u001b[0m\n",
            "\u001b[0;32m/usr/local/lib/python3.7/dist-packages/transformers/models/bert/modeling_bert.py\u001b[0m in \u001b[0;36mforward\u001b[0;34m(self, hidden_states, attention_mask, head_mask, encoder_hidden_states, encoder_attention_mask, past_key_value, output_attentions)\u001b[0m\n\u001b[1;32m    512\u001b[0m \u001b[0;34m\u001b[0m\u001b[0m\n\u001b[1;32m    513\u001b[0m         layer_output = apply_chunking_to_forward(\n\u001b[0;32m--> 514\u001b[0;31m             \u001b[0mself\u001b[0m\u001b[0;34m.\u001b[0m\u001b[0mfeed_forward_chunk\u001b[0m\u001b[0;34m,\u001b[0m \u001b[0mself\u001b[0m\u001b[0;34m.\u001b[0m\u001b[0mchunk_size_feed_forward\u001b[0m\u001b[0;34m,\u001b[0m \u001b[0mself\u001b[0m\u001b[0;34m.\u001b[0m\u001b[0mseq_len_dim\u001b[0m\u001b[0;34m,\u001b[0m \u001b[0mattention_output\u001b[0m\u001b[0;34m\u001b[0m\u001b[0;34m\u001b[0m\u001b[0m\n\u001b[0m\u001b[1;32m    515\u001b[0m         )\n\u001b[1;32m    516\u001b[0m         \u001b[0moutputs\u001b[0m \u001b[0;34m=\u001b[0m \u001b[0;34m(\u001b[0m\u001b[0mlayer_output\u001b[0m\u001b[0;34m,\u001b[0m\u001b[0;34m)\u001b[0m \u001b[0;34m+\u001b[0m \u001b[0moutputs\u001b[0m\u001b[0;34m\u001b[0m\u001b[0;34m\u001b[0m\u001b[0m\n",
            "\u001b[0;32m/usr/local/lib/python3.7/dist-packages/transformers/modeling_utils.py\u001b[0m in \u001b[0;36mapply_chunking_to_forward\u001b[0;34m(forward_fn, chunk_size, chunk_dim, *input_tensors)\u001b[0m\n\u001b[1;32m   2470\u001b[0m         \u001b[0;32mreturn\u001b[0m \u001b[0mtorch\u001b[0m\u001b[0;34m.\u001b[0m\u001b[0mcat\u001b[0m\u001b[0;34m(\u001b[0m\u001b[0moutput_chunks\u001b[0m\u001b[0;34m,\u001b[0m \u001b[0mdim\u001b[0m\u001b[0;34m=\u001b[0m\u001b[0mchunk_dim\u001b[0m\u001b[0;34m)\u001b[0m\u001b[0;34m\u001b[0m\u001b[0;34m\u001b[0m\u001b[0m\n\u001b[1;32m   2471\u001b[0m \u001b[0;34m\u001b[0m\u001b[0m\n\u001b[0;32m-> 2472\u001b[0;31m     \u001b[0;32mreturn\u001b[0m \u001b[0mforward_fn\u001b[0m\u001b[0;34m(\u001b[0m\u001b[0;34m*\u001b[0m\u001b[0minput_tensors\u001b[0m\u001b[0;34m)\u001b[0m\u001b[0;34m\u001b[0m\u001b[0;34m\u001b[0m\u001b[0m\n\u001b[0m",
            "\u001b[0;32m/usr/local/lib/python3.7/dist-packages/transformers/models/bert/modeling_bert.py\u001b[0m in \u001b[0;36mfeed_forward_chunk\u001b[0;34m(self, attention_output)\u001b[0m\n\u001b[1;32m    523\u001b[0m \u001b[0;34m\u001b[0m\u001b[0m\n\u001b[1;32m    524\u001b[0m     \u001b[0;32mdef\u001b[0m \u001b[0mfeed_forward_chunk\u001b[0m\u001b[0;34m(\u001b[0m\u001b[0mself\u001b[0m\u001b[0;34m,\u001b[0m \u001b[0mattention_output\u001b[0m\u001b[0;34m)\u001b[0m\u001b[0;34m:\u001b[0m\u001b[0;34m\u001b[0m\u001b[0;34m\u001b[0m\u001b[0m\n\u001b[0;32m--> 525\u001b[0;31m         \u001b[0mintermediate_output\u001b[0m \u001b[0;34m=\u001b[0m \u001b[0mself\u001b[0m\u001b[0;34m.\u001b[0m\u001b[0mintermediate\u001b[0m\u001b[0;34m(\u001b[0m\u001b[0mattention_output\u001b[0m\u001b[0;34m)\u001b[0m\u001b[0;34m\u001b[0m\u001b[0;34m\u001b[0m\u001b[0m\n\u001b[0m\u001b[1;32m    526\u001b[0m         \u001b[0mlayer_output\u001b[0m \u001b[0;34m=\u001b[0m \u001b[0mself\u001b[0m\u001b[0;34m.\u001b[0m\u001b[0moutput\u001b[0m\u001b[0;34m(\u001b[0m\u001b[0mintermediate_output\u001b[0m\u001b[0;34m,\u001b[0m \u001b[0mattention_output\u001b[0m\u001b[0;34m)\u001b[0m\u001b[0;34m\u001b[0m\u001b[0;34m\u001b[0m\u001b[0m\n\u001b[1;32m    527\u001b[0m         \u001b[0;32mreturn\u001b[0m \u001b[0mlayer_output\u001b[0m\u001b[0;34m\u001b[0m\u001b[0;34m\u001b[0m\u001b[0m\n",
            "\u001b[0;32m/usr/local/lib/python3.7/dist-packages/torch/nn/modules/module.py\u001b[0m in \u001b[0;36m_call_impl\u001b[0;34m(self, *input, **kwargs)\u001b[0m\n\u001b[1;32m   1128\u001b[0m         if not (self._backward_hooks or self._forward_hooks or self._forward_pre_hooks or _global_backward_hooks\n\u001b[1;32m   1129\u001b[0m                 or _global_forward_hooks or _global_forward_pre_hooks):\n\u001b[0;32m-> 1130\u001b[0;31m             \u001b[0;32mreturn\u001b[0m \u001b[0mforward_call\u001b[0m\u001b[0;34m(\u001b[0m\u001b[0;34m*\u001b[0m\u001b[0minput\u001b[0m\u001b[0;34m,\u001b[0m \u001b[0;34m**\u001b[0m\u001b[0mkwargs\u001b[0m\u001b[0;34m)\u001b[0m\u001b[0;34m\u001b[0m\u001b[0;34m\u001b[0m\u001b[0m\n\u001b[0m\u001b[1;32m   1131\u001b[0m         \u001b[0;31m# Do not call functions when jit is used\u001b[0m\u001b[0;34m\u001b[0m\u001b[0;34m\u001b[0m\u001b[0;34m\u001b[0m\u001b[0m\n\u001b[1;32m   1132\u001b[0m         \u001b[0mfull_backward_hooks\u001b[0m\u001b[0;34m,\u001b[0m \u001b[0mnon_full_backward_hooks\u001b[0m \u001b[0;34m=\u001b[0m \u001b[0;34m[\u001b[0m\u001b[0;34m]\u001b[0m\u001b[0;34m,\u001b[0m \u001b[0;34m[\u001b[0m\u001b[0;34m]\u001b[0m\u001b[0;34m\u001b[0m\u001b[0;34m\u001b[0m\u001b[0m\n",
            "\u001b[0;32m/usr/local/lib/python3.7/dist-packages/transformers/models/bert/modeling_bert.py\u001b[0m in \u001b[0;36mforward\u001b[0;34m(self, hidden_states)\u001b[0m\n\u001b[1;32m    424\u001b[0m \u001b[0;34m\u001b[0m\u001b[0m\n\u001b[1;32m    425\u001b[0m     \u001b[0;32mdef\u001b[0m \u001b[0mforward\u001b[0m\u001b[0;34m(\u001b[0m\u001b[0mself\u001b[0m\u001b[0;34m,\u001b[0m \u001b[0mhidden_states\u001b[0m\u001b[0;34m)\u001b[0m\u001b[0;34m:\u001b[0m\u001b[0;34m\u001b[0m\u001b[0;34m\u001b[0m\u001b[0m\n\u001b[0;32m--> 426\u001b[0;31m         \u001b[0mhidden_states\u001b[0m \u001b[0;34m=\u001b[0m \u001b[0mself\u001b[0m\u001b[0;34m.\u001b[0m\u001b[0mdense\u001b[0m\u001b[0;34m(\u001b[0m\u001b[0mhidden_states\u001b[0m\u001b[0;34m)\u001b[0m\u001b[0;34m\u001b[0m\u001b[0;34m\u001b[0m\u001b[0m\n\u001b[0m\u001b[1;32m    427\u001b[0m         \u001b[0mhidden_states\u001b[0m \u001b[0;34m=\u001b[0m \u001b[0mself\u001b[0m\u001b[0;34m.\u001b[0m\u001b[0mintermediate_act_fn\u001b[0m\u001b[0;34m(\u001b[0m\u001b[0mhidden_states\u001b[0m\u001b[0;34m)\u001b[0m\u001b[0;34m\u001b[0m\u001b[0;34m\u001b[0m\u001b[0m\n\u001b[1;32m    428\u001b[0m         \u001b[0;32mreturn\u001b[0m \u001b[0mhidden_states\u001b[0m\u001b[0;34m\u001b[0m\u001b[0;34m\u001b[0m\u001b[0m\n",
            "\u001b[0;32m/usr/local/lib/python3.7/dist-packages/torch/nn/modules/module.py\u001b[0m in \u001b[0;36m_call_impl\u001b[0;34m(self, *input, **kwargs)\u001b[0m\n\u001b[1;32m   1128\u001b[0m         if not (self._backward_hooks or self._forward_hooks or self._forward_pre_hooks or _global_backward_hooks\n\u001b[1;32m   1129\u001b[0m                 or _global_forward_hooks or _global_forward_pre_hooks):\n\u001b[0;32m-> 1130\u001b[0;31m             \u001b[0;32mreturn\u001b[0m \u001b[0mforward_call\u001b[0m\u001b[0;34m(\u001b[0m\u001b[0;34m*\u001b[0m\u001b[0minput\u001b[0m\u001b[0;34m,\u001b[0m \u001b[0;34m**\u001b[0m\u001b[0mkwargs\u001b[0m\u001b[0;34m)\u001b[0m\u001b[0;34m\u001b[0m\u001b[0;34m\u001b[0m\u001b[0m\n\u001b[0m\u001b[1;32m   1131\u001b[0m         \u001b[0;31m# Do not call functions when jit is used\u001b[0m\u001b[0;34m\u001b[0m\u001b[0;34m\u001b[0m\u001b[0;34m\u001b[0m\u001b[0m\n\u001b[1;32m   1132\u001b[0m         \u001b[0mfull_backward_hooks\u001b[0m\u001b[0;34m,\u001b[0m \u001b[0mnon_full_backward_hooks\u001b[0m \u001b[0;34m=\u001b[0m \u001b[0;34m[\u001b[0m\u001b[0;34m]\u001b[0m\u001b[0;34m,\u001b[0m \u001b[0;34m[\u001b[0m\u001b[0;34m]\u001b[0m\u001b[0;34m\u001b[0m\u001b[0;34m\u001b[0m\u001b[0m\n",
            "\u001b[0;32m/usr/local/lib/python3.7/dist-packages/torch/nn/modules/linear.py\u001b[0m in \u001b[0;36mforward\u001b[0;34m(self, input)\u001b[0m\n\u001b[1;32m    112\u001b[0m \u001b[0;34m\u001b[0m\u001b[0m\n\u001b[1;32m    113\u001b[0m     \u001b[0;32mdef\u001b[0m \u001b[0mforward\u001b[0m\u001b[0;34m(\u001b[0m\u001b[0mself\u001b[0m\u001b[0;34m,\u001b[0m \u001b[0minput\u001b[0m\u001b[0;34m:\u001b[0m \u001b[0mTensor\u001b[0m\u001b[0;34m)\u001b[0m \u001b[0;34m->\u001b[0m \u001b[0mTensor\u001b[0m\u001b[0;34m:\u001b[0m\u001b[0;34m\u001b[0m\u001b[0;34m\u001b[0m\u001b[0m\n\u001b[0;32m--> 114\u001b[0;31m         \u001b[0;32mreturn\u001b[0m \u001b[0mF\u001b[0m\u001b[0;34m.\u001b[0m\u001b[0mlinear\u001b[0m\u001b[0;34m(\u001b[0m\u001b[0minput\u001b[0m\u001b[0;34m,\u001b[0m \u001b[0mself\u001b[0m\u001b[0;34m.\u001b[0m\u001b[0mweight\u001b[0m\u001b[0;34m,\u001b[0m \u001b[0mself\u001b[0m\u001b[0;34m.\u001b[0m\u001b[0mbias\u001b[0m\u001b[0;34m)\u001b[0m\u001b[0;34m\u001b[0m\u001b[0;34m\u001b[0m\u001b[0m\n\u001b[0m\u001b[1;32m    115\u001b[0m \u001b[0;34m\u001b[0m\u001b[0m\n\u001b[1;32m    116\u001b[0m     \u001b[0;32mdef\u001b[0m \u001b[0mextra_repr\u001b[0m\u001b[0;34m(\u001b[0m\u001b[0mself\u001b[0m\u001b[0;34m)\u001b[0m \u001b[0;34m->\u001b[0m \u001b[0mstr\u001b[0m\u001b[0;34m:\u001b[0m\u001b[0;34m\u001b[0m\u001b[0;34m\u001b[0m\u001b[0m\n",
            "\u001b[0;31mKeyboardInterrupt\u001b[0m: "
          ]
        }
      ],
      "source": [
        "print(test_loop(train_df, predict_FUDNet_DR_TEIT))"
      ]
    },
    {
      "cell_type": "code",
      "source": [
        "print(test_loop(train_df, predict_KNN_FUDNet_DR_TEIT))"
      ],
      "metadata": {
        "id": "SdGwYLfIxV3X"
      },
      "execution_count": null,
      "outputs": []
    },
    {
      "cell_type": "markdown",
      "metadata": {
        "id": "eH9vqWah_hFc"
      },
      "source": [
        "# Results\n",
        "\n",
        "At last we have resutls as follows:\n",
        "\n",
        "\n",
        "| Method | @1 | @5 | @10 | @50 | @100 | MRR (mean, var) |\n",
        "|:------:|:------:|:------:|:-------:|:-------:|:--------:|:---:|\n",
        "| IDF - vanilla | 13% | 30% | 39% | 64% | 83% | (0.22, 0.11) |\n",
        "| IDF - power-order | 15% | 31% | 41% | 65% | 83% | (0.23, 0.12) |\n",
        "| IDF - power-order (softmax) | 10.7% | 23% | 31% | 57.6% | 78% | (0.18, 0.09) |\n",
        "| IDF - self-attention | 13.9% | 29% | 38% | 62% | 82% | (0.22, 0.11) |\n",
        "| DR. TEIT | 61.6% | 86% | 91% | 96% | 98% | (0.72, 0.13) |\n",
        "| DR. TEIT (val) | 40.0% | 69.25% | 92.4% | 99% | 98% | (0.53, 0.16) |\n",
        "| FUDNet + DR. TEIT | 67% | 87% | 91% | 96% | 99% | (0.76, 0.12) |\n",
        "| FUDNet + DR. TEIT (val) | 48.2% | 75.48% | 82% | 93% | 99% | (0.60, 0.16) |"
      ]
    },
    {
      "cell_type": "markdown",
      "source": [
        "MRR: mean=0.7605851824924286, var=0.12850709866222307\n",
        "                Prec@(1) = 0.6706096451319381\n",
        "                Prec@(5) = 0.8698817106460418\n",
        "                Prec@(10) = 0.910828025477707\n",
        "                Prec@(50) = 0.9681528662420382\n",
        "                NUMBER_OF_SAMPLES = 1099"
      ],
      "metadata": {
        "id": "SczaywmN6Y0m"
      }
    },
    {
      "cell_type": "markdown",
      "metadata": {
        "id": "cJ3M9TEuFq_M"
      },
      "source": [
        "# drafts"
      ]
    },
    {
      "cell_type": "code",
      "source": [
        "def simple_fudnet_test():\n",
        "  data = {\"combined\": \" <SEP> Hello. how can you help me?\", \"label\": 0}\n",
        "  inputs = tokenize_function(data, prediction=True, cuda=True)\n",
        "  labels = torch.tensor([data['label']]).unsqueeze(0)  # Batch size 1\n",
        "  outputs = fudnet_model(**inputs)\n",
        "  prediction = torch.argmax(outputs.logits)\n",
        "  print(prediction)\n",
        "\n",
        "simple_test()"
      ],
      "metadata": {
        "id": "VxPrLsnz-ccc"
      },
      "execution_count": null,
      "outputs": []
    },
    {
      "cell_type": "code",
      "execution_count": null,
      "metadata": {
        "id": "TbPuutLoOvsK"
      },
      "outputs": [],
      "source": [
        "from transformers import AutoTokenizer, AutoModel, T5Tokenizer, T5EncoderModel\n",
        "import torch\n",
        "\n",
        "model_name = [\"setu4993/LaBSE\", \"t5-small\", \"bert-base-uncased\"][0]\n",
        "\n",
        "tokenizer = AutoTokenizer.from_pretrained(model_name)\n",
        "model = AutoModel.from_pretrained(model_name)\n",
        "\n",
        "# tokenizer = T5Tokenizer.from_pretrained(\"t5-base\")\n",
        "# model = T5EncoderModel.from_pretrained(\"t5-base\")\n",
        "\n",
        "inputs = tokenizer(\"Hello, my dog is cute\", return_tensors=\"pt\")\n",
        "outputs = model(**inputs)\n",
        "\n",
        "last_hidden_states = outputs.last_hidden_state\n",
        "print(\"inputs\", inputs)\n",
        "\n",
        "print(\"last_hidden_states\", last_hidden_states.shape)\n",
        "\n",
        "# pooler = outputs.pooler_output\n",
        "# print(\"pooler\",pooler.shape)\n",
        "# with torch.no_grad():\n",
        "#     print(np.squeeze(np.array(pooler)).shape)"
      ]
    },
    {
      "cell_type": "code",
      "execution_count": null,
      "metadata": {
        "id": "ZlFbxcxK3Ljs"
      },
      "outputs": [],
      "source": [
        "import numpy as np\n",
        "\n",
        "from utils import scaled_dot_product_attention\n",
        "\n",
        "inputs = tokenizer([\"Hello, my dog is cute\", \"Yes this is a beautiful dog and you can have it.\"], max_length=16, padding=\"max_length\", return_tensors=\"pt\")\n",
        "outputs = model(**inputs)\n",
        "\n",
        "query=last_hidden_states[0, :, :]\n",
        "key=last_hidden_states[1, :, :]\n",
        "value=last_hidden_states[1, :, :]\n",
        "\n",
        "context, attention = scaled_dot_product_attention(\n",
        "    query=query,\n",
        "    key=key,\n",
        "    value=value,\n",
        ")"
      ]
    },
    {
      "cell_type": "code",
      "execution_count": null,
      "metadata": {
        "id": "XQVqMhWX3Ljt",
        "outputId": "82a25d9c-062b-4718-d282-cb16d839aa3b"
      },
      "outputs": [
        {
          "data": {
            "text/plain": [
              "(torch.Size([16, 768]), torch.Size([16, 16]))"
            ]
          },
          "execution_count": 49,
          "metadata": {},
          "output_type": "execute_result"
        }
      ],
      "source": [
        "context.shape , attention.shape"
      ]
    },
    {
      "cell_type": "code",
      "execution_count": null,
      "metadata": {
        "id": "eGySpDFl3Lju",
        "outputId": "9a72f319-e934-4272-962c-6b5defd4c85b"
      },
      "outputs": [
        {
          "data": {
            "image/png": "[encoded data removed]",
            "text/plain": [
              "<Figure size 640x480 with 1 Axes>"
            ]
          },
          "metadata": {},
          "output_type": "display_data"
        }
      ],
      "source": [
        "import matplotlib.pyplot as plt\n",
        "import numpy as np\n",
        "\n",
        "with torch.no_grad():\n",
        "    plt.imshow(attention, interpolation='nearest')\n",
        "    plt.show()\n"
      ]
    },
    {
      "cell_type": "code",
      "execution_count": null,
      "metadata": {
        "id": "K0RaKNZY3Ljv",
        "outputId": "40a57ea1-25e6-4c09-933f-03aff38a8942"
      },
      "outputs": [
        {
          "data": {
            "text/plain": [
              "tensor([[4.1652e-05, 1.8743e-08, 4.3531e-15, 1.3554e-17, 2.0464e-16, 1.3552e-08,\n",
              "         9.9992e-01, 1.8685e-20, 2.9881e-23, 3.2375e-22, 4.0948e-22, 5.8909e-23,\n",
              "         5.1022e-18, 4.1652e-05, 1.0425e-15, 3.1295e-16],\n",
              "        [6.9659e-16, 5.0016e-07, 1.9475e-12, 6.0816e-15, 4.3889e-14, 1.0717e-07,\n",
              "         1.0000e+00, 1.2967e-17, 1.6856e-19, 1.3311e-18, 2.6679e-18, 2.0186e-19,\n",
              "         6.4972e-16, 6.9659e-16, 3.3120e-14, 1.4395e-14],\n",
              "        [2.8160e-17, 4.6376e-12, 3.3828e-09, 3.1156e-10, 7.6270e-09, 3.4791e-07,\n",
              "         1.0000e+00, 1.6709e-13, 7.2155e-15, 7.7347e-15, 2.2479e-14, 1.4072e-14,\n",
              "         3.9355e-12, 2.8160e-17, 7.8200e-14, 8.5553e-14],\n",
              "        [8.9966e-22, 3.2495e-17, 1.8656e-13, 6.4120e-14, 1.5420e-11, 2.0936e-09,\n",
              "         1.0000e+00, 3.8246e-18, 1.3870e-19, 3.8302e-19, 3.0957e-18, 2.5225e-19,\n",
              "         1.7452e-17, 8.9966e-22, 3.4182e-18, 3.9053e-18],\n",
              "        [1.0318e-33, 1.2762e-28, 2.2427e-30, 7.8236e-32, 1.9107e-27, 3.6965e-22,\n",
              "         1.0000e+00, 3.1281e-36, 1.3927e-38, 2.2895e-37, 1.5183e-36, 5.2110e-38,\n",
              "         4.2408e-35, 1.0318e-33, 5.6916e-34, 2.6557e-34],\n",
              "        [2.9877e-19, 1.8721e-15, 7.1188e-10, 7.5957e-10, 9.5682e-08, 1.9970e-06,\n",
              "         1.0000e+00, 8.9723e-14, 7.0886e-15, 7.2686e-15, 2.1089e-14, 9.9914e-15,\n",
              "         2.6498e-13, 2.9877e-19, 2.0165e-15, 2.6876e-15],\n",
              "        [7.4719e-22, 5.1469e-17, 6.6067e-16, 1.9406e-16, 2.8237e-13, 1.2238e-05,\n",
              "         9.9999e-01, 2.6902e-20, 6.5572e-22, 3.2489e-21, 8.4031e-21, 5.6765e-22,\n",
              "         3.0449e-20, 7.4719e-22, 4.7050e-20, 4.0429e-20],\n",
              "        [4.1652e-05, 1.8743e-08, 4.3531e-15, 1.3554e-17, 2.0464e-16, 1.3552e-08,\n",
              "         9.9992e-01, 1.8685e-20, 2.9880e-23, 3.2375e-22, 4.0949e-22, 5.8910e-23,\n",
              "         5.1022e-18, 4.1652e-05, 1.0425e-15, 3.1296e-16],\n",
              "        [5.9133e-15, 9.5168e-11, 2.9626e-09, 5.4552e-11, 8.0166e-10, 4.4084e-07,\n",
              "         1.0000e+00, 1.6482e-12, 5.3448e-14, 5.9957e-14, 2.1881e-13, 1.3077e-13,\n",
              "         1.2206e-11, 5.9133e-15, 5.7231e-07, 3.3679e-07],\n",
              "        [9.3829e-15, 1.1562e-10, 2.0312e-09, 3.8886e-11, 5.3428e-10, 3.4737e-07,\n",
              "         1.0000e+00, 1.2102e-12, 3.6069e-14, 4.4100e-14, 1.6976e-13, 9.6020e-14,\n",
              "         9.4887e-12, 9.3829e-15, 8.3791e-07, 5.1095e-07],\n",
              "        [5.2414e-15, 8.6201e-11, 1.4455e-09, 2.4929e-11, 3.8093e-10, 3.0065e-07,\n",
              "         1.0000e+00, 8.3030e-13, 2.2826e-14, 2.7789e-14, 1.2366e-13, 6.0846e-14,\n",
              "         5.6131e-12, 5.2414e-15, 1.0698e-06, 5.7978e-07],\n",
              "        [3.0958e-15, 4.6744e-11, 1.6457e-09, 2.8861e-11, 4.2559e-10, 2.4767e-07,\n",
              "         1.0000e+00, 8.3148e-13, 2.3863e-14, 2.9668e-14, 1.1722e-13, 6.3246e-14,\n",
              "         5.7814e-12, 3.0958e-15, 9.5961e-07, 4.9884e-07],\n",
              "        [1.8006e-14, 1.9729e-10, 1.4437e-09, 2.0318e-11, 2.4315e-10, 2.3768e-07,\n",
              "         1.0000e+00, 7.8998e-13, 1.9282e-14, 2.3731e-14, 1.0645e-13, 5.7221e-14,\n",
              "         6.2588e-12, 1.8006e-14, 2.6341e-06, 1.4341e-06],\n",
              "        [8.4964e-15, 1.3390e-10, 1.1086e-09, 1.4253e-11, 1.9078e-10, 2.0294e-07,\n",
              "         1.0000e+00, 6.0238e-13, 1.3977e-14, 1.6624e-14, 7.8173e-14, 3.9471e-14,\n",
              "         4.1144e-12, 8.4965e-15, 2.1830e-06, 1.1469e-06],\n",
              "        [2.4448e-14, 2.9755e-10, 1.9748e-09, 2.3722e-11, 2.6664e-10, 2.9164e-07,\n",
              "         9.9999e-01, 1.1013e-12, 2.8862e-14, 3.5822e-14, 1.4386e-13, 8.3851e-14,\n",
              "         9.6447e-12, 2.4448e-14, 4.6905e-06, 2.2014e-06],\n",
              "        [1.8272e-14, 2.1756e-10, 1.5898e-09, 2.3002e-11, 2.6720e-10, 2.2422e-07,\n",
              "         1.0000e+00, 9.2031e-13, 2.4502e-14, 3.0381e-14, 1.2275e-13, 7.0096e-14,\n",
              "         7.7049e-12, 1.8272e-14, 2.8986e-06, 1.6224e-06]],\n",
              "       grad_fn=<SoftmaxBackward0>)"
            ]
          },
          "execution_count": 46,
          "metadata": {},
          "output_type": "execute_result"
        }
      ],
      "source": [
        "attention"
      ]
    },
    {
      "cell_type": "code",
      "execution_count": null,
      "metadata": {
        "id": "9upZg7Ge3Ljw"
      },
      "outputs": [],
      "source": []
    }
  ],
  "metadata": {
    "accelerator": "GPU",
    "colab": {
      "collapsed_sections": [],
      "provenance": []
    },
    "gpuClass": "standard",
    "kernelspec": {
      "display_name": "Python 3",
      "language": "python",
      "name": "python3"
    },
    "language_info": {
      "codemirror_mode": {
        "name": "ipython",
        "version": 3
      },
      "file_extension": ".py",
      "mimetype": "text/x-python",
      "name": "python",
      "nbconvert_exporter": "python",
      "pygments_lexer": "ipython3",
      "version": "3.7.13"
    },
    "vscode": {
      "interpreter": {
        "hash": "31f2aee4e71d21fbe5cf8b01ff0e069b9275f58929596ceb00d14d90e3e16cd6"
      }
    },
    "widgets": {
      "application/vnd.jupyter.widget-state+json": {
        "b7278e64b54f4891aea42337379c57c6": {
          "model_module": "@jupyter-widgets/controls",
          "model_name": "HBoxModel",
          "model_module_version": "1.5.0",
          "state": {
            "_dom_classes": [],
            "_model_module": "@jupyter-widgets/controls",
            "_model_module_version": "1.5.0",
            "_model_name": "HBoxModel",
            "_view_count": null,
            "_view_module": "@jupyter-widgets/controls",
            "_view_module_version": "1.5.0",
            "_view_name": "HBoxView",
            "box_style": "",
            "children": [
              "IPY_MODEL_d93b8bf1b7174ead94d5e8b1ab27db70",
              "IPY_MODEL_394db11c4ad648ca8e11084e9e8025ce",
              "IPY_MODEL_351ba8c7bfed4026958d01cf5ed4c4ee"
            ],
            "layout": "IPY_MODEL_2b1c1506ab8447d0bf67e547a7a1904b"
          }
        },
        "d93b8bf1b7174ead94d5e8b1ab27db70": {
          "model_module": "@jupyter-widgets/controls",
          "model_name": "HTMLModel",
          "model_module_version": "1.5.0",
          "state": {
            "_dom_classes": [],
            "_model_module": "@jupyter-widgets/controls",
            "_model_module_version": "1.5.0",
            "_model_name": "HTMLModel",
            "_view_count": null,
            "_view_module": "@jupyter-widgets/controls",
            "_view_module_version": "1.5.0",
            "_view_name": "HTMLView",
            "description": "",
            "description_tooltip": null,
            "layout": "IPY_MODEL_9ff4760e32fe4fbdab9f0d3e5ba97e9f",
            "placeholder": "​",
            "style": "IPY_MODEL_ef55c807c0604169a3e37b44d15a81ac",
            "value": "Downloading: 100%"
          }
        },
        "394db11c4ad648ca8e11084e9e8025ce": {
          "model_module": "@jupyter-widgets/controls",
          "model_name": "FloatProgressModel",
          "model_module_version": "1.5.0",
          "state": {
            "_dom_classes": [],
            "_model_module": "@jupyter-widgets/controls",
            "_model_module_version": "1.5.0",
            "_model_name": "FloatProgressModel",
            "_view_count": null,
            "_view_module": "@jupyter-widgets/controls",
            "_view_module_version": "1.5.0",
            "_view_name": "ProgressView",
            "bar_style": "success",
            "description": "",
            "description_tooltip": null,
            "layout": "IPY_MODEL_c906d2c07f0f4db2a7c214b42bd52300",
            "max": 300,
            "min": 0,
            "orientation": "horizontal",
            "style": "IPY_MODEL_43a620f24816444597b447c27299cdcf",
            "value": 300
          }
        },
        "351ba8c7bfed4026958d01cf5ed4c4ee": {
          "model_module": "@jupyter-widgets/controls",
          "model_name": "HTMLModel",
          "model_module_version": "1.5.0",
          "state": {
            "_dom_classes": [],
            "_model_module": "@jupyter-widgets/controls",
            "_model_module_version": "1.5.0",
            "_model_name": "HTMLModel",
            "_view_count": null,
            "_view_module": "@jupyter-widgets/controls",
            "_view_module_version": "1.5.0",
            "_view_name": "HTMLView",
            "description": "",
            "description_tooltip": null,
            "layout": "IPY_MODEL_a83943ffb0d7402ba8eb904958976c7a",
            "placeholder": "​",
            "style": "IPY_MODEL_4d786c56de754f1cb0e1753c29c441fc",
            "value": " 300/300 [00:00&lt;00:00, 6.13kB/s]"
          }
        },
        "2b1c1506ab8447d0bf67e547a7a1904b": {
          "model_module": "@jupyter-widgets/base",
          "model_name": "LayoutModel",
          "model_module_version": "1.2.0",
          "state": {
            "_model_module": "@jupyter-widgets/base",
            "_model_module_version": "1.2.0",
            "_model_name": "LayoutModel",
            "_view_count": null,
            "_view_module": "@jupyter-widgets/base",
            "_view_module_version": "1.2.0",
            "_view_name": "LayoutView",
            "align_content": null,
            "align_items": null,
            "align_self": null,
            "border": null,
            "bottom": null,
            "display": null,
            "flex": null,
            "flex_flow": null,
            "grid_area": null,
            "grid_auto_columns": null,
            "grid_auto_flow": null,
            "grid_auto_rows": null,
            "grid_column": null,
            "grid_gap": null,
            "grid_row": null,
            "grid_template_areas": null,
            "grid_template_columns": null,
            "grid_template_rows": null,
            "height": null,
            "justify_content": null,
            "justify_items": null,
            "left": null,
            "margin": null,
            "max_height": null,
            "max_width": null,
            "min_height": null,
            "min_width": null,
            "object_fit": null,
            "object_position": null,
            "order": null,
            "overflow": null,
            "overflow_x": null,
            "overflow_y": null,
            "padding": null,
            "right": null,
            "top": null,
            "visibility": null,
            "width": null
          }
        },
        "9ff4760e32fe4fbdab9f0d3e5ba97e9f": {
          "model_module": "@jupyter-widgets/base",
          "model_name": "LayoutModel",
          "model_module_version": "1.2.0",
          "state": {
            "_model_module": "@jupyter-widgets/base",
            "_model_module_version": "1.2.0",
            "_model_name": "LayoutModel",
            "_view_count": null,
            "_view_module": "@jupyter-widgets/base",
            "_view_module_version": "1.2.0",
            "_view_name": "LayoutView",
            "align_content": null,
            "align_items": null,
            "align_self": null,
            "border": null,
            "bottom": null,
            "display": null,
            "flex": null,
            "flex_flow": null,
            "grid_area": null,
            "grid_auto_columns": null,
            "grid_auto_flow": null,
            "grid_auto_rows": null,
            "grid_column": null,
            "grid_gap": null,
            "grid_row": null,
            "grid_template_areas": null,
            "grid_template_columns": null,
            "grid_template_rows": null,
            "height": null,
            "justify_content": null,
            "justify_items": null,
            "left": null,
            "margin": null,
            "max_height": null,
            "max_width": null,
            "min_height": null,
            "min_width": null,
            "object_fit": null,
            "object_position": null,
            "order": null,
            "overflow": null,
            "overflow_x": null,
            "overflow_y": null,
            "padding": null,
            "right": null,
            "top": null,
            "visibility": null,
            "width": null
          }
        },
        "ef55c807c0604169a3e37b44d15a81ac": {
          "model_module": "@jupyter-widgets/controls",
          "model_name": "DescriptionStyleModel",
          "model_module_version": "1.5.0",
          "state": {
            "_model_module": "@jupyter-widgets/controls",
            "_model_module_version": "1.5.0",
            "_model_name": "DescriptionStyleModel",
            "_view_count": null,
            "_view_module": "@jupyter-widgets/base",
            "_view_module_version": "1.2.0",
            "_view_name": "StyleView",
            "description_width": ""
          }
        },
        "c906d2c07f0f4db2a7c214b42bd52300": {
          "model_module": "@jupyter-widgets/base",
          "model_name": "LayoutModel",
          "model_module_version": "1.2.0",
          "state": {
            "_model_module": "@jupyter-widgets/base",
            "_model_module_version": "1.2.0",
            "_model_name": "LayoutModel",
            "_view_count": null,
            "_view_module": "@jupyter-widgets/base",
            "_view_module_version": "1.2.0",
            "_view_name": "LayoutView",
            "align_content": null,
            "align_items": null,
            "align_self": null,
            "border": null,
            "bottom": null,
            "display": null,
            "flex": null,
            "flex_flow": null,
            "grid_area": null,
            "grid_auto_columns": null,
            "grid_auto_flow": null,
            "grid_auto_rows": null,
            "grid_column": null,
            "grid_gap": null,
            "grid_row": null,
            "grid_template_areas": null,
            "grid_template_columns": null,
            "grid_template_rows": null,
            "height": null,
            "justify_content": null,
            "justify_items": null,
            "left": null,
            "margin": null,
            "max_height": null,
            "max_width": null,
            "min_height": null,
            "min_width": null,
            "object_fit": null,
            "object_position": null,
            "order": null,
            "overflow": null,
            "overflow_x": null,
            "overflow_y": null,
            "padding": null,
            "right": null,
            "top": null,
            "visibility": null,
            "width": null
          }
        },
        "43a620f24816444597b447c27299cdcf": {
          "model_module": "@jupyter-widgets/controls",
          "model_name": "ProgressStyleModel",
          "model_module_version": "1.5.0",
          "state": {
            "_model_module": "@jupyter-widgets/controls",
            "_model_module_version": "1.5.0",
            "_model_name": "ProgressStyleModel",
            "_view_count": null,
            "_view_module": "@jupyter-widgets/base",
            "_view_module_version": "1.2.0",
            "_view_name": "StyleView",
            "bar_color": null,
            "description_width": ""
          }
        },
        "a83943ffb0d7402ba8eb904958976c7a": {
          "model_module": "@jupyter-widgets/base",
          "model_name": "LayoutModel",
          "model_module_version": "1.2.0",
          "state": {
            "_model_module": "@jupyter-widgets/base",
            "_model_module_version": "1.2.0",
            "_model_name": "LayoutModel",
            "_view_count": null,
            "_view_module": "@jupyter-widgets/base",
            "_view_module_version": "1.2.0",
            "_view_name": "LayoutView",
            "align_content": null,
            "align_items": null,
            "align_self": null,
            "border": null,
            "bottom": null,
            "display": null,
            "flex": null,
            "flex_flow": null,
            "grid_area": null,
            "grid_auto_columns": null,
            "grid_auto_flow": null,
            "grid_auto_rows": null,
            "grid_column": null,
            "grid_gap": null,
            "grid_row": null,
            "grid_template_areas": null,
            "grid_template_columns": null,
            "grid_template_rows": null,
            "height": null,
            "justify_content": null,
            "justify_items": null,
            "left": null,
            "margin": null,
            "max_height": null,
            "max_width": null,
            "min_height": null,
            "min_width": null,
            "object_fit": null,
            "object_position": null,
            "order": null,
            "overflow": null,
            "overflow_x": null,
            "overflow_y": null,
            "padding": null,
            "right": null,
            "top": null,
            "visibility": null,
            "width": null
          }
        },
        "4d786c56de754f1cb0e1753c29c441fc": {
          "model_module": "@jupyter-widgets/controls",
          "model_name": "DescriptionStyleModel",
          "model_module_version": "1.5.0",
          "state": {
            "_model_module": "@jupyter-widgets/controls",
            "_model_module_version": "1.5.0",
            "_model_name": "DescriptionStyleModel",
            "_view_count": null,
            "_view_module": "@jupyter-widgets/base",
            "_view_module_version": "1.2.0",
            "_view_name": "StyleView",
            "description_width": ""
          }
        },
        "e6c9151eab1348bb87e753434ccfc3ef": {
          "model_module": "@jupyter-widgets/controls",
          "model_name": "HBoxModel",
          "model_module_version": "1.5.0",
          "state": {
            "_dom_classes": [],
            "_model_module": "@jupyter-widgets/controls",
            "_model_module_version": "1.5.0",
            "_model_name": "HBoxModel",
            "_view_count": null,
            "_view_module": "@jupyter-widgets/controls",
            "_view_module_version": "1.5.0",
            "_view_name": "HBoxView",
            "box_style": "",
            "children": [
              "IPY_MODEL_f9c21b7265724fc68b7c9cd1c49a9b14",
              "IPY_MODEL_17941ebf47bf4816b73e6af5768e49d6",
              "IPY_MODEL_a05e080873454a91a62b674312d291cf"
            ],
            "layout": "IPY_MODEL_28ebf812b32242d5addfe2dd3df4f863"
          }
        },
        "f9c21b7265724fc68b7c9cd1c49a9b14": {
          "model_module": "@jupyter-widgets/controls",
          "model_name": "HTMLModel",
          "model_module_version": "1.5.0",
          "state": {
            "_dom_classes": [],
            "_model_module": "@jupyter-widgets/controls",
            "_model_module_version": "1.5.0",
            "_model_name": "HTMLModel",
            "_view_count": null,
            "_view_module": "@jupyter-widgets/controls",
            "_view_module_version": "1.5.0",
            "_view_name": "HTMLView",
            "description": "",
            "description_tooltip": null,
            "layout": "IPY_MODEL_c7b928c0149b47f8908dfedcc73f88b0",
            "placeholder": "​",
            "style": "IPY_MODEL_300da6bacf734d20b4a1b9c5a348c80f",
            "value": "Downloading: 100%"
          }
        },
        "17941ebf47bf4816b73e6af5768e49d6": {
          "model_module": "@jupyter-widgets/controls",
          "model_name": "FloatProgressModel",
          "model_module_version": "1.5.0",
          "state": {
            "_dom_classes": [],
            "_model_module": "@jupyter-widgets/controls",
            "_model_module_version": "1.5.0",
            "_model_name": "FloatProgressModel",
            "_view_count": null,
            "_view_module": "@jupyter-widgets/controls",
            "_view_module_version": "1.5.0",
            "_view_name": "ProgressView",
            "bar_style": "success",
            "description": "",
            "description_tooltip": null,
            "layout": "IPY_MODEL_ac584dd27a944f379ea19ab904e3c7b8",
            "max": 5220781,
            "min": 0,
            "orientation": "horizontal",
            "style": "IPY_MODEL_bb73886785fa475a94d5e9533b763578",
            "value": 5220781
          }
        },
        "a05e080873454a91a62b674312d291cf": {
          "model_module": "@jupyter-widgets/controls",
          "model_name": "HTMLModel",
          "model_module_version": "1.5.0",
          "state": {
            "_dom_classes": [],
            "_model_module": "@jupyter-widgets/controls",
            "_model_module_version": "1.5.0",
            "_model_name": "HTMLModel",
            "_view_count": null,
            "_view_module": "@jupyter-widgets/controls",
            "_view_module_version": "1.5.0",
            "_view_name": "HTMLView",
            "description": "",
            "description_tooltip": null,
            "layout": "IPY_MODEL_aa272aeb7d0b41dcb02cad9aa3029372",
            "placeholder": "​",
            "style": "IPY_MODEL_c208ceeba10d401bbbf747f01bc2570b",
            "value": " 4.98M/4.98M [00:00&lt;00:00, 10.2MB/s]"
          }
        },
        "28ebf812b32242d5addfe2dd3df4f863": {
          "model_module": "@jupyter-widgets/base",
          "model_name": "LayoutModel",
          "model_module_version": "1.2.0",
          "state": {
            "_model_module": "@jupyter-widgets/base",
            "_model_module_version": "1.2.0",
            "_model_name": "LayoutModel",
            "_view_count": null,
            "_view_module": "@jupyter-widgets/base",
            "_view_module_version": "1.2.0",
            "_view_name": "LayoutView",
            "align_content": null,
            "align_items": null,
            "align_self": null,
            "border": null,
            "bottom": null,
            "display": null,
            "flex": null,
            "flex_flow": null,
            "grid_area": null,
            "grid_auto_columns": null,
            "grid_auto_flow": null,
            "grid_auto_rows": null,
            "grid_column": null,
            "grid_gap": null,
            "grid_row": null,
            "grid_template_areas": null,
            "grid_template_columns": null,
            "grid_template_rows": null,
            "height": null,
            "justify_content": null,
            "justify_items": null,
            "left": null,
            "margin": null,
            "max_height": null,
            "max_width": null,
            "min_height": null,
            "min_width": null,
            "object_fit": null,
            "object_position": null,
            "order": null,
            "overflow": null,
            "overflow_x": null,
            "overflow_y": null,
            "padding": null,
            "right": null,
            "top": null,
            "visibility": null,
            "width": null
          }
        },
        "c7b928c0149b47f8908dfedcc73f88b0": {
          "model_module": "@jupyter-widgets/base",
          "model_name": "LayoutModel",
          "model_module_version": "1.2.0",
          "state": {
            "_model_module": "@jupyter-widgets/base",
            "_model_module_version": "1.2.0",
            "_model_name": "LayoutModel",
            "_view_count": null,
            "_view_module": "@jupyter-widgets/base",
            "_view_module_version": "1.2.0",
            "_view_name": "LayoutView",
            "align_content": null,
            "align_items": null,
            "align_self": null,
            "border": null,
            "bottom": null,
            "display": null,
            "flex": null,
            "flex_flow": null,
            "grid_area": null,
            "grid_auto_columns": null,
            "grid_auto_flow": null,
            "grid_auto_rows": null,
            "grid_column": null,
            "grid_gap": null,
            "grid_row": null,
            "grid_template_areas": null,
            "grid_template_columns": null,
            "grid_template_rows": null,
            "height": null,
            "justify_content": null,
            "justify_items": null,
            "left": null,
            "margin": null,
            "max_height": null,
            "max_width": null,
            "min_height": null,
            "min_width": null,
            "object_fit": null,
            "object_position": null,
            "order": null,
            "overflow": null,
            "overflow_x": null,
            "overflow_y": null,
            "padding": null,
            "right": null,
            "top": null,
            "visibility": null,
            "width": null
          }
        },
        "300da6bacf734d20b4a1b9c5a348c80f": {
          "model_module": "@jupyter-widgets/controls",
          "model_name": "DescriptionStyleModel",
          "model_module_version": "1.5.0",
          "state": {
            "_model_module": "@jupyter-widgets/controls",
            "_model_module_version": "1.5.0",
            "_model_name": "DescriptionStyleModel",
            "_view_count": null,
            "_view_module": "@jupyter-widgets/base",
            "_view_module_version": "1.2.0",
            "_view_name": "StyleView",
            "description_width": ""
          }
        },
        "ac584dd27a944f379ea19ab904e3c7b8": {
          "model_module": "@jupyter-widgets/base",
          "model_name": "LayoutModel",
          "model_module_version": "1.2.0",
          "state": {
            "_model_module": "@jupyter-widgets/base",
            "_model_module_version": "1.2.0",
            "_model_name": "LayoutModel",
            "_view_count": null,
            "_view_module": "@jupyter-widgets/base",
            "_view_module_version": "1.2.0",
            "_view_name": "LayoutView",
            "align_content": null,
            "align_items": null,
            "align_self": null,
            "border": null,
            "bottom": null,
            "display": null,
            "flex": null,
            "flex_flow": null,
            "grid_area": null,
            "grid_auto_columns": null,
            "grid_auto_flow": null,
            "grid_auto_rows": null,
            "grid_column": null,
            "grid_gap": null,
            "grid_row": null,
            "grid_template_areas": null,
            "grid_template_columns": null,
            "grid_template_rows": null,
            "height": null,
            "justify_content": null,
            "justify_items": null,
            "left": null,
            "margin": null,
            "max_height": null,
            "max_width": null,
            "min_height": null,
            "min_width": null,
            "object_fit": null,
            "object_position": null,
            "order": null,
            "overflow": null,
            "overflow_x": null,
            "overflow_y": null,
            "padding": null,
            "right": null,
            "top": null,
            "visibility": null,
            "width": null
          }
        },
        "bb73886785fa475a94d5e9533b763578": {
          "model_module": "@jupyter-widgets/controls",
          "model_name": "ProgressStyleModel",
          "model_module_version": "1.5.0",
          "state": {
            "_model_module": "@jupyter-widgets/controls",
            "_model_module_version": "1.5.0",
            "_model_name": "ProgressStyleModel",
            "_view_count": null,
            "_view_module": "@jupyter-widgets/base",
            "_view_module_version": "1.2.0",
            "_view_name": "StyleView",
            "bar_color": null,
            "description_width": ""
          }
        },
        "aa272aeb7d0b41dcb02cad9aa3029372": {
          "model_module": "@jupyter-widgets/base",
          "model_name": "LayoutModel",
          "model_module_version": "1.2.0",
          "state": {
            "_model_module": "@jupyter-widgets/base",
            "_model_module_version": "1.2.0",
            "_model_name": "LayoutModel",
            "_view_count": null,
            "_view_module": "@jupyter-widgets/base",
            "_view_module_version": "1.2.0",
            "_view_name": "LayoutView",
            "align_content": null,
            "align_items": null,
            "align_self": null,
            "border": null,
            "bottom": null,
            "display": null,
            "flex": null,
            "flex_flow": null,
            "grid_area": null,
            "grid_auto_columns": null,
            "grid_auto_flow": null,
            "grid_auto_rows": null,
            "grid_column": null,
            "grid_gap": null,
            "grid_row": null,
            "grid_template_areas": null,
            "grid_template_columns": null,
            "grid_template_rows": null,
            "height": null,
            "justify_content": null,
            "justify_items": null,
            "left": null,
            "margin": null,
            "max_height": null,
            "max_width": null,
            "min_height": null,
            "min_width": null,
            "object_fit": null,
            "object_position": null,
            "order": null,
            "overflow": null,
            "overflow_x": null,
            "overflow_y": null,
            "padding": null,
            "right": null,
            "top": null,
            "visibility": null,
            "width": null
          }
        },
        "c208ceeba10d401bbbf747f01bc2570b": {
          "model_module": "@jupyter-widgets/controls",
          "model_name": "DescriptionStyleModel",
          "model_module_version": "1.5.0",
          "state": {
            "_model_module": "@jupyter-widgets/controls",
            "_model_module_version": "1.5.0",
            "_model_name": "DescriptionStyleModel",
            "_view_count": null,
            "_view_module": "@jupyter-widgets/base",
            "_view_module_version": "1.2.0",
            "_view_name": "StyleView",
            "description_width": ""
          }
        },
        "e411981256514ecc8046ba74816972a0": {
          "model_module": "@jupyter-widgets/controls",
          "model_name": "HBoxModel",
          "model_module_version": "1.5.0",
          "state": {
            "_dom_classes": [],
            "_model_module": "@jupyter-widgets/controls",
            "_model_module_version": "1.5.0",
            "_model_name": "HBoxModel",
            "_view_count": null,
            "_view_module": "@jupyter-widgets/controls",
            "_view_module_version": "1.5.0",
            "_view_name": "HBoxView",
            "box_style": "",
            "children": [
              "IPY_MODEL_f8b32e30ebad4b65985b4e499387b779",
              "IPY_MODEL_25fd7df79ecf47d4a73db2e2e208fcff",
              "IPY_MODEL_cb6d5c35ff7f452894488b6c6deb5f91"
            ],
            "layout": "IPY_MODEL_e48a23f56ecf4d7c8d1e621797fe68fa"
          }
        },
        "f8b32e30ebad4b65985b4e499387b779": {
          "model_module": "@jupyter-widgets/controls",
          "model_name": "HTMLModel",
          "model_module_version": "1.5.0",
          "state": {
            "_dom_classes": [],
            "_model_module": "@jupyter-widgets/controls",
            "_model_module_version": "1.5.0",
            "_model_name": "HTMLModel",
            "_view_count": null,
            "_view_module": "@jupyter-widgets/controls",
            "_view_module_version": "1.5.0",
            "_view_name": "HTMLView",
            "description": "",
            "description_tooltip": null,
            "layout": "IPY_MODEL_407340d00e794809b461e7a3cb1309b6",
            "placeholder": "​",
            "style": "IPY_MODEL_2c76aa59d87f42e5b99805b792d2653f",
            "value": "Downloading: 100%"
          }
        },
        "25fd7df79ecf47d4a73db2e2e208fcff": {
          "model_module": "@jupyter-widgets/controls",
          "model_name": "FloatProgressModel",
          "model_module_version": "1.5.0",
          "state": {
            "_dom_classes": [],
            "_model_module": "@jupyter-widgets/controls",
            "_model_module_version": "1.5.0",
            "_model_name": "FloatProgressModel",
            "_view_count": null,
            "_view_module": "@jupyter-widgets/controls",
            "_view_module_version": "1.5.0",
            "_view_name": "ProgressView",
            "bar_style": "success",
            "description": "",
            "description_tooltip": null,
            "layout": "IPY_MODEL_161506b9b849409c97c8a654ac56e101",
            "max": 9620993,
            "min": 0,
            "orientation": "horizontal",
            "style": "IPY_MODEL_d60b57b0b81e432a8bf08dd25ccb4d31",
            "value": 9620993
          }
        },
        "cb6d5c35ff7f452894488b6c6deb5f91": {
          "model_module": "@jupyter-widgets/controls",
          "model_name": "HTMLModel",
          "model_module_version": "1.5.0",
          "state": {
            "_dom_classes": [],
            "_model_module": "@jupyter-widgets/controls",
            "_model_module_version": "1.5.0",
            "_model_name": "HTMLModel",
            "_view_count": null,
            "_view_module": "@jupyter-widgets/controls",
            "_view_module_version": "1.5.0",
            "_view_name": "HTMLView",
            "description": "",
            "description_tooltip": null,
            "layout": "IPY_MODEL_75cbb0747f2a4dd1a60fada6983eb15e",
            "placeholder": "​",
            "style": "IPY_MODEL_1ac2033259ec46da9f093568d7d18071",
            "value": " 9.18M/9.18M [00:01&lt;00:00, 13.2MB/s]"
          }
        },
        "e48a23f56ecf4d7c8d1e621797fe68fa": {
          "model_module": "@jupyter-widgets/base",
          "model_name": "LayoutModel",
          "model_module_version": "1.2.0",
          "state": {
            "_model_module": "@jupyter-widgets/base",
            "_model_module_version": "1.2.0",
            "_model_name": "LayoutModel",
            "_view_count": null,
            "_view_module": "@jupyter-widgets/base",
            "_view_module_version": "1.2.0",
            "_view_name": "LayoutView",
            "align_content": null,
            "align_items": null,
            "align_self": null,
            "border": null,
            "bottom": null,
            "display": null,
            "flex": null,
            "flex_flow": null,
            "grid_area": null,
            "grid_auto_columns": null,
            "grid_auto_flow": null,
            "grid_auto_rows": null,
            "grid_column": null,
            "grid_gap": null,
            "grid_row": null,
            "grid_template_areas": null,
            "grid_template_columns": null,
            "grid_template_rows": null,
            "height": null,
            "justify_content": null,
            "justify_items": null,
            "left": null,
            "margin": null,
            "max_height": null,
            "max_width": null,
            "min_height": null,
            "min_width": null,
            "object_fit": null,
            "object_position": null,
            "order": null,
            "overflow": null,
            "overflow_x": null,
            "overflow_y": null,
            "padding": null,
            "right": null,
            "top": null,
            "visibility": null,
            "width": null
          }
        },
        "407340d00e794809b461e7a3cb1309b6": {
          "model_module": "@jupyter-widgets/base",
          "model_name": "LayoutModel",
          "model_module_version": "1.2.0",
          "state": {
            "_model_module": "@jupyter-widgets/base",
            "_model_module_version": "1.2.0",
            "_model_name": "LayoutModel",
            "_view_count": null,
            "_view_module": "@jupyter-widgets/base",
            "_view_module_version": "1.2.0",
            "_view_name": "LayoutView",
            "align_content": null,
            "align_items": null,
            "align_self": null,
            "border": null,
            "bottom": null,
            "display": null,
            "flex": null,
            "flex_flow": null,
            "grid_area": null,
            "grid_auto_columns": null,
            "grid_auto_flow": null,
            "grid_auto_rows": null,
            "grid_column": null,
            "grid_gap": null,
            "grid_row": null,
            "grid_template_areas": null,
            "grid_template_columns": null,
            "grid_template_rows": null,
            "height": null,
            "justify_content": null,
            "justify_items": null,
            "left": null,
            "margin": null,
            "max_height": null,
            "max_width": null,
            "min_height": null,
            "min_width": null,
            "object_fit": null,
            "object_position": null,
            "order": null,
            "overflow": null,
            "overflow_x": null,
            "overflow_y": null,
            "padding": null,
            "right": null,
            "top": null,
            "visibility": null,
            "width": null
          }
        },
        "2c76aa59d87f42e5b99805b792d2653f": {
          "model_module": "@jupyter-widgets/controls",
          "model_name": "DescriptionStyleModel",
          "model_module_version": "1.5.0",
          "state": {
            "_model_module": "@jupyter-widgets/controls",
            "_model_module_version": "1.5.0",
            "_model_name": "DescriptionStyleModel",
            "_view_count": null,
            "_view_module": "@jupyter-widgets/base",
            "_view_module_version": "1.2.0",
            "_view_name": "StyleView",
            "description_width": ""
          }
        },
        "161506b9b849409c97c8a654ac56e101": {
          "model_module": "@jupyter-widgets/base",
          "model_name": "LayoutModel",
          "model_module_version": "1.2.0",
          "state": {
            "_model_module": "@jupyter-widgets/base",
            "_model_module_version": "1.2.0",
            "_model_name": "LayoutModel",
            "_view_count": null,
            "_view_module": "@jupyter-widgets/base",
            "_view_module_version": "1.2.0",
            "_view_name": "LayoutView",
            "align_content": null,
            "align_items": null,
            "align_self": null,
            "border": null,
            "bottom": null,
            "display": null,
            "flex": null,
            "flex_flow": null,
            "grid_area": null,
            "grid_auto_columns": null,
            "grid_auto_flow": null,
            "grid_auto_rows": null,
            "grid_column": null,
            "grid_gap": null,
            "grid_row": null,
            "grid_template_areas": null,
            "grid_template_columns": null,
            "grid_template_rows": null,
            "height": null,
            "justify_content": null,
            "justify_items": null,
            "left": null,
            "margin": null,
            "max_height": null,
            "max_width": null,
            "min_height": null,
            "min_width": null,
            "object_fit": null,
            "object_position": null,
            "order": null,
            "overflow": null,
            "overflow_x": null,
            "overflow_y": null,
            "padding": null,
            "right": null,
            "top": null,
            "visibility": null,
            "width": null
          }
        },
        "d60b57b0b81e432a8bf08dd25ccb4d31": {
          "model_module": "@jupyter-widgets/controls",
          "model_name": "ProgressStyleModel",
          "model_module_version": "1.5.0",
          "state": {
            "_model_module": "@jupyter-widgets/controls",
            "_model_module_version": "1.5.0",
            "_model_name": "ProgressStyleModel",
            "_view_count": null,
            "_view_module": "@jupyter-widgets/base",
            "_view_module_version": "1.2.0",
            "_view_name": "StyleView",
            "bar_color": null,
            "description_width": ""
          }
        },
        "75cbb0747f2a4dd1a60fada6983eb15e": {
          "model_module": "@jupyter-widgets/base",
          "model_name": "LayoutModel",
          "model_module_version": "1.2.0",
          "state": {
            "_model_module": "@jupyter-widgets/base",
            "_model_module_version": "1.2.0",
            "_model_name": "LayoutModel",
            "_view_count": null,
            "_view_module": "@jupyter-widgets/base",
            "_view_module_version": "1.2.0",
            "_view_name": "LayoutView",
            "align_content": null,
            "align_items": null,
            "align_self": null,
            "border": null,
            "bottom": null,
            "display": null,
            "flex": null,
            "flex_flow": null,
            "grid_area": null,
            "grid_auto_columns": null,
            "grid_auto_flow": null,
            "grid_auto_rows": null,
            "grid_column": null,
            "grid_gap": null,
            "grid_row": null,
            "grid_template_areas": null,
            "grid_template_columns": null,
            "grid_template_rows": null,
            "height": null,
            "justify_content": null,
            "justify_items": null,
            "left": null,
            "margin": null,
            "max_height": null,
            "max_width": null,
            "min_height": null,
            "min_width": null,
            "object_fit": null,
            "object_position": null,
            "order": null,
            "overflow": null,
            "overflow_x": null,
            "overflow_y": null,
            "padding": null,
            "right": null,
            "top": null,
            "visibility": null,
            "width": null
          }
        },
        "1ac2033259ec46da9f093568d7d18071": {
          "model_module": "@jupyter-widgets/controls",
          "model_name": "DescriptionStyleModel",
          "model_module_version": "1.5.0",
          "state": {
            "_model_module": "@jupyter-widgets/controls",
            "_model_module_version": "1.5.0",
            "_model_name": "DescriptionStyleModel",
            "_view_count": null,
            "_view_module": "@jupyter-widgets/base",
            "_view_module_version": "1.2.0",
            "_view_name": "StyleView",
            "description_width": ""
          }
        },
        "7466916f3c2c4408a92e7bb84349e22c": {
          "model_module": "@jupyter-widgets/controls",
          "model_name": "HBoxModel",
          "model_module_version": "1.5.0",
          "state": {
            "_dom_classes": [],
            "_model_module": "@jupyter-widgets/controls",
            "_model_module_version": "1.5.0",
            "_model_name": "HBoxModel",
            "_view_count": null,
            "_view_module": "@jupyter-widgets/controls",
            "_view_module_version": "1.5.0",
            "_view_name": "HBoxView",
            "box_style": "",
            "children": [
              "IPY_MODEL_d8bcb03beb5a42fa9357cd53a5dec2a3",
              "IPY_MODEL_315dc8882cff47a9ba467964bd0a589b",
              "IPY_MODEL_739ee9b5c22e4e7fa6c37f8000f9a22c"
            ],
            "layout": "IPY_MODEL_4ffcfb62427a497e94b619422a7130c4"
          }
        },
        "d8bcb03beb5a42fa9357cd53a5dec2a3": {
          "model_module": "@jupyter-widgets/controls",
          "model_name": "HTMLModel",
          "model_module_version": "1.5.0",
          "state": {
            "_dom_classes": [],
            "_model_module": "@jupyter-widgets/controls",
            "_model_module_version": "1.5.0",
            "_model_name": "HTMLModel",
            "_view_count": null,
            "_view_module": "@jupyter-widgets/controls",
            "_view_module_version": "1.5.0",
            "_view_name": "HTMLView",
            "description": "",
            "description_tooltip": null,
            "layout": "IPY_MODEL_bcadadd2a8624e74b478cd890e34e4ab",
            "placeholder": "​",
            "style": "IPY_MODEL_f3eacafaaf03407ebdc4cc411f023ced",
            "value": "Downloading: 100%"
          }
        },
        "315dc8882cff47a9ba467964bd0a589b": {
          "model_module": "@jupyter-widgets/controls",
          "model_name": "FloatProgressModel",
          "model_module_version": "1.5.0",
          "state": {
            "_dom_classes": [],
            "_model_module": "@jupyter-widgets/controls",
            "_model_module_version": "1.5.0",
            "_model_name": "FloatProgressModel",
            "_view_count": null,
            "_view_module": "@jupyter-widgets/controls",
            "_view_module_version": "1.5.0",
            "_view_name": "ProgressView",
            "bar_style": "success",
            "description": "",
            "description_tooltip": null,
            "layout": "IPY_MODEL_ae622926cae84db6b316675574471cba",
            "max": 112,
            "min": 0,
            "orientation": "horizontal",
            "style": "IPY_MODEL_23640adcad2b45f6b2294bdd4c5009b7",
            "value": 112
          }
        },
        "739ee9b5c22e4e7fa6c37f8000f9a22c": {
          "model_module": "@jupyter-widgets/controls",
          "model_name": "HTMLModel",
          "model_module_version": "1.5.0",
          "state": {
            "_dom_classes": [],
            "_model_module": "@jupyter-widgets/controls",
            "_model_module_version": "1.5.0",
            "_model_name": "HTMLModel",
            "_view_count": null,
            "_view_module": "@jupyter-widgets/controls",
            "_view_module_version": "1.5.0",
            "_view_name": "HTMLView",
            "description": "",
            "description_tooltip": null,
            "layout": "IPY_MODEL_d0f3c702acdd4e3c882ef7290ae6b294",
            "placeholder": "​",
            "style": "IPY_MODEL_0a3c267f99de4d8fbb932cb0d4959ca2",
            "value": " 112/112 [00:00&lt;00:00, 1.02kB/s]"
          }
        },
        "4ffcfb62427a497e94b619422a7130c4": {
          "model_module": "@jupyter-widgets/base",
          "model_name": "LayoutModel",
          "model_module_version": "1.2.0",
          "state": {
            "_model_module": "@jupyter-widgets/base",
            "_model_module_version": "1.2.0",
            "_model_name": "LayoutModel",
            "_view_count": null,
            "_view_module": "@jupyter-widgets/base",
            "_view_module_version": "1.2.0",
            "_view_name": "LayoutView",
            "align_content": null,
            "align_items": null,
            "align_self": null,
            "border": null,
            "bottom": null,
            "display": null,
            "flex": null,
            "flex_flow": null,
            "grid_area": null,
            "grid_auto_columns": null,
            "grid_auto_flow": null,
            "grid_auto_rows": null,
            "grid_column": null,
            "grid_gap": null,
            "grid_row": null,
            "grid_template_areas": null,
            "grid_template_columns": null,
            "grid_template_rows": null,
            "height": null,
            "justify_content": null,
            "justify_items": null,
            "left": null,
            "margin": null,
            "max_height": null,
            "max_width": null,
            "min_height": null,
            "min_width": null,
            "object_fit": null,
            "object_position": null,
            "order": null,
            "overflow": null,
            "overflow_x": null,
            "overflow_y": null,
            "padding": null,
            "right": null,
            "top": null,
            "visibility": null,
            "width": null
          }
        },
        "bcadadd2a8624e74b478cd890e34e4ab": {
          "model_module": "@jupyter-widgets/base",
          "model_name": "LayoutModel",
          "model_module_version": "1.2.0",
          "state": {
            "_model_module": "@jupyter-widgets/base",
            "_model_module_version": "1.2.0",
            "_model_name": "LayoutModel",
            "_view_count": null,
            "_view_module": "@jupyter-widgets/base",
            "_view_module_version": "1.2.0",
            "_view_name": "LayoutView",
            "align_content": null,
            "align_items": null,
            "align_self": null,
            "border": null,
            "bottom": null,
            "display": null,
            "flex": null,
            "flex_flow": null,
            "grid_area": null,
            "grid_auto_columns": null,
            "grid_auto_flow": null,
            "grid_auto_rows": null,
            "grid_column": null,
            "grid_gap": null,
            "grid_row": null,
            "grid_template_areas": null,
            "grid_template_columns": null,
            "grid_template_rows": null,
            "height": null,
            "justify_content": null,
            "justify_items": null,
            "left": null,
            "margin": null,
            "max_height": null,
            "max_width": null,
            "min_height": null,
            "min_width": null,
            "object_fit": null,
            "object_position": null,
            "order": null,
            "overflow": null,
            "overflow_x": null,
            "overflow_y": null,
            "padding": null,
            "right": null,
            "top": null,
            "visibility": null,
            "width": null
          }
        },
        "f3eacafaaf03407ebdc4cc411f023ced": {
          "model_module": "@jupyter-widgets/controls",
          "model_name": "DescriptionStyleModel",
          "model_module_version": "1.5.0",
          "state": {
            "_model_module": "@jupyter-widgets/controls",
            "_model_module_version": "1.5.0",
            "_model_name": "DescriptionStyleModel",
            "_view_count": null,
            "_view_module": "@jupyter-widgets/base",
            "_view_module_version": "1.2.0",
            "_view_name": "StyleView",
            "description_width": ""
          }
        },
        "ae622926cae84db6b316675574471cba": {
          "model_module": "@jupyter-widgets/base",
          "model_name": "LayoutModel",
          "model_module_version": "1.2.0",
          "state": {
            "_model_module": "@jupyter-widgets/base",
            "_model_module_version": "1.2.0",
            "_model_name": "LayoutModel",
            "_view_count": null,
            "_view_module": "@jupyter-widgets/base",
            "_view_module_version": "1.2.0",
            "_view_name": "LayoutView",
            "align_content": null,
            "align_items": null,
            "align_self": null,
            "border": null,
            "bottom": null,
            "display": null,
            "flex": null,
            "flex_flow": null,
            "grid_area": null,
            "grid_auto_columns": null,
            "grid_auto_flow": null,
            "grid_auto_rows": null,
            "grid_column": null,
            "grid_gap": null,
            "grid_row": null,
            "grid_template_areas": null,
            "grid_template_columns": null,
            "grid_template_rows": null,
            "height": null,
            "justify_content": null,
            "justify_items": null,
            "left": null,
            "margin": null,
            "max_height": null,
            "max_width": null,
            "min_height": null,
            "min_width": null,
            "object_fit": null,
            "object_position": null,
            "order": null,
            "overflow": null,
            "overflow_x": null,
            "overflow_y": null,
            "padding": null,
            "right": null,
            "top": null,
            "visibility": null,
            "width": null
          }
        },
        "23640adcad2b45f6b2294bdd4c5009b7": {
          "model_module": "@jupyter-widgets/controls",
          "model_name": "ProgressStyleModel",
          "model_module_version": "1.5.0",
          "state": {
            "_model_module": "@jupyter-widgets/controls",
            "_model_module_version": "1.5.0",
            "_model_name": "ProgressStyleModel",
            "_view_count": null,
            "_view_module": "@jupyter-widgets/base",
            "_view_module_version": "1.2.0",
            "_view_name": "StyleView",
            "bar_color": null,
            "description_width": ""
          }
        },
        "d0f3c702acdd4e3c882ef7290ae6b294": {
          "model_module": "@jupyter-widgets/base",
          "model_name": "LayoutModel",
          "model_module_version": "1.2.0",
          "state": {
            "_model_module": "@jupyter-widgets/base",
            "_model_module_version": "1.2.0",
            "_model_name": "LayoutModel",
            "_view_count": null,
            "_view_module": "@jupyter-widgets/base",
            "_view_module_version": "1.2.0",
            "_view_name": "LayoutView",
            "align_content": null,
            "align_items": null,
            "align_self": null,
            "border": null,
            "bottom": null,
            "display": null,
            "flex": null,
            "flex_flow": null,
            "grid_area": null,
            "grid_auto_columns": null,
            "grid_auto_flow": null,
            "grid_auto_rows": null,
            "grid_column": null,
            "grid_gap": null,
            "grid_row": null,
            "grid_template_areas": null,
            "grid_template_columns": null,
            "grid_template_rows": null,
            "height": null,
            "justify_content": null,
            "justify_items": null,
            "left": null,
            "margin": null,
            "max_height": null,
            "max_width": null,
            "min_height": null,
            "min_width": null,
            "object_fit": null,
            "object_position": null,
            "order": null,
            "overflow": null,
            "overflow_x": null,
            "overflow_y": null,
            "padding": null,
            "right": null,
            "top": null,
            "visibility": null,
            "width": null
          }
        },
        "0a3c267f99de4d8fbb932cb0d4959ca2": {
          "model_module": "@jupyter-widgets/controls",
          "model_name": "DescriptionStyleModel",
          "model_module_version": "1.5.0",
          "state": {
            "_model_module": "@jupyter-widgets/controls",
            "_model_module_version": "1.5.0",
            "_model_name": "DescriptionStyleModel",
            "_view_count": null,
            "_view_module": "@jupyter-widgets/base",
            "_view_module_version": "1.2.0",
            "_view_name": "StyleView",
            "description_width": ""
          }
        },
        "aad2a6e7f5544cbfa298edd41ac6561c": {
          "model_module": "@jupyter-widgets/controls",
          "model_name": "HBoxModel",
          "model_module_version": "1.5.0",
          "state": {
            "_dom_classes": [],
            "_model_module": "@jupyter-widgets/controls",
            "_model_module_version": "1.5.0",
            "_model_name": "HBoxModel",
            "_view_count": null,
            "_view_module": "@jupyter-widgets/controls",
            "_view_module_version": "1.5.0",
            "_view_name": "HBoxView",
            "box_style": "",
            "children": [
              "IPY_MODEL_82115b11ff4443e0b62f8b2ded1ce49a",
              "IPY_MODEL_abfe97329fef466fb8a3b7cad5e13249",
              "IPY_MODEL_1dbda405e13d41f3af4b3be71552bc42"
            ],
            "layout": "IPY_MODEL_695a6171ebc7458e846ab3c263eeb467"
          }
        },
        "82115b11ff4443e0b62f8b2ded1ce49a": {
          "model_module": "@jupyter-widgets/controls",
          "model_name": "HTMLModel",
          "model_module_version": "1.5.0",
          "state": {
            "_dom_classes": [],
            "_model_module": "@jupyter-widgets/controls",
            "_model_module_version": "1.5.0",
            "_model_name": "HTMLModel",
            "_view_count": null,
            "_view_module": "@jupyter-widgets/controls",
            "_view_module_version": "1.5.0",
            "_view_name": "HTMLView",
            "description": "",
            "description_tooltip": null,
            "layout": "IPY_MODEL_792f29f59b70474e86c210db9d5875f0",
            "placeholder": "​",
            "style": "IPY_MODEL_3e7b3bce132a44b8978261f367f1adcd",
            "value": "Downloading: 100%"
          }
        },
        "abfe97329fef466fb8a3b7cad5e13249": {
          "model_module": "@jupyter-widgets/controls",
          "model_name": "FloatProgressModel",
          "model_module_version": "1.5.0",
          "state": {
            "_dom_classes": [],
            "_model_module": "@jupyter-widgets/controls",
            "_model_module_version": "1.5.0",
            "_model_name": "FloatProgressModel",
            "_view_count": null,
            "_view_module": "@jupyter-widgets/controls",
            "_view_module_version": "1.5.0",
            "_view_name": "ProgressView",
            "bar_style": "success",
            "description": "",
            "description_tooltip": null,
            "layout": "IPY_MODEL_351be40d9d2843c5b43ff1fe6e1dd105",
            "max": 576,
            "min": 0,
            "orientation": "horizontal",
            "style": "IPY_MODEL_875b3393c22249f799e1bfc6401db432",
            "value": 576
          }
        },
        "1dbda405e13d41f3af4b3be71552bc42": {
          "model_module": "@jupyter-widgets/controls",
          "model_name": "HTMLModel",
          "model_module_version": "1.5.0",
          "state": {
            "_dom_classes": [],
            "_model_module": "@jupyter-widgets/controls",
            "_model_module_version": "1.5.0",
            "_model_name": "HTMLModel",
            "_view_count": null,
            "_view_module": "@jupyter-widgets/controls",
            "_view_module_version": "1.5.0",
            "_view_name": "HTMLView",
            "description": "",
            "description_tooltip": null,
            "layout": "IPY_MODEL_0bffa9916cfa4aa3b7bcd948e98d9ec9",
            "placeholder": "​",
            "style": "IPY_MODEL_21605e86a6e444d68dd5534d3042367a",
            "value": " 576/576 [00:00&lt;00:00, 5.15kB/s]"
          }
        },
        "695a6171ebc7458e846ab3c263eeb467": {
          "model_module": "@jupyter-widgets/base",
          "model_name": "LayoutModel",
          "model_module_version": "1.2.0",
          "state": {
            "_model_module": "@jupyter-widgets/base",
            "_model_module_version": "1.2.0",
            "_model_name": "LayoutModel",
            "_view_count": null,
            "_view_module": "@jupyter-widgets/base",
            "_view_module_version": "1.2.0",
            "_view_name": "LayoutView",
            "align_content": null,
            "align_items": null,
            "align_self": null,
            "border": null,
            "bottom": null,
            "display": null,
            "flex": null,
            "flex_flow": null,
            "grid_area": null,
            "grid_auto_columns": null,
            "grid_auto_flow": null,
            "grid_auto_rows": null,
            "grid_column": null,
            "grid_gap": null,
            "grid_row": null,
            "grid_template_areas": null,
            "grid_template_columns": null,
            "grid_template_rows": null,
            "height": null,
            "justify_content": null,
            "justify_items": null,
            "left": null,
            "margin": null,
            "max_height": null,
            "max_width": null,
            "min_height": null,
            "min_width": null,
            "object_fit": null,
            "object_position": null,
            "order": null,
            "overflow": null,
            "overflow_x": null,
            "overflow_y": null,
            "padding": null,
            "right": null,
            "top": null,
            "visibility": null,
            "width": null
          }
        },
        "792f29f59b70474e86c210db9d5875f0": {
          "model_module": "@jupyter-widgets/base",
          "model_name": "LayoutModel",
          "model_module_version": "1.2.0",
          "state": {
            "_model_module": "@jupyter-widgets/base",
            "_model_module_version": "1.2.0",
            "_model_name": "LayoutModel",
            "_view_count": null,
            "_view_module": "@jupyter-widgets/base",
            "_view_module_version": "1.2.0",
            "_view_name": "LayoutView",
            "align_content": null,
            "align_items": null,
            "align_self": null,
            "border": null,
            "bottom": null,
            "display": null,
            "flex": null,
            "flex_flow": null,
            "grid_area": null,
            "grid_auto_columns": null,
            "grid_auto_flow": null,
            "grid_auto_rows": null,
            "grid_column": null,
            "grid_gap": null,
            "grid_row": null,
            "grid_template_areas": null,
            "grid_template_columns": null,
            "grid_template_rows": null,
            "height": null,
            "justify_content": null,
            "justify_items": null,
            "left": null,
            "margin": null,
            "max_height": null,
            "max_width": null,
            "min_height": null,
            "min_width": null,
            "object_fit": null,
            "object_position": null,
            "order": null,
            "overflow": null,
            "overflow_x": null,
            "overflow_y": null,
            "padding": null,
            "right": null,
            "top": null,
            "visibility": null,
            "width": null
          }
        },
        "3e7b3bce132a44b8978261f367f1adcd": {
          "model_module": "@jupyter-widgets/controls",
          "model_name": "DescriptionStyleModel",
          "model_module_version": "1.5.0",
          "state": {
            "_model_module": "@jupyter-widgets/controls",
            "_model_module_version": "1.5.0",
            "_model_name": "DescriptionStyleModel",
            "_view_count": null,
            "_view_module": "@jupyter-widgets/base",
            "_view_module_version": "1.2.0",
            "_view_name": "StyleView",
            "description_width": ""
          }
        },
        "351be40d9d2843c5b43ff1fe6e1dd105": {
          "model_module": "@jupyter-widgets/base",
          "model_name": "LayoutModel",
          "model_module_version": "1.2.0",
          "state": {
            "_model_module": "@jupyter-widgets/base",
            "_model_module_version": "1.2.0",
            "_model_name": "LayoutModel",
            "_view_count": null,
            "_view_module": "@jupyter-widgets/base",
            "_view_module_version": "1.2.0",
            "_view_name": "LayoutView",
            "align_content": null,
            "align_items": null,
            "align_self": null,
            "border": null,
            "bottom": null,
            "display": null,
            "flex": null,
            "flex_flow": null,
            "grid_area": null,
            "grid_auto_columns": null,
            "grid_auto_flow": null,
            "grid_auto_rows": null,
            "grid_column": null,
            "grid_gap": null,
            "grid_row": null,
            "grid_template_areas": null,
            "grid_template_columns": null,
            "grid_template_rows": null,
            "height": null,
            "justify_content": null,
            "justify_items": null,
            "left": null,
            "margin": null,
            "max_height": null,
            "max_width": null,
            "min_height": null,
            "min_width": null,
            "object_fit": null,
            "object_position": null,
            "order": null,
            "overflow": null,
            "overflow_x": null,
            "overflow_y": null,
            "padding": null,
            "right": null,
            "top": null,
            "visibility": null,
            "width": null
          }
        },
        "875b3393c22249f799e1bfc6401db432": {
          "model_module": "@jupyter-widgets/controls",
          "model_name": "ProgressStyleModel",
          "model_module_version": "1.5.0",
          "state": {
            "_model_module": "@jupyter-widgets/controls",
            "_model_module_version": "1.5.0",
            "_model_name": "ProgressStyleModel",
            "_view_count": null,
            "_view_module": "@jupyter-widgets/base",
            "_view_module_version": "1.2.0",
            "_view_name": "StyleView",
            "bar_color": null,
            "description_width": ""
          }
        },
        "0bffa9916cfa4aa3b7bcd948e98d9ec9": {
          "model_module": "@jupyter-widgets/base",
          "model_name": "LayoutModel",
          "model_module_version": "1.2.0",
          "state": {
            "_model_module": "@jupyter-widgets/base",
            "_model_module_version": "1.2.0",
            "_model_name": "LayoutModel",
            "_view_count": null,
            "_view_module": "@jupyter-widgets/base",
            "_view_module_version": "1.2.0",
            "_view_name": "LayoutView",
            "align_content": null,
            "align_items": null,
            "align_self": null,
            "border": null,
            "bottom": null,
            "display": null,
            "flex": null,
            "flex_flow": null,
            "grid_area": null,
            "grid_auto_columns": null,
            "grid_auto_flow": null,
            "grid_auto_rows": null,
            "grid_column": null,
            "grid_gap": null,
            "grid_row": null,
            "grid_template_areas": null,
            "grid_template_columns": null,
            "grid_template_rows": null,
            "height": null,
            "justify_content": null,
            "justify_items": null,
            "left": null,
            "margin": null,
            "max_height": null,
            "max_width": null,
            "min_height": null,
            "min_width": null,
            "object_fit": null,
            "object_position": null,
            "order": null,
            "overflow": null,
            "overflow_x": null,
            "overflow_y": null,
            "padding": null,
            "right": null,
            "top": null,
            "visibility": null,
            "width": null
          }
        },
        "21605e86a6e444d68dd5534d3042367a": {
          "model_module": "@jupyter-widgets/controls",
          "model_name": "DescriptionStyleModel",
          "model_module_version": "1.5.0",
          "state": {
            "_model_module": "@jupyter-widgets/controls",
            "_model_module_version": "1.5.0",
            "_model_name": "DescriptionStyleModel",
            "_view_count": null,
            "_view_module": "@jupyter-widgets/base",
            "_view_module_version": "1.2.0",
            "_view_name": "StyleView",
            "description_width": ""
          }
        },
        "a616739a912843d6a742ecbfd9bbb776": {
          "model_module": "@jupyter-widgets/controls",
          "model_name": "HBoxModel",
          "model_module_version": "1.5.0",
          "state": {
            "_dom_classes": [],
            "_model_module": "@jupyter-widgets/controls",
            "_model_module_version": "1.5.0",
            "_model_name": "HBoxModel",
            "_view_count": null,
            "_view_module": "@jupyter-widgets/controls",
            "_view_module_version": "1.5.0",
            "_view_name": "HBoxView",
            "box_style": "",
            "children": [
              "IPY_MODEL_f83a21018f6a46aab84e27818d7d01be",
              "IPY_MODEL_8a5a3611c77345d38bdf102a342c865a",
              "IPY_MODEL_6fb490eeb17e4ae2a3c4494d0e95fbda"
            ],
            "layout": "IPY_MODEL_74b14d91ff804a88a0a63df1111cb267"
          }
        },
        "f83a21018f6a46aab84e27818d7d01be": {
          "model_module": "@jupyter-widgets/controls",
          "model_name": "HTMLModel",
          "model_module_version": "1.5.0",
          "state": {
            "_dom_classes": [],
            "_model_module": "@jupyter-widgets/controls",
            "_model_module_version": "1.5.0",
            "_model_name": "HTMLModel",
            "_view_count": null,
            "_view_module": "@jupyter-widgets/controls",
            "_view_module_version": "1.5.0",
            "_view_name": "HTMLView",
            "description": "",
            "description_tooltip": null,
            "layout": "IPY_MODEL_6fdf8b16d01146358d012ebeb6a73d7c",
            "placeholder": "​",
            "style": "IPY_MODEL_8bb4e34859fd4d20a148869505f77886",
            "value": "Downloading: 100%"
          }
        },
        "8a5a3611c77345d38bdf102a342c865a": {
          "model_module": "@jupyter-widgets/controls",
          "model_name": "FloatProgressModel",
          "model_module_version": "1.5.0",
          "state": {
            "_dom_classes": [],
            "_model_module": "@jupyter-widgets/controls",
            "_model_module_version": "1.5.0",
            "_model_name": "FloatProgressModel",
            "_view_count": null,
            "_view_module": "@jupyter-widgets/controls",
            "_view_module_version": "1.5.0",
            "_view_name": "ProgressView",
            "bar_style": "success",
            "description": "",
            "description_tooltip": null,
            "layout": "IPY_MODEL_b03c602a05e94d6e8d909686cf485dc0",
            "max": 1883757089,
            "min": 0,
            "orientation": "horizontal",
            "style": "IPY_MODEL_2f22277d24bd432f8584303eb331bb6a",
            "value": 1883757089
          }
        },
        "6fb490eeb17e4ae2a3c4494d0e95fbda": {
          "model_module": "@jupyter-widgets/controls",
          "model_name": "HTMLModel",
          "model_module_version": "1.5.0",
          "state": {
            "_dom_classes": [],
            "_model_module": "@jupyter-widgets/controls",
            "_model_module_version": "1.5.0",
            "_model_name": "HTMLModel",
            "_view_count": null,
            "_view_module": "@jupyter-widgets/controls",
            "_view_module_version": "1.5.0",
            "_view_name": "HTMLView",
            "description": "",
            "description_tooltip": null,
            "layout": "IPY_MODEL_5033ccb9ee28478b9b338ffb1173cdd1",
            "placeholder": "​",
            "style": "IPY_MODEL_6b985ee6de2946f18367995cd4521535",
            "value": " 1.75G/1.75G [01:11&lt;00:00, 13.8MB/s]"
          }
        },
        "74b14d91ff804a88a0a63df1111cb267": {
          "model_module": "@jupyter-widgets/base",
          "model_name": "LayoutModel",
          "model_module_version": "1.2.0",
          "state": {
            "_model_module": "@jupyter-widgets/base",
            "_model_module_version": "1.2.0",
            "_model_name": "LayoutModel",
            "_view_count": null,
            "_view_module": "@jupyter-widgets/base",
            "_view_module_version": "1.2.0",
            "_view_name": "LayoutView",
            "align_content": null,
            "align_items": null,
            "align_self": null,
            "border": null,
            "bottom": null,
            "display": null,
            "flex": null,
            "flex_flow": null,
            "grid_area": null,
            "grid_auto_columns": null,
            "grid_auto_flow": null,
            "grid_auto_rows": null,
            "grid_column": null,
            "grid_gap": null,
            "grid_row": null,
            "grid_template_areas": null,
            "grid_template_columns": null,
            "grid_template_rows": null,
            "height": null,
            "justify_content": null,
            "justify_items": null,
            "left": null,
            "margin": null,
            "max_height": null,
            "max_width": null,
            "min_height": null,
            "min_width": null,
            "object_fit": null,
            "object_position": null,
            "order": null,
            "overflow": null,
            "overflow_x": null,
            "overflow_y": null,
            "padding": null,
            "right": null,
            "top": null,
            "visibility": null,
            "width": null
          }
        },
        "6fdf8b16d01146358d012ebeb6a73d7c": {
          "model_module": "@jupyter-widgets/base",
          "model_name": "LayoutModel",
          "model_module_version": "1.2.0",
          "state": {
            "_model_module": "@jupyter-widgets/base",
            "_model_module_version": "1.2.0",
            "_model_name": "LayoutModel",
            "_view_count": null,
            "_view_module": "@jupyter-widgets/base",
            "_view_module_version": "1.2.0",
            "_view_name": "LayoutView",
            "align_content": null,
            "align_items": null,
            "align_self": null,
            "border": null,
            "bottom": null,
            "display": null,
            "flex": null,
            "flex_flow": null,
            "grid_area": null,
            "grid_auto_columns": null,
            "grid_auto_flow": null,
            "grid_auto_rows": null,
            "grid_column": null,
            "grid_gap": null,
            "grid_row": null,
            "grid_template_areas": null,
            "grid_template_columns": null,
            "grid_template_rows": null,
            "height": null,
            "justify_content": null,
            "justify_items": null,
            "left": null,
            "margin": null,
            "max_height": null,
            "max_width": null,
            "min_height": null,
            "min_width": null,
            "object_fit": null,
            "object_position": null,
            "order": null,
            "overflow": null,
            "overflow_x": null,
            "overflow_y": null,
            "padding": null,
            "right": null,
            "top": null,
            "visibility": null,
            "width": null
          }
        },
        "8bb4e34859fd4d20a148869505f77886": {
          "model_module": "@jupyter-widgets/controls",
          "model_name": "DescriptionStyleModel",
          "model_module_version": "1.5.0",
          "state": {
            "_model_module": "@jupyter-widgets/controls",
            "_model_module_version": "1.5.0",
            "_model_name": "DescriptionStyleModel",
            "_view_count": null,
            "_view_module": "@jupyter-widgets/base",
            "_view_module_version": "1.2.0",
            "_view_name": "StyleView",
            "description_width": ""
          }
        },
        "b03c602a05e94d6e8d909686cf485dc0": {
          "model_module": "@jupyter-widgets/base",
          "model_name": "LayoutModel",
          "model_module_version": "1.2.0",
          "state": {
            "_model_module": "@jupyter-widgets/base",
            "_model_module_version": "1.2.0",
            "_model_name": "LayoutModel",
            "_view_count": null,
            "_view_module": "@jupyter-widgets/base",
            "_view_module_version": "1.2.0",
            "_view_name": "LayoutView",
            "align_content": null,
            "align_items": null,
            "align_self": null,
            "border": null,
            "bottom": null,
            "display": null,
            "flex": null,
            "flex_flow": null,
            "grid_area": null,
            "grid_auto_columns": null,
            "grid_auto_flow": null,
            "grid_auto_rows": null,
            "grid_column": null,
            "grid_gap": null,
            "grid_row": null,
            "grid_template_areas": null,
            "grid_template_columns": null,
            "grid_template_rows": null,
            "height": null,
            "justify_content": null,
            "justify_items": null,
            "left": null,
            "margin": null,
            "max_height": null,
            "max_width": null,
            "min_height": null,
            "min_width": null,
            "object_fit": null,
            "object_position": null,
            "order": null,
            "overflow": null,
            "overflow_x": null,
            "overflow_y": null,
            "padding": null,
            "right": null,
            "top": null,
            "visibility": null,
            "width": null
          }
        },
        "2f22277d24bd432f8584303eb331bb6a": {
          "model_module": "@jupyter-widgets/controls",
          "model_name": "ProgressStyleModel",
          "model_module_version": "1.5.0",
          "state": {
            "_model_module": "@jupyter-widgets/controls",
            "_model_module_version": "1.5.0",
            "_model_name": "ProgressStyleModel",
            "_view_count": null,
            "_view_module": "@jupyter-widgets/base",
            "_view_module_version": "1.2.0",
            "_view_name": "StyleView",
            "bar_color": null,
            "description_width": ""
          }
        },
        "5033ccb9ee28478b9b338ffb1173cdd1": {
          "model_module": "@jupyter-widgets/base",
          "model_name": "LayoutModel",
          "model_module_version": "1.2.0",
          "state": {
            "_model_module": "@jupyter-widgets/base",
            "_model_module_version": "1.2.0",
            "_model_name": "LayoutModel",
            "_view_count": null,
            "_view_module": "@jupyter-widgets/base",
            "_view_module_version": "1.2.0",
            "_view_name": "LayoutView",
            "align_content": null,
            "align_items": null,
            "align_self": null,
            "border": null,
            "bottom": null,
            "display": null,
            "flex": null,
            "flex_flow": null,
            "grid_area": null,
            "grid_auto_columns": null,
            "grid_auto_flow": null,
            "grid_auto_rows": null,
            "grid_column": null,
            "grid_gap": null,
            "grid_row": null,
            "grid_template_areas": null,
            "grid_template_columns": null,
            "grid_template_rows": null,
            "height": null,
            "justify_content": null,
            "justify_items": null,
            "left": null,
            "margin": null,
            "max_height": null,
            "max_width": null,
            "min_height": null,
            "min_width": null,
            "object_fit": null,
            "object_position": null,
            "order": null,
            "overflow": null,
            "overflow_x": null,
            "overflow_y": null,
            "padding": null,
            "right": null,
            "top": null,
            "visibility": null,
            "width": null
          }
        },
        "6b985ee6de2946f18367995cd4521535": {
          "model_module": "@jupyter-widgets/controls",
          "model_name": "DescriptionStyleModel",
          "model_module_version": "1.5.0",
          "state": {
            "_model_module": "@jupyter-widgets/controls",
            "_model_module_version": "1.5.0",
            "_model_name": "DescriptionStyleModel",
            "_view_count": null,
            "_view_module": "@jupyter-widgets/base",
            "_view_module_version": "1.2.0",
            "_view_name": "StyleView",
            "description_width": ""
          }
        },
        "4d6870f987f6424eb0810ef9f1cac3c2": {
          "model_module": "@jupyter-widgets/controls",
          "model_name": "HBoxModel",
          "model_module_version": "1.5.0",
          "state": {
            "_dom_classes": [],
            "_model_module": "@jupyter-widgets/controls",
            "_model_module_version": "1.5.0",
            "_model_name": "HBoxModel",
            "_view_count": null,
            "_view_module": "@jupyter-widgets/controls",
            "_view_module_version": "1.5.0",
            "_view_name": "HBoxView",
            "box_style": "",
            "children": [
              "IPY_MODEL_e91f634b4ac64907b6cbc0278df8dd69",
              "IPY_MODEL_95d4713c357e4986abd6b5cbf51752c7",
              "IPY_MODEL_c711a512e578435f9e1bb5dd83cb1b8d"
            ],
            "layout": "IPY_MODEL_7346eab318024c9287da2c543c42cb0a"
          }
        },
        "e91f634b4ac64907b6cbc0278df8dd69": {
          "model_module": "@jupyter-widgets/controls",
          "model_name": "HTMLModel",
          "model_module_version": "1.5.0",
          "state": {
            "_dom_classes": [],
            "_model_module": "@jupyter-widgets/controls",
            "_model_module_version": "1.5.0",
            "_model_name": "HTMLModel",
            "_view_count": null,
            "_view_module": "@jupyter-widgets/controls",
            "_view_module_version": "1.5.0",
            "_view_name": "HTMLView",
            "description": "",
            "description_tooltip": null,
            "layout": "IPY_MODEL_1450ff44f4274dbc839fb1d23b7221bf",
            "placeholder": "​",
            "style": "IPY_MODEL_0d18bacc7f484c41ac55a0c172646493",
            "value": "100%"
          }
        },
        "95d4713c357e4986abd6b5cbf51752c7": {
          "model_module": "@jupyter-widgets/controls",
          "model_name": "FloatProgressModel",
          "model_module_version": "1.5.0",
          "state": {
            "_dom_classes": [],
            "_model_module": "@jupyter-widgets/controls",
            "_model_module_version": "1.5.0",
            "_model_name": "FloatProgressModel",
            "_view_count": null,
            "_view_module": "@jupyter-widgets/controls",
            "_view_module_version": "1.5.0",
            "_view_name": "ProgressView",
            "bar_style": "success",
            "description": "",
            "description_tooltip": null,
            "layout": "IPY_MODEL_1b6f506d27db4ae1adca5fed43ee2719",
            "max": 24,
            "min": 0,
            "orientation": "horizontal",
            "style": "IPY_MODEL_d98e1f84a4224ac2b490c92f3d194fea",
            "value": 24
          }
        },
        "c711a512e578435f9e1bb5dd83cb1b8d": {
          "model_module": "@jupyter-widgets/controls",
          "model_name": "HTMLModel",
          "model_module_version": "1.5.0",
          "state": {
            "_dom_classes": [],
            "_model_module": "@jupyter-widgets/controls",
            "_model_module_version": "1.5.0",
            "_model_name": "HTMLModel",
            "_view_count": null,
            "_view_module": "@jupyter-widgets/controls",
            "_view_module_version": "1.5.0",
            "_view_name": "HTMLView",
            "description": "",
            "description_tooltip": null,
            "layout": "IPY_MODEL_f2d524d60fe649a7ba6a3ddb8169a970",
            "placeholder": "​",
            "style": "IPY_MODEL_da6eb447a73648b6a8945aaa4b239cb5",
            "value": " 24/24 [00:03&lt;00:00,  7.51ba/s]"
          }
        },
        "7346eab318024c9287da2c543c42cb0a": {
          "model_module": "@jupyter-widgets/base",
          "model_name": "LayoutModel",
          "model_module_version": "1.2.0",
          "state": {
            "_model_module": "@jupyter-widgets/base",
            "_model_module_version": "1.2.0",
            "_model_name": "LayoutModel",
            "_view_count": null,
            "_view_module": "@jupyter-widgets/base",
            "_view_module_version": "1.2.0",
            "_view_name": "LayoutView",
            "align_content": null,
            "align_items": null,
            "align_self": null,
            "border": null,
            "bottom": null,
            "display": null,
            "flex": null,
            "flex_flow": null,
            "grid_area": null,
            "grid_auto_columns": null,
            "grid_auto_flow": null,
            "grid_auto_rows": null,
            "grid_column": null,
            "grid_gap": null,
            "grid_row": null,
            "grid_template_areas": null,
            "grid_template_columns": null,
            "grid_template_rows": null,
            "height": null,
            "justify_content": null,
            "justify_items": null,
            "left": null,
            "margin": null,
            "max_height": null,
            "max_width": null,
            "min_height": null,
            "min_width": null,
            "object_fit": null,
            "object_position": null,
            "order": null,
            "overflow": null,
            "overflow_x": null,
            "overflow_y": null,
            "padding": null,
            "right": null,
            "top": null,
            "visibility": null,
            "width": null
          }
        },
        "1450ff44f4274dbc839fb1d23b7221bf": {
          "model_module": "@jupyter-widgets/base",
          "model_name": "LayoutModel",
          "model_module_version": "1.2.0",
          "state": {
            "_model_module": "@jupyter-widgets/base",
            "_model_module_version": "1.2.0",
            "_model_name": "LayoutModel",
            "_view_count": null,
            "_view_module": "@jupyter-widgets/base",
            "_view_module_version": "1.2.0",
            "_view_name": "LayoutView",
            "align_content": null,
            "align_items": null,
            "align_self": null,
            "border": null,
            "bottom": null,
            "display": null,
            "flex": null,
            "flex_flow": null,
            "grid_area": null,
            "grid_auto_columns": null,
            "grid_auto_flow": null,
            "grid_auto_rows": null,
            "grid_column": null,
            "grid_gap": null,
            "grid_row": null,
            "grid_template_areas": null,
            "grid_template_columns": null,
            "grid_template_rows": null,
            "height": null,
            "justify_content": null,
            "justify_items": null,
            "left": null,
            "margin": null,
            "max_height": null,
            "max_width": null,
            "min_height": null,
            "min_width": null,
            "object_fit": null,
            "object_position": null,
            "order": null,
            "overflow": null,
            "overflow_x": null,
            "overflow_y": null,
            "padding": null,
            "right": null,
            "top": null,
            "visibility": null,
            "width": null
          }
        },
        "0d18bacc7f484c41ac55a0c172646493": {
          "model_module": "@jupyter-widgets/controls",
          "model_name": "DescriptionStyleModel",
          "model_module_version": "1.5.0",
          "state": {
            "_model_module": "@jupyter-widgets/controls",
            "_model_module_version": "1.5.0",
            "_model_name": "DescriptionStyleModel",
            "_view_count": null,
            "_view_module": "@jupyter-widgets/base",
            "_view_module_version": "1.2.0",
            "_view_name": "StyleView",
            "description_width": ""
          }
        },
        "1b6f506d27db4ae1adca5fed43ee2719": {
          "model_module": "@jupyter-widgets/base",
          "model_name": "LayoutModel",
          "model_module_version": "1.2.0",
          "state": {
            "_model_module": "@jupyter-widgets/base",
            "_model_module_version": "1.2.0",
            "_model_name": "LayoutModel",
            "_view_count": null,
            "_view_module": "@jupyter-widgets/base",
            "_view_module_version": "1.2.0",
            "_view_name": "LayoutView",
            "align_content": null,
            "align_items": null,
            "align_self": null,
            "border": null,
            "bottom": null,
            "display": null,
            "flex": null,
            "flex_flow": null,
            "grid_area": null,
            "grid_auto_columns": null,
            "grid_auto_flow": null,
            "grid_auto_rows": null,
            "grid_column": null,
            "grid_gap": null,
            "grid_row": null,
            "grid_template_areas": null,
            "grid_template_columns": null,
            "grid_template_rows": null,
            "height": null,
            "justify_content": null,
            "justify_items": null,
            "left": null,
            "margin": null,
            "max_height": null,
            "max_width": null,
            "min_height": null,
            "min_width": null,
            "object_fit": null,
            "object_position": null,
            "order": null,
            "overflow": null,
            "overflow_x": null,
            "overflow_y": null,
            "padding": null,
            "right": null,
            "top": null,
            "visibility": null,
            "width": null
          }
        },
        "d98e1f84a4224ac2b490c92f3d194fea": {
          "model_module": "@jupyter-widgets/controls",
          "model_name": "ProgressStyleModel",
          "model_module_version": "1.5.0",
          "state": {
            "_model_module": "@jupyter-widgets/controls",
            "_model_module_version": "1.5.0",
            "_model_name": "ProgressStyleModel",
            "_view_count": null,
            "_view_module": "@jupyter-widgets/base",
            "_view_module_version": "1.2.0",
            "_view_name": "StyleView",
            "bar_color": null,
            "description_width": ""
          }
        },
        "f2d524d60fe649a7ba6a3ddb8169a970": {
          "model_module": "@jupyter-widgets/base",
          "model_name": "LayoutModel",
          "model_module_version": "1.2.0",
          "state": {
            "_model_module": "@jupyter-widgets/base",
            "_model_module_version": "1.2.0",
            "_model_name": "LayoutModel",
            "_view_count": null,
            "_view_module": "@jupyter-widgets/base",
            "_view_module_version": "1.2.0",
            "_view_name": "LayoutView",
            "align_content": null,
            "align_items": null,
            "align_self": null,
            "border": null,
            "bottom": null,
            "display": null,
            "flex": null,
            "flex_flow": null,
            "grid_area": null,
            "grid_auto_columns": null,
            "grid_auto_flow": null,
            "grid_auto_rows": null,
            "grid_column": null,
            "grid_gap": null,
            "grid_row": null,
            "grid_template_areas": null,
            "grid_template_columns": null,
            "grid_template_rows": null,
            "height": null,
            "justify_content": null,
            "justify_items": null,
            "left": null,
            "margin": null,
            "max_height": null,
            "max_width": null,
            "min_height": null,
            "min_width": null,
            "object_fit": null,
            "object_position": null,
            "order": null,
            "overflow": null,
            "overflow_x": null,
            "overflow_y": null,
            "padding": null,
            "right": null,
            "top": null,
            "visibility": null,
            "width": null
          }
        },
        "da6eb447a73648b6a8945aaa4b239cb5": {
          "model_module": "@jupyter-widgets/controls",
          "model_name": "DescriptionStyleModel",
          "model_module_version": "1.5.0",
          "state": {
            "_model_module": "@jupyter-widgets/controls",
            "_model_module_version": "1.5.0",
            "_model_name": "DescriptionStyleModel",
            "_view_count": null,
            "_view_module": "@jupyter-widgets/base",
            "_view_module_version": "1.2.0",
            "_view_name": "StyleView",
            "description_width": ""
          }
        },
        "cc24443458a54495b33a0c7f7763bb5c": {
          "model_module": "@jupyter-widgets/controls",
          "model_name": "HBoxModel",
          "model_module_version": "1.5.0",
          "state": {
            "_dom_classes": [],
            "_model_module": "@jupyter-widgets/controls",
            "_model_module_version": "1.5.0",
            "_model_name": "HBoxModel",
            "_view_count": null,
            "_view_module": "@jupyter-widgets/controls",
            "_view_module_version": "1.5.0",
            "_view_name": "HBoxView",
            "box_style": "",
            "children": [
              "IPY_MODEL_d6b365157aa94949a53b600ab41d4f2b",
              "IPY_MODEL_c100142a51c8492d8c82bc0ba277420d",
              "IPY_MODEL_6482b54cfe274659b5bc6f896fd51675"
            ],
            "layout": "IPY_MODEL_a1789b6c64d24221a8fd74e2d1425cd8"
          }
        },
        "d6b365157aa94949a53b600ab41d4f2b": {
          "model_module": "@jupyter-widgets/controls",
          "model_name": "HTMLModel",
          "model_module_version": "1.5.0",
          "state": {
            "_dom_classes": [],
            "_model_module": "@jupyter-widgets/controls",
            "_model_module_version": "1.5.0",
            "_model_name": "HTMLModel",
            "_view_count": null,
            "_view_module": "@jupyter-widgets/controls",
            "_view_module_version": "1.5.0",
            "_view_name": "HTMLView",
            "description": "",
            "description_tooltip": null,
            "layout": "IPY_MODEL_1e2fe805e2ec40b59a73b15187c96c94",
            "placeholder": "​",
            "style": "IPY_MODEL_17ff5a6cf7f24391bc3f1e275cc307c3",
            "value": "100%"
          }
        },
        "c100142a51c8492d8c82bc0ba277420d": {
          "model_module": "@jupyter-widgets/controls",
          "model_name": "FloatProgressModel",
          "model_module_version": "1.5.0",
          "state": {
            "_dom_classes": [],
            "_model_module": "@jupyter-widgets/controls",
            "_model_module_version": "1.5.0",
            "_model_name": "FloatProgressModel",
            "_view_count": null,
            "_view_module": "@jupyter-widgets/controls",
            "_view_module_version": "1.5.0",
            "_view_name": "ProgressView",
            "bar_style": "success",
            "description": "",
            "description_tooltip": null,
            "layout": "IPY_MODEL_41c622fa2d154766ab283dba7a6366d7",
            "max": 5,
            "min": 0,
            "orientation": "horizontal",
            "style": "IPY_MODEL_afda3c88f3334d7895aa642167c45beb",
            "value": 5
          }
        },
        "6482b54cfe274659b5bc6f896fd51675": {
          "model_module": "@jupyter-widgets/controls",
          "model_name": "HTMLModel",
          "model_module_version": "1.5.0",
          "state": {
            "_dom_classes": [],
            "_model_module": "@jupyter-widgets/controls",
            "_model_module_version": "1.5.0",
            "_model_name": "HTMLModel",
            "_view_count": null,
            "_view_module": "@jupyter-widgets/controls",
            "_view_module_version": "1.5.0",
            "_view_name": "HTMLView",
            "description": "",
            "description_tooltip": null,
            "layout": "IPY_MODEL_5d2ec52410a94156ae7d850a9e0f69a3",
            "placeholder": "​",
            "style": "IPY_MODEL_8932c110b4ec412f957bd01516ba1b5a",
            "value": " 5/5 [00:00&lt;00:00,  7.11ba/s]"
          }
        },
        "a1789b6c64d24221a8fd74e2d1425cd8": {
          "model_module": "@jupyter-widgets/base",
          "model_name": "LayoutModel",
          "model_module_version": "1.2.0",
          "state": {
            "_model_module": "@jupyter-widgets/base",
            "_model_module_version": "1.2.0",
            "_model_name": "LayoutModel",
            "_view_count": null,
            "_view_module": "@jupyter-widgets/base",
            "_view_module_version": "1.2.0",
            "_view_name": "LayoutView",
            "align_content": null,
            "align_items": null,
            "align_self": null,
            "border": null,
            "bottom": null,
            "display": null,
            "flex": null,
            "flex_flow": null,
            "grid_area": null,
            "grid_auto_columns": null,
            "grid_auto_flow": null,
            "grid_auto_rows": null,
            "grid_column": null,
            "grid_gap": null,
            "grid_row": null,
            "grid_template_areas": null,
            "grid_template_columns": null,
            "grid_template_rows": null,
            "height": null,
            "justify_content": null,
            "justify_items": null,
            "left": null,
            "margin": null,
            "max_height": null,
            "max_width": null,
            "min_height": null,
            "min_width": null,
            "object_fit": null,
            "object_position": null,
            "order": null,
            "overflow": null,
            "overflow_x": null,
            "overflow_y": null,
            "padding": null,
            "right": null,
            "top": null,
            "visibility": null,
            "width": null
          }
        },
        "1e2fe805e2ec40b59a73b15187c96c94": {
          "model_module": "@jupyter-widgets/base",
          "model_name": "LayoutModel",
          "model_module_version": "1.2.0",
          "state": {
            "_model_module": "@jupyter-widgets/base",
            "_model_module_version": "1.2.0",
            "_model_name": "LayoutModel",
            "_view_count": null,
            "_view_module": "@jupyter-widgets/base",
            "_view_module_version": "1.2.0",
            "_view_name": "LayoutView",
            "align_content": null,
            "align_items": null,
            "align_self": null,
            "border": null,
            "bottom": null,
            "display": null,
            "flex": null,
            "flex_flow": null,
            "grid_area": null,
            "grid_auto_columns": null,
            "grid_auto_flow": null,
            "grid_auto_rows": null,
            "grid_column": null,
            "grid_gap": null,
            "grid_row": null,
            "grid_template_areas": null,
            "grid_template_columns": null,
            "grid_template_rows": null,
            "height": null,
            "justify_content": null,
            "justify_items": null,
            "left": null,
            "margin": null,
            "max_height": null,
            "max_width": null,
            "min_height": null,
            "min_width": null,
            "object_fit": null,
            "object_position": null,
            "order": null,
            "overflow": null,
            "overflow_x": null,
            "overflow_y": null,
            "padding": null,
            "right": null,
            "top": null,
            "visibility": null,
            "width": null
          }
        },
        "17ff5a6cf7f24391bc3f1e275cc307c3": {
          "model_module": "@jupyter-widgets/controls",
          "model_name": "DescriptionStyleModel",
          "model_module_version": "1.5.0",
          "state": {
            "_model_module": "@jupyter-widgets/controls",
            "_model_module_version": "1.5.0",
            "_model_name": "DescriptionStyleModel",
            "_view_count": null,
            "_view_module": "@jupyter-widgets/base",
            "_view_module_version": "1.2.0",
            "_view_name": "StyleView",
            "description_width": ""
          }
        },
        "41c622fa2d154766ab283dba7a6366d7": {
          "model_module": "@jupyter-widgets/base",
          "model_name": "LayoutModel",
          "model_module_version": "1.2.0",
          "state": {
            "_model_module": "@jupyter-widgets/base",
            "_model_module_version": "1.2.0",
            "_model_name": "LayoutModel",
            "_view_count": null,
            "_view_module": "@jupyter-widgets/base",
            "_view_module_version": "1.2.0",
            "_view_name": "LayoutView",
            "align_content": null,
            "align_items": null,
            "align_self": null,
            "border": null,
            "bottom": null,
            "display": null,
            "flex": null,
            "flex_flow": null,
            "grid_area": null,
            "grid_auto_columns": null,
            "grid_auto_flow": null,
            "grid_auto_rows": null,
            "grid_column": null,
            "grid_gap": null,
            "grid_row": null,
            "grid_template_areas": null,
            "grid_template_columns": null,
            "grid_template_rows": null,
            "height": null,
            "justify_content": null,
            "justify_items": null,
            "left": null,
            "margin": null,
            "max_height": null,
            "max_width": null,
            "min_height": null,
            "min_width": null,
            "object_fit": null,
            "object_position": null,
            "order": null,
            "overflow": null,
            "overflow_x": null,
            "overflow_y": null,
            "padding": null,
            "right": null,
            "top": null,
            "visibility": null,
            "width": null
          }
        },
        "afda3c88f3334d7895aa642167c45beb": {
          "model_module": "@jupyter-widgets/controls",
          "model_name": "ProgressStyleModel",
          "model_module_version": "1.5.0",
          "state": {
            "_model_module": "@jupyter-widgets/controls",
            "_model_module_version": "1.5.0",
            "_model_name": "ProgressStyleModel",
            "_view_count": null,
            "_view_module": "@jupyter-widgets/base",
            "_view_module_version": "1.2.0",
            "_view_name": "StyleView",
            "bar_color": null,
            "description_width": ""
          }
        },
        "5d2ec52410a94156ae7d850a9e0f69a3": {
          "model_module": "@jupyter-widgets/base",
          "model_name": "LayoutModel",
          "model_module_version": "1.2.0",
          "state": {
            "_model_module": "@jupyter-widgets/base",
            "_model_module_version": "1.2.0",
            "_model_name": "LayoutModel",
            "_view_count": null,
            "_view_module": "@jupyter-widgets/base",
            "_view_module_version": "1.2.0",
            "_view_name": "LayoutView",
            "align_content": null,
            "align_items": null,
            "align_self": null,
            "border": null,
            "bottom": null,
            "display": null,
            "flex": null,
            "flex_flow": null,
            "grid_area": null,
            "grid_auto_columns": null,
            "grid_auto_flow": null,
            "grid_auto_rows": null,
            "grid_column": null,
            "grid_gap": null,
            "grid_row": null,
            "grid_template_areas": null,
            "grid_template_columns": null,
            "grid_template_rows": null,
            "height": null,
            "justify_content": null,
            "justify_items": null,
            "left": null,
            "margin": null,
            "max_height": null,
            "max_width": null,
            "min_height": null,
            "min_width": null,
            "object_fit": null,
            "object_position": null,
            "order": null,
            "overflow": null,
            "overflow_x": null,
            "overflow_y": null,
            "padding": null,
            "right": null,
            "top": null,
            "visibility": null,
            "width": null
          }
        },
        "8932c110b4ec412f957bd01516ba1b5a": {
          "model_module": "@jupyter-widgets/controls",
          "model_name": "DescriptionStyleModel",
          "model_module_version": "1.5.0",
          "state": {
            "_model_module": "@jupyter-widgets/controls",
            "_model_module_version": "1.5.0",
            "_model_name": "DescriptionStyleModel",
            "_view_count": null,
            "_view_module": "@jupyter-widgets/base",
            "_view_module_version": "1.2.0",
            "_view_name": "StyleView",
            "description_width": ""
          }
        },
        "dd414fda5c82419fbce6a2dcbda36b61": {
          "model_module": "@jupyter-widgets/controls",
          "model_name": "HBoxModel",
          "model_module_version": "1.5.0",
          "state": {
            "_dom_classes": [],
            "_model_module": "@jupyter-widgets/controls",
            "_model_module_version": "1.5.0",
            "_model_name": "HBoxModel",
            "_view_count": null,
            "_view_module": "@jupyter-widgets/controls",
            "_view_module_version": "1.5.0",
            "_view_name": "HBoxView",
            "box_style": "",
            "children": [
              "IPY_MODEL_4ab222aa31f343d5ab0c26ce889324be",
              "IPY_MODEL_b379d3bc5aa649ceb357671010d2b7be",
              "IPY_MODEL_fbd3ef6ec6404c61bcd1230c35f3bdd2"
            ],
            "layout": "IPY_MODEL_eaa59c2e8ef944aaaf7b16d24323f387"
          }
        },
        "4ab222aa31f343d5ab0c26ce889324be": {
          "model_module": "@jupyter-widgets/controls",
          "model_name": "HTMLModel",
          "model_module_version": "1.5.0",
          "state": {
            "_dom_classes": [],
            "_model_module": "@jupyter-widgets/controls",
            "_model_module_version": "1.5.0",
            "_model_name": "HTMLModel",
            "_view_count": null,
            "_view_module": "@jupyter-widgets/controls",
            "_view_module_version": "1.5.0",
            "_view_name": "HTMLView",
            "description": "",
            "description_tooltip": null,
            "layout": "IPY_MODEL_8505f29222ab4fe8a5f1bff7d52c53fd",
            "placeholder": "​",
            "style": "IPY_MODEL_27ef017a863d4ff68c691a551d846b2c",
            "value": "Downloading builder script: "
          }
        },
        "b379d3bc5aa649ceb357671010d2b7be": {
          "model_module": "@jupyter-widgets/controls",
          "model_name": "FloatProgressModel",
          "model_module_version": "1.5.0",
          "state": {
            "_dom_classes": [],
            "_model_module": "@jupyter-widgets/controls",
            "_model_module_version": "1.5.0",
            "_model_name": "FloatProgressModel",
            "_view_count": null,
            "_view_module": "@jupyter-widgets/controls",
            "_view_module_version": "1.5.0",
            "_view_name": "ProgressView",
            "bar_style": "success",
            "description": "",
            "description_tooltip": null,
            "layout": "IPY_MODEL_2876c9d455d34c15ad549fbcf5090ffc",
            "max": 1411,
            "min": 0,
            "orientation": "horizontal",
            "style": "IPY_MODEL_e5d77c394ef04ea5b6d12864e7383d4f",
            "value": 1411
          }
        },
        "fbd3ef6ec6404c61bcd1230c35f3bdd2": {
          "model_module": "@jupyter-widgets/controls",
          "model_name": "HTMLModel",
          "model_module_version": "1.5.0",
          "state": {
            "_dom_classes": [],
            "_model_module": "@jupyter-widgets/controls",
            "_model_module_version": "1.5.0",
            "_model_name": "HTMLModel",
            "_view_count": null,
            "_view_module": "@jupyter-widgets/controls",
            "_view_module_version": "1.5.0",
            "_view_name": "HTMLView",
            "description": "",
            "description_tooltip": null,
            "layout": "IPY_MODEL_605010482aab48feb553b6f1d6e5a222",
            "placeholder": "​",
            "style": "IPY_MODEL_881e9bc5b4ef4f5cbb376e787eac233c",
            "value": " 3.19k/? [00:00&lt;00:00, 49.0kB/s]"
          }
        },
        "eaa59c2e8ef944aaaf7b16d24323f387": {
          "model_module": "@jupyter-widgets/base",
          "model_name": "LayoutModel",
          "model_module_version": "1.2.0",
          "state": {
            "_model_module": "@jupyter-widgets/base",
            "_model_module_version": "1.2.0",
            "_model_name": "LayoutModel",
            "_view_count": null,
            "_view_module": "@jupyter-widgets/base",
            "_view_module_version": "1.2.0",
            "_view_name": "LayoutView",
            "align_content": null,
            "align_items": null,
            "align_self": null,
            "border": null,
            "bottom": null,
            "display": null,
            "flex": null,
            "flex_flow": null,
            "grid_area": null,
            "grid_auto_columns": null,
            "grid_auto_flow": null,
            "grid_auto_rows": null,
            "grid_column": null,
            "grid_gap": null,
            "grid_row": null,
            "grid_template_areas": null,
            "grid_template_columns": null,
            "grid_template_rows": null,
            "height": null,
            "justify_content": null,
            "justify_items": null,
            "left": null,
            "margin": null,
            "max_height": null,
            "max_width": null,
            "min_height": null,
            "min_width": null,
            "object_fit": null,
            "object_position": null,
            "order": null,
            "overflow": null,
            "overflow_x": null,
            "overflow_y": null,
            "padding": null,
            "right": null,
            "top": null,
            "visibility": null,
            "width": null
          }
        },
        "8505f29222ab4fe8a5f1bff7d52c53fd": {
          "model_module": "@jupyter-widgets/base",
          "model_name": "LayoutModel",
          "model_module_version": "1.2.0",
          "state": {
            "_model_module": "@jupyter-widgets/base",
            "_model_module_version": "1.2.0",
            "_model_name": "LayoutModel",
            "_view_count": null,
            "_view_module": "@jupyter-widgets/base",
            "_view_module_version": "1.2.0",
            "_view_name": "LayoutView",
            "align_content": null,
            "align_items": null,
            "align_self": null,
            "border": null,
            "bottom": null,
            "display": null,
            "flex": null,
            "flex_flow": null,
            "grid_area": null,
            "grid_auto_columns": null,
            "grid_auto_flow": null,
            "grid_auto_rows": null,
            "grid_column": null,
            "grid_gap": null,
            "grid_row": null,
            "grid_template_areas": null,
            "grid_template_columns": null,
            "grid_template_rows": null,
            "height": null,
            "justify_content": null,
            "justify_items": null,
            "left": null,
            "margin": null,
            "max_height": null,
            "max_width": null,
            "min_height": null,
            "min_width": null,
            "object_fit": null,
            "object_position": null,
            "order": null,
            "overflow": null,
            "overflow_x": null,
            "overflow_y": null,
            "padding": null,
            "right": null,
            "top": null,
            "visibility": null,
            "width": null
          }
        },
        "27ef017a863d4ff68c691a551d846b2c": {
          "model_module": "@jupyter-widgets/controls",
          "model_name": "DescriptionStyleModel",
          "model_module_version": "1.5.0",
          "state": {
            "_model_module": "@jupyter-widgets/controls",
            "_model_module_version": "1.5.0",
            "_model_name": "DescriptionStyleModel",
            "_view_count": null,
            "_view_module": "@jupyter-widgets/base",
            "_view_module_version": "1.2.0",
            "_view_name": "StyleView",
            "description_width": ""
          }
        },
        "2876c9d455d34c15ad549fbcf5090ffc": {
          "model_module": "@jupyter-widgets/base",
          "model_name": "LayoutModel",
          "model_module_version": "1.2.0",
          "state": {
            "_model_module": "@jupyter-widgets/base",
            "_model_module_version": "1.2.0",
            "_model_name": "LayoutModel",
            "_view_count": null,
            "_view_module": "@jupyter-widgets/base",
            "_view_module_version": "1.2.0",
            "_view_name": "LayoutView",
            "align_content": null,
            "align_items": null,
            "align_self": null,
            "border": null,
            "bottom": null,
            "display": null,
            "flex": null,
            "flex_flow": null,
            "grid_area": null,
            "grid_auto_columns": null,
            "grid_auto_flow": null,
            "grid_auto_rows": null,
            "grid_column": null,
            "grid_gap": null,
            "grid_row": null,
            "grid_template_areas": null,
            "grid_template_columns": null,
            "grid_template_rows": null,
            "height": null,
            "justify_content": null,
            "justify_items": null,
            "left": null,
            "margin": null,
            "max_height": null,
            "max_width": null,
            "min_height": null,
            "min_width": null,
            "object_fit": null,
            "object_position": null,
            "order": null,
            "overflow": null,
            "overflow_x": null,
            "overflow_y": null,
            "padding": null,
            "right": null,
            "top": null,
            "visibility": null,
            "width": null
          }
        },
        "e5d77c394ef04ea5b6d12864e7383d4f": {
          "model_module": "@jupyter-widgets/controls",
          "model_name": "ProgressStyleModel",
          "model_module_version": "1.5.0",
          "state": {
            "_model_module": "@jupyter-widgets/controls",
            "_model_module_version": "1.5.0",
            "_model_name": "ProgressStyleModel",
            "_view_count": null,
            "_view_module": "@jupyter-widgets/base",
            "_view_module_version": "1.2.0",
            "_view_name": "StyleView",
            "bar_color": null,
            "description_width": ""
          }
        },
        "605010482aab48feb553b6f1d6e5a222": {
          "model_module": "@jupyter-widgets/base",
          "model_name": "LayoutModel",
          "model_module_version": "1.2.0",
          "state": {
            "_model_module": "@jupyter-widgets/base",
            "_model_module_version": "1.2.0",
            "_model_name": "LayoutModel",
            "_view_count": null,
            "_view_module": "@jupyter-widgets/base",
            "_view_module_version": "1.2.0",
            "_view_name": "LayoutView",
            "align_content": null,
            "align_items": null,
            "align_self": null,
            "border": null,
            "bottom": null,
            "display": null,
            "flex": null,
            "flex_flow": null,
            "grid_area": null,
            "grid_auto_columns": null,
            "grid_auto_flow": null,
            "grid_auto_rows": null,
            "grid_column": null,
            "grid_gap": null,
            "grid_row": null,
            "grid_template_areas": null,
            "grid_template_columns": null,
            "grid_template_rows": null,
            "height": null,
            "justify_content": null,
            "justify_items": null,
            "left": null,
            "margin": null,
            "max_height": null,
            "max_width": null,
            "min_height": null,
            "min_width": null,
            "object_fit": null,
            "object_position": null,
            "order": null,
            "overflow": null,
            "overflow_x": null,
            "overflow_y": null,
            "padding": null,
            "right": null,
            "top": null,
            "visibility": null,
            "width": null
          }
        },
        "881e9bc5b4ef4f5cbb376e787eac233c": {
          "model_module": "@jupyter-widgets/controls",
          "model_name": "DescriptionStyleModel",
          "model_module_version": "1.5.0",
          "state": {
            "_model_module": "@jupyter-widgets/controls",
            "_model_module_version": "1.5.0",
            "_model_name": "DescriptionStyleModel",
            "_view_count": null,
            "_view_module": "@jupyter-widgets/base",
            "_view_module_version": "1.2.0",
            "_view_name": "StyleView",
            "description_width": ""
          }
        }
      }
    }
  },
  "nbformat": 4,
  "nbformat_minor": 0
}