{
  "cells": [
    {
      "cell_type": "markdown",
      "metadata": {
        "id": "5akM0VXmzYku"
      },
      "source": [
        "# Document Retrival with Title Embedding and IDF on Texts (DR.TEIT)\n",
        "\n",
        "In this method we used two scoring measure and aggregate them by a convex combination as below:\n",
        "$$\n",
        "λ*Similiarity_{Title Embedding} + (1-λ)*Similiarity_{TextIDF}\n",
        "$$\n",
        "\n",
        "We used LaBSE model for out embeddings. For computing title embedding similarities we used cosine similarity between query embeddings and each document's title embedding.\n",
        "\n",
        "For the second part we used character-level (2gram to 8gram). We also trained our TF-IDF transformation matrix on the Multidoc2dial2022 documnets."
      ]
    },
    {
      "cell_type": "markdown",
      "metadata": {
        "id": "i9vpLyUkzWzO"
      },
      "source": [
        "## Dataset\n",
        "### Dataset Description\n",
        "\n",
        "- **mutldoc2dial_doc.json** contains the documents that are indexed by key `domain` and `doc_id` . Each document instance includes the following,\n",
        "\n",
        "  - `doc_id`: the ID of a document;\n",
        "  - `title`: the title of the document;\n",
        "  - `domain`: the domain of the document;\n",
        "  - `doc_text`: the text content of the document (without HTML markups);\n",
        "  - `doc_html_ts`: the document content with HTML markups and the annotated spans that are indicated by `text_id` attribute, which corresponds to `id_sp`.\n",
        "  - `doc_html_raw`: the document content with HTML markups and without span annotations.\n",
        "  - `spans`: key-value pairs of all spans in the document, with `id_sp` as key. Each span includes the following,\n",
        "    - `id_sp`: the id of a  span as noted by `text_id` in  `doc_html_ts`;\n",
        "    - `start_sp`/  `end_sp`: the start/end position of the text span in `doc_text`;\n",
        "    - `text_sp`: the text content of the span.\n",
        "    - `id_sec`: the id of the (sub)section (e.g. `<p>`) or title (`<h2>`) that contains the span.\n",
        "    - `start_sec` / `end_sec`: the start/end position of the (sub)section in `doc_text`.\n",
        "    - `text_sec`: the text of the (sub)section.\n",
        "    - `title`: the title of the (sub)section.\n",
        "    - `parent_titles`: the parent titles of the `title`.\n",
        "\n",
        "- **multidoc2dial_dial_train.json** and **multidoc2dial_dial_validation.json**  contain the training and dev split of dialogue data that are indexed by key `domain` . Please note: **For test split, we only include a dummy file in this version.**\n",
        "\n",
        "  Each dialogue instance includes the following,\n",
        "\n",
        "  - `dial_id`: the ID of a dialogue;\n",
        "  - `turns`: a list of dialogue turns. Each turn includes,\n",
        "    - `turn_id`: the time order of the turn;\n",
        "    - `role`: either \"agent\" or \"user\";READ\n",
        "    - `da`: dialogue act;\n",
        "    - `references`: a list of spans with `id_sp` ,  `label` and `doc_id`. `references` is empty if a turn is for indicating previous user query not answerable or irrelevant to the document. **Note** that labels \"*precondition*\"/\"*solution*\" are fuzzy annotations that indicate whether a span is for describing a conditional context or a solution.\n",
        "    - `utterance`: the human-generated utterance based on the dialogue scene.\n",
        "Downloading the training dataset:"
      ]
    },
    {
      "cell_type": "code",
      "execution_count": 1,
      "metadata": {
        "id": "Y7XWp-rP0wqN"
      },
      "outputs": [],
      "source": [
        "def clean_text(text):\n",
        "    \"\"\"\n",
        "    Clean the given text.\n",
        "\n",
        "    :param text: input text\n",
        "    :type text: str\n",
        "    :return: cleaned string\n",
        "    \"\"\"\n",
        "    return text.strip()"
      ]
    },
    {
      "cell_type": "code",
      "execution_count": 2,
      "metadata": {
        "id": "aEuwmS7O03CH"
      },
      "outputs": [],
      "source": [
        "import json\n",
        "with open('../../dataset/multidoc2dial/v1.0/multidoc2dial_doc.json', 'r') as f:\n",
        "    multidoc2dial_doc = json.load(f)"
      ]
    },
    {
      "cell_type": "markdown",
      "metadata": {
        "id": "i2Wa65Cl1xUF"
      },
      "source": [
        "### Extracting titles"
      ]
    },
    {
      "cell_type": "code",
      "execution_count": 3,
      "metadata": {
        "colab": {
          "base_uri": "https://localhost:8080/"
        },
        "id": "J0D-IV5H0vE4",
        "outputId": "ea1ad799-36e3-4c42-a0d2-4959d6c3dfcb"
      },
      "outputs": [
        {
          "data": {
            "text/plain": [
              "['Benefits Planner: Survivors | Planning For Your Survivors | Social Security Administration#1_0',\n",
              " 'Benefits Planner: Survivors | Planning For Your Survivors | Social Security Administration#2_0',\n",
              " 'Benefits Planner: Disability | How You Apply | Social Security Administration#1_0',\n",
              " 'Benefits Planner: Disability | How You Apply | Social Security Administration#2_0',\n",
              " 'Learn what documents you will need to get a Social Security Card | Social Security Administration#2_0',\n",
              " 'Learn what documents you will need to get a Social Security Card | Social Security Administration#3_0',\n",
              " 'Learn what documents you will need to get a Social Security Card | Social Security Administration#4_0',\n",
              " 'Learn what documents you will need to get a Social Security Card | Social Security Administration#5_0',\n",
              " 'Learn what documents you will need to get a Social Security Card | Social Security Administration#6_0',\n",
              " 'Learn what documents you will need to get a Social Security Card | Social Security Administration#7_0',\n",
              " 'Learn what documents you will need to get a Social Security Card | Social Security Administration#8_0',\n",
              " 'Learn what documents you will need to get a Social Security Card | Social Security Administration#9_0',\n",
              " 'Learn what documents you will need to get a Social Security Card | Social Security Administration#10_0',\n",
              " 'Learn what documents you will need to get a Social Security Card | Social Security Administration#11_0',\n",
              " 'Learn what documents you will need to get a Social Security Card | Social Security Administration#12_0',\n",
              " 'Learn what documents you will need to get a Social Security Card | Social Security Administration#13_0',\n",
              " 'Learn what documents you will need to get a Social Security Card | Social Security Administration#14_0',\n",
              " 'Learn what documents you will need to get a Social Security Card | Social Security Administration#15_0',\n",
              " 'Learn what documents you will need to get a Social Security Card | Social Security Administration#16_0',\n",
              " 'Learn what documents you will need to get a Social Security Card | Social Security Administration#17_0',\n",
              " 'Learn what documents you will need to get a Social Security Card | Social Security Administration#18_0',\n",
              " 'Learn what documents you will need to get a Social Security Card | Social Security Administration#19_0',\n",
              " 'Learn what documents you will need to get a Social Security Card | Social Security Administration#20_0',\n",
              " 'Benefits Planner: Retirement | Online Calculator (WEP Version)#1_0',\n",
              " 'Disability Benefits | Social Security Administration#1_0',\n",
              " 'Disability Benefits | Social Security Administration#2_0',\n",
              " 'Benefits Planner: Retirement | Benefits For Your Family | Social Security Administration#1_0',\n",
              " 'Benefits Planner: Retirement | Benefits For Your Family | Social Security Administration#2_0',\n",
              " 'How To Apply For Social Security Disability Benefits#1_0',\n",
              " 'How To Apply For Social Security Disability Benefits#3_0',\n",
              " 'Benefits Planner: Disability | Family Benefits | Social Security Administration#1_0',\n",
              " 'Benefits Planner: Disability | Family Benefits | Social Security Administration#2_0',\n",
              " 'Benefits Planner | Social Security Administration#1_0',\n",
              " 'Benefits Planner | Social Security Administration#2_0',\n",
              " 'Benefits Planner: Retirement | Government Pension Offset (GPO) Calculator | Social Security Administration#1_0',\n",
              " 'Benefits Planner: Retirement | Government Pension Offset (GPO) Calculator | Social Security Administration#2_0',\n",
              " 'Benefits Planner: Retirement | Benefits For Your Spouse | Social Security Administration#1_0',\n",
              " 'Benefits Planner: Retirement | Benefits For Your Spouse | Social Security Administration#2_0',\n",
              " 'Retirement Benefits | Social Security Administration#1_0',\n",
              " 'Retirement Benefits | Social Security Administration#2_0',\n",
              " 'Benefits Planner: Retirement | Other Things to Consider | Social Security Administration#1_0',\n",
              " 'Benefits Planner: Retirement | Other Things to Consider | Social Security Administration#2_0',\n",
              " 'Retirement Estimator | Social Security Administration#1_0',\n",
              " 'Retirement Estimator | Social Security Administration#2_0',\n",
              " 'Benefits Planner: Disability | Approval Process | Social Security Administration#1_0',\n",
              " 'Benefits Planner: Disability | Approval Process | Social Security Administration#2_0',\n",
              " 'Benefits Planner: Survivors | How You Apply | Social Security Administration#1_0',\n",
              " 'Benefits Planner: Survivors | How You Apply | Social Security Administration#2_0',\n",
              " 'my Social Security | Security and Protection | Social Security Administration#1_0',\n",
              " 'my Social Security | Security and Protection | Social Security Administration#2_0',\n",
              " 'Benefits Planner: Retirement | If You Are Divorced | Social Security Administration#1_0',\n",
              " 'Benefits Planner: Disability | Social Security Administration#1_0',\n",
              " 'Benefits Planner: Disability | Social Security Administration#2_0',\n",
              " 'Direct Deposit | Social Security Administration#1_0',\n",
              " 'Direct Deposit | Social Security Administration#2_0',\n",
              " 'my Social Security | Create an Account | Social Security Administratio#1_0',\n",
              " 'my Social Security | Create an Account | Social Security Administratio#2_0',\n",
              " 'Explore The Benefits You May Be Due#1_0',\n",
              " 'Explore The Benefits You May Be Due#2_0',\n",
              " 'Benefits Planner: Retirement | Delayed Retirement Credits | Social Security Administration#1_0',\n",
              " 'Benefits Planner: Retirement | Delayed Retirement Credits | Social Security Administration#2_0',\n",
              " 'Supplemental Security Income (SSI) Benefits | Social Security Administration#1_0',\n",
              " 'Supplemental Security Income (SSI) Benefits | Social Security Administration#2_0',\n",
              " 'Benefits Planner: Retirement | Benefits By Year Of Birth | Social Security Administration#1_0',\n",
              " 'Benefits Planner: Retirement | Benefits By Year Of Birth | Social Security Administration#2_0',\n",
              " 'Benefits Planner: Disability | Are You Working | Social Security Administration#1_0',\n",
              " 'Benefits Planner: Disability | Are You Working | Social Security Administration#2_0',\n",
              " 'Appeal A Decision | Social Security Administration#1_0',\n",
              " 'Appeal A Decision | Social Security Administration#2_0',\n",
              " 'Benefits Planner: Survivors | If You Are The Survivor | Social Security Administration#1_0',\n",
              " 'Benefits Planner: Survivors | If You Are The Survivor | Social Security Administration#2_0',\n",
              " 'Benefits Planner: Disability | How You Qualify | Social Security Administration#1_0',\n",
              " 'Benefits Planner: Disability | How You Qualify | Social Security Administration#2_0',\n",
              " 'Benefit Verification Letter  | Social Security Administration#1_0',\n",
              " 'Benefit Verification Letter  | Social Security Administration#2_0',\n",
              " 'Benefits Planner: Retirement | Getting Benefits While Working | Social Security Administration#1_0',\n",
              " 'Benefits Planner: Retirement | Getting Benefits While Working | Social Security Administration#2_0',\n",
              " 'Benefits Planner: Retirement | You Can Apply For Retirement Benefits Or Medicare | Social Security Administration#1_0',\n",
              " 'Benefits Planner: Retirement | You Can Apply For Retirement Benefits Or Medicare | Social Security Administration#2_0',\n",
              " 'Medicare Benefits | Social Security Administration#1_0',\n",
              " 'Medicare Benefits | Social Security Administration#2_0',\n",
              " 'Change of Address| Social Security Administration#1_0',\n",
              " 'Change of Address| Social Security Administration#2_0',\n",
              " 'Benefits for People with Disabilities#1_0',\n",
              " 'Benefits Planner: Retirement | Applying for Medicare Only | Social Security Administration#1_0',\n",
              " 'Benefits Planner: Retirement | Applying for Medicare Only | Social Security Administration#2_0',\n",
              " 'Apply For A Child (Under Age 18) | Disability Benefits | SSA#1_0',\n",
              " 'Apply For A Child (Under Age 18) | Disability Benefits | SSA#2_0',\n",
              " 'Social Security Direct Deposit | Social Security Administration#1_0',\n",
              " 'Social Security Direct Deposit | Social Security Administration#2_0',\n",
              " 'Manage Your Retirement Benefits | SSA#1_0',\n",
              " 'Learn About Retirement Benefits | SSA#1_0',\n",
              " 'Benefits Planner: Retirement | Medicare Premiums | SSA#1_0',\n",
              " 'Benefits Planner: Retirement | Medicare Premiums | SSA#2_0',\n",
              " 'Benefits Planner | Social Security Credits and Benefit Eligibility | SSA#1_0',\n",
              " 'Benefits Planner | Social Security Credits and Benefit Eligibility | SSA#2_0',\n",
              " 'Apply for Retirement Benefits | SSA#1_0',\n",
              " 'Learn what documents you will need to get a Social Security Card | Social Security Administration#2_0_1',\n",
              " 'Learn what documents you will need to get a Social Security Card | Social Security Administration#4_0_1',\n",
              " 'Learn what documents you will need to get a Social Security Card | Social Security Administration#4_0_1_2',\n",
              " 'Learn what documents you will need to get a Social Security Card | Social Security Administration#6_0_1_2',\n",
              " 'Learn what documents you will need to get a Social Security Card | Social Security Administration#6_0_1_2_3',\n",
              " 'Learn what documents you will need to get a Social Security Card | Social Security Administration#6_0_1_2_3_4',\n",
              " 'Learn what documents you will need to get a Social Security Card | Social Security Administration#7_0_1_2',\n",
              " 'Learn what documents you will need to get a Social Security Card | Social Security Administration#8_0_1_2',\n",
              " 'Learn what documents you will need to get a Social Security Card | Social Security Administration#10_0_1',\n",
              " 'Learn what documents you will need to get a Social Security Card | Social Security Administration#11_0_1',\n",
              " 'Learn what documents you will need to get a Social Security Card | Social Security Administration#12_0_1_2',\n",
              " 'Learn what documents you will need to get a Social Security Card | Social Security Administration#13_0_1',\n",
              " 'Tuition Assistance Top-Up | Veterans Affairs#1_0',\n",
              " 'Multiple party or contested claims | Veterans Affairs#1_0',\n",
              " 'About VA Disability Ratings | Veterans Affairs#1_0',\n",
              " 'VA Home Loan Programs For Surviving Spouses | Veterans Affairs#1_0',\n",
              " 'Request Your Military Service Records | Veterans Affairs#1_0',\n",
              " 'About VA Health Benefits | Veterans Affairs#1_0',\n",
              " 'Change Your VA Direct Deposit Information | Veterans Affairs#1_0',\n",
              " 'After You Apply For Health Care Benefits | Veterans Affairs#1_0',\n",
              " 'Schedule And View VA Appointments Online | Veterans Affairs#1_0',\n",
              " 'Military Sexual Trauma (MST) | Veterans Affairs#1_0',\n",
              " 'VA Clothing Allowance | Veterans Affairs#1_0',\n",
              " 'VA Disability Compensation For PTSD | Veterans Affairs#1_0',\n",
              " 'Exposure To Specific Environmental Hazards | Veterans Affairs#1_0',\n",
              " 'VA decision reviews and appeals | Veterans Affairs#1_0',\n",
              " 'How To Apply For The GI Bill | Veterans Affairs#1_0',\n",
              " 'Change Your GI Bill School Or Program | Veterans Affairs#1_0',\n",
              " 'Substance Use Treatment For Veterans | Veterans Affairs#1_0',\n",
              " 'Fully Developed Claim For A VA Pension | Veterans Affairs#1_0',\n",
              " 'Check Your VA Claim Or Appeal Status | Veterans Affairs#1_0',\n",
              " 'Totally Disabled Or Terminally Ill Policyholders | Veterans Affairs#1_0',\n",
              " 'Affordable Care Act (ACA) And Your Coverage | Veterans Affairs#1_0',\n",
              " 'VA Mental Health Services | Veterans Affairs#1_0',\n",
              " 'Careers And Employment | Veterans Affairs#1_0',\n",
              " 'Careers And Employment | Veterans Affairs#2_0',\n",
              " 'Reconstruct Military Records Destroyed In NPRC Fire | Veterans Affairs#1_0',\n",
              " 'VA Help To Avoid Mortgage Foreclosure | Veterans Affairs#1_0',\n",
              " 'VA Disability Compensation | Veterans Affairs#1_0',\n",
              " 'VA Disability Compensation | Veterans Affairs#2_0',\n",
              " 'Insurance claims | Veterans Affairs#1_0',\n",
              " 'Tutorial Assistance | Veterans Affairs#1_0',\n",
              " 'VA Housing Assistance | Veterans Affairs#1_0',\n",
              " 'VA Housing Assistance | Veterans Affairs#2_0',\n",
              " 'How To Apply For VA Voc Rehab And Employment | Veterans Affairs#1_0',\n",
              " 'Upload Evidence To Support Your Disability Claim | Veterans Affairs#1_0',\n",
              " 'Service-Disabled Veterans Life Insurance (S-DVI) | Veterans Affairs#1_0',\n",
              " 'VA Vision Care | Veterans Affairs#1_0',\n",
              " 'Family And Caregiver Health Benefits | Veterans Affairs#1_0',\n",
              " 'Agent Orange Exposure In Vietnam Or Korea | Veterans Affairs#1_0',\n",
              " 'VA.gov Home | Veterans Affairs#1_0',\n",
              " 'Agent Orange Exposure | Veterans Affairs#1_0',\n",
              " 'VA Education Benefits | Veterans Affairs#1_0',\n",
              " 'VA Education Benefits | Veterans Affairs#2_0',\n",
              " 'Aid And Attendance Benefits And Housebound Allowance | VA.gov#1_0',\n",
              " 'VA Benefits For Service Members | Veterans Affairs#1_0',\n",
              " 'VA Benefits For Service Members | Veterans Affairs#2_0',\n",
              " 'Employment Benefits For Dependent Family Members | Veterans Affairs#1_0',\n",
              " 'Get Your VA Medical Records Online | Veterans Affairs#1_0',\n",
              " 'Print Out Your VA Welcome Kit | Veterans Affairs#1_0',\n",
              " 'VA Life Insurance | Veterans Affairs#1_0',\n",
              " 'VA Life Insurance | Veterans Affairs#2_0',\n",
              " 'VA Dental Care | Veterans Affairs#1_0',\n",
              " 'Veterans’ Mortgage Life Insurance (VMLI) | Veterans Affairs#1_0',\n",
              " 'VR&E Self-Employment Track | Veterans Affairs#1_0',\n",
              " 'Eligibility For VA Health Care | Veterans Affairs#1_0',\n",
              " 'Veterans’ Group Life Insurance (VGLI) | Veterans Affairs#1_0',\n",
              " 'Your Health Care Costs | Veterans Affairs#1_0',\n",
              " 'Health Needs And Conditions | Veterans Affairs#1_0',\n",
              " 'Educational And Career Counseling (VA Chapter 36) | Veterans Affairs#1_0',\n",
              " 'VA Pension Benefits | Veterans Affairs#1_0',\n",
              " 'VA Pension Benefits | Veterans Affairs#2_0',\n",
              " 'GI Bill | Veterans Affairs#1_0',\n",
              " 'Exposure To Hazardous Chemicals And Materials | Veterans Affairs#1_0',\n",
              " 'Request a Board Appeal | Veterans Affairs#1_0',\n",
              " 'Post-9/11 GI Bill | Veterans Affairs#1_0',\n",
              " 'VA Agent Orange Registry Exam | Veterans Affairs#1_0',\n",
              " 'CHAMPVA Benefits | Veterans Affairs#1_0',\n",
              " 'VA Education Benefits For Survivors And Dependents | Veterans Affairs#1_0',\n",
              " 'VA Health Care And Other Insurance | Veterans Affairs#1_0',\n",
              " 'Family Group Life Insurance (FSGLI) | Veterans Affairs#1_0',\n",
              " 'Veterans Vocational Rehabilitation Programs | Veterans Affairs#1_0',\n",
              " 'Get Help Filing Your Claim Or Appeal | Veterans Affairs#1_0',\n",
              " 'Disability Housing Grants For Veterans | Veterans Affairs#1_0',\n",
              " 'Eligibility For Veterans Pension | Veterans Affairs#1_0',\n",
              " 'Ionizing Radiation Exposure | Veterans Affairs#1_0',\n",
              " 'Reserve Educational Assistance Program (REAP) | Veterans Affairs#1_0',\n",
              " \"VA Individual Unemployability If You Can't Work | Veterans Affairs#1_0\",\n",
              " 'Agent Orange Exposure On Navy Or Coast Guard Ships | Veterans Affairs#1_0',\n",
              " 'Yellow Ribbon Program | Veterans Affairs#1_0',\n",
              " 'Active-Duty Service Members And VA Health Care | Veterans Affairs#1_0',\n",
              " 'VR&E Independent Living Track | Veterans Affairs#1_0',\n",
              " 'Traumatic Injury Protection (TSGLI) | Veterans Affairs#1_0',\n",
              " 'VA Nursing Homes And Assisted Living | Veterans Affairs#1_0',\n",
              " 'Survivors’ And Dependents’ Educational Assistance | Veterans Affairs#1_0',\n",
              " 'About VA Insurance Options And Eligibility | Veterans Affairs#1_0',\n",
              " 'VA Family Caregiver Assistance Program | Veterans Affairs#1_0',\n",
              " 'VA Vocational Rehabilitation (Chapter 31) | Veterans Affairs#1_0',\n",
              " 'Eligibility For VA Disability Benefits | Veterans Affairs#1_0',\n",
              " 'Frequently asked questions about decision reviews | Veterans Affairs#1_0',\n",
              " 'Work Study | Veterans Affairs#1_0',\n",
              " 'Montgomery GI Bill Active Duty (MGIB-AD) | Veterans Affairs#1_0',\n",
              " 'View Your VA Payment History | Veterans Affairs#1_0',\n",
              " 'Board hearings with a Veterans Law Judge | Veterans Affairs#1_0',\n",
              " 'Add Dependents To Your VA Disability Benefits | Veterans Affairs#1_0',\n",
              " 'VA claim exam (C&P exam) | Veterans Affairs#1_0',\n",
              " 'Eligibility For VA Vocational Rehab And Employment | Veterans Affairs#1_0',\n",
              " 'Get A Veteran Health Identification Card (VHIC) | Veterans Affairs#1_0',\n",
              " 'Transfer Your Post-9/11 GI Bill Benefits | Veterans Affairs#1_0',\n",
              " 'Access Your VA Life Insurance Policy Online | Veterans Affairs#1_0',\n",
              " 'VA Dental Insurance Program (VADIP) | Veterans Affairs#1_0',\n",
              " 'Fry Scholarships | Veterans Affairs#1_0',\n",
              " 'Servicemembers’ Group Life Insurance (SGLI) | Veterans Affairs#1_0',\n",
              " 'VR&E Reemployment Track | Veterans Affairs#1_0',\n",
              " 'Agent Orange Exposure From C-123 Aircraft | Veterans Affairs#1_0',\n",
              " 'Increased Disability Rating For Time In A Hospital | Veterans Affairs#1_0',\n",
              " 'Veterans’ Educational Assistance Program (VEAP) | Veterans Affairs#1_0',\n",
              " 'Camp Lejeune Water Contamination Health Issues | Veterans Affairs#1_0',\n",
              " \"Where You'll Go For Care | Veterans Affairs#1_0\",\n",
              " 'Pre-Need Eligibility For Burial In A VA Cemetery | Veterans Affairs#1_0',\n",
              " 'VA Title 38 U.S.C. 1151 Claims | Veterans Affairs#1_0',\n",
              " 'VA Health Care | Veterans Affairs#1_0',\n",
              " 'VA Health Care | Veterans Affairs#2_0',\n",
              " 'PTSD Treatment | Veterans Affairs#1_0',\n",
              " 'After You Apply For An Eligibility Determination | Veterans Affairs#1_0',\n",
              " 'Types Of Veteran ID Cards | Veterans Affairs#1_0',\n",
              " 'Co-op Training | Veterans Affairs#1_0',\n",
              " 'Request a Higher-Level Review | Veterans Affairs#1_0',\n",
              " 'Undergraduate And Graduate Degrees | Veterans Affairs#1_0',\n",
              " 'Exposure Through Project 112 Or Project SHAD | Veterans Affairs#1_0',\n",
              " 'Temporary Disability Rating After Surgery Or Cast | Veterans Affairs#1_0',\n",
              " 'Eligibility Requirements For VA Home Loan Programs | Veterans Affairs#1_0',\n",
              " \"Women's Health Care Needs | Veterans Affairs#1_0\",\n",
              " 'VA Survivors Pension | Veterans Affairs#1_0',\n",
              " 'How To Apply For VA Health Care | Veterans Affairs#1_0',\n",
              " 'File a Supplemental Claim with new evidence | Veterans Affairs#1_0',\n",
              " 'How To Apply For A VA Home Loan COE | Veterans Affairs#1_0',\n",
              " 'Foreign Programs | Veterans Affairs#1_0',\n",
              " 'National Call To Service Program | Veterans Affairs#1_0',\n",
              " 'Benefits For Spouses And Dependents (VA DIC) | Veterans Affairs#1_0',\n",
              " 'Mustard Gas Or Lewisite Exposure | Veterans Affairs#1_0',\n",
              " 'Veterans Technology Education Courses | Veterans Affairs#1_0',\n",
              " 'Fiduciary claims | Veterans Affairs#1_0',\n",
              " 'What To Expect After You Get A Disability Rating | Veterans Affairs#1_0',\n",
              " 'How To Apply For A Veteran ID Card | Veterans Affairs#1_0',\n",
              " 'Veteran Suicide Prevention | Veterans Affairs#1_0',\n",
              " 'GI Bill Eligibility | Veterans Affairs#1_0',\n",
              " 'Schedule A Burial For A Veteran Or Family Member | Veterans Affairs#1_0',\n",
              " 'Special Claims | Veterans Affairs#1_0',\n",
              " 'Your VA Primary Care Provider | Veterans Affairs#1_0',\n",
              " 'Registrations#3_0',\n",
              " 'Refunds and transfer credits for surrendered plates#3_0',\n",
              " 'Appeal a TVB ticket conviction#1_0',\n",
              " 'Top 5 DMV Mistakes and How to Avoid Them#3_0',\n",
              " 'Renew Driving School License#3_0',\n",
              " 'Surrender (return or turn in) your plates to the DMV#3_0',\n",
              " 'The Impaired Driver Program - Alcohol & Drug Rehabilitation Program#3_0',\n",
              " 'DIAL-IN search accounts#3_0',\n",
              " 'Prepare for your road test#3_0',\n",
              " 'Commercial vehicle registration fees, vehicle use taxes and supplemental fees#3_0',\n",
              " 'Renew non-driver ID card#1_0',\n",
              " 'New York State Insurance Requirements#3_0',\n",
              " 'Replace a title certificate#1_0',\n",
              " 'About complaints and charges for repair and body shops#3_0',\n",
              " 'Register a moped#1_0',\n",
              " 'About point reduction#3_0',\n",
              " 'Schedule and take a road test#1_0',\n",
              " \"Medical Certification FAQ's#3_0\",\n",
              " 'Traffic Violations Bureau#3_0',\n",
              " 'Estimate registration fees and taxes#1_0',\n",
              " 'Order personalized plates#1_0',\n",
              " 'Replace license or permit#1_0',\n",
              " 'How insurance premium reduction works#3_0',\n",
              " 'Get a license to drive a taxi or livery vehicle#3_0',\n",
              " 'Remove a lienholder from a title#1_0',\n",
              " 'Commercial Driver License Downgrades#3_0',\n",
              " 'Register a vehicle I bought at a sheriff or marshal auction#3_0',\n",
              " 'Passenger vehicle registration fees, use taxes and supplemental fees#3_0',\n",
              " 'Stolen and recovered vehicles#3_0',\n",
              " 'Temporary surrender of vehicle plates (store plates for a season)#3_0',\n",
              " 'About problem driver restrictions#3_0',\n",
              " 'ATVs: Information for Owners and Operators#3_0',\n",
              " 'Escort driver certification#1_0',\n",
              " 'Get a copy of a TVB ticket#1_0',\n",
              " 'Amend or replace a business license for a repair or body shop#3_0',\n",
              " 'Get email and/or text reminders#1_0',\n",
              " 'File a Freedom of Information Law (FOIL) request#1_0',\n",
              " 'About the NYS Driver Point System#3_0',\n",
              " 'Tickets received in another state#3_0',\n",
              " 'Get a motorcycle license#1_0',\n",
              " 'Register a vehicle#1_0',\n",
              " 'Surrender IRP registration and plates#1_0',\n",
              " 'About Private Service Bureau Licenses#1_0',\n",
              " 'Conditional and restricted use licenses#3_0',\n",
              " 'Get a learner permit#1_0',\n",
              " 'Open an inspection station#1_0',\n",
              " 'Know Your Rights in Auto Repair#3_0',\n",
              " 'Changes to IRP registration#1_0',\n",
              " 'Pay driver responsibility assessment#1_0',\n",
              " 'Register a leased vehicle#1_0',\n",
              " 'Creating a MyDMV account#1_0',\n",
              " 'How to get my own driving record (abstract)#1_0',\n",
              " 'Insurance lapses#3_0',\n",
              " \"Register a pick-up truck as 'passenger' class vehicles#1_0\",\n",
              " 'Open a repair or body shop#3_0',\n",
              " 'Get my own CDL driving record (abstract)#1_0',\n",
              " 'Renew a hazardous materials (HazMat) endorsement#1_0',\n",
              " 'About complaints and charges for inspection stations and certified inspectors#3_0',\n",
              " 'Escrow accounts#3_0',\n",
              " 'Learner permit restrictions#3_0',\n",
              " 'Signing in to MyDMV#1_0',\n",
              " 'How to replace a registration#1_0',\n",
              " 'Provide proof of insurance#1_0',\n",
              " 'Respond to DMV insurance letters and orders#3_0',\n",
              " 'Renew a business license or registration#1_0',\n",
              " 'Get a  hazardous materials (HazMat) endorsement#3_0',\n",
              " 'Moving to NY#3_0',\n",
              " 'Get a military skills test waiver#1_0',\n",
              " 'Point & Insurance Reduction Program#3_0',\n",
              " 'Open a dealership#3_0',\n",
              " 'Transfer IRP registration#1_0',\n",
              " 'How to change information on DMV documents#3_0',\n",
              " 'Register a vehicle when you are out-of-state#1_0',\n",
              " 'How to check a title or lien status#1_0',\n",
              " 'Sales tax information#3_0',\n",
              " 'Get an Accident Report#1_0',\n",
              " 'Exchange your out-of-state driver license#1_0',\n",
              " 'How to change your address#1_0',\n",
              " 'Order picture and professional plates#1_0',\n",
              " 'Pay driver civil penalty#1_0',\n",
              " 'Learn about picture and professional plates#3_0',\n",
              " 'The Graduated License Law and Restrictions for Drivers under 18#1_0',\n",
              " 'Replace or transfer personalized plates#1_0',\n",
              " 'FAQ for TNC Drivers#3_0',\n",
              " 'Resources for non US citizens#3_0',\n",
              " 'A Guide for Facilities:#3_0',\n",
              " 'MyDMV Account Terms of Service#1_0',\n",
              " 'Register an out-of-state vehicle#1_0',\n",
              " 'Voter Registration Application Frequently Asked Questions#1_0',\n",
              " 'Replace IRP registration items#1_0',\n",
              " 'Vehicle modifications and registration class#3_0',\n",
              " 'Information about transaction entries#3_0',\n",
              " 'Driving in New York State#3_0',\n",
              " 'General information for dealers and transporters#3_0',\n",
              " 'Registration suspensions for failure to pay tolls#3_0',\n",
              " 'Medical Certification Requirements#3_0',\n",
              " 'Help finding enough proof of ID#3_0',\n",
              " 'Information about Empire Gold plates#1_0',\n",
              " 'Register a snowmobile#1_0',\n",
              " 'Pay insurance lapse civil penalty#1_0',\n",
              " 'About New York State Inspections#3_0',\n",
              " 'Exchange a NY State driver license for a non-driver ID card#1_0',\n",
              " 'Plead to or pay TVB tickets#1_0',\n",
              " 'About online and alternative delivery method courses (I-PIRP/ADM)#3_0',\n",
              " 'Buy or sell a vehicle (transfer ownership)#3_0',\n",
              " 'How to renew a license#1_0',\n",
              " 'Veteran status designation on a photo document#3_0',\n",
              " 'Information and Instructions About Your Certificate of Title#3_0',\n",
              " 'Open a driving school#3_0',\n",
              " 'Unsatisfied Judgments#3_0',\n",
              " 'Suspensions and revocations#3_0',\n",
              " 'Lost, stolen, or destroyed plates#3_0',\n",
              " 'Get a vehicle registration or title record (abstract)#1_0',\n",
              " 'Federal REAL ID#3_0',\n",
              " 'Moving out of New York State#3_0',\n",
              " 'NY State Adventure License FAQs#3_0',\n",
              " 'About complaints and charges for dealer and transporter businesses#3_0',\n",
              " 'Vision requirements & restrictions#3_0',\n",
              " 'Driver license and learner permit fees and refunds#3_0',\n",
              " 'Renew a CDL#1_0',\n",
              " 'Replace a non-driver ID card#1_0',\n",
              " 'Change name on title after lease buyout#3_0',\n",
              " 'Get a driver license#1_0',\n",
              " 'Get a CDL#1_0',\n",
              " 'Register an ATV#1_0',\n",
              " 'How to renew a registration#1_0',\n",
              " 'California emissions standards#3_0',\n",
              " 'Pay suspension termination fee#1_0',\n",
              " 'How to transfer a registration to another vehicle#3_0',\n",
              " 'Restore license after revocation#1_0',\n",
              " 'Automatic license and registration extension for military personnel#3_0',\n",
              " 'Become a driving school instructor#3_0',\n",
              " 'Tickets received in New York City#3_0',\n",
              " 'In-transit vehicle permits (temporary registrations)#3_0',\n",
              " 'Let the Buyer be Aware#3_0',\n",
              " 'Parking for People with Disabilities - The Law#3_0',\n",
              " 'Proof of ownership is not available#3_0',\n",
              " 'NYS Adventure License and Adventure Custom Plates#3_0',\n",
              " 'Lifetime driving records#3_0',\n",
              " 'Transfer ownership and acceptable proofs of ownership#3_0',\n",
              " 'Requirements and forms for driving schools and instructors#3_0',\n",
              " 'Sharing your information#3_0',\n",
              " 'Adding and removing users#3_0',\n",
              " 'If a family member has died#3_0',\n",
              " 'New CDL testing and commercial learner permit (CLP) standards#3_0',\n",
              " 'Report a problem with a DMV regulated automotive business#1_0',\n",
              " 'Learn about personalized plates#3_0',\n",
              " 'Diesel inspections emission testing#3_0',\n",
              " \"Leandra's Law & ignition interlock devices#3_0\",\n",
              " 'Apply for Income-Driven Student Loan Repayment | Federal Student Aid#1_0',\n",
              " 'Preparing for College | Federal Student Aid#1_0',\n",
              " 'FAFSA® Help | Federal Student Aid#1_0',\n",
              " 'Student Loan Deferment | Federal Student Aid#1_0',\n",
              " 'Understanding College Costs | Federal Student Aid#1_0',\n",
              " 'Parent PLUS Loans | Federal Student Aid#1_0',\n",
              " 'Feedback Center#1_0',\n",
              " 'IT Standards Library | Federal Student Aid#1_0',\n",
              " 'How to Review and Correct Your FAFSA® Application | Federal Student Aid#1_0',\n",
              " 'How to Renew Your FAFSA® Application | Federal Student Aid#1_0',\n",
              " 'FAFSA® Completion by High School and Public School District | Federal Student Aid#1_0',\n",
              " 'Contracting Information | Federal Student Aid#1_0',\n",
              " 'Subsidized and Unsubsidized Loans | Federal Student Aid#1_0',\n",
              " 'Avoiding Student Aid Scams | Federal Student Aid#1_0',\n",
              " 'Student Loan Forbearance | Federal Student Aid#1_0',\n",
              " 'Getting Out of Default | Federal Student Aid#1_0',\n",
              " 'Closed School Discharge | Federal Student Aid#1_0',\n",
              " 'Work-Study Jobs | Federal Student Aid#1_0',\n",
              " 'Checklists for Academic and Financial Preparation | Federal Student Aid#1_0',\n",
              " 'Dependency Status | Federal Student Aid#1_0',\n",
              " 'PLUS Loan Application for Graduate Students | Federal Student Aid#1_0',\n",
              " 'Eligibility for Students with Criminal Convictions | Federal Student Aid#1_0',\n",
              " 'Types of Financial Aid | Federal Student Aid#1_0',\n",
              " 'Program Reviews | Federal Student Aid#1_0',\n",
              " 'Aidan | The FSA Virtual Assistant | Federal Student Aid#1_0',\n",
              " \"Co-sign Your Spouse's Income-Driven Repayment Plan Application | Federal Student Aid#1_0\",\n",
              " 'Student Aid Report | Federal Student Aid#1_0',\n",
              " 'Appeal a Credit Decision Demo | Extenuating Circumstances | Federal Student Aid#1_0',\n",
              " 'Gainful Employment | Federal Student Aid#1_0',\n",
              " 'Loan Servicers | Federal Student Aid#1_0',\n",
              " 'Unpaid Refund Discharge | Federal Student Aid#1_0',\n",
              " 'Loan Simulator | Federal Student Aid#1_0',\n",
              " 'How Aid Is Calculated | Federal Student Aid#1_0',\n",
              " 'Graduated Plan | Federal Student Aid#1_0',\n",
              " 'Comparing School Aid Offers | Federal Student Aid#1_0',\n",
              " 'Income-Driven Repayment Plans | Federal Student Aid#1_0',\n",
              " 'Exit Counseling | Federal Student Aid#1_0',\n",
              " 'How Financial Aid Works | Federal Student Aid#1_0',\n",
              " 'Teacher Loan Forgiveness | Federal Student Aid#1_0',\n",
              " 'Understand Financial Aid | Federal Student Aid#1_0',\n",
              " 'Completing a Master Promissory Note | Federal Student Aid#1_0',\n",
              " 'Gainful Employment Data | Federal Student Aid#1_0',\n",
              " 'How to Correct or Update Your FAFSA® Application | Federal Student Aid#1_0',\n",
              " 'Link to Us | Federal Student Aid#1_0',\n",
              " 'How Financial Aid Works | Federal Student Aid#2_0',\n",
              " 'Third-party Servicer Program Reviews | Federal Student Aid#1_0',\n",
              " 'Grants | Federal Student Aid#1_0',\n",
              " 'PLUS Loan Application | Federal Student Aid#1_0',\n",
              " 'Eligibility for Non-U.S. Citizens | Federal Student Aid#1_0',\n",
              " 'Income-Sensitive Plan | Federal Student Aid#1_0',\n",
              " 'Accepting Aid | Federal Student Aid#1_0',\n",
              " 'Entrance Counseling | Federal Student Aid#1_0',\n",
              " 'Get Temporary Relief | Federal Student Aid#1_0',\n",
              " 'TEACH Grant Counseling and Agreement To Serve (ATS) | Federal Student Aid#1_0',\n",
              " 'Aid for International Study | Federal Student Aid#1_0',\n",
              " 'Regaining Eligibility | Federal Student Aid#1_0',\n",
              " 'Repayment Plans | Federal Student Aid#1_0',\n",
              " 'Understanding Delinquency and Default | Federal Student Aid#1_0',\n",
              " 'Public Service Loan Forgiveness | Federal Student Aid#1_0',\n",
              " 'MPN for Graduate Students | Federal Student Aid#1_0',\n",
              " 'Staying Eligible | Federal Student Aid#1_0',\n",
              " 'Receiving Financial Aid | Federal Student Aid#1_0',\n",
              " 'Estimate Your Aid | Federal Student Aid#1_0',\n",
              " 'Perkins Loan Cancellation and Discharge | Federal Student Aid#1_0',\n",
              " 'Student Loan Consolidation | Federal Student Aid#1_0',\n",
              " 'Extended Plan | Federal Student Aid#1_0',\n",
              " 'Eligibility Requirements | Federal Student Aid#1_0',\n",
              " 'Loans | Federal Student Aid#1_0',\n",
              " 'Parent PLUS Loan Application | Federal Student Aid#1_0',\n",
              " 'Complete the Financial Aid Process | Federal Student Aid#1_0',\n",
              " 'Lower or Suspend Student Loan Payments | Federal Student Aid#1_0',\n",
              " 'Complete Federal Student Loan Counseling | Federal Student Aid#1_0',\n",
              " 'Standard Plan | Federal Student Aid#1_0',\n",
              " 'Make a Student Loan Payment | Federal Student Aid#1_0',\n",
              " 'Collections | Federal Student Aid#1_0',\n",
              " 'False Certification Discharge | Federal Student Aid#1_0',\n",
              " 'Aid for Military Families | Federal Student Aid#1_0',\n",
              " 'Listing Colleges on the FAFSA® Form | Federal Student Aid#1_0',\n",
              " 'Borrower Defense to Repayment | Federal Student Aid#1_0',\n",
              " 'Filling Out the FAFSA® Form | Federal Student Aid#1_0',\n",
              " 'Federal Versus Private Loans | Federal Student Aid#1_0',\n",
              " 'Tax Benefits for Higher Education | Federal Student Aid#1_0',\n",
              " 'Financial Aid Eligibility | Federal Student Aid#1_0',\n",
              " 'FAFSA® Application Deadlines | Federal Student Aid#1_0',\n",
              " 'Choosing a School | Federal Student Aid#1_0',\n",
              " 'Questions and Answers About FAFSA® Completion Data | Federal Student Aid#1_0',\n",
              " 'Reporting Parent Information | Federal Student Aid#1_0',\n",
              " 'Finding and Applying for Scholarships | Federal Student Aid#1_0',\n",
              " 'Loan Repayment Checklist | Federal Student Aid#1_0',\n",
              " 'Total and Permanent Disability Discharge | Federal Student Aid#1_0',\n",
              " 'Avoiding Default | Federal Student Aid#1_0',\n",
              " 'Student Loan Repayment | Federal Student Aid#1_0']"
            ]
          },
          "execution_count": 3,
          "metadata": {},
          "output_type": "execute_result"
        }
      ],
      "source": [
        "titles = []\n",
        "for doc_idx1 in multidoc2dial_doc['doc_data']:\n",
        "    for doc_idx2 in multidoc2dial_doc['doc_data'][doc_idx1]:\n",
        "        titles.append(doc_idx2)\n",
        "titles"
      ]
    },
    {
      "cell_type": "code",
      "execution_count": 4,
      "metadata": {
        "colab": {
          "base_uri": "https://localhost:8080/"
        },
        "id": "vzkTem881KQw",
        "outputId": "85161e4f-931c-4c96-afc9-599280a470cc"
      },
      "outputs": [
        {
          "data": {
            "text/plain": [
              "488"
            ]
          },
          "execution_count": 4,
          "metadata": {},
          "output_type": "execute_result"
        }
      ],
      "source": [
        "len(titles)"
      ]
    },
    {
      "cell_type": "markdown",
      "metadata": {
        "id": "ng4nYreI15Vn"
      },
      "source": [
        "### Extracting document texts"
      ]
    },
    {
      "cell_type": "code",
      "execution_count": 5,
      "metadata": {
        "colab": {
          "base_uri": "https://localhost:8080/",
          "height": 160
        },
        "id": "96D34GnE1wQL",
        "outputId": "112ac32d-9550-4145-86c9-3f848ae926d9"
      },
      "outputs": [
        {
          "data": {
            "application/vnd.google.colaboratory.intrinsic+json": {
              "type": "string"
            },
            "text/plain": [
              "\"Original Card for a Foreign Born U.S. Citizen Adult \\nImportant You must present original documents or copies certified by the agency that issued them. We cannot accept photocopies or notarized copies. All documents must be current not expired. We cannot accept a receipt showing you applied for the document. \\n\\nWhat original documents do I need? \\nCitizenship We can accept only certain documents as proof of U.S. citizenship. These include : U.S. passport ; Certificate of Naturalization N-550/N-570 ; Certificate of Citizenship N-560/N-561 ; Certificate of Report of Birth DS-1350 ; Consular Report of Birth Abroad FS-240, CRBA. Age You must present your foreign birth certificate if you have it or can get it within 10 days. If not , we will consider other documents such as your passport or a document issued by the Department of Homeland Security DHS as evidence of your age. Anyone age 12 or older requesting an original Social Security number must appear in person for an interview. We will ask for evidence to show you do not have a Social Security number. Here are examples of documents you can use to prove a Social Security number was never assigned : If you lived outside the United States for an extended period , a current or previous passport , school and/or employment records , and any other record that would show long - term residence outside the United States could be used to show you do not have a Social Security number. If you have lived in the United States and you are applying for an original Social Security number , we may ask you for information about the schools you attended or we may ask you to provide copies of tax records that would show you were never assigned a Social Security number. Identity We can accept only certain documents as proof of identity. An acceptable document must be current not expired and show your name, identifying information date of birth or age and preferably a recent photograph. For example , as proof of identity Social Security must see your : U.S. driver's license ; State - issued non - driver identification card ; or U.S. passport. If you do not have one of these specific documents or you cannot get a replacement for one of them within 10 days , we will ask to see other documents. Any documents submitted, including the following, must be current not expired and show your name, identifying information date of birth or age and preferably a recent photograph : Employee identification card ; School identification card ; Health insurance card not a Medicare card ; or U.S. military identification card. Note We may use one document for two purposes. For example , we may use your U.S. passport as proof of both citizenship and identity. However , you must provide at least two separate documents.\""
            ]
          },
          "execution_count": 5,
          "metadata": {},
          "output_type": "execute_result"
        }
      ],
      "source": [
        "doc_texts_train = []\n",
        "title_to_domain = {}\n",
        "for doc_idx1 in multidoc2dial_doc['doc_data']:\n",
        "    for doc_idx2 in multidoc2dial_doc['doc_data'][doc_idx1]:\n",
        "        doc_texts_train.append(multidoc2dial_doc['doc_data'][doc_idx1]\\\n",
        "                                          [doc_idx2]['doc_text'].strip())\n",
        "        title_to_domain[doc_idx2] = doc_idx1\n",
        "doc_texts_train[10]"
      ]
    },
    {
      "cell_type": "code",
      "execution_count": 9,
      "metadata": {
        "colab": {
          "base_uri": "https://localhost:8080/"
        },
        "id": "5UMneWQY2D-L",
        "outputId": "fbba7d5a-7b33-4823-ab7a-cd4d7e6ecdfa"
      },
      "outputs": [
        {
          "data": {
            "text/plain": [
              "488"
            ]
          },
          "execution_count": 9,
          "metadata": {},
          "output_type": "execute_result"
        }
      ],
      "source": [
        "len(doc_texts_train)"
      ]
    },
    {
      "cell_type": "markdown",
      "metadata": {
        "id": "n4UoewSm0ICB"
      },
      "source": [
        "## Encoding the sentences\n",
        "We use the LaBSE which is a Language-agnostic BERT Sentence Encoder (LaBSE) is a BERT-based model trained for sentence embedding for 109 languages. The pre-training process combines masked language modeling with translation language modeling. The model is useful for getting multilingual sentence embeddings and for bi-text retrieval."
      ]
    },
    {
      "cell_type": "code",
      "execution_count": 6,
      "metadata": {
        "colab": {
          "base_uri": "https://localhost:8080/"
        },
        "id": "HCHw5gxO0Jx-",
        "outputId": "c308d6ae-0459-4795-de48-a0611fc9cbf7"
      },
      "outputs": [],
      "source": [
        "!pip install --quiet transformers"
      ]
    },
    {
      "cell_type": "code",
      "execution_count": 38,
      "metadata": {
        "id": "D1HTJrcK0RpF"
      },
      "outputs": [],
      "source": [
        "from transformers import AutoTokenizer, AutoModel, AutoConfig\n",
        "import numpy as np\n",
        "import torch\n",
        "from torch.nn.functional import normalize\n",
        "\n",
        "from tqdm import tqdm"
      ]
    },
    {
      "cell_type": "code",
      "execution_count": 8,
      "metadata": {},
      "outputs": [],
      "source": [
        "model_name = \"setu4993/LaBSE\""
      ]
    },
    {
      "cell_type": "code",
      "execution_count": 9,
      "metadata": {
        "colab": {
          "base_uri": "https://localhost:8080/",
          "height": 209,
          "referenced_widgets": [
            "2d6229371b3f48888cf7ae4e500f1aca",
            "6c0db61181404e29b9ba126443cb68be",
            "599cf5f4c15f4f5b903ac541db250323",
            "b21bcf653f564512ab5dea583c5789c3",
            "daba5303b965431180d35f45a566223a",
            "61e5283093c84e8fb3977d55680c0ebe",
            "012a2d0f0c5e476eb1fea730679337d0",
            "5bf8e131631a4f4889ca40d61d068008",
            "eca568a4d987475fad27623d7f9b89bc",
            "b18f411fc2a940509149ec6de3682bcd",
            "4f229f630ea942808fc4409ca910b509",
            "480dbb2ea99a4b6bb83cb1daf93ba5f1",
            "0eeb0b55bb56430686ad309a8354c193",
            "5dca53399e804155929e2531e784ff0b",
            "bf0f8b5416244e009010b435ab0c87eb",
            "4d1ddd33260c491a8f0ca4925732c7eb",
            "6c0333c2e5af45f282c9034e571febe4",
            "2ed06510c33b40d0bcd32b3f9889fc88",
            "b2eca95fc8984277a99a22bbb9fd4115",
            "a29a24f2877e492f8dbf6e385a74c375",
            "1252bf97cc6645cfa10da0eebc1e493d",
            "de9b5d85a79f41ef8f457c29f126d337",
            "0d94c769220848419ceb830a26aa62f6",
            "c45efc93be6d40949c7601fcbfbc579a",
            "3452e73b3d684313bf8ac02c6e6fef9e",
            "1cd190f36d8e4da183947ac33bdb4427",
            "95041143a8a64632b7ac74cdb5e03d54",
            "5019099e40e643ce80094b65d1f454b9",
            "c2be01cd94834b5b92c978437a644450",
            "ae0fb9c5a9fa488fa7e799ebfd9c6129",
            "99fcca08935c42a3ab52f10a054b2f11",
            "81f4f4c195ec496c8d5e38466478e53a",
            "b677f675fcb84025b67b3038f4095b84",
            "0dd438c7c5ce435eae80404a219258c6",
            "85859324ca0f43c5b0b58daebabfbfc4",
            "edd2ea1535aa4c5893ade563c363e190",
            "17e3e73ae3454fb7922f928f9cca9d5f",
            "0af1dfeed2784087964a010d99a6b3da",
            "00dba09e1ff9419b8371b377d8be24b2",
            "9e5a7813ee154f7286e76795959d4457",
            "3658ad4df7704d6ca449e071e6f83da7",
            "19c7de4e0ae8487b8bef2ca39bf7eb1b",
            "df3fa0aaa40344cfb3a968d9785b6e75",
            "0285b21d865e412981252b7d61729367",
            "19313345b5754eb5b46e1b01c0332b6e",
            "a8a49bf8988348728fcd521b9b719a05",
            "96d415a009f64a52a25da0e98f25c64f",
            "1ce7c4b5d68f46c992745dd79192100c",
            "92cc40bdbe1f455293a64ada9fb1cab8",
            "7fcd2ca4656d4dd8b03f842a2e3b3e97",
            "6283ac5e43be4589bd5ab2b3ce724228",
            "314b44fc1a5c4010a5a05d5b4792c609",
            "f19f011826ea423da7042ad2ac848491",
            "aa9b313329994f82b74435566930a5de",
            "deb33f4baea545f788409f7054d708ae",
            "c854b2e8a5164ce89d55f2d8b8c69464",
            "d12d7c5be4194898bb90cbaa62de3a29",
            "ecf38661e3de4100ab8d88323df42a18",
            "ec0b678043ab4866929ca7fe184920a1",
            "cd715e5ed1064f29a0eaadce0772d80e",
            "7d50be5006434e32904e8a4da3e771d3",
            "acadc719dacf40ec8d20a21e8b9439c9",
            "47c0ed7b6f9345e8a75643da152954bb",
            "fdfb26703f264969a356288e14cab1d6",
            "f1b2f1f8592c4c6aa4161186040938c0",
            "e353dc26f0a048fd9f28619cffb9681c"
          ]
        },
        "id": "qQt2XKKv0WS1",
        "outputId": "c4c3b5fb-647e-4c34-b7bd-a9b2e3776f04"
      },
      "outputs": [
        {
          "data": {
            "application/vnd.jupyter.widget-view+json": {
              "model_id": "b3999ce9fdd04b8282cbbb97eed8f6f8",
              "version_major": 2,
              "version_minor": 0
            },
            "text/plain": [
              "Downloading:   0%|          | 0.00/300 [00:00<?, ?B/s]"
            ]
          },
          "metadata": {},
          "output_type": "display_data"
        },
        {
          "data": {
            "application/vnd.jupyter.widget-view+json": {
              "model_id": "3485b0e6260b42ce91d52894c46fd867",
              "version_major": 2,
              "version_minor": 0
            },
            "text/plain": [
              "Downloading:   0%|          | 0.00/4.98M [00:00<?, ?B/s]"
            ]
          },
          "metadata": {},
          "output_type": "display_data"
        },
        {
          "data": {
            "application/vnd.jupyter.widget-view+json": {
              "model_id": "89a76b9f5f794e1e85e55b3da03d0147",
              "version_major": 2,
              "version_minor": 0
            },
            "text/plain": [
              "Downloading:   0%|          | 0.00/9.18M [00:00<?, ?B/s]"
            ]
          },
          "metadata": {},
          "output_type": "display_data"
        },
        {
          "data": {
            "application/vnd.jupyter.widget-view+json": {
              "model_id": "6e3ce3ce67d64ec195a9feeac7a6c2ac",
              "version_major": 2,
              "version_minor": 0
            },
            "text/plain": [
              "Downloading:   0%|          | 0.00/112 [00:00<?, ?B/s]"
            ]
          },
          "metadata": {},
          "output_type": "display_data"
        },
        {
          "data": {
            "application/vnd.jupyter.widget-view+json": {
              "model_id": "d28da33d14e244668df722a7ce61b372",
              "version_major": 2,
              "version_minor": 0
            },
            "text/plain": [
              "Downloading:   0%|          | 0.00/576 [00:00<?, ?B/s]"
            ]
          },
          "metadata": {},
          "output_type": "display_data"
        },
        {
          "data": {
            "application/vnd.jupyter.widget-view+json": {
              "model_id": "ce7d0aada853459cbe4077601b997e43",
              "version_major": 2,
              "version_minor": 0
            },
            "text/plain": [
              "Downloading:   0%|          | 0.00/1.75G [00:00<?, ?B/s]"
            ]
          },
          "metadata": {},
          "output_type": "display_data"
        }
      ],
      "source": [
        "tokenizer = AutoTokenizer.from_pretrained(model_name)\n",
        "model = AutoModel.from_pretrained(model_name)"
      ]
    },
    {
      "cell_type": "markdown",
      "metadata": {
        "id": "ngG9eTIj0c01"
      },
      "source": [
        "### `get_embeddings`\n",
        "In this method we extract the **pooler output** (Last layer hidden-state of the first token of the sequence (classification token) after further processing through the layers used for the auxiliary pretraining task. E.g. for BERT-family of models, this returns the classification token after processing through a linear layer and a tanh activation function. The linear layer weights are trained from the next sentence prediction (classification) objective during pretraining)."
      ]
    },
    {
      "cell_type": "code",
      "execution_count": 10,
      "metadata": {
        "id": "QCTH88_t0ZD0"
      },
      "outputs": [],
      "source": [
        "def get_embeddings(sentece):\n",
        "    \"\"\"\n",
        "    Return embeddings based on encoder model\n",
        "\n",
        "    :param sentence: input sentence(s)\n",
        "    :type sentence: str or list of strs\n",
        "    :return: embeddings\n",
        "    \"\"\"\n",
        "    tokenized = tokenizer(sentece,\n",
        "                                return_tensors=\"pt\",\n",
        "                                padding=True)\n",
        "    with torch.no_grad():\n",
        "        embeddings = model(**tokenized)\n",
        "    \n",
        "    return np.squeeze(np.array(embeddings.pooler_output))"
      ]
    },
    {
      "cell_type": "markdown",
      "metadata": {
        "id": "q_VqBSNi4AaD"
      },
      "source": [
        "### Title embedding"
      ]
    },
    {
      "cell_type": "code",
      "execution_count": 11,
      "metadata": {
        "colab": {
          "base_uri": "https://localhost:8080/"
        },
        "id": "hunKGBFq4C76",
        "outputId": "43b8068c-3f13-47c2-9cbd-5f2795d16335"
      },
      "outputs": [],
      "source": [
        "title_embeddings_file = 'doc_title_LaBSE_Embedding.npy'\n",
        "\n",
        "if not os.path.exists(title_embeddings_file):\n",
        "    title_embeddings = []\n",
        "    for title in tqdm(titles):\n",
        "        title_embeddings.append(get_embeddings(title))\n",
        "\n",
        "    with open(title_embeddings_file, 'wb') as f:\n",
        "        np.save(f, np.array(title_embeddings))\n",
        "else:\n",
        "    title_embeddings = np.load(title_embeddings_file)\n",
        "    title_embeddings = list(title_embeddings)\n"
      ]
    },
    {
      "cell_type": "code",
      "execution_count": 12,
      "metadata": {
        "colab": {
          "base_uri": "https://localhost:8080/"
        },
        "id": "CQmy3UiYiGG8",
        "outputId": "17414ffd-2e1f-45a4-e22a-0ce1163445e6"
      },
      "outputs": [],
      "source": [
        "import pickle\n",
        "title_to_embeddings_file = 'title_to_embeddings.pkl'\n",
        "\n",
        "if not os.path.exists(title_to_embeddings_file):\n",
        "    title_to_embeddings = {}\n",
        "    for title in tqdm(titles):\n",
        "        title_to_embeddings[title] = get_embeddings(title)\n",
        "    with open(title_to_embeddings_file, 'wb') as f:\n",
        "        pickle.dump(title_to_embeddings, f)\n",
        "else:\n",
        "    with open(title_to_embeddings_file, 'rb') as f:\n",
        "        title_to_embeddings = pickle.load(f)"
      ]
    },
    {
      "cell_type": "markdown",
      "metadata": {
        "id": "d42w3h1C2V1Q"
      },
      "source": [
        "## Calculating the IDF for each token"
      ]
    },
    {
      "cell_type": "code",
      "execution_count": 13,
      "metadata": {
        "colab": {
          "base_uri": "https://localhost:8080/"
        },
        "id": "XjH-jRgs0fyv",
        "outputId": "e48f5df9-cb5b-480d-b522-f2ee20c67a8a"
      },
      "outputs": [],
      "source": [
        "words_idf_file = 'IDFs.pkl'\n",
        "\n",
        "if not os.path.exists(words_idf_file):\n",
        "    # First getting all distinct words in all documents\n",
        "    words = set()\n",
        "    doc_texts_train_tokenized = []\n",
        "    for doc in tqdm(doc_texts_train, desc=\"getting all words from documents\"):\n",
        "        tokenized_doc = [s.lower() for s in tokenizer.tokenize(doc)]\n",
        "        doc_texts_train_tokenized.append(tokenized_doc) \n",
        "        words = set(tokenized_doc).union(words)\n",
        "\n",
        "    # calculating each word IDF\n",
        "    words2IDF = {}\n",
        "    N_doc = len(doc_texts_train)\n",
        "    for word in tqdm(words, desc=\"calculating words IDF scores\"):\n",
        "        n_word = 0\n",
        "        for doc in doc_texts_train_tokenized:\n",
        "            if word in doc:\n",
        "                n_word += 1\n",
        "        words2IDF[word] = np.log(N_doc / (n_word + 1))\n",
        "\n",
        "    with open(words_idf_file, 'wb') as f:\n",
        "        pickle.dump(words2IDF, f)\n",
        "\n",
        "else:\n",
        "    with open(words_idf_file, 'rb') as f:\n",
        "        words2IDF = pickle.load(f)"
      ]
    },
    {
      "cell_type": "code",
      "execution_count": 14,
      "metadata": {
        "colab": {
          "base_uri": "https://localhost:8080/"
        },
        "id": "V6blMmmk2ugT",
        "outputId": "fea8147e-3bda-4d4b-c237-a1ec3f9193e6"
      },
      "outputs": [
        {
          "data": {
            "text/plain": [
              "8446"
            ]
          },
          "execution_count": 14,
          "metadata": {},
          "output_type": "execute_result"
        }
      ],
      "source": [
        "len(words2IDF)"
      ]
    },
    {
      "cell_type": "code",
      "execution_count": 15,
      "metadata": {
        "id": "CfcYwbdJ2zSN"
      },
      "outputs": [],
      "source": [
        "def calc_idf_score(sentence):\n",
        "    \"\"\"\n",
        "    Calculate the mean idf score for given sentence.\n",
        "    (used to understand the contribution of the knowledge of each question\n",
        "    questions with high frequent words are meaningless and we can ignore them\n",
        "    roughly, which is done by this score.)\n",
        "\n",
        "    :param sentence: input sentence\n",
        "    :type sentence: str\n",
        "    :return: mean idf score of sentence token\n",
        "    \"\"\"\n",
        "    tokenzied_sentence = [s.lower() for s in tokenizer.tokenize(sentence)]\n",
        "    score = 0\n",
        "    for token in tokenzied_sentence:\n",
        "        if token in words2IDF:\n",
        "            score += words2IDF[token]\n",
        "        else:\n",
        "            score += np.log(N_doc)\n",
        "    return score / len(tokenzied_sentence)"
      ]
    },
    {
      "cell_type": "markdown",
      "metadata": {
        "id": "KtOJcbeo5rBQ"
      },
      "source": [
        "## Methods"
      ]
    },
    {
      "cell_type": "markdown",
      "metadata": {
        "id": "QYat8Jia4z3a"
      },
      "source": [
        "### IDF only - Vanilla\n",
        "\n",
        "This is the first method which we used for document retriver. In this method we just used similarity between query embeddign and document title embedding. We also used IDF scores as a factor for history queries by which we can pay more attention to the more informative query."
      ]
    },
    {
      "cell_type": "code",
      "execution_count": 16,
      "metadata": {
        "id": "StjBdSm73hDc"
      },
      "outputs": [],
      "source": [
        "def predict_labelwise_doc_at_history(queries, k=1):\n",
        "    \"\"\"\n",
        "    Predict which document is matched to the given query.\n",
        "\n",
        "    :param queries: input queries in time reversed order (latest first)\n",
        "    :type queries: str (or list of strs)\n",
        "    :param k: number of returning docs\n",
        "    :type k: int \n",
        "    :return: return the document names and accuracies\n",
        "    \"\"\"\n",
        "    similarities = np.array(list(map(lambda x: 0.0, title_embeddings)))\n",
        "    coef_sum = 0\n",
        "    for query in queries:\n",
        "        query_embd = get_embeddings(query)\n",
        "        query_sim = list(map(lambda x: np.dot(x, query_embd) /\n",
        "                            (np.linalg.norm(query_embd) * np.linalg.norm(x)),\n",
        "                            title_embeddings))\n",
        "        query_sim = np.array(query_sim)\n",
        "\n",
        "        coef = calc_idf_score(query)\n",
        "        coef_sum += coef\n",
        "        similarities += coef * query_sim\n",
        "\n",
        "    similarities = similarities / coef_sum\n",
        "    best_k_idx = similarities.argsort()[::-1][:k]\n",
        "    predictions = list(map(lambda x: titles[x], best_k_idx))\n",
        "    accuracy = similarities[best_k_idx]\n",
        "    return accuracy, predictions"
      ]
    },
    {
      "cell_type": "markdown",
      "metadata": {
        "id": "OreOjFlaKaKU"
      },
      "source": [
        "### IDF ordered\n",
        "\n",
        "In the last method there wasn't any difference between query and histories - all sentences would be treat same regardless of their queried time. From now we will use a reweighting (multiplying query's score to $2^{-i}$ when $i$ is the index of query) system which favour last query more."
      ]
    },
    {
      "cell_type": "code",
      "execution_count": 17,
      "metadata": {
        "id": "9MaOH3-OKDJB"
      },
      "outputs": [],
      "source": [
        "def predict_labelwise_doc_at_history_ordered(queries, k=1):\n",
        "    \"\"\"\n",
        "    Predict which document is matched to the given query.\n",
        "\n",
        "    :param queries: input queries in time reversed order (latest first)\n",
        "    :type queries: str (or list of strs)\n",
        "    :param k: number of returning docs\n",
        "    :type k: int \n",
        "    :return: return the document names and accuracies\n",
        "    \"\"\"\n",
        "    similarities = np.array(list(map(lambda x: 0.0, title_embeddings)))\n",
        "    coef_sum = 0\n",
        "    for i, query in enumerate(queries):\n",
        "        query_embd = get_embeddings(query)\n",
        "        query_sim = list(map(lambda x: np.dot(x, query_embd) /\n",
        "                            (np.linalg.norm(query_embd) * np.linalg.norm(x)),\n",
        "                            title_embeddings))\n",
        "        query_sim = np.array(query_sim)\n",
        "\n",
        "        coef = 2**(-i) * calc_idf_score(query)\n",
        "        coef_sum += coef\n",
        "        similarities += coef * query_sim\n",
        "\n",
        "    similarities = similarities / coef_sum\n",
        "    best_k_idx = similarities.argsort()[::-1][:k]\n",
        "    predictions = list(map(lambda x: titles[x], best_k_idx))\n",
        "    accuracy = similarities[best_k_idx]\n",
        "    return accuracy, predictions"
      ]
    },
    {
      "cell_type": "markdown",
      "metadata": {
        "id": "0g9my3vvPdC1"
      },
      "source": [
        "### IDF ordered - softmaxed\n",
        "In this method we changed a little bit. Instead of using coefitionts barely we apply the softmax function favouring the maximum score more. But results were not good. "
      ]
    },
    {
      "cell_type": "code",
      "execution_count": 18,
      "metadata": {
        "id": "47yEq_NYPfS8"
      },
      "outputs": [],
      "source": [
        "def predict_labelwise_doc_at_history_ordered_softmaxed(queries, k=1):\n",
        "    \"\"\"\n",
        "    Predict which document is matched to the given query.\n",
        "\n",
        "    :param queries: input queries in time reversed order (latest first)\n",
        "    :type queries: str (or list of strs)\n",
        "    :param k: number of returning docs\n",
        "    :type k: int \n",
        "    :return: return the document names and accuracies\n",
        "    \"\"\"\n",
        "    similarities = np.array(list(map(lambda x: 0.0, title_embeddings)))\n",
        "    coefs = []\n",
        "    sims = []\n",
        "    for i, query in enumerate(queries):\n",
        "        query_embd = get_embeddings(query)\n",
        "        query_sim = list(map(lambda x: np.dot(x, query_embd) /\n",
        "                            (np.linalg.norm(query_embd) * np.linalg.norm(x)),\n",
        "                            title_embeddings))\n",
        "        sims.append(np.array(query_sim))\n",
        "        coefs.append(2**(-i) * calc_idf_score(query))\n",
        "    \n",
        "    # Softmax:\n",
        "    coefs = np.array(list(map(lambda x: np.exp(-x), coefs)))\n",
        "    coefs /= coefs.sum()\n",
        "    coefs = list(coefs)\n",
        "\n",
        "    for coef, sim in zip(coefs, sims):\n",
        "        similarities += coef * sim\n",
        "    best_k_idx = similarities.argsort()[::-1][:k]\n",
        "    predictions = list(map(lambda x: titles[x], best_k_idx))\n",
        "    accuracy = similarities[best_k_idx]\n",
        "    return accuracy, predictions"
      ]
    },
    {
      "cell_type": "markdown",
      "metadata": {
        "id": "mu6QJ4ybLO9j"
      },
      "source": [
        "### IDF + self attention (cosine sim)\n",
        "\n",
        "In this method we changed the reweighting method from power-order ($2^{-i}$) to a feed-forward self-attention mechanism. Here we just simply **use cosine similarity between each history and query as its coefficient**. As it's showing how far is it from the main query."
      ]
    },
    {
      "cell_type": "code",
      "execution_count": 19,
      "metadata": {
        "id": "yzfTxe1VLVDU"
      },
      "outputs": [],
      "source": [
        "def predict_labelwise_doc_at_history_selfatt(queries, k=1):\n",
        "    \"\"\"\n",
        "    Predict which document is matched to the given query.\n",
        "\n",
        "    :param queries: input queries in time reversed order (latest first)\n",
        "    :type queries: str (or list of strs)\n",
        "    :param k: number of returning docs\n",
        "    :type k: int \n",
        "    :return: return the document names and accuracies\n",
        "    \"\"\"\n",
        "    similarities = np.array(list(map(lambda x: 0.0, title_embeddings)))\n",
        "    coef_sum = 0\n",
        "    query0_embd = get_embeddings(queries[0])\n",
        "    for query in queries:\n",
        "        query_embd = get_embeddings(query)\n",
        "        query_sim = list(map(lambda x: np.dot(x, query_embd) /\n",
        "                            (np.linalg.norm(query_embd) * np.linalg.norm(x)),\n",
        "                            title_embeddings))\n",
        "        query_sim = np.array(query_sim)\n",
        "\n",
        "        coef = calc_idf_score(query) * np.dot(query0_embd, query_embd) / (np.linalg.norm(query_embd) * np.linalg.norm(query0_embd))\n",
        "        coef_sum += coef\n",
        "        similarities += coef * query_sim\n",
        "\n",
        "    similarities = similarities / coef_sum\n",
        "    best_k_idx = similarities.argsort()[::-1][:k]\n",
        "    predictions = list(map(lambda x: titles[x], best_k_idx))\n",
        "    accuracy = similarities[best_k_idx]\n",
        "    return accuracy, predictions"
      ]
    },
    {
      "cell_type": "markdown",
      "metadata": {
        "id": "kuhM4K4J1E3Y"
      },
      "source": [
        "### DR. TEIT*\n",
        "\n",
        "In this method we used two scoring measure and aggregate them by a convex combination as below:\n",
        "$$\n",
        "λ*Similiarity_{Title Embedding} + (1-λ)*Similiarity_{TextIDF}\n",
        "$$\n",
        "\n",
        "We used LaBSE model for our embeddings. For computing title embedding similarities we used cosine similarity between query embeddings and each document's title embedding.\n",
        "\n",
        "For the second part we used character-level (2gram to 8gram). We also trained our TF-IDF transformation matrix on the Multidoc2dial2022 documnets.\n",
        "\n",
        "**NOTE: In `predict_DR_TEIT` you may see a diffrent notation (`alpha`) but they are the same.**"
      ]
    },
    {
      "cell_type": "markdown",
      "metadata": {
        "id": "q251xG1B1f2I"
      },
      "source": [
        "#### TF-IDF Transformation Matrix Fitting"
      ]
    },
    {
      "cell_type": "code",
      "execution_count": 20,
      "metadata": {
        "colab": {
          "base_uri": "https://localhost:8080/",
          "height": 160
        },
        "id": "BoNS99AY1LZl",
        "outputId": "570b6d95-5719-42d3-8e85-232a1dccb2f7"
      },
      "outputs": [
        {
          "data": {
            "application/vnd.google.colaboratory.intrinsic+json": {
              "type": "string"
            },
            "text/plain": [
              "\"Original Card for a Foreign Born U.S. Citizen Adult \\nImportant You must present original documents or copies certified by the agency that issued them. We cannot accept photocopies or notarized copies. All documents must be current not expired. We cannot accept a receipt showing you applied for the document. \\n\\nWhat original documents do I need? \\nCitizenship We can accept only certain documents as proof of U.S. citizenship. These include : U.S. passport ; Certificate of Naturalization N-550/N-570 ; Certificate of Citizenship N-560/N-561 ; Certificate of Report of Birth DS-1350 ; Consular Report of Birth Abroad FS-240, CRBA. Age You must present your foreign birth certificate if you have it or can get it within 10 days. If not , we will consider other documents such as your passport or a document issued by the Department of Homeland Security DHS as evidence of your age. Anyone age 12 or older requesting an original Social Security number must appear in person for an interview. We will ask for evidence to show you do not have a Social Security number. Here are examples of documents you can use to prove a Social Security number was never assigned : If you lived outside the United States for an extended period , a current or previous passport , school and/or employment records , and any other record that would show long - term residence outside the United States could be used to show you do not have a Social Security number. If you have lived in the United States and you are applying for an original Social Security number , we may ask you for information about the schools you attended or we may ask you to provide copies of tax records that would show you were never assigned a Social Security number. Identity We can accept only certain documents as proof of identity. An acceptable document must be current not expired and show your name, identifying information date of birth or age and preferably a recent photograph. For example , as proof of identity Social Security must see your : U.S. driver's license ; State - issued non - driver identification card ; or U.S. passport. If you do not have one of these specific documents or you cannot get a replacement for one of them within 10 days , we will ask to see other documents. Any documents submitted, including the following, must be current not expired and show your name, identifying information date of birth or age and preferably a recent photograph : Employee identification card ; School identification card ; Health insurance card not a Medicare card ; or U.S. military identification card. Note We may use one document for two purposes. For example , we may use your U.S. passport as proof of both citizenship and identity. However , you must provide at least two separate documents.\""
            ]
          },
          "execution_count": 20,
          "metadata": {},
          "output_type": "execute_result"
        }
      ],
      "source": [
        "doc_texts_train = []\n",
        "for doc_idx1 in multidoc2dial_doc['doc_data']:\n",
        "    for doc_idx2 in multidoc2dial_doc['doc_data'][doc_idx1]:\n",
        "        doc_texts_train.append(multidoc2dial_doc['doc_data'][doc_idx1]\\\n",
        "                                          [doc_idx2]['doc_text'].strip())\n",
        "doc_texts_train[10]"
      ]
    },
    {
      "cell_type": "code",
      "execution_count": 21,
      "metadata": {
        "id": "wZs4IB7x1S68"
      },
      "outputs": [],
      "source": [
        "from sklearn.feature_extraction.text import TfidfVectorizer\n",
        "tfidfVectorizer = TfidfVectorizer(strip_accents=None,\n",
        "                                 analyzer='char',\n",
        "                                 ngram_range=(2, 8),\n",
        "                                 norm='l2',\n",
        "                                 use_idf=True,\n",
        "                                 smooth_idf=True)\n",
        "tfidf_wm = tfidfVectorizer.fit_transform(doc_texts_train)"
      ]
    },
    {
      "cell_type": "code",
      "execution_count": 22,
      "metadata": {
        "id": "B3p34wgW1emS"
      },
      "outputs": [],
      "source": [
        "import pickle\n",
        "with open('tfidfVectorizer.pkl', 'wb') as f:\n",
        "    pickle.dump(tfidfVectorizer, f)\n",
        "\n",
        "with open('tfidf_wm.pkl', 'wb') as f:\n",
        "    pickle.dump(tfidf_wm, f)"
      ]
    },
    {
      "cell_type": "code",
      "execution_count": 29,
      "metadata": {},
      "outputs": [
        {
          "data": {
            "text/plain": [
              "1047632"
            ]
          },
          "execution_count": 29,
          "metadata": {},
          "output_type": "execute_result"
        }
      ],
      "source": [
        "len(tfidfVectorizer.get_feature_names_out())\n"
      ]
    },
    {
      "cell_type": "markdown",
      "metadata": {
        "id": "30VbDrMH15l6"
      },
      "source": [
        "#### DR. TEIT\n",
        "\n",
        "the input is consisted of a list of queries, which is the current question and its history turns.\n",
        "for each of the questions, we compute two similarity score for each of our documents, one of them is based on the pretrained LM and the other on is based on character level matching. Both of these scores will be weighted by a coefficient which is the `idf_score` of the query, defining how much meaning does the query contain. Then these scores will be summed up in a convex manner and the final matching score with all documents is computed. We return the result by sorting these scores."
      ]
    },
    {
      "cell_type": "code",
      "execution_count": 23,
      "metadata": {
        "id": "7ELrMT4g17vc"
      },
      "outputs": [],
      "source": [
        "def predict_DR_TEIT(queries, k=1, alpha=10):\n",
        "    \"\"\"\n",
        "    Predict which document is matched to the given query.\n",
        "\n",
        "    :param queries: input queries in time reversed order (latest first)\n",
        "    :type queries: str (or list of strs)\n",
        "    :param k: number of returning docs\n",
        "    :type k: int \n",
        "    :return: return the document names and accuracies\n",
        "    \"\"\"\n",
        "\n",
        "    idf_score = np.array(list(map(lambda x: 0.0, title_embeddings)))\n",
        "    tfidf_score = np.array(list(map(lambda x: 0.0, title_embeddings)))\n",
        "    coef_sum = 0\n",
        "    for i, query in enumerate(queries):\n",
        "        query_embd = get_embeddings(query)\n",
        "        query_sim = list(map(lambda x: np.dot(x, query_embd) /\n",
        "                            (np.linalg.norm(query_embd) * np.linalg.norm(x)),\n",
        "                            title_embeddings))\n",
        "        query_sim = np.array(query_sim)\n",
        "        coef = 2**(-i) * calc_idf_score(query)\n",
        "        coef_sum += coef\n",
        "\n",
        "        idf_score += coef * query_sim\n",
        "        tfidf_score += coef * np.squeeze(np.asarray(tfidf_wm @ tfidfVectorizer.transform([query]).todense().T))\n",
        "\n",
        "    scores = (idf_score + alpha * tfidf_score) / coef_sum\n",
        "    best_k_idx = scores.argsort()[::-1][:k]\n",
        "    scores = scores[best_k_idx]\n",
        "    predictions = list(map(lambda x: titles[x], best_k_idx))\n",
        "    return (scores, predictions)"
      ]
    },
    {
      "cell_type": "markdown",
      "metadata": {
        "id": "H32jwXIw5KIw"
      },
      "source": [
        "## Test\n",
        "In the test dataset we just picked ones with **user** turn."
      ]
    },
    {
      "cell_type": "code",
      "execution_count": 31,
      "metadata": {
        "id": "6CtozMx258bX"
      },
      "outputs": [],
      "source": [
        "test_queries = [\"I'm looking for information regarding benefits planning, can you help me?\",\n",
        "                \"I want to know about the benefits plan for survivors, can you give me more information about this?\",\n",
        "                \"What are Social Security credits?\"]\n",
        "test_labels = [\"Benefits Planner: Survivors | Planning For Your Survivors | Social Security Administration#1_0\",\n",
        "               \"Benefits Planner: Survivors | Planning For Your Survivors | Social Security Administration#1_0\",\n",
        "               \"Benefits Planner: Survivors | Planning For Your Survivors | Social Security Administration#1_0\"]"
      ]
    },
    {
      "cell_type": "code",
      "execution_count": 32,
      "metadata": {
        "id": "IIUZr6Nz5TRX"
      },
      "outputs": [],
      "source": [
        "import json\n",
        "with open('../../dataset/multidoc2dial/v1.0/multidoc2dial_dial_train.json', 'r') as f:\n",
        "    multidoc2dial_dial_train = json.load(f)"
      ]
    },
    {
      "cell_type": "code",
      "execution_count": 33,
      "metadata": {
        "id": "2U8iDUWh5UW5"
      },
      "outputs": [],
      "source": [
        "doc_sentence_test = []\n",
        "doc_label_test = []\n",
        "for doc_idx1 in multidoc2dial_dial_train['dial_data']:\n",
        "    for dial in multidoc2dial_dial_train['dial_data'][doc_idx1]:\n",
        "        for turns in dial['turns']:\n",
        "            if turns['role'] == \"user\":\n",
        "                doc_sentence_test.append(turns['utterance'])\n",
        "                doc_label_test.append(turns['references'][0]['doc_id'])"
      ]
    },
    {
      "cell_type": "code",
      "execution_count": 34,
      "metadata": {
        "colab": {
          "base_uri": "https://localhost:8080/"
        },
        "id": "QmAq9oiI5jkr",
        "outputId": "2d86ebb2-a96d-4450-8fa6-967a9b075365"
      },
      "outputs": [
        {
          "data": {
            "text/plain": [
              "23399"
            ]
          },
          "execution_count": 34,
          "metadata": {},
          "output_type": "execute_result"
        }
      ],
      "source": [
        "TEST_SIZE = len(doc_sentence_test)\n",
        "TEST_SIZE"
      ]
    },
    {
      "cell_type": "code",
      "execution_count": 35,
      "metadata": {
        "id": "YcfNtuNv5uLg"
      },
      "outputs": [],
      "source": [
        "TEST_SIZE = TEST_SIZE // 20   #   For making it faster"
      ]
    },
    {
      "cell_type": "markdown",
      "metadata": {
        "id": "HOdYJzAT5tjb"
      },
      "source": [
        "### IDF only - Vanilla"
      ]
    },
    {
      "cell_type": "code",
      "execution_count": 36,
      "metadata": {
        "colab": {
          "base_uri": "https://localhost:8080/"
        },
        "id": "A_fVJLLH56q5",
        "outputId": "5360c84c-4200-4f21-ac43-8c7a53512f09"
      },
      "outputs": [
        {
          "name": "stdout",
          "output_type": "stream",
          "text": [
            "[0.37842306 0.37675706 0.37660416 0.37555721 0.37375754]\n",
            "['Benefits Planner: Survivors | How You Apply | Social Security Administration#1_0', 'Benefits Planner: Survivors | How You Apply | Social Security Administration#2_0', 'Learn what documents you will need to get a Social Security Card | Social Security Administration#6_0_1_2_3', 'Learn what documents you will need to get a Social Security Card | Social Security Administration#6_0_1_2', 'How To Apply For Social Security Disability Benefits#1_0']\n",
            "--------------------\n"
          ]
        }
      ],
      "source": [
        "accs, preds = predict_labelwise_doc_at_history([test_queries[2],\n",
        "                                               test_queries[1],\n",
        "                                               test_queries[0]],\n",
        "                                               k=5)\n",
        "print(accs)\n",
        "print(preds)\n",
        "print('-' * 20)"
      ]
    },
    {
      "cell_type": "code",
      "execution_count": 39,
      "metadata": {
        "colab": {
          "base_uri": "https://localhost:8080/"
        },
        "id": "ZnjJXmn75Ala",
        "outputId": "8beec610-1d9a-438b-a679-1e951b415dd8"
      },
      "outputs": [
        {
          "name": "stderr",
          "output_type": "stream",
          "text": [
            "running the test on document selection:   0%|          | 0/1167 [00:00<?, ?it/s]\n"
          ]
        },
        {
          "ename": "NameError",
          "evalue": "name 'N_doc' is not defined",
          "output_type": "error",
          "traceback": [
            "\u001b[0;31m---------------------------------------------------------------------------\u001b[0m",
            "\u001b[0;31mNameError\u001b[0m                                 Traceback (most recent call last)",
            "\u001b[0;32m<ipython-input-39-acb900092cb0>\u001b[0m in \u001b[0;36m<module>\u001b[0;34m\u001b[0m\n\u001b[1;32m     12\u001b[0m                                                    \u001b[0mdoc_sentence_test\u001b[0m\u001b[0;34m[\u001b[0m\u001b[0mi\u001b[0m\u001b[0;34m-\u001b[0m\u001b[0;36m1\u001b[0m\u001b[0;34m]\u001b[0m\u001b[0;34m,\u001b[0m\u001b[0;34m\u001b[0m\u001b[0;34m\u001b[0m\u001b[0m\n\u001b[1;32m     13\u001b[0m                                                    doc_sentence_test[i-2]],\n\u001b[0;32m---> 14\u001b[0;31m                                                    k=500)\n\u001b[0m\u001b[1;32m     15\u001b[0m     \u001b[0mranks\u001b[0m\u001b[0;34m.\u001b[0m\u001b[0mappend\u001b[0m\u001b[0;34m(\u001b[0m\u001b[0;36m1\u001b[0m \u001b[0;34m/\u001b[0m \u001b[0;34m(\u001b[0m\u001b[0mpreds\u001b[0m\u001b[0;34m.\u001b[0m\u001b[0mindex\u001b[0m\u001b[0;34m(\u001b[0m\u001b[0mact_doc\u001b[0m\u001b[0;34m)\u001b[0m \u001b[0;34m+\u001b[0m \u001b[0;36m1\u001b[0m\u001b[0;34m)\u001b[0m\u001b[0;34m)\u001b[0m\u001b[0;34m\u001b[0m\u001b[0;34m\u001b[0m\u001b[0m\n\u001b[1;32m     16\u001b[0m     \u001b[0;32mif\u001b[0m \u001b[0mact_doc\u001b[0m \u001b[0;34m==\u001b[0m \u001b[0mpreds\u001b[0m\u001b[0;34m[\u001b[0m\u001b[0;36m0\u001b[0m\u001b[0;34m]\u001b[0m\u001b[0;34m:\u001b[0m\u001b[0;34m\u001b[0m\u001b[0;34m\u001b[0m\u001b[0m\n",
            "\u001b[0;32m<ipython-input-16-a7550a4cd34d>\u001b[0m in \u001b[0;36mpredict_labelwise_doc_at_history\u001b[0;34m(queries, k)\u001b[0m\n\u001b[1;32m     18\u001b[0m         \u001b[0mquery_sim\u001b[0m \u001b[0;34m=\u001b[0m \u001b[0mnp\u001b[0m\u001b[0;34m.\u001b[0m\u001b[0marray\u001b[0m\u001b[0;34m(\u001b[0m\u001b[0mquery_sim\u001b[0m\u001b[0;34m)\u001b[0m\u001b[0;34m\u001b[0m\u001b[0;34m\u001b[0m\u001b[0m\n\u001b[1;32m     19\u001b[0m \u001b[0;34m\u001b[0m\u001b[0m\n\u001b[0;32m---> 20\u001b[0;31m         \u001b[0mcoef\u001b[0m \u001b[0;34m=\u001b[0m \u001b[0mcalc_idf_score\u001b[0m\u001b[0;34m(\u001b[0m\u001b[0mquery\u001b[0m\u001b[0;34m)\u001b[0m\u001b[0;34m\u001b[0m\u001b[0;34m\u001b[0m\u001b[0m\n\u001b[0m\u001b[1;32m     21\u001b[0m         \u001b[0mcoef_sum\u001b[0m \u001b[0;34m+=\u001b[0m \u001b[0mcoef\u001b[0m\u001b[0;34m\u001b[0m\u001b[0;34m\u001b[0m\u001b[0m\n\u001b[1;32m     22\u001b[0m         \u001b[0msimilarities\u001b[0m \u001b[0;34m+=\u001b[0m \u001b[0mcoef\u001b[0m \u001b[0;34m*\u001b[0m \u001b[0mquery_sim\u001b[0m\u001b[0;34m\u001b[0m\u001b[0;34m\u001b[0m\u001b[0m\n",
            "\u001b[0;32m<ipython-input-15-74e47f41795c>\u001b[0m in \u001b[0;36mcalc_idf_score\u001b[0;34m(sentence)\u001b[0m\n\u001b[1;32m     13\u001b[0m             \u001b[0mscore\u001b[0m \u001b[0;34m+=\u001b[0m \u001b[0mwords2IDF\u001b[0m\u001b[0;34m[\u001b[0m\u001b[0mtoken\u001b[0m\u001b[0;34m]\u001b[0m\u001b[0;34m\u001b[0m\u001b[0;34m\u001b[0m\u001b[0m\n\u001b[1;32m     14\u001b[0m         \u001b[0;32melse\u001b[0m\u001b[0;34m:\u001b[0m\u001b[0;34m\u001b[0m\u001b[0;34m\u001b[0m\u001b[0m\n\u001b[0;32m---> 15\u001b[0;31m             \u001b[0mscore\u001b[0m \u001b[0;34m+=\u001b[0m \u001b[0mnp\u001b[0m\u001b[0;34m.\u001b[0m\u001b[0mlog\u001b[0m\u001b[0;34m(\u001b[0m\u001b[0mN_doc\u001b[0m\u001b[0;34m)\u001b[0m\u001b[0;34m\u001b[0m\u001b[0;34m\u001b[0m\u001b[0m\n\u001b[0m\u001b[1;32m     16\u001b[0m     \u001b[0;32mreturn\u001b[0m \u001b[0mscore\u001b[0m \u001b[0;34m/\u001b[0m \u001b[0mlen\u001b[0m\u001b[0;34m(\u001b[0m\u001b[0mtokenzied_sentence\u001b[0m\u001b[0;34m)\u001b[0m\u001b[0;34m\u001b[0m\u001b[0;34m\u001b[0m\u001b[0m\n",
            "\u001b[0;31mNameError\u001b[0m: name 'N_doc' is not defined"
          ]
        }
      ],
      "source": [
        "prec_at_500 = 0\n",
        "prec_at_100 = 0\n",
        "prec_at_50 = 0\n",
        "prec_at_10 = 0\n",
        "prec_at_5 = 0\n",
        "prec_at_1 = 0\n",
        "sample_till_now = 0\n",
        "ranks = []\n",
        "for i in tqdm(range(2, TEST_SIZE), desc=\"running the test on document selection\"):\n",
        "    act_doc = doc_label_test[i]\n",
        "    accs, preds = predict_labelwise_doc_at_history([doc_sentence_test[i],\n",
        "                                                   doc_sentence_test[i-1],\n",
        "                                                   doc_sentence_test[i-2]],\n",
        "                                                   k=500)\n",
        "    ranks.append(1 / (preds.index(act_doc) + 1))\n",
        "    if act_doc == preds[0]:\n",
        "        prec_at_1 += 1\n",
        "    if act_doc in preds[:5]:\n",
        "        prec_at_5 += 1\n",
        "    if act_doc in preds[:10]:\n",
        "        prec_at_10 += 1\n",
        "    if act_doc in preds[:50]:\n",
        "        prec_at_50 += 1\n",
        "    if act_doc in preds[:100]:\n",
        "        prec_at_100 += 1\n",
        "    if act_doc in preds[:500]:\n",
        "        prec_at_500 += 1\n",
        "    sample_till_now += 1\n",
        "    if sample_till_now % 100 == 0:\n",
        "        print(\"MRR: mean={}, var={}\".format(np.array(ranks).mean(), np.array(ranks).var()))\n",
        "        print(\"Prec@(1) = {} | Prec@(5) = {} | Prec@(10) = {} | Prec@(50) = {} | Prec@(100) = {} | Prec@(500) = {} | NUMBER_OF_SAMPLES = {}\".\\\n",
        "              format(prec_at_1 / sample_till_now, prec_at_5 / sample_till_now,\n",
        "                     prec_at_10 / sample_till_now, prec_at_50 / sample_till_now,\n",
        "                     prec_at_100 / sample_till_now, prec_at_500 / sample_till_now,\n",
        "                     sample_till_now))"
      ]
    },
    {
      "cell_type": "markdown",
      "metadata": {
        "id": "Y2hY6JKRKpH_"
      },
      "source": [
        "### IDF ordered"
      ]
    },
    {
      "cell_type": "code",
      "execution_count": 53,
      "metadata": {
        "colab": {
          "base_uri": "https://localhost:8080/"
        },
        "id": "mA38sDftKoaj",
        "outputId": "d1ef8b5e-426c-4ac7-9e30-587f191e60b8"
      },
      "outputs": [
        {
          "name": "stdout",
          "output_type": "stream",
          "text": [
            "[0.41813263 0.41414319 0.41318401 0.41088729 0.40784175]\n",
            "['Learn what documents you will need to get a Social Security Card | Social Security Administration#6_0_1_2_3', 'Learn what documents you will need to get a Social Security Card | Social Security Administration#6_0_1_2', 'Learn what documents you will need to get a Social Security Card | Social Security Administration#7_0_1_2', 'Learn what documents you will need to get a Social Security Card | Social Security Administration#6_0_1_2_3_4', 'Learn what documents you will need to get a Social Security Card | Social Security Administration#12_0_1_2']\n",
            "--------------------\n"
          ]
        }
      ],
      "source": [
        "accs, preds = predict_labelwise_doc_at_history_ordered([test_queries[2],\n",
        "                                                        test_queries[1],\n",
        "                                                        test_queries[0]],\n",
        "                                                        k=5)\n",
        "print(accs)\n",
        "print(preds)\n",
        "print('-' * 20)"
      ]
    },
    {
      "cell_type": "code",
      "execution_count": 55,
      "metadata": {
        "colab": {
          "base_uri": "https://localhost:8080/"
        },
        "id": "_kSIrS3M7tmG",
        "outputId": "9631efcd-a15f-4fb5-805c-c68ce5b7b41f"
      },
      "outputs": [
        {
          "name": "stderr",
          "output_type": "stream",
          "text": [
            "  9%|▊         | 100/1167 [00:36<07:31,  2.36it/s]"
          ]
        },
        {
          "name": "stdout",
          "output_type": "stream",
          "text": [
            "MRR: mean=0.144511049798484, var=0.08118642286253466\n",
            "Prec@(1) = 0.09 | Prec@(5) = 0.16 | Prec@(10) = 0.28 | Prec@(50) = 0.53 | Prec@(100) = 0.72 | Prec@(500) = 1.0 | NUMBER_OF_SAMPLES = 100\n"
          ]
        },
        {
          "name": "stderr",
          "output_type": "stream",
          "text": [
            " 17%|█▋        | 200/1167 [01:05<05:04,  3.18it/s]"
          ]
        },
        {
          "name": "stdout",
          "output_type": "stream",
          "text": [
            "MRR: mean=0.15031672380406347, var=0.08741299578833683\n",
            "Prec@(1) = 0.1 | Prec@(5) = 0.165 | Prec@(10) = 0.275 | Prec@(50) = 0.545 | Prec@(100) = 0.76 | Prec@(500) = 1.0 | NUMBER_OF_SAMPLES = 200\n"
          ]
        },
        {
          "name": "stderr",
          "output_type": "stream",
          "text": [
            " 26%|██▌       | 300/1167 [01:37<03:45,  3.85it/s]"
          ]
        },
        {
          "name": "stdout",
          "output_type": "stream",
          "text": [
            "MRR: mean=0.17559390346365905, var=0.09533169069906142\n",
            "Prec@(1) = 0.11 | Prec@(5) = 0.23 | Prec@(10) = 0.3333333333333333 | Prec@(50) = 0.5633333333333334 | Prec@(100) = 0.7833333333333333 | Prec@(500) = 1.0 | NUMBER_OF_SAMPLES = 300\n"
          ]
        },
        {
          "name": "stderr",
          "output_type": "stream",
          "text": [
            " 34%|███▍      | 400/1167 [02:06<03:57,  3.23it/s]"
          ]
        },
        {
          "name": "stdout",
          "output_type": "stream",
          "text": [
            "MRR: mean=0.1914336875137787, var=0.09923098973353595\n",
            "Prec@(1) = 0.115 | Prec@(5) = 0.2625 | Prec@(10) = 0.3625 | Prec@(50) = 0.605 | Prec@(100) = 0.8075 | Prec@(500) = 1.0 | NUMBER_OF_SAMPLES = 400\n"
          ]
        },
        {
          "name": "stderr",
          "output_type": "stream",
          "text": [
            " 43%|████▎     | 500/1167 [02:35<03:02,  3.66it/s]"
          ]
        },
        {
          "name": "stdout",
          "output_type": "stream",
          "text": [
            "MRR: mean=0.21154299103948063, var=0.10798957880277361\n",
            "Prec@(1) = 0.13 | Prec@(5) = 0.282 | Prec@(10) = 0.398 | Prec@(50) = 0.646 | Prec@(100) = 0.83 | Prec@(500) = 1.0 | NUMBER_OF_SAMPLES = 500\n"
          ]
        },
        {
          "name": "stderr",
          "output_type": "stream",
          "text": [
            " 51%|█████▏    | 600/1167 [03:03<02:37,  3.60it/s]"
          ]
        },
        {
          "name": "stdout",
          "output_type": "stream",
          "text": [
            "MRR: mean=0.2038845699596728, var=0.10648277737788109\n",
            "Prec@(1) = 0.12666666666666668 | Prec@(5) = 0.26666666666666666 | Prec@(10) = 0.37833333333333335 | Prec@(50) = 0.62 | Prec@(100) = 0.81 | Prec@(500) = 1.0 | NUMBER_OF_SAMPLES = 600\n"
          ]
        },
        {
          "name": "stderr",
          "output_type": "stream",
          "text": [
            " 60%|█████▉    | 700/1167 [03:34<03:29,  2.23it/s]"
          ]
        },
        {
          "name": "stdout",
          "output_type": "stream",
          "text": [
            "MRR: mean=0.20746048013258733, var=0.10961969306058351\n",
            "Prec@(1) = 0.13142857142857142 | Prec@(5) = 0.27 | Prec@(10) = 0.37285714285714283 | Prec@(50) = 0.6257142857142857 | Prec@(100) = 0.8085714285714286 | Prec@(500) = 1.0 | NUMBER_OF_SAMPLES = 700\n"
          ]
        },
        {
          "name": "stderr",
          "output_type": "stream",
          "text": [
            " 69%|██████▊   | 800/1167 [04:04<01:48,  3.40it/s]"
          ]
        },
        {
          "name": "stdout",
          "output_type": "stream",
          "text": [
            "MRR: mean=0.22667407038275955, var=0.11991351806510003\n",
            "Prec@(1) = 0.14875 | Prec@(5) = 0.295 | Prec@(10) = 0.39 | Prec@(50) = 0.63375 | Prec@(100) = 0.81375 | Prec@(500) = 1.0 | NUMBER_OF_SAMPLES = 800\n"
          ]
        },
        {
          "name": "stderr",
          "output_type": "stream",
          "text": [
            " 77%|███████▋  | 900/1167 [04:33<01:20,  3.33it/s]"
          ]
        },
        {
          "name": "stdout",
          "output_type": "stream",
          "text": [
            "MRR: mean=0.22006054461368707, var=0.11501230312396331\n",
            "Prec@(1) = 0.14 | Prec@(5) = 0.29 | Prec@(10) = 0.38555555555555554 | Prec@(50) = 0.6322222222222222 | Prec@(100) = 0.8155555555555556 | Prec@(500) = 1.0 | NUMBER_OF_SAMPLES = 900\n"
          ]
        },
        {
          "name": "stderr",
          "output_type": "stream",
          "text": [
            " 86%|████████▌ | 1000/1167 [05:01<00:47,  3.52it/s]"
          ]
        },
        {
          "name": "stdout",
          "output_type": "stream",
          "text": [
            "MRR: mean=0.2309306323833912, var=0.11833709052365163\n",
            "Prec@(1) = 0.146 | Prec@(5) = 0.307 | Prec@(10) = 0.406 | Prec@(50) = 0.645 | Prec@(100) = 0.822 | Prec@(500) = 1.0 | NUMBER_OF_SAMPLES = 1000\n"
          ]
        },
        {
          "name": "stderr",
          "output_type": "stream",
          "text": [
            " 94%|█████████▍| 1100/1167 [05:28<00:17,  3.81it/s]"
          ]
        },
        {
          "name": "stdout",
          "output_type": "stream",
          "text": [
            "MRR: mean=0.23472752180863185, var=0.12019851748856636\n",
            "Prec@(1) = 0.15 | Prec@(5) = 0.31 | Prec@(10) = 0.4109090909090909 | Prec@(50) = 0.6554545454545454 | Prec@(100) = 0.8318181818181818 | Prec@(500) = 1.0 | NUMBER_OF_SAMPLES = 1100\n"
          ]
        },
        {
          "name": "stderr",
          "output_type": "stream",
          "text": [
            "100%|██████████| 1167/1167 [05:48<00:00,  3.35it/s]\n"
          ]
        }
      ],
      "source": [
        "prec_at_500 = 0\n",
        "prec_at_100 = 0\n",
        "prec_at_50 = 0\n",
        "prec_at_10 = 0\n",
        "prec_at_5 = 0\n",
        "prec_at_1 = 0\n",
        "sample_till_now = 0\n",
        "ranks = []\n",
        "for i in tqdm(range(2, TEST_SIZE)):\n",
        "    act_doc = doc_label_test[i]\n",
        "    accs, preds = predict_labelwise_doc_at_history_ordered([doc_sentence_test[i],\n",
        "                                                            doc_sentence_test[i-1],\n",
        "                                                            doc_sentence_test[i-2]],\n",
        "                                                            k=500)\n",
        "    ranks.append(1 / (preds.index(act_doc) + 1))\n",
        "    if act_doc == preds[0]:\n",
        "        prec_at_1 += 1\n",
        "    if act_doc in preds[:5]:\n",
        "        prec_at_5 += 1\n",
        "    if act_doc in preds[:10]:\n",
        "        prec_at_10 += 1\n",
        "    if act_doc in preds[:50]:\n",
        "        prec_at_50 += 1\n",
        "    if act_doc in preds[:100]:\n",
        "        prec_at_100 += 1\n",
        "    if act_doc in preds[:500]:\n",
        "        prec_at_500 += 1\n",
        "    sample_till_now += 1\n",
        "    if sample_till_now % 100 == 0:\n",
        "        print(\"MRR: mean={}, var={}\".format(np.array(ranks).mean(), np.array(ranks).var()))\n",
        "        print(\"Prec@(1) = {} | Prec@(5) = {} | Prec@(10) = {} | Prec@(50) = {} | Prec@(100) = {} | Prec@(500) = {} | NUMBER_OF_SAMPLES = {}\".\\\n",
        "              format(prec_at_1 / sample_till_now, prec_at_5 / sample_till_now,\n",
        "                     prec_at_10 / sample_till_now, prec_at_50 / sample_till_now,\n",
        "                     prec_at_100 / sample_till_now, prec_at_500 / sample_till_now,\n",
        "                     sample_till_now))"
      ]
    },
    {
      "cell_type": "markdown",
      "metadata": {
        "id": "Xby8c5MYQmu1"
      },
      "source": [
        "### IDF ordered - softmaxed"
      ]
    },
    {
      "cell_type": "code",
      "execution_count": 56,
      "metadata": {
        "colab": {
          "base_uri": "https://localhost:8080/"
        },
        "id": "u6hfY_nOQrZv",
        "outputId": "51dbde96-915e-4f4a-9050-cb1ee6b040f6"
      },
      "outputs": [
        {
          "name": "stdout",
          "output_type": "stream",
          "text": [
            "[0.37505371 0.37495329 0.36257431 0.36173663 0.36112786]\n",
            "['Benefits Planner: Survivors | How You Apply | Social Security Administration#1_0', 'Benefits Planner: Survivors | How You Apply | Social Security Administration#2_0', 'Benefits Planner: Disability | How You Apply | Social Security Administration#2_0', 'Learn About Retirement Benefits | SSA#1_0', 'Benefits Planner: Disability | How You Apply | Social Security Administration#1_0']\n",
            "--------------------\n"
          ]
        }
      ],
      "source": [
        "accs, preds = predict_labelwise_doc_at_history_ordered_softmaxed([test_queries[2],\n",
        "                                                        test_queries[1],\n",
        "                                                        test_queries[0]],\n",
        "                                                        k=5)\n",
        "print(accs)\n",
        "print(preds)\n",
        "print('-' * 20)"
      ]
    },
    {
      "cell_type": "code",
      "execution_count": 57,
      "metadata": {
        "colab": {
          "base_uri": "https://localhost:8080/"
        },
        "id": "0rXVh_MZQ1gq",
        "outputId": "d014205a-4cbd-4d2c-c427-8a3834a87d88"
      },
      "outputs": [
        {
          "name": "stderr",
          "output_type": "stream",
          "text": [
            "  9%|▊         | 100/1167 [00:28<04:38,  3.84it/s]"
          ]
        },
        {
          "name": "stdout",
          "output_type": "stream",
          "text": [
            "MRR: mean=0.09269418454220091, var=0.041466296907041615\n",
            "Prec@(1) = 0.04 | Prec@(5) = 0.12 | Prec@(10) = 0.24 | Prec@(50) = 0.44 | Prec@(100) = 0.6 | Prec@(500) = 1.0 | NUMBER_OF_SAMPLES = 100\n"
          ]
        },
        {
          "name": "stderr",
          "output_type": "stream",
          "text": [
            " 17%|█▋        | 200/1167 [00:57<05:03,  3.19it/s]"
          ]
        },
        {
          "name": "stdout",
          "output_type": "stream",
          "text": [
            "MRR: mean=0.090842020703304, var=0.042118003791540175\n",
            "Prec@(1) = 0.04 | Prec@(5) = 0.11 | Prec@(10) = 0.21 | Prec@(50) = 0.44 | Prec@(100) = 0.62 | Prec@(500) = 1.0 | NUMBER_OF_SAMPLES = 200\n"
          ]
        },
        {
          "name": "stderr",
          "output_type": "stream",
          "text": [
            " 26%|██▌       | 300/1167 [01:27<05:49,  2.48it/s]"
          ]
        },
        {
          "name": "stdout",
          "output_type": "stream",
          "text": [
            "MRR: mean=0.11415570292589938, var=0.05874265241044486\n",
            "Prec@(1) = 0.06 | Prec@(5) = 0.14 | Prec@(10) = 0.24666666666666667 | Prec@(50) = 0.4633333333333333 | Prec@(100) = 0.6766666666666666 | Prec@(500) = 1.0 | NUMBER_OF_SAMPLES = 300\n"
          ]
        },
        {
          "name": "stderr",
          "output_type": "stream",
          "text": [
            " 34%|███▍      | 400/1167 [01:57<03:42,  3.44it/s]"
          ]
        },
        {
          "name": "stdout",
          "output_type": "stream",
          "text": [
            "MRR: mean=0.14876841730908613, var=0.08039533161912413\n",
            "Prec@(1) = 0.0875 | Prec@(5) = 0.19 | Prec@(10) = 0.29 | Prec@(50) = 0.5175 | Prec@(100) = 0.7275 | Prec@(500) = 1.0 | NUMBER_OF_SAMPLES = 400\n"
          ]
        },
        {
          "name": "stderr",
          "output_type": "stream",
          "text": [
            " 43%|████▎     | 500/1167 [02:26<03:02,  3.65it/s]"
          ]
        },
        {
          "name": "stdout",
          "output_type": "stream",
          "text": [
            "MRR: mean=0.16919351545310174, var=0.09242517954525063\n",
            "Prec@(1) = 0.104 | Prec@(5) = 0.22 | Prec@(10) = 0.306 | Prec@(50) = 0.546 | Prec@(100) = 0.742 | Prec@(500) = 1.0 | NUMBER_OF_SAMPLES = 500\n"
          ]
        },
        {
          "name": "stderr",
          "output_type": "stream",
          "text": [
            " 51%|█████▏    | 600/1167 [02:54<02:34,  3.67it/s]"
          ]
        },
        {
          "name": "stdout",
          "output_type": "stream",
          "text": [
            "MRR: mean=0.16131551641895384, var=0.08950690933321297\n",
            "Prec@(1) = 0.1 | Prec@(5) = 0.20833333333333334 | Prec@(10) = 0.28833333333333333 | Prec@(50) = 0.525 | Prec@(100) = 0.745 | Prec@(500) = 1.0 | NUMBER_OF_SAMPLES = 600\n"
          ]
        },
        {
          "name": "stderr",
          "output_type": "stream",
          "text": [
            " 60%|█████▉    | 700/1167 [03:22<02:11,  3.56it/s]"
          ]
        },
        {
          "name": "stdout",
          "output_type": "stream",
          "text": [
            "MRR: mean=0.16422392234586136, var=0.09237794852436533\n",
            "Prec@(1) = 0.10428571428571429 | Prec@(5) = 0.20714285714285716 | Prec@(10) = 0.2814285714285714 | Prec@(50) = 0.54 | Prec@(100) = 0.7528571428571429 | Prec@(500) = 1.0 | NUMBER_OF_SAMPLES = 700\n"
          ]
        },
        {
          "name": "stderr",
          "output_type": "stream",
          "text": [
            " 69%|██████▊   | 800/1167 [03:54<01:50,  3.33it/s]"
          ]
        },
        {
          "name": "stdout",
          "output_type": "stream",
          "text": [
            "MRR: mean=0.17839180931150744, var=0.09993194239609793\n",
            "Prec@(1) = 0.115 | Prec@(5) = 0.23 | Prec@(10) = 0.29875 | Prec@(50) = 0.55625 | Prec@(100) = 0.76625 | Prec@(500) = 1.0 | NUMBER_OF_SAMPLES = 800\n"
          ]
        },
        {
          "name": "stderr",
          "output_type": "stream",
          "text": [
            " 77%|███████▋  | 900/1167 [04:26<01:21,  3.29it/s]"
          ]
        },
        {
          "name": "stdout",
          "output_type": "stream",
          "text": [
            "MRR: mean=0.1722631273479268, var=0.09514641863127313\n",
            "Prec@(1) = 0.10777777777777778 | Prec@(5) = 0.22333333333333333 | Prec@(10) = 0.29444444444444445 | Prec@(50) = 0.5555555555555556 | Prec@(100) = 0.7677777777777778 | Prec@(500) = 1.0 | NUMBER_OF_SAMPLES = 900\n"
          ]
        },
        {
          "name": "stderr",
          "output_type": "stream",
          "text": [
            " 86%|████████▌ | 1000/1167 [04:54<00:46,  3.60it/s]"
          ]
        },
        {
          "name": "stdout",
          "output_type": "stream",
          "text": [
            "MRR: mean=0.18189723053882215, var=0.09835962345936167\n",
            "Prec@(1) = 0.113 | Prec@(5) = 0.238 | Prec@(10) = 0.321 | Prec@(50) = 0.576 | Prec@(100) = 0.778 | Prec@(500) = 1.0 | NUMBER_OF_SAMPLES = 1000\n"
          ]
        },
        {
          "name": "stderr",
          "output_type": "stream",
          "text": [
            " 94%|█████████▍| 1100/1167 [05:21<00:17,  3.73it/s]"
          ]
        },
        {
          "name": "stdout",
          "output_type": "stream",
          "text": [
            "MRR: mean=0.1754127208713634, var=0.09439787862058427\n",
            "Prec@(1) = 0.10727272727272727 | Prec@(5) = 0.23 | Prec@(10) = 0.31545454545454543 | Prec@(50) = 0.5763636363636364 | Prec@(100) = 0.78 | Prec@(500) = 1.0 | NUMBER_OF_SAMPLES = 1100\n"
          ]
        },
        {
          "name": "stderr",
          "output_type": "stream",
          "text": [
            "100%|██████████| 1167/1167 [05:39<00:00,  3.44it/s]\n"
          ]
        }
      ],
      "source": [
        "prec_at_500 = 0\n",
        "prec_at_100 = 0\n",
        "prec_at_50 = 0\n",
        "prec_at_10 = 0\n",
        "prec_at_5 = 0\n",
        "prec_at_1 = 0\n",
        "sample_till_now = 0\n",
        "ranks = []\n",
        "for i in tqdm(range(2, TEST_SIZE)):\n",
        "    act_doc = doc_label_test[i]\n",
        "    accs, preds = predict_labelwise_doc_at_history_ordered_softmaxed([doc_sentence_test[i],\n",
        "                                                            doc_sentence_test[i-1],\n",
        "                                                            doc_sentence_test[i-2]],\n",
        "                                                            k=500)\n",
        "    ranks.append(1 / (preds.index(act_doc) + 1))\n",
        "    if act_doc == preds[0]:\n",
        "        prec_at_1 += 1\n",
        "    if act_doc in preds[:5]:\n",
        "        prec_at_5 += 1\n",
        "    if act_doc in preds[:10]:\n",
        "        prec_at_10 += 1\n",
        "    if act_doc in preds[:50]:\n",
        "        prec_at_50 += 1\n",
        "    if act_doc in preds[:100]:\n",
        "        prec_at_100 += 1\n",
        "    if act_doc in preds[:500]:\n",
        "        prec_at_500 += 1\n",
        "    sample_till_now += 1\n",
        "    if sample_till_now % 100 == 0:\n",
        "        print(\"MRR: mean={}, var={}\".format(np.array(ranks).mean(), np.array(ranks).var()))\n",
        "        print(\"Prec@(1) = {} | Prec@(5) = {} | Prec@(10) = {} | Prec@(50) = {} | Prec@(100) = {} | Prec@(500) = {} | NUMBER_OF_SAMPLES = {}\".\\\n",
        "              format(prec_at_1 / sample_till_now, prec_at_5 / sample_till_now,\n",
        "                     prec_at_10 / sample_till_now, prec_at_50 / sample_till_now,\n",
        "                     prec_at_100 / sample_till_now, prec_at_500 / sample_till_now,\n",
        "                     sample_till_now))"
      ]
    },
    {
      "cell_type": "markdown",
      "metadata": {
        "id": "fPUUIjJkNg7f"
      },
      "source": [
        "### IDF + self attention (cosine sim)"
      ]
    },
    {
      "cell_type": "code",
      "execution_count": 58,
      "metadata": {
        "colab": {
          "base_uri": "https://localhost:8080/"
        },
        "id": "-MW7RYBqNgaV",
        "outputId": "7b9b278c-9a70-489b-bd30-747105d48e7e"
      },
      "outputs": [
        {
          "name": "stdout",
          "output_type": "stream",
          "text": [
            "[0.42571371 0.42203484 0.42132396 0.41824856 0.4159181 ]\n",
            "['Learn what documents you will need to get a Social Security Card | Social Security Administration#6_0_1_2_3', 'Learn what documents you will need to get a Social Security Card | Social Security Administration#6_0_1_2', 'Learn what documents you will need to get a Social Security Card | Social Security Administration#7_0_1_2', 'Learn what documents you will need to get a Social Security Card | Social Security Administration#6_0_1_2_3_4', 'Learn what documents you will need to get a Social Security Card | Social Security Administration#12_0_1_2']\n",
            "--------------------\n"
          ]
        }
      ],
      "source": [
        "accs, preds = predict_labelwise_doc_at_history_selfatt([test_queries[2],\n",
        "                                                        test_queries[1],\n",
        "                                                        test_queries[0]],\n",
        "                                                        k=5)\n",
        "print(accs)\n",
        "print(preds)\n",
        "print('-' * 20)"
      ]
    },
    {
      "cell_type": "code",
      "execution_count": 59,
      "metadata": {
        "colab": {
          "base_uri": "https://localhost:8080/"
        },
        "id": "OZ7p2UeL39kx",
        "outputId": "79ac1d28-8ace-4a85-dd5e-2e318aa33ea9"
      },
      "outputs": [
        {
          "name": "stderr",
          "output_type": "stream",
          "text": [
            "  9%|▊         | 100/1167 [00:39<05:58,  2.98it/s]"
          ]
        },
        {
          "name": "stdout",
          "output_type": "stream",
          "text": [
            "MRR: mean=0.13712179858232124, var=0.06804061197193524\n",
            "Prec@(1) = 0.07 | Prec@(5) = 0.17 | Prec@(10) = 0.31 | Prec@(50) = 0.49 | Prec@(100) = 0.72 | Prec@(500) = 1.0 | NUMBER_OF_SAMPLES = 100\n"
          ]
        },
        {
          "name": "stderr",
          "output_type": "stream",
          "text": [
            " 17%|█▋        | 200/1167 [01:17<06:37,  2.43it/s]"
          ]
        },
        {
          "name": "stdout",
          "output_type": "stream",
          "text": [
            "MRR: mean=0.1407645002818882, var=0.07746681079191914\n",
            "Prec@(1) = 0.085 | Prec@(5) = 0.165 | Prec@(10) = 0.28 | Prec@(50) = 0.505 | Prec@(100) = 0.755 | Prec@(500) = 1.0 | NUMBER_OF_SAMPLES = 200\n"
          ]
        },
        {
          "name": "stderr",
          "output_type": "stream",
          "text": [
            " 26%|██▌       | 300/1167 [01:54<04:46,  3.02it/s]"
          ]
        },
        {
          "name": "stdout",
          "output_type": "stream",
          "text": [
            "MRR: mean=0.16801966978901922, var=0.08910630754713314\n",
            "Prec@(1) = 0.1 | Prec@(5) = 0.22333333333333333 | Prec@(10) = 0.33 | Prec@(50) = 0.5266666666666666 | Prec@(100) = 0.7733333333333333 | Prec@(500) = 1.0 | NUMBER_OF_SAMPLES = 300\n"
          ]
        },
        {
          "name": "stderr",
          "output_type": "stream",
          "text": [
            " 34%|███▍      | 400/1167 [02:35<04:45,  2.68it/s]"
          ]
        },
        {
          "name": "stdout",
          "output_type": "stream",
          "text": [
            "MRR: mean=0.17874436936684396, var=0.09063010654135949\n",
            "Prec@(1) = 0.1025 | Prec@(5) = 0.2475 | Prec@(10) = 0.355 | Prec@(50) = 0.5775 | Prec@(100) = 0.795 | Prec@(500) = 1.0 | NUMBER_OF_SAMPLES = 400\n"
          ]
        },
        {
          "name": "stderr",
          "output_type": "stream",
          "text": [
            " 43%|████▎     | 500/1167 [03:15<03:54,  2.84it/s]"
          ]
        },
        {
          "name": "stdout",
          "output_type": "stream",
          "text": [
            "MRR: mean=0.20205575728498712, var=0.10276163124862168\n",
            "Prec@(1) = 0.122 | Prec@(5) = 0.274 | Prec@(10) = 0.388 | Prec@(50) = 0.618 | Prec@(100) = 0.824 | Prec@(500) = 1.0 | NUMBER_OF_SAMPLES = 500\n"
          ]
        },
        {
          "name": "stderr",
          "output_type": "stream",
          "text": [
            " 51%|█████▏    | 600/1167 [03:52<03:27,  2.74it/s]"
          ]
        },
        {
          "name": "stdout",
          "output_type": "stream",
          "text": [
            "MRR: mean=0.19361849570656348, var=0.10080450965090526\n",
            "Prec@(1) = 0.11833333333333333 | Prec@(5) = 0.25833333333333336 | Prec@(10) = 0.365 | Prec@(50) = 0.5916666666666667 | Prec@(100) = 0.8133333333333334 | Prec@(500) = 1.0 | NUMBER_OF_SAMPLES = 600\n"
          ]
        },
        {
          "name": "stderr",
          "output_type": "stream",
          "text": [
            " 60%|█████▉    | 700/1167 [04:28<02:50,  2.74it/s]"
          ]
        },
        {
          "name": "stdout",
          "output_type": "stream",
          "text": [
            "MRR: mean=0.19662949066028323, var=0.10389099330374392\n",
            "Prec@(1) = 0.12285714285714286 | Prec@(5) = 0.25857142857142856 | Prec@(10) = 0.3585714285714286 | Prec@(50) = 0.5971428571428572 | Prec@(100) = 0.81 | Prec@(500) = 1.0 | NUMBER_OF_SAMPLES = 700\n"
          ]
        },
        {
          "name": "stderr",
          "output_type": "stream",
          "text": [
            " 69%|██████▊   | 800/1167 [05:09<02:24,  2.53it/s]"
          ]
        },
        {
          "name": "stdout",
          "output_type": "stream",
          "text": [
            "MRR: mean=0.21099489515770983, var=0.11217672997584556\n",
            "Prec@(1) = 0.13625 | Prec@(5) = 0.27875 | Prec@(10) = 0.37 | Prec@(50) = 0.60625 | Prec@(100) = 0.8125 | Prec@(500) = 1.0 | NUMBER_OF_SAMPLES = 800\n"
          ]
        },
        {
          "name": "stderr",
          "output_type": "stream",
          "text": [
            " 77%|███████▋  | 900/1167 [05:46<01:46,  2.50it/s]"
          ]
        },
        {
          "name": "stdout",
          "output_type": "stream",
          "text": [
            "MRR: mean=0.20425497825232053, var=0.10705213747598483\n",
            "Prec@(1) = 0.12777777777777777 | Prec@(5) = 0.27444444444444444 | Prec@(10) = 0.36777777777777776 | Prec@(50) = 0.6066666666666667 | Prec@(100) = 0.8111111111111111 | Prec@(500) = 1.0 | NUMBER_OF_SAMPLES = 900\n"
          ]
        },
        {
          "name": "stderr",
          "output_type": "stream",
          "text": [
            " 86%|████████▌ | 1000/1167 [06:23<01:02,  2.68it/s]"
          ]
        },
        {
          "name": "stdout",
          "output_type": "stream",
          "text": [
            "MRR: mean=0.21360611068958624, var=0.11018580068420077\n",
            "Prec@(1) = 0.133 | Prec@(5) = 0.289 | Prec@(10) = 0.384 | Prec@(50) = 0.623 | Prec@(100) = 0.816 | Prec@(500) = 1.0 | NUMBER_OF_SAMPLES = 1000\n"
          ]
        },
        {
          "name": "stderr",
          "output_type": "stream",
          "text": [
            " 94%|█████████▍| 1100/1167 [07:01<00:24,  2.70it/s]"
          ]
        },
        {
          "name": "stdout",
          "output_type": "stream",
          "text": [
            "MRR: mean=0.21816521586092671, var=0.11363966031532553\n",
            "Prec@(1) = 0.1390909090909091 | Prec@(5) = 0.2909090909090909 | Prec@(10) = 0.3845454545454545 | Prec@(50) = 0.6281818181818182 | Prec@(100) = 0.8227272727272728 | Prec@(500) = 1.0 | NUMBER_OF_SAMPLES = 1100\n"
          ]
        },
        {
          "name": "stderr",
          "output_type": "stream",
          "text": [
            "100%|██████████| 1167/1167 [07:25<00:00,  2.62it/s]\n"
          ]
        }
      ],
      "source": [
        "prec_at_500 = 0\n",
        "prec_at_100 = 0\n",
        "prec_at_50 = 0\n",
        "prec_at_10 = 0\n",
        "prec_at_5 = 0\n",
        "prec_at_1 = 0\n",
        "sample_till_now = 0\n",
        "ranks = []\n",
        "for i in tqdm(range(2, TEST_SIZE)):\n",
        "    act_doc = doc_label_test[i]\n",
        "    accs, preds = predict_labelwise_doc_at_history_selfatt([doc_sentence_test[i],\n",
        "                                                            doc_sentence_test[i-1],\n",
        "                                                            doc_sentence_test[i-2]],\n",
        "                                                            k=500)\n",
        "    ranks.append(1 / (preds.index(act_doc) + 1))\n",
        "    if act_doc == preds[0]:\n",
        "        prec_at_1 += 1\n",
        "    if act_doc in preds[:5]:\n",
        "        prec_at_5 += 1\n",
        "    if act_doc in preds[:10]:\n",
        "        prec_at_10 += 1\n",
        "    if act_doc in preds[:50]:\n",
        "        prec_at_50 += 1\n",
        "    if act_doc in preds[:100]:\n",
        "        prec_at_100 += 1\n",
        "    if act_doc in preds[:500]:\n",
        "        prec_at_500 += 1\n",
        "    sample_till_now += 1\n",
        "    if sample_till_now % 100 == 0:\n",
        "        print(\"MRR: mean={}, var={}\".format(np.array(ranks).mean(), np.array(ranks).var()))\n",
        "        print(\"Prec@(1) = {} | Prec@(5) = {} | Prec@(10) = {} | Prec@(50) = {} | Prec@(100) = {} | Prec@(500) = {} | NUMBER_OF_SAMPLES = {}\".\\\n",
        "              format(prec_at_1 / sample_till_now, prec_at_5 / sample_till_now,\n",
        "                     prec_at_10 / sample_till_now, prec_at_50 / sample_till_now,\n",
        "                     prec_at_100 / sample_till_now, prec_at_500 / sample_till_now,\n",
        "                     sample_till_now))"
      ]
    },
    {
      "cell_type": "markdown",
      "metadata": {
        "id": "Qs1GB0II2NX4"
      },
      "source": [
        "### DR.TEIT"
      ]
    },
    {
      "cell_type": "code",
      "execution_count": 60,
      "metadata": {
        "colab": {
          "base_uri": "https://localhost:8080/"
        },
        "id": "kbiRFDJg2QP6",
        "outputId": "ce34c2c3-2ca2-4c39-cd7a-938a346bc7bd"
      },
      "outputs": [
        {
          "name": "stderr",
          "output_type": "stream",
          "text": [
            "  9%|▊         | 100/1167 [00:40<06:19,  2.81it/s]"
          ]
        },
        {
          "name": "stdout",
          "output_type": "stream",
          "text": [
            "MRR: mean=0.6718437625222385, var=0.14197122368318632\n",
            "Prec@(1) = 0.54 | Prec@(5) = 0.81 | Prec@(10) = 0.9 | Prec@(50) = 0.99 | Prec@(100) = 0.99 | Prec@(500) = 1.0 | NUMBER_OF_SAMPLES = 100\n"
          ]
        },
        {
          "name": "stderr",
          "output_type": "stream",
          "text": [
            " 17%|█▋        | 200/1167 [01:19<06:28,  2.49it/s]"
          ]
        },
        {
          "name": "stdout",
          "output_type": "stream",
          "text": [
            "MRR: mean=0.7621047653992961, var=0.12164531618233917\n",
            "Prec@(1) = 0.66 | Prec@(5) = 0.875 | Prec@(10) = 0.925 | Prec@(50) = 0.98 | Prec@(100) = 0.99 | Prec@(500) = 1.0 | NUMBER_OF_SAMPLES = 200\n"
          ]
        },
        {
          "name": "stderr",
          "output_type": "stream",
          "text": [
            " 26%|██▌       | 300/1167 [01:59<05:00,  2.88it/s]"
          ]
        },
        {
          "name": "stdout",
          "output_type": "stream",
          "text": [
            "MRR: mean=0.7513653919166343, var=0.12320002480578507\n",
            "Prec@(1) = 0.64 | Prec@(5) = 0.8733333333333333 | Prec@(10) = 0.9133333333333333 | Prec@(50) = 0.9766666666666667 | Prec@(100) = 0.9866666666666667 | Prec@(500) = 1.0 | NUMBER_OF_SAMPLES = 300\n"
          ]
        },
        {
          "name": "stderr",
          "output_type": "stream",
          "text": [
            " 34%|███▍      | 400/1167 [02:37<04:54,  2.60it/s]"
          ]
        },
        {
          "name": "stdout",
          "output_type": "stream",
          "text": [
            "MRR: mean=0.7549416852811675, var=0.12332384603430972\n",
            "Prec@(1) = 0.6475 | Prec@(5) = 0.8775 | Prec@(10) = 0.9175 | Prec@(50) = 0.975 | Prec@(100) = 0.9825 | Prec@(500) = 1.0 | NUMBER_OF_SAMPLES = 400\n"
          ]
        },
        {
          "name": "stderr",
          "output_type": "stream",
          "text": [
            " 43%|████▎     | 500/1167 [03:16<04:13,  2.64it/s]"
          ]
        },
        {
          "name": "stdout",
          "output_type": "stream",
          "text": [
            "MRR: mean=0.7485866171646938, var=0.12128808971943039\n",
            "Prec@(1) = 0.632 | Prec@(5) = 0.89 | Prec@(10) = 0.926 | Prec@(50) = 0.974 | Prec@(100) = 0.986 | Prec@(500) = 1.0 | NUMBER_OF_SAMPLES = 500\n"
          ]
        },
        {
          "name": "stderr",
          "output_type": "stream",
          "text": [
            " 51%|█████▏    | 600/1167 [03:56<03:28,  2.72it/s]"
          ]
        },
        {
          "name": "stdout",
          "output_type": "stream",
          "text": [
            "MRR: mean=0.7499969962038046, var=0.12146716702246943\n",
            "Prec@(1) = 0.6366666666666667 | Prec@(5) = 0.8916666666666667 | Prec@(10) = 0.93 | Prec@(50) = 0.9766666666666667 | Prec@(100) = 0.9866666666666667 | Prec@(500) = 1.0 | NUMBER_OF_SAMPLES = 600\n"
          ]
        },
        {
          "name": "stderr",
          "output_type": "stream",
          "text": [
            " 60%|█████▉    | 700/1167 [04:34<02:55,  2.66it/s]"
          ]
        },
        {
          "name": "stdout",
          "output_type": "stream",
          "text": [
            "MRR: mean=0.7397451250315653, var=0.12465182801754122\n",
            "Prec@(1) = 0.6242857142857143 | Prec@(5) = 0.8871428571428571 | Prec@(10) = 0.93 | Prec@(50) = 0.9757142857142858 | Prec@(100) = 0.9871428571428571 | Prec@(500) = 1.0 | NUMBER_OF_SAMPLES = 700\n"
          ]
        },
        {
          "name": "stderr",
          "output_type": "stream",
          "text": [
            " 69%|██████▊   | 800/1167 [05:15<02:23,  2.56it/s]"
          ]
        },
        {
          "name": "stdout",
          "output_type": "stream",
          "text": [
            "MRR: mean=0.7360021684492466, var=0.12814646276128927\n",
            "Prec@(1) = 0.62375 | Prec@(5) = 0.87375 | Prec@(10) = 0.925 | Prec@(50) = 0.975 | Prec@(100) = 0.985 | Prec@(500) = 1.0 | NUMBER_OF_SAMPLES = 800\n"
          ]
        },
        {
          "name": "stderr",
          "output_type": "stream",
          "text": [
            " 77%|███████▋  | 900/1167 [05:54<02:35,  1.72it/s]"
          ]
        },
        {
          "name": "stdout",
          "output_type": "stream",
          "text": [
            "MRR: mean=0.7274813790551656, var=0.1319974398705133\n",
            "Prec@(1) = 0.6155555555555555 | Prec@(5) = 0.8655555555555555 | Prec@(10) = 0.9177777777777778 | Prec@(50) = 0.9688888888888889 | Prec@(100) = 0.9822222222222222 | Prec@(500) = 1.0 | NUMBER_OF_SAMPLES = 900\n"
          ]
        },
        {
          "name": "stderr",
          "output_type": "stream",
          "text": [
            " 86%|████████▌ | 1000/1167 [06:34<01:04,  2.60it/s]"
          ]
        },
        {
          "name": "stdout",
          "output_type": "stream",
          "text": [
            "MRR: mean=0.7245883303501048, var=0.13281883289201785\n",
            "Prec@(1) = 0.612 | Prec@(5) = 0.864 | Prec@(10) = 0.918 | Prec@(50) = 0.967 | Prec@(100) = 0.982 | Prec@(500) = 1.0 | NUMBER_OF_SAMPLES = 1000\n"
          ]
        },
        {
          "name": "stderr",
          "output_type": "stream",
          "text": [
            " 94%|█████████▍| 1100/1167 [07:10<00:24,  2.72it/s]"
          ]
        },
        {
          "name": "stdout",
          "output_type": "stream",
          "text": [
            "MRR: mean=0.7253423659263777, var=0.1344064622774479\n",
            "Prec@(1) = 0.6163636363636363 | Prec@(5) = 0.86 | Prec@(10) = 0.9136363636363637 | Prec@(50) = 0.9636363636363636 | Prec@(100) = 0.980909090909091 | Prec@(500) = 1.0 | NUMBER_OF_SAMPLES = 1100\n"
          ]
        },
        {
          "name": "stderr",
          "output_type": "stream",
          "text": [
            "100%|██████████| 1167/1167 [07:34<00:00,  2.56it/s]\n"
          ]
        }
      ],
      "source": [
        "prec_at_500 = 0\n",
        "prec_at_100 = 0\n",
        "prec_at_50 = 0\n",
        "prec_at_10 = 0\n",
        "prec_at_5 = 0\n",
        "prec_at_1 = 0\n",
        "sample_till_now = 0\n",
        "ranks = []\n",
        "for i in tqdm(range(2, TEST_SIZE)):\n",
        "    act_doc = doc_label_test[i]\n",
        "    accs, preds = predict_DR_TEIT([doc_sentence_test[i],\n",
        "                                   doc_sentence_test[i-1],\n",
        "                                   doc_sentence_test[i-2]],\n",
        "                                   k=500,\n",
        "                                   alpha=10)\n",
        "    ranks.append(1 / (preds.index(act_doc) + 1))\n",
        "    if act_doc == preds[0]:\n",
        "        prec_at_1 += 1\n",
        "    if act_doc in preds[:5]:\n",
        "        prec_at_5 += 1\n",
        "    if act_doc in preds[:10]:\n",
        "        prec_at_10 += 1\n",
        "    if act_doc in preds[:50]:\n",
        "        prec_at_50 += 1\n",
        "    if act_doc in preds[:100]:\n",
        "        prec_at_100 += 1\n",
        "    if act_doc in preds[:500]:\n",
        "        prec_at_500 += 1\n",
        "    sample_till_now += 1\n",
        "    if sample_till_now % 100 == 0:\n",
        "        print(\"MRR: mean={}, var={}\".format(np.array(ranks).mean(), np.array(ranks).var()))\n",
        "        print(\"Prec@(1) = {} | Prec@(5) = {} | Prec@(10) = {} | Prec@(50) = {} | Prec@(100) = {} | Prec@(500) = {} | NUMBER_OF_SAMPLES = {}\".\\\n",
        "              format(prec_at_1 / sample_till_now, prec_at_5 / sample_till_now,\n",
        "                     prec_at_10 / sample_till_now, prec_at_50 / sample_till_now,\n",
        "                     prec_at_100 / sample_till_now, prec_at_500 / sample_till_now,\n",
        "                     sample_till_now))"
      ]
    },
    {
      "cell_type": "markdown",
      "metadata": {
        "id": "eH9vqWah_hFc"
      },
      "source": [
        "## Results\n",
        "\n",
        "At last we have resutls as follows:\n",
        "\n",
        "\n",
        "| Method | @1 | @5 | @10 | @50 | @100 | MRR (mean, var) |\n",
        "|:------:|:------:|:------:|:-------:|:-------:|:--------:|:---:|\n",
        "| IDF - vanilla | 13% | 30% | 39% | 64% | 83% | (0.22, 0.11) |\n",
        "| IDF - power-order | 15% | 31% | 41% | 65% | 83% | (0.23, 0.12) |\n",
        "| IDF - power-order (softmax) | 10.7% | 23% | 31% | 57.6% | 78% | (0.18, 0.09) |\n",
        "| IDF - self-attention | 13.9% | 29% | 38% | 62% | 82% | (0.22, 0.11) |\n",
        "| **DR. TEIT** | **61.6%** | **86%** | **91%** | **96%** | **98%** | **(0.72, 0.13)** |\n",
        "\n",
        "It shows that title informations were not enough for document retrieval."
      ]
    },
    {
      "cell_type": "markdown",
      "metadata": {
        "id": "cJ3M9TEuFq_M"
      },
      "source": [
        "# drafts"
      ]
    },
    {
      "cell_type": "code",
      "execution_count": 58,
      "metadata": {
        "colab": {
          "base_uri": "https://localhost:8080/"
        },
        "id": "GvFV-W_eK_cE",
        "outputId": "75539bc4-e459-4059-c381-fbfe62b60906"
      },
      "outputs": [
        {
          "data": {
            "text/plain": [
              "(488, 1047632)"
            ]
          },
          "execution_count": 58,
          "metadata": {},
          "output_type": "execute_result"
        }
      ],
      "source": [
        "tfidf_wm.shape"
      ]
    },
    {
      "cell_type": "code",
      "execution_count": 59,
      "metadata": {
        "id": "MWzaWLyKLWcR"
      },
      "outputs": [],
      "source": [
        "answers = tfidfVectorizer.transform([\"Original Card for a Foreign Born U.S. Citizen Adult\",\n",
        "                                     \"Hello world from far beyound!\"]).todense()\n",
        "query = tfidfVectorizer.transform([\"Hello!\"]).todense()"
      ]
    },
    {
      "cell_type": "code",
      "execution_count": 60,
      "metadata": {
        "colab": {
          "base_uri": "https://localhost:8080/"
        },
        "id": "vZD2QLNAMyJ9",
        "outputId": "914cec63-9367-4930-ec7b-c6652c5c9107"
      },
      "outputs": [
        {
          "name": "stdout",
          "output_type": "stream",
          "text": [
            "(2, 1047632) (1, 1047632)\n"
          ]
        }
      ],
      "source": [
        "print(answers.shape, query.shape)"
      ]
    },
    {
      "cell_type": "code",
      "execution_count": 61,
      "metadata": {
        "id": "dCx2EHrZT4Q7"
      },
      "outputs": [],
      "source": [
        "import numpy as np\n",
        "answers_sim = np.squeeze(np.asarray(tfidf_wm @ answers.T))\n",
        "query_sim = np.squeeze(np.asarray(tfidf_wm @ query.T))"
      ]
    },
    {
      "cell_type": "code",
      "execution_count": 62,
      "metadata": {
        "colab": {
          "base_uri": "https://localhost:8080/"
        },
        "id": "jTq6LC7p2dL6",
        "outputId": "ce21257e-38ea-422e-a04a-c2b675ebc12a"
      },
      "outputs": [
        {
          "name": "stdout",
          "output_type": "stream",
          "text": [
            "(488, 2) (488,)\n"
          ]
        }
      ],
      "source": [
        "print(answers_sim.shape, query_sim.shape)"
      ]
    },
    {
      "cell_type": "code",
      "execution_count": 63,
      "metadata": {
        "colab": {
          "base_uri": "https://localhost:8080/"
        },
        "id": "rBPwlYnH5Xit",
        "outputId": "c07059fe-d472-402e-8f9f-b9c23e40ca26"
      },
      "outputs": [
        {
          "data": {
            "text/plain": [
              "[0.7506911990367025, 0.934114716518692]"
            ]
          },
          "execution_count": 63,
          "metadata": {},
          "output_type": "execute_result"
        }
      ],
      "source": [
        "list(map(lambda x: np.dot(x, query_sim) /\n",
        "        (np.linalg.norm(query_sim) * np.linalg.norm(x)),\n",
        "        answers_sim.T))"
      ]
    },
    {
      "cell_type": "code",
      "execution_count": null,
      "metadata": {
        "id": "6wPvMHTtDEKZ"
      },
      "outputs": [],
      "source": []
    },
    {
      "cell_type": "code",
      "execution_count": 1,
      "metadata": {},
      "outputs": [
        {
          "ename": "OSError",
          "evalue": "Can't load tokenizer for 't5-base'. If you were trying to load it from 'https://huggingface.co/models', make sure you don't have a local directory with the same name. Otherwise, make sure 't5-base' is the correct path to a directory containing all relevant files for a BertTokenizer tokenizer.",
          "output_type": "error",
          "traceback": [
            "\u001b[0;31m---------------------------------------------------------------------------\u001b[0m",
            "\u001b[0;31mOSError\u001b[0m                                   Traceback (most recent call last)",
            "\u001b[0;32m/tmp/ipykernel_3612/867703240.py\u001b[0m in \u001b[0;36m<module>\u001b[0;34m\u001b[0m\n\u001b[1;32m      4\u001b[0m \u001b[0mmodel_name\u001b[0m \u001b[0;34m=\u001b[0m \u001b[0;34m[\u001b[0m\u001b[0;34m\"t5-base\"\u001b[0m\u001b[0;34m,\u001b[0m \u001b[0;34m\"bert-base-uncased\"\u001b[0m\u001b[0;34m]\u001b[0m\u001b[0;34m[\u001b[0m\u001b[0;36m0\u001b[0m\u001b[0;34m]\u001b[0m\u001b[0;34m\u001b[0m\u001b[0;34m\u001b[0m\u001b[0m\n\u001b[1;32m      5\u001b[0m \u001b[0;34m\u001b[0m\u001b[0m\n\u001b[0;32m----> 6\u001b[0;31m \u001b[0mtokenizer\u001b[0m \u001b[0;34m=\u001b[0m \u001b[0mBertTokenizer\u001b[0m\u001b[0;34m.\u001b[0m\u001b[0mfrom_pretrained\u001b[0m\u001b[0;34m(\u001b[0m\u001b[0mmodel_name\u001b[0m\u001b[0;34m)\u001b[0m\u001b[0;34m\u001b[0m\u001b[0;34m\u001b[0m\u001b[0m\n\u001b[0m\u001b[1;32m      7\u001b[0m \u001b[0mmodel\u001b[0m \u001b[0;34m=\u001b[0m \u001b[0mBertModel\u001b[0m\u001b[0;34m.\u001b[0m\u001b[0mfrom_pretrained\u001b[0m\u001b[0;34m(\u001b[0m\u001b[0mmodel_name\u001b[0m\u001b[0;34m)\u001b[0m\u001b[0;34m\u001b[0m\u001b[0;34m\u001b[0m\u001b[0m\n\u001b[1;32m      8\u001b[0m \u001b[0;34m\u001b[0m\u001b[0m\n",
            "\u001b[0;32m/usr/local/lib/python3.7/dist-packages/transformers/tokenization_utils_base.py\u001b[0m in \u001b[0;36mfrom_pretrained\u001b[0;34m(cls, pretrained_model_name_or_path, *init_inputs, **kwargs)\u001b[0m\n\u001b[1;32m   1771\u001b[0m         \u001b[0;32mif\u001b[0m \u001b[0mall\u001b[0m\u001b[0;34m(\u001b[0m\u001b[0mfull_file_name\u001b[0m \u001b[0;32mis\u001b[0m \u001b[0;32mNone\u001b[0m \u001b[0;32mfor\u001b[0m \u001b[0mfull_file_name\u001b[0m \u001b[0;32min\u001b[0m \u001b[0mresolved_vocab_files\u001b[0m\u001b[0;34m.\u001b[0m\u001b[0mvalues\u001b[0m\u001b[0;34m(\u001b[0m\u001b[0;34m)\u001b[0m\u001b[0;34m)\u001b[0m\u001b[0;34m:\u001b[0m\u001b[0;34m\u001b[0m\u001b[0;34m\u001b[0m\u001b[0m\n\u001b[1;32m   1772\u001b[0m             raise EnvironmentError(\n\u001b[0;32m-> 1773\u001b[0;31m                 \u001b[0;34mf\"Can't load tokenizer for '{pretrained_model_name_or_path}'. If you were trying to load it from \"\u001b[0m\u001b[0;34m\u001b[0m\u001b[0;34m\u001b[0m\u001b[0m\n\u001b[0m\u001b[1;32m   1774\u001b[0m                 \u001b[0;34m\"'https://huggingface.co/models', make sure you don't have a local directory with the same name. \"\u001b[0m\u001b[0;34m\u001b[0m\u001b[0;34m\u001b[0m\u001b[0m\n\u001b[1;32m   1775\u001b[0m                 \u001b[0;34mf\"Otherwise, make sure '{pretrained_model_name_or_path}' is the correct path to a directory \"\u001b[0m\u001b[0;34m\u001b[0m\u001b[0;34m\u001b[0m\u001b[0m\n",
            "\u001b[0;31mOSError\u001b[0m: Can't load tokenizer for 't5-base'. If you were trying to load it from 'https://huggingface.co/models', make sure you don't have a local directory with the same name. Otherwise, make sure 't5-base' is the correct path to a directory containing all relevant files for a BertTokenizer tokenizer."
          ]
        }
      ],
      "source": [
        "from transformers import BertTokenizer, BertModel\n",
        "import torch\n",
        "\n",
        "model_name = [\"t5-base\", \"bert-base-uncased\"][0]\n",
        "\n",
        "tokenizer = BertTokenizer.from_pretrained(model_name)\n",
        "model = BertModel.from_pretrained(model_name)\n",
        "\n",
        "inputs = tokenizer(\"Hello, my dog is cute\", return_tensors=\"pt\")\n",
        "outputs = model(**inputs)\n",
        "\n",
        "last_hidden_states = outputs.last_hidden_state\n",
        "print(\"inputs\", inputs)\n",
        "\n",
        "pooler = outputs.pooler_output\n",
        "print(\"last_hidden_states\", last_hidden_states.shape)\n",
        "\n",
        "print(\"pooler\",pooler.shape)\n",
        "with torch.no_grad():\n",
        "    print(np.squeeze(np.array(pooler)).shape)"
      ]
    },
    {
      "cell_type": "code",
      "execution_count": null,
      "metadata": {},
      "outputs": [],
      "source": []
    }
  ],
  "metadata": {
    "colab": {
      "collapsed_sections": [],
      "name": "DR.TEIT.ipynb",
      "provenance": [],
      "toc_visible": true
    },
    "kernelspec": {
      "display_name": "Python 3",
      "language": "python",
      "name": "python3"
    },
    "language_info": {
      "codemirror_mode": {
        "name": "ipython",
        "version": 3
      },
      "file_extension": ".py",
      "mimetype": "text/x-python",
      "name": "python",
      "nbconvert_exporter": "python",
      "pygments_lexer": "ipython3",
      "version": "3.7.13"
    },
    "vscode": {
      "interpreter": {
        "hash": "31f2aee4e71d21fbe5cf8b01ff0e069b9275f58929596ceb00d14d90e3e16cd6"
      }
    },
    "widgets": {
      "application/vnd.jupyter.widget-state+json": {
        "00dba09e1ff9419b8371b377d8be24b2": {
          "model_module": "@jupyter-widgets/base",
          "model_module_version": "1.2.0",
          "model_name": "LayoutModel",
          "state": {
            "_model_module": "@jupyter-widgets/base",
            "_model_module_version": "1.2.0",
            "_model_name": "LayoutModel",
            "_view_count": null,
            "_view_module": "@jupyter-widgets/base",
            "_view_module_version": "1.2.0",
            "_view_name": "LayoutView",
            "align_content": null,
            "align_items": null,
            "align_self": null,
            "border": null,
            "bottom": null,
            "display": null,
            "flex": null,
            "flex_flow": null,
            "grid_area": null,
            "grid_auto_columns": null,
            "grid_auto_flow": null,
            "grid_auto_rows": null,
            "grid_column": null,
            "grid_gap": null,
            "grid_row": null,
            "grid_template_areas": null,
            "grid_template_columns": null,
            "grid_template_rows": null,
            "height": null,
            "justify_content": null,
            "justify_items": null,
            "left": null,
            "margin": null,
            "max_height": null,
            "max_width": null,
            "min_height": null,
            "min_width": null,
            "object_fit": null,
            "object_position": null,
            "order": null,
            "overflow": null,
            "overflow_x": null,
            "overflow_y": null,
            "padding": null,
            "right": null,
            "top": null,
            "visibility": null,
            "width": null
          }
        },
        "012a2d0f0c5e476eb1fea730679337d0": {
          "model_module": "@jupyter-widgets/controls",
          "model_module_version": "1.5.0",
          "model_name": "DescriptionStyleModel",
          "state": {
            "_model_module": "@jupyter-widgets/controls",
            "_model_module_version": "1.5.0",
            "_model_name": "DescriptionStyleModel",
            "_view_count": null,
            "_view_module": "@jupyter-widgets/base",
            "_view_module_version": "1.2.0",
            "_view_name": "StyleView",
            "description_width": ""
          }
        },
        "0285b21d865e412981252b7d61729367": {
          "model_module": "@jupyter-widgets/controls",
          "model_module_version": "1.5.0",
          "model_name": "DescriptionStyleModel",
          "state": {
            "_model_module": "@jupyter-widgets/controls",
            "_model_module_version": "1.5.0",
            "_model_name": "DescriptionStyleModel",
            "_view_count": null,
            "_view_module": "@jupyter-widgets/base",
            "_view_module_version": "1.2.0",
            "_view_name": "StyleView",
            "description_width": ""
          }
        },
        "0af1dfeed2784087964a010d99a6b3da": {
          "model_module": "@jupyter-widgets/base",
          "model_module_version": "1.2.0",
          "model_name": "LayoutModel",
          "state": {
            "_model_module": "@jupyter-widgets/base",
            "_model_module_version": "1.2.0",
            "_model_name": "LayoutModel",
            "_view_count": null,
            "_view_module": "@jupyter-widgets/base",
            "_view_module_version": "1.2.0",
            "_view_name": "LayoutView",
            "align_content": null,
            "align_items": null,
            "align_self": null,
            "border": null,
            "bottom": null,
            "display": null,
            "flex": null,
            "flex_flow": null,
            "grid_area": null,
            "grid_auto_columns": null,
            "grid_auto_flow": null,
            "grid_auto_rows": null,
            "grid_column": null,
            "grid_gap": null,
            "grid_row": null,
            "grid_template_areas": null,
            "grid_template_columns": null,
            "grid_template_rows": null,
            "height": null,
            "justify_content": null,
            "justify_items": null,
            "left": null,
            "margin": null,
            "max_height": null,
            "max_width": null,
            "min_height": null,
            "min_width": null,
            "object_fit": null,
            "object_position": null,
            "order": null,
            "overflow": null,
            "overflow_x": null,
            "overflow_y": null,
            "padding": null,
            "right": null,
            "top": null,
            "visibility": null,
            "width": null
          }
        },
        "0d94c769220848419ceb830a26aa62f6": {
          "model_module": "@jupyter-widgets/controls",
          "model_module_version": "1.5.0",
          "model_name": "HBoxModel",
          "state": {
            "_dom_classes": [],
            "_model_module": "@jupyter-widgets/controls",
            "_model_module_version": "1.5.0",
            "_model_name": "HBoxModel",
            "_view_count": null,
            "_view_module": "@jupyter-widgets/controls",
            "_view_module_version": "1.5.0",
            "_view_name": "HBoxView",
            "box_style": "",
            "children": [
              "IPY_MODEL_c45efc93be6d40949c7601fcbfbc579a",
              "IPY_MODEL_3452e73b3d684313bf8ac02c6e6fef9e",
              "IPY_MODEL_1cd190f36d8e4da183947ac33bdb4427"
            ],
            "layout": "IPY_MODEL_95041143a8a64632b7ac74cdb5e03d54"
          }
        },
        "0dd438c7c5ce435eae80404a219258c6": {
          "model_module": "@jupyter-widgets/controls",
          "model_module_version": "1.5.0",
          "model_name": "HBoxModel",
          "state": {
            "_dom_classes": [],
            "_model_module": "@jupyter-widgets/controls",
            "_model_module_version": "1.5.0",
            "_model_name": "HBoxModel",
            "_view_count": null,
            "_view_module": "@jupyter-widgets/controls",
            "_view_module_version": "1.5.0",
            "_view_name": "HBoxView",
            "box_style": "",
            "children": [
              "IPY_MODEL_85859324ca0f43c5b0b58daebabfbfc4",
              "IPY_MODEL_edd2ea1535aa4c5893ade563c363e190",
              "IPY_MODEL_17e3e73ae3454fb7922f928f9cca9d5f"
            ],
            "layout": "IPY_MODEL_0af1dfeed2784087964a010d99a6b3da"
          }
        },
        "0eeb0b55bb56430686ad309a8354c193": {
          "model_module": "@jupyter-widgets/controls",
          "model_module_version": "1.5.0",
          "model_name": "HTMLModel",
          "state": {
            "_dom_classes": [],
            "_model_module": "@jupyter-widgets/controls",
            "_model_module_version": "1.5.0",
            "_model_name": "HTMLModel",
            "_view_count": null,
            "_view_module": "@jupyter-widgets/controls",
            "_view_module_version": "1.5.0",
            "_view_name": "HTMLView",
            "description": "",
            "description_tooltip": null,
            "layout": "IPY_MODEL_6c0333c2e5af45f282c9034e571febe4",
            "placeholder": "​",
            "style": "IPY_MODEL_2ed06510c33b40d0bcd32b3f9889fc88",
            "value": "Downloading: 100%"
          }
        },
        "1252bf97cc6645cfa10da0eebc1e493d": {
          "model_module": "@jupyter-widgets/base",
          "model_module_version": "1.2.0",
          "model_name": "LayoutModel",
          "state": {
            "_model_module": "@jupyter-widgets/base",
            "_model_module_version": "1.2.0",
            "_model_name": "LayoutModel",
            "_view_count": null,
            "_view_module": "@jupyter-widgets/base",
            "_view_module_version": "1.2.0",
            "_view_name": "LayoutView",
            "align_content": null,
            "align_items": null,
            "align_self": null,
            "border": null,
            "bottom": null,
            "display": null,
            "flex": null,
            "flex_flow": null,
            "grid_area": null,
            "grid_auto_columns": null,
            "grid_auto_flow": null,
            "grid_auto_rows": null,
            "grid_column": null,
            "grid_gap": null,
            "grid_row": null,
            "grid_template_areas": null,
            "grid_template_columns": null,
            "grid_template_rows": null,
            "height": null,
            "justify_content": null,
            "justify_items": null,
            "left": null,
            "margin": null,
            "max_height": null,
            "max_width": null,
            "min_height": null,
            "min_width": null,
            "object_fit": null,
            "object_position": null,
            "order": null,
            "overflow": null,
            "overflow_x": null,
            "overflow_y": null,
            "padding": null,
            "right": null,
            "top": null,
            "visibility": null,
            "width": null
          }
        },
        "17e3e73ae3454fb7922f928f9cca9d5f": {
          "model_module": "@jupyter-widgets/controls",
          "model_module_version": "1.5.0",
          "model_name": "HTMLModel",
          "state": {
            "_dom_classes": [],
            "_model_module": "@jupyter-widgets/controls",
            "_model_module_version": "1.5.0",
            "_model_name": "HTMLModel",
            "_view_count": null,
            "_view_module": "@jupyter-widgets/controls",
            "_view_module_version": "1.5.0",
            "_view_name": "HTMLView",
            "description": "",
            "description_tooltip": null,
            "layout": "IPY_MODEL_df3fa0aaa40344cfb3a968d9785b6e75",
            "placeholder": "​",
            "style": "IPY_MODEL_0285b21d865e412981252b7d61729367",
            "value": " 112/112 [00:00&lt;00:00, 1.80kB/s]"
          }
        },
        "19313345b5754eb5b46e1b01c0332b6e": {
          "model_module": "@jupyter-widgets/controls",
          "model_module_version": "1.5.0",
          "model_name": "HBoxModel",
          "state": {
            "_dom_classes": [],
            "_model_module": "@jupyter-widgets/controls",
            "_model_module_version": "1.5.0",
            "_model_name": "HBoxModel",
            "_view_count": null,
            "_view_module": "@jupyter-widgets/controls",
            "_view_module_version": "1.5.0",
            "_view_name": "HBoxView",
            "box_style": "",
            "children": [
              "IPY_MODEL_a8a49bf8988348728fcd521b9b719a05",
              "IPY_MODEL_96d415a009f64a52a25da0e98f25c64f",
              "IPY_MODEL_1ce7c4b5d68f46c992745dd79192100c"
            ],
            "layout": "IPY_MODEL_92cc40bdbe1f455293a64ada9fb1cab8"
          }
        },
        "19c7de4e0ae8487b8bef2ca39bf7eb1b": {
          "model_module": "@jupyter-widgets/controls",
          "model_module_version": "1.5.0",
          "model_name": "ProgressStyleModel",
          "state": {
            "_model_module": "@jupyter-widgets/controls",
            "_model_module_version": "1.5.0",
            "_model_name": "ProgressStyleModel",
            "_view_count": null,
            "_view_module": "@jupyter-widgets/base",
            "_view_module_version": "1.2.0",
            "_view_name": "StyleView",
            "bar_color": null,
            "description_width": ""
          }
        },
        "1cd190f36d8e4da183947ac33bdb4427": {
          "model_module": "@jupyter-widgets/controls",
          "model_module_version": "1.5.0",
          "model_name": "HTMLModel",
          "state": {
            "_dom_classes": [],
            "_model_module": "@jupyter-widgets/controls",
            "_model_module_version": "1.5.0",
            "_model_name": "HTMLModel",
            "_view_count": null,
            "_view_module": "@jupyter-widgets/controls",
            "_view_module_version": "1.5.0",
            "_view_name": "HTMLView",
            "description": "",
            "description_tooltip": null,
            "layout": "IPY_MODEL_81f4f4c195ec496c8d5e38466478e53a",
            "placeholder": "​",
            "style": "IPY_MODEL_b677f675fcb84025b67b3038f4095b84",
            "value": " 9.18M/9.18M [00:00&lt;00:00, 16.1MB/s]"
          }
        },
        "1ce7c4b5d68f46c992745dd79192100c": {
          "model_module": "@jupyter-widgets/controls",
          "model_module_version": "1.5.0",
          "model_name": "HTMLModel",
          "state": {
            "_dom_classes": [],
            "_model_module": "@jupyter-widgets/controls",
            "_model_module_version": "1.5.0",
            "_model_name": "HTMLModel",
            "_view_count": null,
            "_view_module": "@jupyter-widgets/controls",
            "_view_module_version": "1.5.0",
            "_view_name": "HTMLView",
            "description": "",
            "description_tooltip": null,
            "layout": "IPY_MODEL_aa9b313329994f82b74435566930a5de",
            "placeholder": "​",
            "style": "IPY_MODEL_deb33f4baea545f788409f7054d708ae",
            "value": " 576/576 [00:00&lt;00:00, 6.97kB/s]"
          }
        },
        "2d6229371b3f48888cf7ae4e500f1aca": {
          "model_module": "@jupyter-widgets/controls",
          "model_module_version": "1.5.0",
          "model_name": "HBoxModel",
          "state": {
            "_dom_classes": [],
            "_model_module": "@jupyter-widgets/controls",
            "_model_module_version": "1.5.0",
            "_model_name": "HBoxModel",
            "_view_count": null,
            "_view_module": "@jupyter-widgets/controls",
            "_view_module_version": "1.5.0",
            "_view_name": "HBoxView",
            "box_style": "",
            "children": [
              "IPY_MODEL_6c0db61181404e29b9ba126443cb68be",
              "IPY_MODEL_599cf5f4c15f4f5b903ac541db250323",
              "IPY_MODEL_b21bcf653f564512ab5dea583c5789c3"
            ],
            "layout": "IPY_MODEL_daba5303b965431180d35f45a566223a"
          }
        },
        "2ed06510c33b40d0bcd32b3f9889fc88": {
          "model_module": "@jupyter-widgets/controls",
          "model_module_version": "1.5.0",
          "model_name": "DescriptionStyleModel",
          "state": {
            "_model_module": "@jupyter-widgets/controls",
            "_model_module_version": "1.5.0",
            "_model_name": "DescriptionStyleModel",
            "_view_count": null,
            "_view_module": "@jupyter-widgets/base",
            "_view_module_version": "1.2.0",
            "_view_name": "StyleView",
            "description_width": ""
          }
        },
        "314b44fc1a5c4010a5a05d5b4792c609": {
          "model_module": "@jupyter-widgets/base",
          "model_module_version": "1.2.0",
          "model_name": "LayoutModel",
          "state": {
            "_model_module": "@jupyter-widgets/base",
            "_model_module_version": "1.2.0",
            "_model_name": "LayoutModel",
            "_view_count": null,
            "_view_module": "@jupyter-widgets/base",
            "_view_module_version": "1.2.0",
            "_view_name": "LayoutView",
            "align_content": null,
            "align_items": null,
            "align_self": null,
            "border": null,
            "bottom": null,
            "display": null,
            "flex": null,
            "flex_flow": null,
            "grid_area": null,
            "grid_auto_columns": null,
            "grid_auto_flow": null,
            "grid_auto_rows": null,
            "grid_column": null,
            "grid_gap": null,
            "grid_row": null,
            "grid_template_areas": null,
            "grid_template_columns": null,
            "grid_template_rows": null,
            "height": null,
            "justify_content": null,
            "justify_items": null,
            "left": null,
            "margin": null,
            "max_height": null,
            "max_width": null,
            "min_height": null,
            "min_width": null,
            "object_fit": null,
            "object_position": null,
            "order": null,
            "overflow": null,
            "overflow_x": null,
            "overflow_y": null,
            "padding": null,
            "right": null,
            "top": null,
            "visibility": null,
            "width": null
          }
        },
        "3452e73b3d684313bf8ac02c6e6fef9e": {
          "model_module": "@jupyter-widgets/controls",
          "model_module_version": "1.5.0",
          "model_name": "FloatProgressModel",
          "state": {
            "_dom_classes": [],
            "_model_module": "@jupyter-widgets/controls",
            "_model_module_version": "1.5.0",
            "_model_name": "FloatProgressModel",
            "_view_count": null,
            "_view_module": "@jupyter-widgets/controls",
            "_view_module_version": "1.5.0",
            "_view_name": "ProgressView",
            "bar_style": "success",
            "description": "",
            "description_tooltip": null,
            "layout": "IPY_MODEL_ae0fb9c5a9fa488fa7e799ebfd9c6129",
            "max": 9620993,
            "min": 0,
            "orientation": "horizontal",
            "style": "IPY_MODEL_99fcca08935c42a3ab52f10a054b2f11",
            "value": 9620993
          }
        },
        "3658ad4df7704d6ca449e071e6f83da7": {
          "model_module": "@jupyter-widgets/base",
          "model_module_version": "1.2.0",
          "model_name": "LayoutModel",
          "state": {
            "_model_module": "@jupyter-widgets/base",
            "_model_module_version": "1.2.0",
            "_model_name": "LayoutModel",
            "_view_count": null,
            "_view_module": "@jupyter-widgets/base",
            "_view_module_version": "1.2.0",
            "_view_name": "LayoutView",
            "align_content": null,
            "align_items": null,
            "align_self": null,
            "border": null,
            "bottom": null,
            "display": null,
            "flex": null,
            "flex_flow": null,
            "grid_area": null,
            "grid_auto_columns": null,
            "grid_auto_flow": null,
            "grid_auto_rows": null,
            "grid_column": null,
            "grid_gap": null,
            "grid_row": null,
            "grid_template_areas": null,
            "grid_template_columns": null,
            "grid_template_rows": null,
            "height": null,
            "justify_content": null,
            "justify_items": null,
            "left": null,
            "margin": null,
            "max_height": null,
            "max_width": null,
            "min_height": null,
            "min_width": null,
            "object_fit": null,
            "object_position": null,
            "order": null,
            "overflow": null,
            "overflow_x": null,
            "overflow_y": null,
            "padding": null,
            "right": null,
            "top": null,
            "visibility": null,
            "width": null
          }
        },
        "47c0ed7b6f9345e8a75643da152954bb": {
          "model_module": "@jupyter-widgets/base",
          "model_module_version": "1.2.0",
          "model_name": "LayoutModel",
          "state": {
            "_model_module": "@jupyter-widgets/base",
            "_model_module_version": "1.2.0",
            "_model_name": "LayoutModel",
            "_view_count": null,
            "_view_module": "@jupyter-widgets/base",
            "_view_module_version": "1.2.0",
            "_view_name": "LayoutView",
            "align_content": null,
            "align_items": null,
            "align_self": null,
            "border": null,
            "bottom": null,
            "display": null,
            "flex": null,
            "flex_flow": null,
            "grid_area": null,
            "grid_auto_columns": null,
            "grid_auto_flow": null,
            "grid_auto_rows": null,
            "grid_column": null,
            "grid_gap": null,
            "grid_row": null,
            "grid_template_areas": null,
            "grid_template_columns": null,
            "grid_template_rows": null,
            "height": null,
            "justify_content": null,
            "justify_items": null,
            "left": null,
            "margin": null,
            "max_height": null,
            "max_width": null,
            "min_height": null,
            "min_width": null,
            "object_fit": null,
            "object_position": null,
            "order": null,
            "overflow": null,
            "overflow_x": null,
            "overflow_y": null,
            "padding": null,
            "right": null,
            "top": null,
            "visibility": null,
            "width": null
          }
        },
        "480dbb2ea99a4b6bb83cb1daf93ba5f1": {
          "model_module": "@jupyter-widgets/controls",
          "model_module_version": "1.5.0",
          "model_name": "HBoxModel",
          "state": {
            "_dom_classes": [],
            "_model_module": "@jupyter-widgets/controls",
            "_model_module_version": "1.5.0",
            "_model_name": "HBoxModel",
            "_view_count": null,
            "_view_module": "@jupyter-widgets/controls",
            "_view_module_version": "1.5.0",
            "_view_name": "HBoxView",
            "box_style": "",
            "children": [
              "IPY_MODEL_0eeb0b55bb56430686ad309a8354c193",
              "IPY_MODEL_5dca53399e804155929e2531e784ff0b",
              "IPY_MODEL_bf0f8b5416244e009010b435ab0c87eb"
            ],
            "layout": "IPY_MODEL_4d1ddd33260c491a8f0ca4925732c7eb"
          }
        },
        "4d1ddd33260c491a8f0ca4925732c7eb": {
          "model_module": "@jupyter-widgets/base",
          "model_module_version": "1.2.0",
          "model_name": "LayoutModel",
          "state": {
            "_model_module": "@jupyter-widgets/base",
            "_model_module_version": "1.2.0",
            "_model_name": "LayoutModel",
            "_view_count": null,
            "_view_module": "@jupyter-widgets/base",
            "_view_module_version": "1.2.0",
            "_view_name": "LayoutView",
            "align_content": null,
            "align_items": null,
            "align_self": null,
            "border": null,
            "bottom": null,
            "display": null,
            "flex": null,
            "flex_flow": null,
            "grid_area": null,
            "grid_auto_columns": null,
            "grid_auto_flow": null,
            "grid_auto_rows": null,
            "grid_column": null,
            "grid_gap": null,
            "grid_row": null,
            "grid_template_areas": null,
            "grid_template_columns": null,
            "grid_template_rows": null,
            "height": null,
            "justify_content": null,
            "justify_items": null,
            "left": null,
            "margin": null,
            "max_height": null,
            "max_width": null,
            "min_height": null,
            "min_width": null,
            "object_fit": null,
            "object_position": null,
            "order": null,
            "overflow": null,
            "overflow_x": null,
            "overflow_y": null,
            "padding": null,
            "right": null,
            "top": null,
            "visibility": null,
            "width": null
          }
        },
        "4f229f630ea942808fc4409ca910b509": {
          "model_module": "@jupyter-widgets/controls",
          "model_module_version": "1.5.0",
          "model_name": "DescriptionStyleModel",
          "state": {
            "_model_module": "@jupyter-widgets/controls",
            "_model_module_version": "1.5.0",
            "_model_name": "DescriptionStyleModel",
            "_view_count": null,
            "_view_module": "@jupyter-widgets/base",
            "_view_module_version": "1.2.0",
            "_view_name": "StyleView",
            "description_width": ""
          }
        },
        "5019099e40e643ce80094b65d1f454b9": {
          "model_module": "@jupyter-widgets/base",
          "model_module_version": "1.2.0",
          "model_name": "LayoutModel",
          "state": {
            "_model_module": "@jupyter-widgets/base",
            "_model_module_version": "1.2.0",
            "_model_name": "LayoutModel",
            "_view_count": null,
            "_view_module": "@jupyter-widgets/base",
            "_view_module_version": "1.2.0",
            "_view_name": "LayoutView",
            "align_content": null,
            "align_items": null,
            "align_self": null,
            "border": null,
            "bottom": null,
            "display": null,
            "flex": null,
            "flex_flow": null,
            "grid_area": null,
            "grid_auto_columns": null,
            "grid_auto_flow": null,
            "grid_auto_rows": null,
            "grid_column": null,
            "grid_gap": null,
            "grid_row": null,
            "grid_template_areas": null,
            "grid_template_columns": null,
            "grid_template_rows": null,
            "height": null,
            "justify_content": null,
            "justify_items": null,
            "left": null,
            "margin": null,
            "max_height": null,
            "max_width": null,
            "min_height": null,
            "min_width": null,
            "object_fit": null,
            "object_position": null,
            "order": null,
            "overflow": null,
            "overflow_x": null,
            "overflow_y": null,
            "padding": null,
            "right": null,
            "top": null,
            "visibility": null,
            "width": null
          }
        },
        "599cf5f4c15f4f5b903ac541db250323": {
          "model_module": "@jupyter-widgets/controls",
          "model_module_version": "1.5.0",
          "model_name": "FloatProgressModel",
          "state": {
            "_dom_classes": [],
            "_model_module": "@jupyter-widgets/controls",
            "_model_module_version": "1.5.0",
            "_model_name": "FloatProgressModel",
            "_view_count": null,
            "_view_module": "@jupyter-widgets/controls",
            "_view_module_version": "1.5.0",
            "_view_name": "ProgressView",
            "bar_style": "success",
            "description": "",
            "description_tooltip": null,
            "layout": "IPY_MODEL_5bf8e131631a4f4889ca40d61d068008",
            "max": 300,
            "min": 0,
            "orientation": "horizontal",
            "style": "IPY_MODEL_eca568a4d987475fad27623d7f9b89bc",
            "value": 300
          }
        },
        "5bf8e131631a4f4889ca40d61d068008": {
          "model_module": "@jupyter-widgets/base",
          "model_module_version": "1.2.0",
          "model_name": "LayoutModel",
          "state": {
            "_model_module": "@jupyter-widgets/base",
            "_model_module_version": "1.2.0",
            "_model_name": "LayoutModel",
            "_view_count": null,
            "_view_module": "@jupyter-widgets/base",
            "_view_module_version": "1.2.0",
            "_view_name": "LayoutView",
            "align_content": null,
            "align_items": null,
            "align_self": null,
            "border": null,
            "bottom": null,
            "display": null,
            "flex": null,
            "flex_flow": null,
            "grid_area": null,
            "grid_auto_columns": null,
            "grid_auto_flow": null,
            "grid_auto_rows": null,
            "grid_column": null,
            "grid_gap": null,
            "grid_row": null,
            "grid_template_areas": null,
            "grid_template_columns": null,
            "grid_template_rows": null,
            "height": null,
            "justify_content": null,
            "justify_items": null,
            "left": null,
            "margin": null,
            "max_height": null,
            "max_width": null,
            "min_height": null,
            "min_width": null,
            "object_fit": null,
            "object_position": null,
            "order": null,
            "overflow": null,
            "overflow_x": null,
            "overflow_y": null,
            "padding": null,
            "right": null,
            "top": null,
            "visibility": null,
            "width": null
          }
        },
        "5dca53399e804155929e2531e784ff0b": {
          "model_module": "@jupyter-widgets/controls",
          "model_module_version": "1.5.0",
          "model_name": "FloatProgressModel",
          "state": {
            "_dom_classes": [],
            "_model_module": "@jupyter-widgets/controls",
            "_model_module_version": "1.5.0",
            "_model_name": "FloatProgressModel",
            "_view_count": null,
            "_view_module": "@jupyter-widgets/controls",
            "_view_module_version": "1.5.0",
            "_view_name": "ProgressView",
            "bar_style": "success",
            "description": "",
            "description_tooltip": null,
            "layout": "IPY_MODEL_b2eca95fc8984277a99a22bbb9fd4115",
            "max": 5220781,
            "min": 0,
            "orientation": "horizontal",
            "style": "IPY_MODEL_a29a24f2877e492f8dbf6e385a74c375",
            "value": 5220781
          }
        },
        "61e5283093c84e8fb3977d55680c0ebe": {
          "model_module": "@jupyter-widgets/base",
          "model_module_version": "1.2.0",
          "model_name": "LayoutModel",
          "state": {
            "_model_module": "@jupyter-widgets/base",
            "_model_module_version": "1.2.0",
            "_model_name": "LayoutModel",
            "_view_count": null,
            "_view_module": "@jupyter-widgets/base",
            "_view_module_version": "1.2.0",
            "_view_name": "LayoutView",
            "align_content": null,
            "align_items": null,
            "align_self": null,
            "border": null,
            "bottom": null,
            "display": null,
            "flex": null,
            "flex_flow": null,
            "grid_area": null,
            "grid_auto_columns": null,
            "grid_auto_flow": null,
            "grid_auto_rows": null,
            "grid_column": null,
            "grid_gap": null,
            "grid_row": null,
            "grid_template_areas": null,
            "grid_template_columns": null,
            "grid_template_rows": null,
            "height": null,
            "justify_content": null,
            "justify_items": null,
            "left": null,
            "margin": null,
            "max_height": null,
            "max_width": null,
            "min_height": null,
            "min_width": null,
            "object_fit": null,
            "object_position": null,
            "order": null,
            "overflow": null,
            "overflow_x": null,
            "overflow_y": null,
            "padding": null,
            "right": null,
            "top": null,
            "visibility": null,
            "width": null
          }
        },
        "6283ac5e43be4589bd5ab2b3ce724228": {
          "model_module": "@jupyter-widgets/controls",
          "model_module_version": "1.5.0",
          "model_name": "DescriptionStyleModel",
          "state": {
            "_model_module": "@jupyter-widgets/controls",
            "_model_module_version": "1.5.0",
            "_model_name": "DescriptionStyleModel",
            "_view_count": null,
            "_view_module": "@jupyter-widgets/base",
            "_view_module_version": "1.2.0",
            "_view_name": "StyleView",
            "description_width": ""
          }
        },
        "6c0333c2e5af45f282c9034e571febe4": {
          "model_module": "@jupyter-widgets/base",
          "model_module_version": "1.2.0",
          "model_name": "LayoutModel",
          "state": {
            "_model_module": "@jupyter-widgets/base",
            "_model_module_version": "1.2.0",
            "_model_name": "LayoutModel",
            "_view_count": null,
            "_view_module": "@jupyter-widgets/base",
            "_view_module_version": "1.2.0",
            "_view_name": "LayoutView",
            "align_content": null,
            "align_items": null,
            "align_self": null,
            "border": null,
            "bottom": null,
            "display": null,
            "flex": null,
            "flex_flow": null,
            "grid_area": null,
            "grid_auto_columns": null,
            "grid_auto_flow": null,
            "grid_auto_rows": null,
            "grid_column": null,
            "grid_gap": null,
            "grid_row": null,
            "grid_template_areas": null,
            "grid_template_columns": null,
            "grid_template_rows": null,
            "height": null,
            "justify_content": null,
            "justify_items": null,
            "left": null,
            "margin": null,
            "max_height": null,
            "max_width": null,
            "min_height": null,
            "min_width": null,
            "object_fit": null,
            "object_position": null,
            "order": null,
            "overflow": null,
            "overflow_x": null,
            "overflow_y": null,
            "padding": null,
            "right": null,
            "top": null,
            "visibility": null,
            "width": null
          }
        },
        "6c0db61181404e29b9ba126443cb68be": {
          "model_module": "@jupyter-widgets/controls",
          "model_module_version": "1.5.0",
          "model_name": "HTMLModel",
          "state": {
            "_dom_classes": [],
            "_model_module": "@jupyter-widgets/controls",
            "_model_module_version": "1.5.0",
            "_model_name": "HTMLModel",
            "_view_count": null,
            "_view_module": "@jupyter-widgets/controls",
            "_view_module_version": "1.5.0",
            "_view_name": "HTMLView",
            "description": "",
            "description_tooltip": null,
            "layout": "IPY_MODEL_61e5283093c84e8fb3977d55680c0ebe",
            "placeholder": "​",
            "style": "IPY_MODEL_012a2d0f0c5e476eb1fea730679337d0",
            "value": "Downloading: 100%"
          }
        },
        "7d50be5006434e32904e8a4da3e771d3": {
          "model_module": "@jupyter-widgets/base",
          "model_module_version": "1.2.0",
          "model_name": "LayoutModel",
          "state": {
            "_model_module": "@jupyter-widgets/base",
            "_model_module_version": "1.2.0",
            "_model_name": "LayoutModel",
            "_view_count": null,
            "_view_module": "@jupyter-widgets/base",
            "_view_module_version": "1.2.0",
            "_view_name": "LayoutView",
            "align_content": null,
            "align_items": null,
            "align_self": null,
            "border": null,
            "bottom": null,
            "display": null,
            "flex": null,
            "flex_flow": null,
            "grid_area": null,
            "grid_auto_columns": null,
            "grid_auto_flow": null,
            "grid_auto_rows": null,
            "grid_column": null,
            "grid_gap": null,
            "grid_row": null,
            "grid_template_areas": null,
            "grid_template_columns": null,
            "grid_template_rows": null,
            "height": null,
            "justify_content": null,
            "justify_items": null,
            "left": null,
            "margin": null,
            "max_height": null,
            "max_width": null,
            "min_height": null,
            "min_width": null,
            "object_fit": null,
            "object_position": null,
            "order": null,
            "overflow": null,
            "overflow_x": null,
            "overflow_y": null,
            "padding": null,
            "right": null,
            "top": null,
            "visibility": null,
            "width": null
          }
        },
        "7fcd2ca4656d4dd8b03f842a2e3b3e97": {
          "model_module": "@jupyter-widgets/base",
          "model_module_version": "1.2.0",
          "model_name": "LayoutModel",
          "state": {
            "_model_module": "@jupyter-widgets/base",
            "_model_module_version": "1.2.0",
            "_model_name": "LayoutModel",
            "_view_count": null,
            "_view_module": "@jupyter-widgets/base",
            "_view_module_version": "1.2.0",
            "_view_name": "LayoutView",
            "align_content": null,
            "align_items": null,
            "align_self": null,
            "border": null,
            "bottom": null,
            "display": null,
            "flex": null,
            "flex_flow": null,
            "grid_area": null,
            "grid_auto_columns": null,
            "grid_auto_flow": null,
            "grid_auto_rows": null,
            "grid_column": null,
            "grid_gap": null,
            "grid_row": null,
            "grid_template_areas": null,
            "grid_template_columns": null,
            "grid_template_rows": null,
            "height": null,
            "justify_content": null,
            "justify_items": null,
            "left": null,
            "margin": null,
            "max_height": null,
            "max_width": null,
            "min_height": null,
            "min_width": null,
            "object_fit": null,
            "object_position": null,
            "order": null,
            "overflow": null,
            "overflow_x": null,
            "overflow_y": null,
            "padding": null,
            "right": null,
            "top": null,
            "visibility": null,
            "width": null
          }
        },
        "81f4f4c195ec496c8d5e38466478e53a": {
          "model_module": "@jupyter-widgets/base",
          "model_module_version": "1.2.0",
          "model_name": "LayoutModel",
          "state": {
            "_model_module": "@jupyter-widgets/base",
            "_model_module_version": "1.2.0",
            "_model_name": "LayoutModel",
            "_view_count": null,
            "_view_module": "@jupyter-widgets/base",
            "_view_module_version": "1.2.0",
            "_view_name": "LayoutView",
            "align_content": null,
            "align_items": null,
            "align_self": null,
            "border": null,
            "bottom": null,
            "display": null,
            "flex": null,
            "flex_flow": null,
            "grid_area": null,
            "grid_auto_columns": null,
            "grid_auto_flow": null,
            "grid_auto_rows": null,
            "grid_column": null,
            "grid_gap": null,
            "grid_row": null,
            "grid_template_areas": null,
            "grid_template_columns": null,
            "grid_template_rows": null,
            "height": null,
            "justify_content": null,
            "justify_items": null,
            "left": null,
            "margin": null,
            "max_height": null,
            "max_width": null,
            "min_height": null,
            "min_width": null,
            "object_fit": null,
            "object_position": null,
            "order": null,
            "overflow": null,
            "overflow_x": null,
            "overflow_y": null,
            "padding": null,
            "right": null,
            "top": null,
            "visibility": null,
            "width": null
          }
        },
        "85859324ca0f43c5b0b58daebabfbfc4": {
          "model_module": "@jupyter-widgets/controls",
          "model_module_version": "1.5.0",
          "model_name": "HTMLModel",
          "state": {
            "_dom_classes": [],
            "_model_module": "@jupyter-widgets/controls",
            "_model_module_version": "1.5.0",
            "_model_name": "HTMLModel",
            "_view_count": null,
            "_view_module": "@jupyter-widgets/controls",
            "_view_module_version": "1.5.0",
            "_view_name": "HTMLView",
            "description": "",
            "description_tooltip": null,
            "layout": "IPY_MODEL_00dba09e1ff9419b8371b377d8be24b2",
            "placeholder": "​",
            "style": "IPY_MODEL_9e5a7813ee154f7286e76795959d4457",
            "value": "Downloading: 100%"
          }
        },
        "92cc40bdbe1f455293a64ada9fb1cab8": {
          "model_module": "@jupyter-widgets/base",
          "model_module_version": "1.2.0",
          "model_name": "LayoutModel",
          "state": {
            "_model_module": "@jupyter-widgets/base",
            "_model_module_version": "1.2.0",
            "_model_name": "LayoutModel",
            "_view_count": null,
            "_view_module": "@jupyter-widgets/base",
            "_view_module_version": "1.2.0",
            "_view_name": "LayoutView",
            "align_content": null,
            "align_items": null,
            "align_self": null,
            "border": null,
            "bottom": null,
            "display": null,
            "flex": null,
            "flex_flow": null,
            "grid_area": null,
            "grid_auto_columns": null,
            "grid_auto_flow": null,
            "grid_auto_rows": null,
            "grid_column": null,
            "grid_gap": null,
            "grid_row": null,
            "grid_template_areas": null,
            "grid_template_columns": null,
            "grid_template_rows": null,
            "height": null,
            "justify_content": null,
            "justify_items": null,
            "left": null,
            "margin": null,
            "max_height": null,
            "max_width": null,
            "min_height": null,
            "min_width": null,
            "object_fit": null,
            "object_position": null,
            "order": null,
            "overflow": null,
            "overflow_x": null,
            "overflow_y": null,
            "padding": null,
            "right": null,
            "top": null,
            "visibility": null,
            "width": null
          }
        },
        "95041143a8a64632b7ac74cdb5e03d54": {
          "model_module": "@jupyter-widgets/base",
          "model_module_version": "1.2.0",
          "model_name": "LayoutModel",
          "state": {
            "_model_module": "@jupyter-widgets/base",
            "_model_module_version": "1.2.0",
            "_model_name": "LayoutModel",
            "_view_count": null,
            "_view_module": "@jupyter-widgets/base",
            "_view_module_version": "1.2.0",
            "_view_name": "LayoutView",
            "align_content": null,
            "align_items": null,
            "align_self": null,
            "border": null,
            "bottom": null,
            "display": null,
            "flex": null,
            "flex_flow": null,
            "grid_area": null,
            "grid_auto_columns": null,
            "grid_auto_flow": null,
            "grid_auto_rows": null,
            "grid_column": null,
            "grid_gap": null,
            "grid_row": null,
            "grid_template_areas": null,
            "grid_template_columns": null,
            "grid_template_rows": null,
            "height": null,
            "justify_content": null,
            "justify_items": null,
            "left": null,
            "margin": null,
            "max_height": null,
            "max_width": null,
            "min_height": null,
            "min_width": null,
            "object_fit": null,
            "object_position": null,
            "order": null,
            "overflow": null,
            "overflow_x": null,
            "overflow_y": null,
            "padding": null,
            "right": null,
            "top": null,
            "visibility": null,
            "width": null
          }
        },
        "96d415a009f64a52a25da0e98f25c64f": {
          "model_module": "@jupyter-widgets/controls",
          "model_module_version": "1.5.0",
          "model_name": "FloatProgressModel",
          "state": {
            "_dom_classes": [],
            "_model_module": "@jupyter-widgets/controls",
            "_model_module_version": "1.5.0",
            "_model_name": "FloatProgressModel",
            "_view_count": null,
            "_view_module": "@jupyter-widgets/controls",
            "_view_module_version": "1.5.0",
            "_view_name": "ProgressView",
            "bar_style": "success",
            "description": "",
            "description_tooltip": null,
            "layout": "IPY_MODEL_314b44fc1a5c4010a5a05d5b4792c609",
            "max": 576,
            "min": 0,
            "orientation": "horizontal",
            "style": "IPY_MODEL_f19f011826ea423da7042ad2ac848491",
            "value": 576
          }
        },
        "99fcca08935c42a3ab52f10a054b2f11": {
          "model_module": "@jupyter-widgets/controls",
          "model_module_version": "1.5.0",
          "model_name": "ProgressStyleModel",
          "state": {
            "_model_module": "@jupyter-widgets/controls",
            "_model_module_version": "1.5.0",
            "_model_name": "ProgressStyleModel",
            "_view_count": null,
            "_view_module": "@jupyter-widgets/base",
            "_view_module_version": "1.2.0",
            "_view_name": "StyleView",
            "bar_color": null,
            "description_width": ""
          }
        },
        "9e5a7813ee154f7286e76795959d4457": {
          "model_module": "@jupyter-widgets/controls",
          "model_module_version": "1.5.0",
          "model_name": "DescriptionStyleModel",
          "state": {
            "_model_module": "@jupyter-widgets/controls",
            "_model_module_version": "1.5.0",
            "_model_name": "DescriptionStyleModel",
            "_view_count": null,
            "_view_module": "@jupyter-widgets/base",
            "_view_module_version": "1.2.0",
            "_view_name": "StyleView",
            "description_width": ""
          }
        },
        "a29a24f2877e492f8dbf6e385a74c375": {
          "model_module": "@jupyter-widgets/controls",
          "model_module_version": "1.5.0",
          "model_name": "ProgressStyleModel",
          "state": {
            "_model_module": "@jupyter-widgets/controls",
            "_model_module_version": "1.5.0",
            "_model_name": "ProgressStyleModel",
            "_view_count": null,
            "_view_module": "@jupyter-widgets/base",
            "_view_module_version": "1.2.0",
            "_view_name": "StyleView",
            "bar_color": null,
            "description_width": ""
          }
        },
        "a8a49bf8988348728fcd521b9b719a05": {
          "model_module": "@jupyter-widgets/controls",
          "model_module_version": "1.5.0",
          "model_name": "HTMLModel",
          "state": {
            "_dom_classes": [],
            "_model_module": "@jupyter-widgets/controls",
            "_model_module_version": "1.5.0",
            "_model_name": "HTMLModel",
            "_view_count": null,
            "_view_module": "@jupyter-widgets/controls",
            "_view_module_version": "1.5.0",
            "_view_name": "HTMLView",
            "description": "",
            "description_tooltip": null,
            "layout": "IPY_MODEL_7fcd2ca4656d4dd8b03f842a2e3b3e97",
            "placeholder": "​",
            "style": "IPY_MODEL_6283ac5e43be4589bd5ab2b3ce724228",
            "value": "Downloading: 100%"
          }
        },
        "aa9b313329994f82b74435566930a5de": {
          "model_module": "@jupyter-widgets/base",
          "model_module_version": "1.2.0",
          "model_name": "LayoutModel",
          "state": {
            "_model_module": "@jupyter-widgets/base",
            "_model_module_version": "1.2.0",
            "_model_name": "LayoutModel",
            "_view_count": null,
            "_view_module": "@jupyter-widgets/base",
            "_view_module_version": "1.2.0",
            "_view_name": "LayoutView",
            "align_content": null,
            "align_items": null,
            "align_self": null,
            "border": null,
            "bottom": null,
            "display": null,
            "flex": null,
            "flex_flow": null,
            "grid_area": null,
            "grid_auto_columns": null,
            "grid_auto_flow": null,
            "grid_auto_rows": null,
            "grid_column": null,
            "grid_gap": null,
            "grid_row": null,
            "grid_template_areas": null,
            "grid_template_columns": null,
            "grid_template_rows": null,
            "height": null,
            "justify_content": null,
            "justify_items": null,
            "left": null,
            "margin": null,
            "max_height": null,
            "max_width": null,
            "min_height": null,
            "min_width": null,
            "object_fit": null,
            "object_position": null,
            "order": null,
            "overflow": null,
            "overflow_x": null,
            "overflow_y": null,
            "padding": null,
            "right": null,
            "top": null,
            "visibility": null,
            "width": null
          }
        },
        "acadc719dacf40ec8d20a21e8b9439c9": {
          "model_module": "@jupyter-widgets/controls",
          "model_module_version": "1.5.0",
          "model_name": "DescriptionStyleModel",
          "state": {
            "_model_module": "@jupyter-widgets/controls",
            "_model_module_version": "1.5.0",
            "_model_name": "DescriptionStyleModel",
            "_view_count": null,
            "_view_module": "@jupyter-widgets/base",
            "_view_module_version": "1.2.0",
            "_view_name": "StyleView",
            "description_width": ""
          }
        },
        "ae0fb9c5a9fa488fa7e799ebfd9c6129": {
          "model_module": "@jupyter-widgets/base",
          "model_module_version": "1.2.0",
          "model_name": "LayoutModel",
          "state": {
            "_model_module": "@jupyter-widgets/base",
            "_model_module_version": "1.2.0",
            "_model_name": "LayoutModel",
            "_view_count": null,
            "_view_module": "@jupyter-widgets/base",
            "_view_module_version": "1.2.0",
            "_view_name": "LayoutView",
            "align_content": null,
            "align_items": null,
            "align_self": null,
            "border": null,
            "bottom": null,
            "display": null,
            "flex": null,
            "flex_flow": null,
            "grid_area": null,
            "grid_auto_columns": null,
            "grid_auto_flow": null,
            "grid_auto_rows": null,
            "grid_column": null,
            "grid_gap": null,
            "grid_row": null,
            "grid_template_areas": null,
            "grid_template_columns": null,
            "grid_template_rows": null,
            "height": null,
            "justify_content": null,
            "justify_items": null,
            "left": null,
            "margin": null,
            "max_height": null,
            "max_width": null,
            "min_height": null,
            "min_width": null,
            "object_fit": null,
            "object_position": null,
            "order": null,
            "overflow": null,
            "overflow_x": null,
            "overflow_y": null,
            "padding": null,
            "right": null,
            "top": null,
            "visibility": null,
            "width": null
          }
        },
        "b18f411fc2a940509149ec6de3682bcd": {
          "model_module": "@jupyter-widgets/base",
          "model_module_version": "1.2.0",
          "model_name": "LayoutModel",
          "state": {
            "_model_module": "@jupyter-widgets/base",
            "_model_module_version": "1.2.0",
            "_model_name": "LayoutModel",
            "_view_count": null,
            "_view_module": "@jupyter-widgets/base",
            "_view_module_version": "1.2.0",
            "_view_name": "LayoutView",
            "align_content": null,
            "align_items": null,
            "align_self": null,
            "border": null,
            "bottom": null,
            "display": null,
            "flex": null,
            "flex_flow": null,
            "grid_area": null,
            "grid_auto_columns": null,
            "grid_auto_flow": null,
            "grid_auto_rows": null,
            "grid_column": null,
            "grid_gap": null,
            "grid_row": null,
            "grid_template_areas": null,
            "grid_template_columns": null,
            "grid_template_rows": null,
            "height": null,
            "justify_content": null,
            "justify_items": null,
            "left": null,
            "margin": null,
            "max_height": null,
            "max_width": null,
            "min_height": null,
            "min_width": null,
            "object_fit": null,
            "object_position": null,
            "order": null,
            "overflow": null,
            "overflow_x": null,
            "overflow_y": null,
            "padding": null,
            "right": null,
            "top": null,
            "visibility": null,
            "width": null
          }
        },
        "b21bcf653f564512ab5dea583c5789c3": {
          "model_module": "@jupyter-widgets/controls",
          "model_module_version": "1.5.0",
          "model_name": "HTMLModel",
          "state": {
            "_dom_classes": [],
            "_model_module": "@jupyter-widgets/controls",
            "_model_module_version": "1.5.0",
            "_model_name": "HTMLModel",
            "_view_count": null,
            "_view_module": "@jupyter-widgets/controls",
            "_view_module_version": "1.5.0",
            "_view_name": "HTMLView",
            "description": "",
            "description_tooltip": null,
            "layout": "IPY_MODEL_b18f411fc2a940509149ec6de3682bcd",
            "placeholder": "​",
            "style": "IPY_MODEL_4f229f630ea942808fc4409ca910b509",
            "value": " 300/300 [00:00&lt;00:00, 2.23kB/s]"
          }
        },
        "b2eca95fc8984277a99a22bbb9fd4115": {
          "model_module": "@jupyter-widgets/base",
          "model_module_version": "1.2.0",
          "model_name": "LayoutModel",
          "state": {
            "_model_module": "@jupyter-widgets/base",
            "_model_module_version": "1.2.0",
            "_model_name": "LayoutModel",
            "_view_count": null,
            "_view_module": "@jupyter-widgets/base",
            "_view_module_version": "1.2.0",
            "_view_name": "LayoutView",
            "align_content": null,
            "align_items": null,
            "align_self": null,
            "border": null,
            "bottom": null,
            "display": null,
            "flex": null,
            "flex_flow": null,
            "grid_area": null,
            "grid_auto_columns": null,
            "grid_auto_flow": null,
            "grid_auto_rows": null,
            "grid_column": null,
            "grid_gap": null,
            "grid_row": null,
            "grid_template_areas": null,
            "grid_template_columns": null,
            "grid_template_rows": null,
            "height": null,
            "justify_content": null,
            "justify_items": null,
            "left": null,
            "margin": null,
            "max_height": null,
            "max_width": null,
            "min_height": null,
            "min_width": null,
            "object_fit": null,
            "object_position": null,
            "order": null,
            "overflow": null,
            "overflow_x": null,
            "overflow_y": null,
            "padding": null,
            "right": null,
            "top": null,
            "visibility": null,
            "width": null
          }
        },
        "b677f675fcb84025b67b3038f4095b84": {
          "model_module": "@jupyter-widgets/controls",
          "model_module_version": "1.5.0",
          "model_name": "DescriptionStyleModel",
          "state": {
            "_model_module": "@jupyter-widgets/controls",
            "_model_module_version": "1.5.0",
            "_model_name": "DescriptionStyleModel",
            "_view_count": null,
            "_view_module": "@jupyter-widgets/base",
            "_view_module_version": "1.2.0",
            "_view_name": "StyleView",
            "description_width": ""
          }
        },
        "bf0f8b5416244e009010b435ab0c87eb": {
          "model_module": "@jupyter-widgets/controls",
          "model_module_version": "1.5.0",
          "model_name": "HTMLModel",
          "state": {
            "_dom_classes": [],
            "_model_module": "@jupyter-widgets/controls",
            "_model_module_version": "1.5.0",
            "_model_name": "HTMLModel",
            "_view_count": null,
            "_view_module": "@jupyter-widgets/controls",
            "_view_module_version": "1.5.0",
            "_view_name": "HTMLView",
            "description": "",
            "description_tooltip": null,
            "layout": "IPY_MODEL_1252bf97cc6645cfa10da0eebc1e493d",
            "placeholder": "​",
            "style": "IPY_MODEL_de9b5d85a79f41ef8f457c29f126d337",
            "value": " 4.98M/4.98M [00:00&lt;00:00, 9.25MB/s]"
          }
        },
        "c2be01cd94834b5b92c978437a644450": {
          "model_module": "@jupyter-widgets/controls",
          "model_module_version": "1.5.0",
          "model_name": "DescriptionStyleModel",
          "state": {
            "_model_module": "@jupyter-widgets/controls",
            "_model_module_version": "1.5.0",
            "_model_name": "DescriptionStyleModel",
            "_view_count": null,
            "_view_module": "@jupyter-widgets/base",
            "_view_module_version": "1.2.0",
            "_view_name": "StyleView",
            "description_width": ""
          }
        },
        "c45efc93be6d40949c7601fcbfbc579a": {
          "model_module": "@jupyter-widgets/controls",
          "model_module_version": "1.5.0",
          "model_name": "HTMLModel",
          "state": {
            "_dom_classes": [],
            "_model_module": "@jupyter-widgets/controls",
            "_model_module_version": "1.5.0",
            "_model_name": "HTMLModel",
            "_view_count": null,
            "_view_module": "@jupyter-widgets/controls",
            "_view_module_version": "1.5.0",
            "_view_name": "HTMLView",
            "description": "",
            "description_tooltip": null,
            "layout": "IPY_MODEL_5019099e40e643ce80094b65d1f454b9",
            "placeholder": "​",
            "style": "IPY_MODEL_c2be01cd94834b5b92c978437a644450",
            "value": "Downloading: 100%"
          }
        },
        "c854b2e8a5164ce89d55f2d8b8c69464": {
          "model_module": "@jupyter-widgets/controls",
          "model_module_version": "1.5.0",
          "model_name": "HBoxModel",
          "state": {
            "_dom_classes": [],
            "_model_module": "@jupyter-widgets/controls",
            "_model_module_version": "1.5.0",
            "_model_name": "HBoxModel",
            "_view_count": null,
            "_view_module": "@jupyter-widgets/controls",
            "_view_module_version": "1.5.0",
            "_view_name": "HBoxView",
            "box_style": "",
            "children": [
              "IPY_MODEL_d12d7c5be4194898bb90cbaa62de3a29",
              "IPY_MODEL_ecf38661e3de4100ab8d88323df42a18",
              "IPY_MODEL_ec0b678043ab4866929ca7fe184920a1"
            ],
            "layout": "IPY_MODEL_cd715e5ed1064f29a0eaadce0772d80e"
          }
        },
        "cd715e5ed1064f29a0eaadce0772d80e": {
          "model_module": "@jupyter-widgets/base",
          "model_module_version": "1.2.0",
          "model_name": "LayoutModel",
          "state": {
            "_model_module": "@jupyter-widgets/base",
            "_model_module_version": "1.2.0",
            "_model_name": "LayoutModel",
            "_view_count": null,
            "_view_module": "@jupyter-widgets/base",
            "_view_module_version": "1.2.0",
            "_view_name": "LayoutView",
            "align_content": null,
            "align_items": null,
            "align_self": null,
            "border": null,
            "bottom": null,
            "display": null,
            "flex": null,
            "flex_flow": null,
            "grid_area": null,
            "grid_auto_columns": null,
            "grid_auto_flow": null,
            "grid_auto_rows": null,
            "grid_column": null,
            "grid_gap": null,
            "grid_row": null,
            "grid_template_areas": null,
            "grid_template_columns": null,
            "grid_template_rows": null,
            "height": null,
            "justify_content": null,
            "justify_items": null,
            "left": null,
            "margin": null,
            "max_height": null,
            "max_width": null,
            "min_height": null,
            "min_width": null,
            "object_fit": null,
            "object_position": null,
            "order": null,
            "overflow": null,
            "overflow_x": null,
            "overflow_y": null,
            "padding": null,
            "right": null,
            "top": null,
            "visibility": null,
            "width": null
          }
        },
        "d12d7c5be4194898bb90cbaa62de3a29": {
          "model_module": "@jupyter-widgets/controls",
          "model_module_version": "1.5.0",
          "model_name": "HTMLModel",
          "state": {
            "_dom_classes": [],
            "_model_module": "@jupyter-widgets/controls",
            "_model_module_version": "1.5.0",
            "_model_name": "HTMLModel",
            "_view_count": null,
            "_view_module": "@jupyter-widgets/controls",
            "_view_module_version": "1.5.0",
            "_view_name": "HTMLView",
            "description": "",
            "description_tooltip": null,
            "layout": "IPY_MODEL_7d50be5006434e32904e8a4da3e771d3",
            "placeholder": "​",
            "style": "IPY_MODEL_acadc719dacf40ec8d20a21e8b9439c9",
            "value": "Downloading: 100%"
          }
        },
        "daba5303b965431180d35f45a566223a": {
          "model_module": "@jupyter-widgets/base",
          "model_module_version": "1.2.0",
          "model_name": "LayoutModel",
          "state": {
            "_model_module": "@jupyter-widgets/base",
            "_model_module_version": "1.2.0",
            "_model_name": "LayoutModel",
            "_view_count": null,
            "_view_module": "@jupyter-widgets/base",
            "_view_module_version": "1.2.0",
            "_view_name": "LayoutView",
            "align_content": null,
            "align_items": null,
            "align_self": null,
            "border": null,
            "bottom": null,
            "display": null,
            "flex": null,
            "flex_flow": null,
            "grid_area": null,
            "grid_auto_columns": null,
            "grid_auto_flow": null,
            "grid_auto_rows": null,
            "grid_column": null,
            "grid_gap": null,
            "grid_row": null,
            "grid_template_areas": null,
            "grid_template_columns": null,
            "grid_template_rows": null,
            "height": null,
            "justify_content": null,
            "justify_items": null,
            "left": null,
            "margin": null,
            "max_height": null,
            "max_width": null,
            "min_height": null,
            "min_width": null,
            "object_fit": null,
            "object_position": null,
            "order": null,
            "overflow": null,
            "overflow_x": null,
            "overflow_y": null,
            "padding": null,
            "right": null,
            "top": null,
            "visibility": null,
            "width": null
          }
        },
        "de9b5d85a79f41ef8f457c29f126d337": {
          "model_module": "@jupyter-widgets/controls",
          "model_module_version": "1.5.0",
          "model_name": "DescriptionStyleModel",
          "state": {
            "_model_module": "@jupyter-widgets/controls",
            "_model_module_version": "1.5.0",
            "_model_name": "DescriptionStyleModel",
            "_view_count": null,
            "_view_module": "@jupyter-widgets/base",
            "_view_module_version": "1.2.0",
            "_view_name": "StyleView",
            "description_width": ""
          }
        },
        "deb33f4baea545f788409f7054d708ae": {
          "model_module": "@jupyter-widgets/controls",
          "model_module_version": "1.5.0",
          "model_name": "DescriptionStyleModel",
          "state": {
            "_model_module": "@jupyter-widgets/controls",
            "_model_module_version": "1.5.0",
            "_model_name": "DescriptionStyleModel",
            "_view_count": null,
            "_view_module": "@jupyter-widgets/base",
            "_view_module_version": "1.2.0",
            "_view_name": "StyleView",
            "description_width": ""
          }
        },
        "df3fa0aaa40344cfb3a968d9785b6e75": {
          "model_module": "@jupyter-widgets/base",
          "model_module_version": "1.2.0",
          "model_name": "LayoutModel",
          "state": {
            "_model_module": "@jupyter-widgets/base",
            "_model_module_version": "1.2.0",
            "_model_name": "LayoutModel",
            "_view_count": null,
            "_view_module": "@jupyter-widgets/base",
            "_view_module_version": "1.2.0",
            "_view_name": "LayoutView",
            "align_content": null,
            "align_items": null,
            "align_self": null,
            "border": null,
            "bottom": null,
            "display": null,
            "flex": null,
            "flex_flow": null,
            "grid_area": null,
            "grid_auto_columns": null,
            "grid_auto_flow": null,
            "grid_auto_rows": null,
            "grid_column": null,
            "grid_gap": null,
            "grid_row": null,
            "grid_template_areas": null,
            "grid_template_columns": null,
            "grid_template_rows": null,
            "height": null,
            "justify_content": null,
            "justify_items": null,
            "left": null,
            "margin": null,
            "max_height": null,
            "max_width": null,
            "min_height": null,
            "min_width": null,
            "object_fit": null,
            "object_position": null,
            "order": null,
            "overflow": null,
            "overflow_x": null,
            "overflow_y": null,
            "padding": null,
            "right": null,
            "top": null,
            "visibility": null,
            "width": null
          }
        },
        "e353dc26f0a048fd9f28619cffb9681c": {
          "model_module": "@jupyter-widgets/controls",
          "model_module_version": "1.5.0",
          "model_name": "DescriptionStyleModel",
          "state": {
            "_model_module": "@jupyter-widgets/controls",
            "_model_module_version": "1.5.0",
            "_model_name": "DescriptionStyleModel",
            "_view_count": null,
            "_view_module": "@jupyter-widgets/base",
            "_view_module_version": "1.2.0",
            "_view_name": "StyleView",
            "description_width": ""
          }
        },
        "ec0b678043ab4866929ca7fe184920a1": {
          "model_module": "@jupyter-widgets/controls",
          "model_module_version": "1.5.0",
          "model_name": "HTMLModel",
          "state": {
            "_dom_classes": [],
            "_model_module": "@jupyter-widgets/controls",
            "_model_module_version": "1.5.0",
            "_model_name": "HTMLModel",
            "_view_count": null,
            "_view_module": "@jupyter-widgets/controls",
            "_view_module_version": "1.5.0",
            "_view_name": "HTMLView",
            "description": "",
            "description_tooltip": null,
            "layout": "IPY_MODEL_f1b2f1f8592c4c6aa4161186040938c0",
            "placeholder": "​",
            "style": "IPY_MODEL_e353dc26f0a048fd9f28619cffb9681c",
            "value": " 1.75G/1.75G [00:53&lt;00:00, 45.8MB/s]"
          }
        },
        "eca568a4d987475fad27623d7f9b89bc": {
          "model_module": "@jupyter-widgets/controls",
          "model_module_version": "1.5.0",
          "model_name": "ProgressStyleModel",
          "state": {
            "_model_module": "@jupyter-widgets/controls",
            "_model_module_version": "1.5.0",
            "_model_name": "ProgressStyleModel",
            "_view_count": null,
            "_view_module": "@jupyter-widgets/base",
            "_view_module_version": "1.2.0",
            "_view_name": "StyleView",
            "bar_color": null,
            "description_width": ""
          }
        },
        "ecf38661e3de4100ab8d88323df42a18": {
          "model_module": "@jupyter-widgets/controls",
          "model_module_version": "1.5.0",
          "model_name": "FloatProgressModel",
          "state": {
            "_dom_classes": [],
            "_model_module": "@jupyter-widgets/controls",
            "_model_module_version": "1.5.0",
            "_model_name": "FloatProgressModel",
            "_view_count": null,
            "_view_module": "@jupyter-widgets/controls",
            "_view_module_version": "1.5.0",
            "_view_name": "ProgressView",
            "bar_style": "success",
            "description": "",
            "description_tooltip": null,
            "layout": "IPY_MODEL_47c0ed7b6f9345e8a75643da152954bb",
            "max": 1883757089,
            "min": 0,
            "orientation": "horizontal",
            "style": "IPY_MODEL_fdfb26703f264969a356288e14cab1d6",
            "value": 1883757089
          }
        },
        "edd2ea1535aa4c5893ade563c363e190": {
          "model_module": "@jupyter-widgets/controls",
          "model_module_version": "1.5.0",
          "model_name": "FloatProgressModel",
          "state": {
            "_dom_classes": [],
            "_model_module": "@jupyter-widgets/controls",
            "_model_module_version": "1.5.0",
            "_model_name": "FloatProgressModel",
            "_view_count": null,
            "_view_module": "@jupyter-widgets/controls",
            "_view_module_version": "1.5.0",
            "_view_name": "ProgressView",
            "bar_style": "success",
            "description": "",
            "description_tooltip": null,
            "layout": "IPY_MODEL_3658ad4df7704d6ca449e071e6f83da7",
            "max": 112,
            "min": 0,
            "orientation": "horizontal",
            "style": "IPY_MODEL_19c7de4e0ae8487b8bef2ca39bf7eb1b",
            "value": 112
          }
        },
        "f19f011826ea423da7042ad2ac848491": {
          "model_module": "@jupyter-widgets/controls",
          "model_module_version": "1.5.0",
          "model_name": "ProgressStyleModel",
          "state": {
            "_model_module": "@jupyter-widgets/controls",
            "_model_module_version": "1.5.0",
            "_model_name": "ProgressStyleModel",
            "_view_count": null,
            "_view_module": "@jupyter-widgets/base",
            "_view_module_version": "1.2.0",
            "_view_name": "StyleView",
            "bar_color": null,
            "description_width": ""
          }
        },
        "f1b2f1f8592c4c6aa4161186040938c0": {
          "model_module": "@jupyter-widgets/base",
          "model_module_version": "1.2.0",
          "model_name": "LayoutModel",
          "state": {
            "_model_module": "@jupyter-widgets/base",
            "_model_module_version": "1.2.0",
            "_model_name": "LayoutModel",
            "_view_count": null,
            "_view_module": "@jupyter-widgets/base",
            "_view_module_version": "1.2.0",
            "_view_name": "LayoutView",
            "align_content": null,
            "align_items": null,
            "align_self": null,
            "border": null,
            "bottom": null,
            "display": null,
            "flex": null,
            "flex_flow": null,
            "grid_area": null,
            "grid_auto_columns": null,
            "grid_auto_flow": null,
            "grid_auto_rows": null,
            "grid_column": null,
            "grid_gap": null,
            "grid_row": null,
            "grid_template_areas": null,
            "grid_template_columns": null,
            "grid_template_rows": null,
            "height": null,
            "justify_content": null,
            "justify_items": null,
            "left": null,
            "margin": null,
            "max_height": null,
            "max_width": null,
            "min_height": null,
            "min_width": null,
            "object_fit": null,
            "object_position": null,
            "order": null,
            "overflow": null,
            "overflow_x": null,
            "overflow_y": null,
            "padding": null,
            "right": null,
            "top": null,
            "visibility": null,
            "width": null
          }
        },
        "fdfb26703f264969a356288e14cab1d6": {
          "model_module": "@jupyter-widgets/controls",
          "model_module_version": "1.5.0",
          "model_name": "ProgressStyleModel",
          "state": {
            "_model_module": "@jupyter-widgets/controls",
            "_model_module_version": "1.5.0",
            "_model_name": "ProgressStyleModel",
            "_view_count": null,
            "_view_module": "@jupyter-widgets/base",
            "_view_module_version": "1.2.0",
            "_view_name": "StyleView",
            "bar_color": null,
            "description_width": ""
          }
        }
      }
    }
  },
  "nbformat": 4,
  "nbformat_minor": 0
}
